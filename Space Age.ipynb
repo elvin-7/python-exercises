{
 "cells": [
  {
   "cell_type": "markdown",
   "id": "bb6e71d8",
   "metadata": {},
   "source": [
    "# Introduction\n",
    "The year is 2525 and you've just embarked on a journey to visit all planets in the Solar System (Mercury, Venus, Earth, Mars, Jupiter, Saturn, Uranus and Neptune). The first stop is Mercury, where customs require you to fill out a form (bureaucracy is apparently not Earth-specific). As you hand over the form to the customs officer, they scrutinize it and frown. \"Do you really expect me to believe you're just 50 years old? You must be closer to 200 years old!\"\n",
    "\n",
    "Amused, you wait for the customs officer to start laughing, but they appear to be dead serious. You realize that you've entered your age in Earth years, but the officer expected it in Mercury years! As Mercury's orbital period around the sun is significantly shorter than Earth, you're actually a lot older in Mercury years. After some quick calculations, you're able to provide your age in Mercury Years. The customs officer smiles, satisfied, and waves you through. You make a mental note to pre-calculate your planet-specific age before future customs checks, to avoid such mix-ups.\n",
    "\n",
    "\n",
    "## Instructions\n",
    "Given an age in seconds, calculate how old someone would be on a planet in our Solar System.\n",
    "\n",
    "One Earth year equals 365.25 Earth days, or 31,557,600 seconds. If you were told someone was 1,000,000,000 seconds old, their age would be 31.69 Earth-years.\n",
    "\n",
    "For the other planets, you have to account for their orbital period in Earth Years:\n",
    "\n",
    "|Planet|\tOrbital period in Earth Years\n",
    "|------|----------------------------------\n",
    "|Mercury|\t0.2408467\n",
    "|Venus|\t0.61519726\n",
    "|Earth|\t1.0\n",
    "|Mars|\t1.8808158\n",
    "|Jupiter|\t11.862615\n",
    "|Saturn|\t29.447498\n",
    "|Uranus|\t84.016846\n",
    "|Neptune|\t164.79132\n",
    "\n",
    "Note\n",
    ">The actual length of one complete orbit of the Earth around the sun is closer to 365.256 days (1 sidereal year). The Gregorian calendar has, on average, 365.2425 days. While not entirely accurate, 365.25 is the value used in this exercise. See Year on Wikipedia for more ways to measure a year.\n",
    "\n",
    "For the Python track, this exercise asks you to create a SpaceAge class (classes) that includes methods for all the planets of the solar system. Methods should follow the naming convention on_planet name.\n",
    "\n",
    "Each method should return the age (\"on\" that planet) in years, rounded to two decimal places:\n",
    "\n",
    "#creating an instance with one billion seconds, and calling .on_earth().\n",
    "\n",
    "-> SpaceAge(1000000000).on_earth()\n",
    "\n",
    "#This is one billion seconds on Earth in years\n",
    "\n",
    "->31.69\n",
    "\n",
    "\n"
   ]
  },
  {
   "cell_type": "code",
   "execution_count": 42,
   "id": "74e8ed5d",
   "metadata": {},
   "outputs": [],
   "source": [
    "class SpaceAge:\n",
    "    \n",
    "    ORBITAL_PERIODS = {'Mercury':0.2408467,'Venus':0.61519726,'Earth':1,'Mars':1.8808158,'Jupiter':11.862615,\n",
    "                          \"Saturn\":29.447498,'Uranus':84.016846,'Neptune':164.79132}\n",
    "        \n",
    "    EARTH_YEAR_SECONDS = 31557600\n",
    "    \n",
    "    def __init__(self,seconds):\n",
    "        self.seconds = seconds\n",
    "        \n",
    "    def on_earth(self):\n",
    "        return round(self.seconds / self.EARTH_YEAR_SECONDS,2)        \n",
    "    \n",
    "    def on_mercury(self):\n",
    "        return round((self.seconds/self.EARTH_YEAR_SECONDS) / self.ORBITAL_PERIODS['Mercury'],2)\n",
    "    \n",
    "    def on_venus(self):\n",
    "        return round((self.seconds/self.EARTH_YEAR_SECONDS) / self.ORBITAL_PERIODS['Venus'],2)\n",
    "    \n",
    "    def on_mars(self):\n",
    "        return round((self.seconds/self.EARTH_YEAR_SECONDS) / self.ORBITAL_PERIODS['Mars'],2)\n",
    "    \n",
    "    def on_jupiter(self):\n",
    "        return round((self.seconds/self.EARTH_YEAR_SECONDS) / self.ORBITAL_PERIODS['Jupiter'],2)\n",
    "    \n",
    "    def on_saturn(self):\n",
    "        return round((self.seconds/self.EARTH_YEAR_SECONDS) / self.ORBITAL_PERIODS['Saturn'],2)\n",
    "    \n",
    "    def on_uranus(self):\n",
    "        return round((self.seconds/self.EARTH_YEAR_SECONDS) / self.ORBITAL_PERIODS['Uranus'],2)\n",
    "    \n",
    "    def on_neptune(self):\n",
    "        return round((self.seconds/self.EARTH_YEAR_SECONDS) / self.ORBITAL_PERIODS['Neptune'],2)"
   ]
  },
  {
   "cell_type": "code",
   "execution_count": 22,
   "id": "8b0cc058",
   "metadata": {},
   "outputs": [
    {
     "data": {
      "text/plain": [
       "2.67"
      ]
     },
     "execution_count": 22,
     "metadata": {},
     "output_type": "execute_result"
    }
   ],
   "source": [
    "SpaceAge(1000000000).on_jupiter()"
   ]
  },
  {
   "cell_type": "code",
   "execution_count": 23,
   "id": "5178ca8b",
   "metadata": {},
   "outputs": [
    {
     "data": {
      "text/plain": [
       "280.88"
      ]
     },
     "execution_count": 23,
     "metadata": {},
     "output_type": "execute_result"
    }
   ],
   "source": [
    "SpaceAge(2134835688).on_mercury()"
   ]
  },
  {
   "cell_type": "code",
   "execution_count": 43,
   "id": "c57a6865",
   "metadata": {},
   "outputs": [
    {
     "data": {
      "text/plain": [
       "9.78"
      ]
     },
     "execution_count": 43,
     "metadata": {},
     "output_type": "execute_result"
    }
   ],
   "source": [
    "SpaceAge(189839836).on_venus()"
   ]
  },
  {
   "cell_type": "markdown",
   "id": "5be985e9",
   "metadata": {},
   "source": [
    "## My age on the planets"
   ]
  },
  {
   "cell_type": "code",
   "execution_count": 46,
   "id": "74081afa",
   "metadata": {},
   "outputs": [
    {
     "name": "stdout",
     "output_type": "stream",
     "text": [
      "My age on Mecury is 105.76 years!\n",
      "My age on Venus is 41.41 years!\n",
      "My age on Earth is 25.47 years!\n",
      "My age on Mars is 13.54 years!\n",
      "My age on Jupiter is 2.15 years!\n",
      "My age on Saturn is 0.87 years!\n",
      "My age on Uranus is 0.3 years!\n",
      "My age on Neptune is 0.15 years!\n"
     ]
    }
   ],
   "source": [
    "print(\"My age on Mecury is\",SpaceAge(803865600).on_mercury(),\"years!\")\n",
    "print(\"My age on Venus is\",SpaceAge(803865600).on_venus(),\"years!\")\n",
    "print(\"My age on Earth is\",SpaceAge(803865600).on_earth(),\"years!\")\n",
    "print(\"My age on Mars is\",SpaceAge(803865600).on_mars(),\"years!\")\n",
    "print(\"My age on Jupiter is\",SpaceAge(803865600).on_jupiter(),\"years!\")\n",
    "print(\"My age on Saturn is\",SpaceAge(803865600).on_saturn(),\"years!\")\n",
    "print(\"My age on Uranus is\",SpaceAge(803865600).on_uranus(),\"years!\")\n",
    "print(\"My age on Neptune is\",SpaceAge(803865600).on_neptune(),\"years!\")"
   ]
  },
  {
   "cell_type": "code",
   "execution_count": null,
   "id": "366d7567",
   "metadata": {},
   "outputs": [],
   "source": []
  }
 ],
 "metadata": {
  "kernelspec": {
   "display_name": "Python 3 (ipykernel)",
   "language": "python",
   "name": "python3"
  },
  "language_info": {
   "codemirror_mode": {
    "name": "ipython",
    "version": 3
   },
   "file_extension": ".py",
   "mimetype": "text/x-python",
   "name": "python",
   "nbconvert_exporter": "python",
   "pygments_lexer": "ipython3",
   "version": "3.9.7"
  }
 },
 "nbformat": 4,
 "nbformat_minor": 5
}
