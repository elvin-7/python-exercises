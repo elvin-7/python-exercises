{
 "cells": [
  {
   "cell_type": "markdown",
   "id": "24f2b211",
   "metadata": {},
   "source": [
    "# Instructions\n",
    "Manage robot factory settings.\n",
    "\n",
    "When a robot comes off the factory floor, it has no name.\n",
    "\n",
    "The first time you turn on a robot, a random name is generated in the format of two uppercase letters followed by three digits, such as RX837 or BC811.\n",
    "\n",
    "Every once in a while we need to reset a robot to its factory settings, which means that its name gets wiped. The next time you ask, that robot will respond with a new random name.\n",
    "\n",
    "The names must be random: they should not follow a predictable sequence. Using random names means a risk of collisions. Your solution must ensure that every existing robot has a unique name."
   ]
  },
  {
   "cell_type": "code",
   "execution_count": 46,
   "id": "56a89484",
   "metadata": {},
   "outputs": [],
   "source": [
    "from string import ascii_uppercase, digits\n",
    "from random import choices\n",
    "\n",
    "cache = set()\n",
    "\n",
    "\n",
    "class Robot:\n",
    "    def __get_name(self): \n",
    "        return ''.join(choices(ascii_uppercase, k=2) + choices(digits, k=3))\n",
    "\n",
    "    def reset(self):\n",
    "        while (name := self.__get_name()) in cache:\n",
    "            pass\n",
    "        cache.add(name)\n",
    "        self.name = name\n",
    "\n",
    "    def __init__(self): \n",
    "        self.reset()"
   ]
  },
  {
   "cell_type": "code",
   "execution_count": 47,
   "id": "817f2fb9",
   "metadata": {},
   "outputs": [],
   "source": [
    "R3=Robot()"
   ]
  },
  {
   "cell_type": "code",
   "execution_count": 48,
   "id": "53db6ab7",
   "metadata": {},
   "outputs": [
    {
     "data": {
      "text/plain": [
       "'FC525'"
      ]
     },
     "execution_count": 48,
     "metadata": {},
     "output_type": "execute_result"
    }
   ],
   "source": [
    "R3.name"
   ]
  },
  {
   "cell_type": "code",
   "execution_count": null,
   "id": "8246ebe1",
   "metadata": {},
   "outputs": [],
   "source": []
  }
 ],
 "metadata": {
  "kernelspec": {
   "display_name": "Python 3 (ipykernel)",
   "language": "python",
   "name": "python3"
  },
  "language_info": {
   "codemirror_mode": {
    "name": "ipython",
    "version": 3
   },
   "file_extension": ".py",
   "mimetype": "text/x-python",
   "name": "python",
   "nbconvert_exporter": "python",
   "pygments_lexer": "ipython3",
   "version": "3.9.21"
  }
 },
 "nbformat": 4,
 "nbformat_minor": 5
}
