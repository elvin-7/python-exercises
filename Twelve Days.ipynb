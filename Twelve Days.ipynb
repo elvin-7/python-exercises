{
 "cells": [
  {
   "cell_type": "markdown",
   "id": "1344e005",
   "metadata": {},
   "source": [
    "# Instructions\n",
    "Your task in this exercise is to write code that returns the lyrics of the song: \"The Twelve Days of Christmas.\"\n",
    "\n",
    "\"The Twelve Days of Christmas\" is a common English Christmas carol. Each subsequent verse of the song builds on the previous verse.\n",
    "\n",
    "The lyrics your code returns should exactly match the full song text shown below.\n",
    "\n",
    "## Lyrics\n",
    "```\n",
    "On the first day of Christmas my true love gave to me: a Partridge in a Pear Tree.\n",
    "\n",
    "On the second day of Christmas my true love gave to me: two Turtle Doves, and a Partridge in a Pear Tree.\n",
    "\n",
    "On the third day of Christmas my true love gave to me: three French Hens, two Turtle Doves, and a Partridge in a Pear Tree.\n",
    "\n",
    "On the fourth day of Christmas my true love gave to me: four Calling Birds, three French Hens, two Turtle Doves, and a Partridge in a Pear Tree.\n",
    "\n",
    "On the fifth day of Christmas my true love gave to me: five Gold Rings, four Calling Birds, three French Hens, two Turtle Doves, and a Partridge in a Pear Tree.\n",
    "\n",
    "On the sixth day of Christmas my true love gave to me: six Geese-a-Laying, five Gold Rings, four Calling Birds, three French Hens, two Turtle Doves, and a Partridge in a Pear Tree.\n",
    "\n",
    "On the seventh day of Christmas my true love gave to me: seven Swans-a-Swimming, six Geese-a-Laying, five Gold Rings, four Calling Birds, three French Hens, two Turtle Doves, and a Partridge in a Pear Tree.\n",
    "\n",
    "On the eighth day of Christmas my true love gave to me: eight Maids-a-Milking, seven Swans-a-Swimming, six Geese-a-Laying, five Gold Rings, four Calling Birds, three French Hens, two Turtle Doves, and a Partridge in a Pear Tree.\n",
    "\n",
    "On the ninth day of Christmas my true love gave to me: nine Ladies Dancing, eight Maids-a-Milking, seven Swans-a-Swimming, six Geese-a-Laying, five Gold Rings, four Calling Birds, three French Hens, two Turtle Doves, and a Partridge in a Pear Tree.\n",
    "\n",
    "On the tenth day of Christmas my true love gave to me: ten Lords-a-Leaping, nine Ladies Dancing, eight Maids-a-Milking, seven Swans-a-Swimming, six Geese-a-Laying, five Gold Rings, four Calling Birds, three French Hens, two Turtle Doves, and a Partridge in a Pear Tree.\n",
    "\n",
    "On the eleventh day of Christmas my true love gave to me: eleven Pipers Piping, ten Lords-a-Leaping, nine Ladies Dancing, eight Maids-a-Milking, seven Swans-a-Swimming, six Geese-a-Laying, five Gold Rings, four Calling Birds, three French Hens, two Turtle Doves, and a Partridge in a Pear Tree.\n",
    "\n",
    "On the twelfth day of Christmas my true love gave to me: twelve Drummers Drumming, eleven Pipers Piping, ten Lords-a-Leaping, nine Ladies Dancing, eight Maids-a-Milking, seven Swans-a-Swimming, six Geese-a-Laying, five Gold Rings, four Calling Birds, three French Hens, two Turtle Doves, and a Partridge in a Pear Tree.\n",
    "```"
   ]
  },
  {
   "cell_type": "code",
   "execution_count": 40,
   "id": "6502da0a",
   "metadata": {},
   "outputs": [],
   "source": [
    "def recite(start_verse, end_verse):\n",
    "\n",
    "    days = {0:'first',1:'second',\n",
    "            2:'third',3:'fourth',\n",
    "            4:'fifth',5:'sixth',\n",
    "            6:'seventh',7:'eighth',\n",
    "            8:'ninth',9:'tenth',\n",
    "           10:'eleventh',11:'twelfth'}\n",
    "\n",
    "    gifts = [\n",
    "        \"a Partridge in a Pear Tree.\",\n",
    "        \"two Turtle Doves, and \",\n",
    "        \"three French Hens, \",\n",
    "        \"four Calling Birds, \",\n",
    "        \"five Gold Rings, \",\n",
    "        \"six Geese-a-Laying, \",\n",
    "        \"seven Swans-a-Swimming, \",\n",
    "        \"eight Maids-a-Milking, \",\n",
    "        \"nine Ladies Dancing, \",\n",
    "        \"ten Lords-a-Leaping, \",\n",
    "        \"eleven Pipers Piping, \",\n",
    "        \"twelve Drummers Drumming, \"\n",
    "    ]\n",
    "    \n",
    "    lyrics = []\n",
    "    \n",
    "    for i in range(start_verse-1,end_verse):\n",
    "        lines = gifts[i::-1]\n",
    "        lyrics.append(\"On the \"+f'{days[i]}'+\" day of Christmas my true love gave to me: \"+\"\".join(lines))\n",
    "    return lyrics"
   ]
  },
  {
   "cell_type": "code",
   "execution_count": 41,
   "id": "01b569f2",
   "metadata": {},
   "outputs": [
    {
     "data": {
      "text/plain": [
       "['On the twelfth day of Christmas my true love gave to me: twelve Drummers Drumming, eleven Pipers Piping, ten Lords-a-Leaping, nine Ladies Dancing, eight Maids-a-Milking, seven Swans-a-Swimming, six Geese-a-Laying, five Gold Rings, four Calling Birds, three French Hens, two Turtle Doves, and a Partridge in a Pear Tree.']"
      ]
     },
     "execution_count": 41,
     "metadata": {},
     "output_type": "execute_result"
    }
   ],
   "source": [
    "recite(12,12)"
   ]
  },
  {
   "cell_type": "code",
   "execution_count": null,
   "id": "b7e420fb",
   "metadata": {},
   "outputs": [],
   "source": []
  }
 ],
 "metadata": {
  "kernelspec": {
   "display_name": "Python 3 (ipykernel)",
   "language": "python",
   "name": "python3"
  },
  "language_info": {
   "codemirror_mode": {
    "name": "ipython",
    "version": 3
   },
   "file_extension": ".py",
   "mimetype": "text/x-python",
   "name": "python",
   "nbconvert_exporter": "python",
   "pygments_lexer": "ipython3",
   "version": "3.9.7"
  }
 },
 "nbformat": 4,
 "nbformat_minor": 5
}
