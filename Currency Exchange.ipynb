{
 "cells": [
  {
   "cell_type": "markdown",
   "id": "4fe5d536",
   "metadata": {},
   "source": [
    "# Currency Exchange"
   ]
  },
  {
   "cell_type": "markdown",
   "id": "f3418c96",
   "metadata": {},
   "source": [
    "## Estimate value after exchange\n",
    "\n",
    "Create the exchange_money() function, taking 2 parameters:\n",
    "\n",
    "budget : The amount of money you are planning to exchange.\n",
    "exchange_rate : The amount of domestic currency equal to one unit of foreign currency.\n",
    "This function should return the value of the exchanged currency.\n",
    "\n",
    "Note: If your currency is USD and you want to exchange USD for EUR with an exchange rate of 1.20, then 1.20 USD == 1 EUR."
   ]
  },
  {
   "cell_type": "code",
   "execution_count": 1,
   "id": "e01e8391",
   "metadata": {},
   "outputs": [],
   "source": [
    "def exchange_money(budget, exchange_rate):\n",
    "    return budget/exchange_rate"
   ]
  },
  {
   "cell_type": "markdown",
   "id": "d51c1714",
   "metadata": {},
   "source": [
    "## Calculate currency left after an exchange\n",
    "\n",
    "Create the get_change() function, taking 2 parameters:\n",
    "\n",
    "budget : Amount of money before exchange.\n",
    "exchanging_value : Amount of money that is taken from the budget to be exchanged.\n",
    "This function should return the amount of money that is left from the budget."
   ]
  },
  {
   "cell_type": "code",
   "execution_count": 3,
   "id": "367c19cd",
   "metadata": {},
   "outputs": [],
   "source": [
    "def get_change(budget,exchanging_value):\n",
    "    return budget - exchanging_value"
   ]
  },
  {
   "cell_type": "markdown",
   "id": "e989974e",
   "metadata": {},
   "source": [
    "## Calculate value of bills\n",
    "\n",
    "Create the get_value_of_bills() function, taking 2 parameters:\n",
    "\n",
    "denomination : The value of a single bill.\n",
    "\n",
    "number_of_bills : The total number of bills.\n",
    "\n",
    "This exchanging booth only deals in cash of certain increments. The total you receive must be divisible by the value of one \"bill\" or unit, which can leave behind a fraction or remainder. Your function should return only the total value of the bills (excluding fractional amounts) the booth would give back. Unfortunately, the booth gets to keep the remainder/change as an added bonus."
   ]
  },
  {
   "cell_type": "code",
   "execution_count": 4,
   "id": "625b7d95",
   "metadata": {},
   "outputs": [],
   "source": [
    "def get_value_of_bills(denomination,number_of_bills):\n",
    "    return int(denomination*number_of_bills)"
   ]
  },
  {
   "cell_type": "markdown",
   "id": "52cdced6",
   "metadata": {},
   "source": [
    "## Calculate number of bills\n",
    "\n",
    "Create the get_number_of_bills() function, taking amount and denomination.\n",
    "\n",
    "This function should return the number of currency bills that you can receive within the given amount. In other words: How many whole bills of currency fit into the starting amount? Remember -- you can only receive whole bills, not fractions of bills, so remember to divide accordingly. Effectively, you are rounding down to the nearest whole bill/denomination."
   ]
  },
  {
   "cell_type": "code",
   "execution_count": 5,
   "id": "6619fe3b",
   "metadata": {},
   "outputs": [],
   "source": [
    "def get_number_of_bills(amount,denomination):\n",
    "    return int(amount/denomination)"
   ]
  },
  {
   "cell_type": "markdown",
   "id": "3b99e68a",
   "metadata": {},
   "source": [
    "## Calculate leftover after exchanging into bills\n",
    "\n",
    "Create the get_leftover_of_bills() function, taking amount and denomination.\n",
    "\n",
    "This function should return the leftover amount that cannot be returned from your starting amount given the denomination of bills. It is very important to know exactly how much the booth gets to keep."
   ]
  },
  {
   "cell_type": "code",
   "execution_count": 7,
   "id": "756a4bc1",
   "metadata": {},
   "outputs": [],
   "source": [
    "def get_leftover_of_bills(amount,denomination):\n",
    "    return amount%denomination"
   ]
  },
  {
   "cell_type": "markdown",
   "id": "718e4093",
   "metadata": {},
   "source": [
    "## Calculate value after exchange\n",
    "\n",
    "Create the exchangeable_value() function, taking budget, exchange_rate, spread, and denomination.\n",
    "\n",
    "Parameter spread is the percentage taken as an exchange fee, written as an integer. It needs to be converted to decimal by dividing it by 100. If 1.00 EUR == 1.20 USD and the spread is 10, the actual exchange rate will be: 1.00 EUR == 1.32 USD because 10% of 1.20 is 0.12, and this additional fee is added to the exchange.\n",
    "\n",
    "This function should return the maximum value of the new currency after calculating the exchange rate plus the spread. Remember that the currency denomination is a whole number, and cannot be sub-divided.\n",
    "\n",
    "Note: Returned value should be int type."
   ]
  },
  {
   "cell_type": "code",
   "execution_count": 58,
   "id": "dbf414ef",
   "metadata": {},
   "outputs": [],
   "source": [
    "def exchangeable_value(budget,exchange_rate,spread,denomination):\n",
    "    spread = (spread/100)\n",
    "    a_exchange_rate = (exchange_rate*spread)+exchange_rate\n",
    "    new_value = exchange_money(budget, a_exchange_rate)\n",
    "    number_of_bills = int(new_value/denomination)\n",
    "    max_value = number_of_bills*denomination\n",
    "    return max_value"
   ]
  },
  {
   "cell_type": "code",
   "execution_count": 60,
   "id": "ded4096e",
   "metadata": {},
   "outputs": [
    {
     "data": {
      "text/plain": [
       "80"
      ]
     },
     "execution_count": 60,
     "metadata": {},
     "output_type": "execute_result"
    }
   ],
   "source": [
    "exchangeable_value(127.25,1.20,10,20)"
   ]
  },
  {
   "cell_type": "code",
   "execution_count": 23,
   "id": "31b734e7",
   "metadata": {},
   "outputs": [
    {
     "data": {
      "text/plain": [
       "167.96999999999997"
      ]
     },
     "execution_count": 23,
     "metadata": {},
     "output_type": "execute_result"
    }
   ],
   "source": [
    "(((10/100)*1.2)+1.2)*127.25"
   ]
  },
  {
   "cell_type": "code",
   "execution_count": 49,
   "id": "22971704",
   "metadata": {},
   "outputs": [
    {
     "data": {
      "text/plain": [
       "90"
      ]
     },
     "execution_count": 49,
     "metadata": {},
     "output_type": "execute_result"
    }
   ],
   "source": [
    "int(120/1.32)"
   ]
  },
  {
   "cell_type": "code",
   "execution_count": 30,
   "id": "9ef1bab3",
   "metadata": {},
   "outputs": [
    {
     "data": {
      "text/plain": [
       "40.72"
      ]
     },
     "execution_count": 30,
     "metadata": {},
     "output_type": "execute_result"
    }
   ],
   "source": [
    "167.97-127.25"
   ]
  },
  {
   "cell_type": "code",
   "execution_count": 31,
   "id": "470a2b77",
   "metadata": {},
   "outputs": [
    {
     "data": {
      "text/plain": [
       "1.3199999999999998"
      ]
     },
     "execution_count": 31,
     "metadata": {},
     "output_type": "execute_result"
    }
   ],
   "source": [
    "exchange_rate = 1.2\n",
    "spread = 0.1\n",
    "a_exchange_rate = (exchange_rate*spread)+exchange_rate\n",
    "\n",
    "a_exchange_rate"
   ]
  },
  {
   "cell_type": "code",
   "execution_count": 46,
   "id": "0fde1653",
   "metadata": {},
   "outputs": [
    {
     "data": {
      "text/plain": [
       "158"
      ]
     },
     "execution_count": 46,
     "metadata": {},
     "output_type": "execute_result"
    }
   ],
   "source": [
    "int(120*1.32)"
   ]
  },
  {
   "cell_type": "code",
   "execution_count": 57,
   "id": "b0514e8f",
   "metadata": {},
   "outputs": [
    {
     "data": {
      "text/plain": [
       "4.820075757575757"
      ]
     },
     "execution_count": 57,
     "metadata": {},
     "output_type": "execute_result"
    }
   ],
   "source": [
    "(127.25/1.32)/20)"
   ]
  },
  {
   "cell_type": "code",
   "execution_count": null,
   "id": "81be6cce",
   "metadata": {},
   "outputs": [],
   "source": []
  }
 ],
 "metadata": {
  "kernelspec": {
   "display_name": "Python 3 (ipykernel)",
   "language": "python",
   "name": "python3"
  },
  "language_info": {
   "codemirror_mode": {
    "name": "ipython",
    "version": 3
   },
   "file_extension": ".py",
   "mimetype": "text/x-python",
   "name": "python",
   "nbconvert_exporter": "python",
   "pygments_lexer": "ipython3",
   "version": "3.9.7"
  }
 },
 "nbformat": 4,
 "nbformat_minor": 5
}
