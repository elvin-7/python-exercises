{
 "cells": [
  {
   "cell_type": "markdown",
   "id": "27407b6e",
   "metadata": {},
   "source": [
    "# Introduction\n",
    "If you want to build something using a Raspberry Pi, you'll probably use resistors. Like the previous Resistor Color Duo and Resistor Color Trio exercises, you will be translating resistor color bands to human-readable labels.\n",
    "\n",
    "- Each resistor has a resistance value.\n",
    "- Resistors are small - so small in fact that if you printed the resistance value on them, it would be hard to read. To get around this problem, manufacturers print color-coded bands onto the resistors to denote their resistance values.\n",
    "- Each band acts as a digit of a number. For example, if they printed a brown band (value 1) followed by a green band (value 5), it would translate to the number 15.\n",
    "## Instructions\n",
    "In this exercise, you are going to create a helpful program so that you don't have to remember the values of the bands. The program will take 1, 4, or 5 colors as input and output the correct value in ohms. The color bands are encoded as follows:\n",
    "\n",
    "- black: 0\n",
    "- brown: 1\n",
    "- red: 2\n",
    "- orange: 3\n",
    "- yellow: 4\n",
    "- green: 5\n",
    "- blue: 6\n",
    "- violet: 7\n",
    "- grey: 8\n",
    "- white: 9\n",
    "\n",
    "In Resistor Color Trio you decoded the first three color bands. For instance: orange-orange-brown translated to the main value 330. In this exercise you will need to add tolerance to the mix. Tolerance is the maximum amount that a value can be above or below the main value. For example, if the last band is green, the maximum tolerance will be ±0.5%.\n",
    "\n",
    "The tolerance band will have one of these values:\n",
    "\n",
    "- grey - 0.05%\n",
    "- violet - 0.1%\n",
    "- blue - 0.25%\n",
    "- green - 0.5%\n",
    "- brown - 1%\n",
    "- red - 2%\n",
    "- gold - 5%\n",
    "- silver - 10%\n",
    "\n",
    "The four-band resistor is built up like this:\n",
    "\n",
    "Band_1|\tBand_2|\tBand_3|\tband_4\n",
    "------|--------|------|--------\n",
    "Value_1\t|Value_2|\tMultiplier|\tTolerance\n",
    "\n",
    "Examples:\n",
    "\n",
    "- orange-orange-brown-green would be 330 ohms with a ±0.5% tolerance.\n",
    "- orange-orange-red-grey would be 3300 ohms with ±0.05% tolerance.\n",
    "\n",
    "The difference between a four and five-band resistor is that the five-band resistor has an extra band to indicate a more precise value.\n",
    "\n",
    "Band_1|\tBand_2| Band_3|\tBand_4|\tband_5\n",
    "------|-------|-------|-------|---------\n",
    "Value_1|\tValue_2|\tValue_3|\tMultiplier|\tTolerance\n",
    "\n",
    "Examples:\n",
    "\n",
    "- orange-orange-orange-black-green would be 333 ohms with a ±0.5% tolerance.\n",
    "- orange-red-orange-blue-violet would be 323M ohms with a ±0.10 tolerance.\n",
    "\n",
    "There are also one band resistors. One band resistors only have the color black with a value of 0.\n",
    "\n",
    "Your program should translate an input list of resistor band colors into a label:\n",
    "\n",
    "\"... ohms ...%\"\n",
    "\n",
    "So an input list of [\"orange\", \"orange\", \"black\", \"green\"] should return:\n",
    "\n",
    "\"33 ohms ±0.5%\"\n",
    "\n",
    "When there are more than a thousand ohms, we say \"kiloohms\". That's similar to saying \"kilometer\" for 1000 meters, and \"kilograms\" for 1000 grams.\n",
    "\n",
    "So an input list of [\"orange\", \"orange\", \"orange\", \"grey\"] should return:\n",
    "\n",
    "\"33 kiloohms ±0.05%\"\n",
    "\n",
    "When there are more than a million ohms, we say \"megaohms\".\n",
    "\n",
    "So an input list of [\"orange\", \"orange\", \"blue\", \"red\"] should return:\n",
    "\n",
    "\"33 megaohms ±2%\""
   ]
  },
  {
   "cell_type": "markdown",
   "id": "0d2068cd",
   "metadata": {},
   "source": [
    "## Solution 1"
   ]
  },
  {
   "cell_type": "code",
   "execution_count": 89,
   "id": "a39754cd",
   "metadata": {},
   "outputs": [],
   "source": [
    "COLOR_CODES = {'black':'0','brown':'1','red':'2','orange':'3','yellow':'4',\n",
    "               'green':'5','blue':'6','violet':'7','grey':'8','white':'9'}\n",
    "\n",
    "tolerance_band = {'grey':'0.05%','violet':'0.1%','blue':'0.25%','green':'0.5%',\n",
    "                 'brown':'1%','red':'2%','gold':'5%','silver':'10%'}\n",
    "\n",
    "def value(colors):\n",
    "    return int(COLOR_CODES[colors[0]]+COLOR_CODES[colors[1]])\n",
    "\n",
    "def label(colors):\n",
    "    \n",
    "    zeros = '0'*int(COLOR_CODES[colors[2]])\n",
    "    digits = str(value(colors))+zeros\n",
    "    \n",
    "    if len(digits) >= 10:\n",
    "        return str(f'{int(digits)/1000000000:g}')+' gigaohms'\n",
    "    if len(digits) >= 7:\n",
    "        return str(f'{int(digits)/1000000:g}')+' megaohms'\n",
    "    if len(digits) >= 4:\n",
    "        return str(f'{int(digits)/1000:g}')+' kiloohms'\n",
    "    else:\n",
    "        return str(digits)+' ohms'\n",
    "\n",
    "        \n",
    "def value2(colors):\n",
    "    return int(COLOR_CODES[colors[0]]+COLOR_CODES[colors[1]]+COLOR_CODES[colors[2]])\n",
    "    \n",
    "def resistor_label(colors):\n",
    "    if len(colors) == 1 :\n",
    "        return COLOR_CODES[colors[0]]+' ohms'\n",
    "    if len(colors) == 4:\n",
    "        return label(colors)+' ±'+tolerance_band[colors[3]]\n",
    "    if len(colors) == 5:\n",
    "\n",
    "                \n",
    "        fbzeros = '0'*int(COLOR_CODES[colors[3]])\n",
    "        fbdigits = str(value2(colors))+fbzeros\n",
    "        \n",
    "        if len(fbdigits) >= 10:\n",
    "            return str(f'{int(fbdigits)/1000000000:g}')+' gigaohms'+' ±'+tolerance_band[colors[4]]\n",
    "        if len(fbdigits) >= 7:\n",
    "            return str(f'{int(fbdigits)/1000000:g}')+' megaohms'+' ±'+tolerance_band[colors[4]]\n",
    "        if len(fbdigits) >= 4:\n",
    "            return str(f'{int(fbdigits)/1000:g}')+' kiloohms'+' ±'+tolerance_band[colors[4]]\n",
    "        else:\n",
    "            return str(fbdigits)+' ohms'+' ±'+tolerance_band[colors[4]]"
   ]
  },
  {
   "cell_type": "markdown",
   "id": "e2713e7e",
   "metadata": {},
   "source": [
    "## Solution 2"
   ]
  },
  {
   "cell_type": "code",
   "execution_count": 93,
   "id": "463e527e",
   "metadata": {},
   "outputs": [],
   "source": [
    "COLOR_CODES2 = ['black','brown','red','orange','yellow',\n",
    "               'green','blue','violet','grey','white']\n",
    "\n",
    "tolerance_band2 = {'grey':'0.05%','violet':'0.1%','blue':'0.25%','green':'0.5%',\n",
    "                 'brown':'1%','red':'2%','gold':'5%','silver':'10%'}\n",
    "\n",
    "def s2_label(colors):\n",
    "    \n",
    "    zeros = '0'*COLOR_CODES2.index(colors[len(colors)-2])\n",
    "    fig = []\n",
    "    for i in range(len(colors)-2):\n",
    "        fig.append(COLOR_CODES2.index(colors[i]))\n",
    "        \n",
    "    fig = map(str,fig)\n",
    "    figure=''.join(fig)+zeros\n",
    "    return int(figure)    \n",
    "    \n",
    "\n",
    "def s2_resistor_label(colors):\n",
    "    if len(colors) == 1 and colors[0] == 'black':\n",
    "        return str(COLOR_CODES2.index('black'))+' ohms'\n",
    "    \n",
    "    if len(colors) == 4: \n",
    "        if len(str(s2_label(colors))) >= 10:\n",
    "            return f'{s2_label(colors)/1000000000:g}'+' gigaohms'+' ±'+tolerance_band2[colors[3]]\n",
    "        if len(str(s2_label(colors))) >= 7:\n",
    "            return f'{s2_label(colors)/1000000:g}'+' megaohms'+' ±'+tolerance_band2[colors[3]]\n",
    "        if len(str(s2_label(colors))) >= 4:\n",
    "            return f'{s2_label(colors)/1000:g}'+' kiloohms'+' ±'+tolerance_band2[colors[3]]\n",
    "        else:\n",
    "            return str(s2_label(colors))+' ohms'+' ±'+tolerance_band2[colors[3]]\n",
    "    \n",
    "    if len(colors) == 5: \n",
    "        if len(str(s2_label(colors))) >= 10:\n",
    "            return f'{s2_label(colors)/1000000000:g}'+' gigaohms'+' ±'+tolerance_band2[colors[4]]\n",
    "        if len(str(s2_label(colors))) >= 7:\n",
    "            return f'{s2_label(colors)/1000000:g}'+' megaohms'+' ±'+tolerance_band2[colors[4]]\n",
    "        if len(str(s2_label(colors))) >= 4:\n",
    "            return f'{s2_label(colors)/1000:g}'+' kiloohms'+' ±'+tolerance_band2[colors[4]]\n",
    "        else:\n",
    "            return str(s2_label(colors))+' ohms'+' ±'+tolerance_band2[colors[4]]"
   ]
  },
  {
   "cell_type": "code",
   "execution_count": 94,
   "id": "1dd35144",
   "metadata": {},
   "outputs": [
    {
     "data": {
      "text/plain": [
       "'33 ohms ±0.5%'"
      ]
     },
     "execution_count": 94,
     "metadata": {},
     "output_type": "execute_result"
    }
   ],
   "source": [
    "s2_resistor_label([\"orange\", \"orange\", \"black\", \"green\"])"
   ]
  },
  {
   "cell_type": "code",
   "execution_count": 87,
   "id": "ee4f7021",
   "metadata": {},
   "outputs": [
    {
     "data": {
      "text/plain": [
       "'33 kiloohms ±0.05%'"
      ]
     },
     "execution_count": 87,
     "metadata": {},
     "output_type": "execute_result"
    }
   ],
   "source": [
    "s2_resistor_label([\"orange\", \"orange\", \"orange\", \"grey\"])"
   ]
  },
  {
   "cell_type": "code",
   "execution_count": 90,
   "id": "a5d598da",
   "metadata": {},
   "outputs": [
    {
     "data": {
      "text/plain": [
       "'33 megaohms ±2%'"
      ]
     },
     "execution_count": 90,
     "metadata": {},
     "output_type": "execute_result"
    }
   ],
   "source": [
    "resistor_label([\"orange\", \"orange\", \"blue\", \"red\"])"
   ]
  },
  {
   "cell_type": "code",
   "execution_count": 91,
   "id": "39442d22",
   "metadata": {},
   "outputs": [
    {
     "data": {
      "text/plain": [
       "'333 ohms ±0.5%'"
      ]
     },
     "execution_count": 91,
     "metadata": {},
     "output_type": "execute_result"
    }
   ],
   "source": [
    "resistor_label(['orange','orange','orange','black','green'])"
   ]
  },
  {
   "cell_type": "code",
   "execution_count": 71,
   "id": "c665924b",
   "metadata": {},
   "outputs": [
    {
     "data": {
      "text/plain": [
       "'323 megaohms ±0.1%'"
      ]
     },
     "execution_count": 71,
     "metadata": {},
     "output_type": "execute_result"
    }
   ],
   "source": [
    "resistor_label(['orange','red','orange','blue','violet'])"
   ]
  },
  {
   "cell_type": "code",
   "execution_count": 95,
   "id": "4a170e49",
   "metadata": {},
   "outputs": [
    {
     "data": {
      "text/plain": [
       "'0 ohms'"
      ]
     },
     "execution_count": 95,
     "metadata": {},
     "output_type": "execute_result"
    }
   ],
   "source": [
    "s2_resistor_label(['black'])"
   ]
  },
  {
   "cell_type": "code",
   "execution_count": 96,
   "id": "275ee138",
   "metadata": {},
   "outputs": [
    {
     "data": {
      "text/plain": [
       "'6.89 kiloohms ±1%'"
      ]
     },
     "execution_count": 96,
     "metadata": {},
     "output_type": "execute_result"
    }
   ],
   "source": [
    "resistor_label([\"blue\", \"grey\", \"white\", \"brown\", \"brown\"])"
   ]
  },
  {
   "cell_type": "code",
   "execution_count": 97,
   "id": "162f5d9b",
   "metadata": {},
   "outputs": [
    {
     "data": {
      "text/plain": [
       "'2.54 megaohms ±1%'"
      ]
     },
     "execution_count": 97,
     "metadata": {},
     "output_type": "execute_result"
    }
   ],
   "source": [
    "resistor_label([\"red\", \"green\", \"yellow\", \"yellow\", \"brown\"])"
   ]
  },
  {
   "cell_type": "code",
   "execution_count": null,
   "id": "17f09f95",
   "metadata": {},
   "outputs": [],
   "source": []
  }
 ],
 "metadata": {
  "kernelspec": {
   "display_name": "Python 3 (ipykernel)",
   "language": "python",
   "name": "python3"
  },
  "language_info": {
   "codemirror_mode": {
    "name": "ipython",
    "version": 3
   },
   "file_extension": ".py",
   "mimetype": "text/x-python",
   "name": "python",
   "nbconvert_exporter": "python",
   "pygments_lexer": "ipython3",
   "version": "3.9.7"
  }
 },
 "nbformat": 4,
 "nbformat_minor": 5
}
