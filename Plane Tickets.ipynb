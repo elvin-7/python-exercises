{
 "cells": [
  {
   "cell_type": "markdown",
   "id": "75da41b5",
   "metadata": {},
   "source": [
    "# Instructions\n",
    "Conda Airlines is the programming-world's biggest airline, with over 10,000 flights a day!\n",
    "\n",
    "They are currently assigning all seats to passengers by hand; this will need to be automated.\n",
    "\n",
    "They have asked you to create software to automate passenger seat assignments. They require your software to be memory efficient and performant."
   ]
  },
  {
   "cell_type": "markdown",
   "id": "87a891a1",
   "metadata": {},
   "source": [
    "## Task 1. Generate seat letters\n",
    "Conda wants to generate seat letters for their airplanes. An airplane is made of rows of seats. Each row has 4 seats. The seats in each row are always named A, B, C, and D. The first seat in the row is A, the second seat in the row is B, and so on. After reaching D, it should start again with A.\n",
    "\n",
    "Implement a function generate_seat_letters(number) that accepts an int that holds how many seat letters to be generated. The function should then return an iterable of seat letters."
   ]
  },
  {
   "cell_type": "code",
   "execution_count": 33,
   "id": "fa09ef85",
   "metadata": {},
   "outputs": [],
   "source": [
    "def generate_seat_letters(number):\n",
    "    \"\"\"Generate a series of letters for airline seats.\n",
    "\n",
    "    :param number: int - total number of seat letters to be generated.\n",
    "    :return: generator - generator that yields seat letters.\n",
    "\n",
    "    Seat letters are generated from A to D.\n",
    "    After D it should start again with A.\n",
    "\n",
    "    Example: A, B, C, D\n",
    "\n",
    "    \"\"\"\n",
    "   \n",
    "    SEAT_LETTERS = ['A','B','C','D']\n",
    "    n_seat_letters = len(SEAT_LETTERS)\n",
    "    \n",
    "    for i in range(number):\n",
    "        pos = i % n_seat_letters\n",
    "        yield SEAT_LETTERS[pos]"
   ]
  },
  {
   "cell_type": "code",
   "execution_count": 34,
   "id": "0bf5b914",
   "metadata": {},
   "outputs": [
    {
     "name": "stdout",
     "output_type": "stream",
     "text": [
      "A\n",
      "B\n",
      "C\n",
      "D\n"
     ]
    }
   ],
   "source": [
    "letters = generate_seat_letters(4)\n",
    "print(next(letters))\n",
    "print(next(letters))\n",
    "print(next(letters))\n",
    "print(next(letters))"
   ]
  },
  {
   "cell_type": "markdown",
   "id": "652f0427",
   "metadata": {},
   "source": [
    "## Task 2. Generate Seats\n",
    "\n",
    "Conda wants a system that can generate a given number of seats for their airplanes. Each airplane has 4 seats in each row. The rows are defined using numbers, starting from 1 and going up. The seats should be ordered, like: 1A, 1B, 1C, 1D, 2A, 2B, 2C, 2D, 3A, 3B, 3C, 3D, ...\n",
    "\n",
    "Here is an example:\n",
    "\n",
    "x\t|1\t|2\n",
    "----|---|----\n",
    "Row\t|5\t|21\n",
    "Seat letter\t|A\t|D\n",
    "Result\t|5A\t|21D\n",
    "\n",
    "Many airlines do not have row number 13 on their flights, due to superstition amongst passengers. Conda Airlines also follows this convention, so make sure you don't generate seats for row number 13.\n",
    "\n",
    "Implement a function generate_seats(number) that accepts an int that holds how many seats to be generated. The function should then return an iterable of seats given."
   ]
  },
  {
   "cell_type": "code",
   "execution_count": 31,
   "id": "7a29fb2e",
   "metadata": {},
   "outputs": [],
   "source": [
    "def generate_seats(number):\n",
    "    \"\"\"Generate a series of identifiers for airline seats.\n",
    "\n",
    "    :param number: int - total number of seats to be generated.\n",
    "    :return: generator - generator that yields seat numbers.\n",
    "\n",
    "    A seat number consists of the row number and the seat letter.\n",
    "\n",
    "    There is no row 13.\n",
    "    Each row has 4 seats.\n",
    "\n",
    "    Seats should be sorted from low to high.\n",
    "\n",
    "    Example: 3C, 3D, 4A, 4B\n",
    "\n",
    "    \"\"\"\n",
    "\n",
    "    seat_letter = generate_seat_letters(number)\n",
    "    row = 0\n",
    "    \n",
    "    for seat in seat_letter:\n",
    "        if seat == 'A':\n",
    "            row += 1\n",
    "        if row == 13:\n",
    "            row += 1\n",
    "        yield str(row)+seat"
   ]
  },
  {
   "cell_type": "code",
   "execution_count": 32,
   "id": "187963d9",
   "metadata": {},
   "outputs": [
    {
     "name": "stdout",
     "output_type": "stream",
     "text": [
      "1A\n",
      "1B\n",
      "1C\n",
      "1D\n",
      "2A\n",
      "2B\n"
     ]
    }
   ],
   "source": [
    "seats = generate_seats(10)\n",
    "print(next(seats))\n",
    "print(next(seats))\n",
    "print(next(seats))\n",
    "print(next(seats))\n",
    "print(next(seats))\n",
    "print(next(seats))"
   ]
  },
  {
   "cell_type": "markdown",
   "id": "d6e3e3c7",
   "metadata": {},
   "source": [
    "## Task 3. Assign seats to passengers\n",
    "Now that you have a function that generates seats, you can use it to assign seats to passengers.\n",
    "\n",
    "Implement a function assign_seats(passengers) that accepts a list of passenger names. The function should then return a dictionary of passenger as key, and seat_number as value."
   ]
  },
  {
   "cell_type": "code",
   "execution_count": 51,
   "id": "cb06b511",
   "metadata": {},
   "outputs": [],
   "source": [
    "def assign_seats(passengers):\n",
    "    \"\"\"Assign seats to passengers.\n",
    "\n",
    "    :param passengers: list[str] - a list of strings containing names of passengers.\n",
    "    :return: dict - with the names of the passengers as keys and seat numbers as values.\n",
    "\n",
    "    Example output: {\"Adele\": \"1A\", \"Björk\": \"1B\"}\n",
    "\n",
    "    \"\"\"\n",
    "    \n",
    "    assigned_seats = {}\n",
    "        \n",
    "    for passenger, seat_number in zip(passengers,generate_seats(len(passengers))):\n",
    "        assigned_seats[passenger] = seat_number\n",
    "    return assigned_seats"
   ]
  },
  {
   "cell_type": "code",
   "execution_count": 52,
   "id": "e9c6479f",
   "metadata": {},
   "outputs": [
    {
     "data": {
      "text/plain": [
       "{'Jerimiah': '1A',\n",
       " 'Eric': '1B',\n",
       " 'Bethany': '1C',\n",
       " 'Byte': '1D',\n",
       " 'SqueekyBoots': '2A',\n",
       " 'Bob': '2B'}"
      ]
     },
     "execution_count": 52,
     "metadata": {},
     "output_type": "execute_result"
    }
   ],
   "source": [
    "passengers = ['Jerimiah', 'Eric', 'Bethany', 'Byte', 'SqueekyBoots', 'Bob']\n",
    "\n",
    "assign_seats(passengers)"
   ]
  },
  {
   "cell_type": "markdown",
   "id": "7f8ebcb6",
   "metadata": {},
   "source": [
    "## Task 4. Ticket Codes\n",
    "Conda Airlines would like to have a unique code for each ticket. Since they are a big airline, they have a lot of flights. This means that there are multiple flights with the same seat number. They want you to create a system that creates a unique ticket that is 12 characters long string code for identification.\n",
    "\n",
    "This code begins with the assigned_seat followed by the flight_id. The rest of the code is appended by 0s.\n",
    "\n",
    "Implement a function generate_codes(seat_numbers, flight_id) that accepts a list of seat_numbers and a string with the flight number. The function should then return a generator that yields a ticket_number."
   ]
  },
  {
   "cell_type": "code",
   "execution_count": 58,
   "id": "da1e4b13",
   "metadata": {},
   "outputs": [],
   "source": [
    "def generate_codes(seat_numbers, flight_id):\n",
    "    \"\"\"Generate codes for a ticket.\n",
    "\n",
    "    :param seat_numbers: list[str] - list of seat numbers.\n",
    "    :param flight_id: str - string containing the flight identifier.\n",
    "    :return: generator - generator that yields 12 character long ticket codes.\n",
    "\n",
    "    \"\"\"\n",
    "\n",
    "    for i in seat_numbers:\n",
    "        number = 12 - (len(i)+len(flight_id))\n",
    "        yield i+flight_id+(str(0)*number)"
   ]
  },
  {
   "cell_type": "code",
   "execution_count": 59,
   "id": "a3f2cb56",
   "metadata": {},
   "outputs": [
    {
     "name": "stdout",
     "output_type": "stream",
     "text": [
      "1ACO12340000\n",
      "17DCO1234000\n"
     ]
    }
   ],
   "source": [
    "seat_numbers = ['1A', '17D']\n",
    "flight_id = 'CO1234'\n",
    "ticket_ids = generate_codes(seat_numbers, flight_id)\n",
    "\n",
    "print(next(ticket_ids))\n",
    "print(next(ticket_ids))"
   ]
  },
  {
   "cell_type": "code",
   "execution_count": null,
   "id": "12465535",
   "metadata": {},
   "outputs": [],
   "source": []
  }
 ],
 "metadata": {
  "kernelspec": {
   "display_name": "Python 3 (ipykernel)",
   "language": "python",
   "name": "python3"
  },
  "language_info": {
   "codemirror_mode": {
    "name": "ipython",
    "version": 3
   },
   "file_extension": ".py",
   "mimetype": "text/x-python",
   "name": "python",
   "nbconvert_exporter": "python",
   "pygments_lexer": "ipython3",
   "version": "3.9.7"
  }
 },
 "nbformat": 4,
 "nbformat_minor": 5
}
