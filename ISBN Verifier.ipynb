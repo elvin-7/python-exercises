{
 "cells": [
  {
   "cell_type": "markdown",
   "id": "611dbbea",
   "metadata": {},
   "source": [
    "# Instructions\n",
    "The ISBN-10 verification process is used to validate book identification numbers. These normally contain dashes and look like: 3-598-21508-8\n",
    "\n",
    "## ISBN\n",
    "The ISBN-10 format is 9 digits (0 to 9) plus one check character (either a digit or an X only). In the case the check character is an X, this represents the value '10'. These may be communicated with or without hyphens, and can be checked for their validity by the following formula:\n",
    "\n",
    "(d₁ * 10 + d₂ * 9 + d₃ * 8 + d₄ * 7 + d₅ * 6 + d₆ * 5 + d₇ * 4 + d₈ * 3 + d₉ * 2 + d₁₀ * 1) mod 11 == 0\n",
    "\n",
    "If the result is 0, then it is a valid ISBN-10, otherwise it is invalid.\n",
    "\n",
    "### Example\n",
    "Let's take the ISBN-10 3-598-21508-8. We plug it in to the formula, and get:\n",
    "\n",
    "(3 * 10 + 5 * 9 + 9 * 8 + 8 * 7 + 2 * 6 + 1 * 5 + 5 * 4 + 0 * 3 + 8 * 2 + 8 * 1) mod 11 == 0\n",
    "\n",
    "Since the result is 0, this proves that our ISBN is valid.\n",
    "\n",
    "### Task\n",
    "Given a string the program should check if the provided string is a valid ISBN-10. Putting this into place requires some thinking about preprocessing/parsing of the string prior to calculating the check digit for the ISBN.\n",
    "\n",
    "The program should be able to verify ISBN-10 both with and without separating dashes.\n",
    "\n",
    "### Caveats\n",
    "Converting from strings to numbers can be tricky in certain languages. Now, it's even trickier since the check digit of an ISBN-10 may be 'X' (representing '10'). For instance 3-598-21507-X is a valid ISBN-10."
   ]
  },
  {
   "cell_type": "code",
   "execution_count": 36,
   "id": "f35ce834",
   "metadata": {},
   "outputs": [],
   "source": [
    "from math import prod\n",
    "\n",
    "def is_valid(isbn):\n",
    "    clean_string = ''.join(char for char in isbn if char.isalnum())\n",
    "    \n",
    "    if len(clean_string) != 10:\n",
    "        return False\n",
    "    nums = []\n",
    "    for i, char in enumerate(clean_string):\n",
    "        if char.isdigit():\n",
    "            nums.append(int(char))\n",
    "        elif char == 'X' and i == 9:\n",
    "            nums.append(10)\n",
    "        else:\n",
    "            return False\n",
    "    weighted_sum = sum(num * (10-i)for i, num in enumerate(nums))\n",
    "    return weighted_sum % 11 == 0\n",
    "    "
   ]
  },
  {
   "cell_type": "code",
   "execution_count": 37,
   "id": "8d7def6a",
   "metadata": {},
   "outputs": [
    {
     "data": {
      "text/plain": [
       "True"
      ]
     },
     "execution_count": 37,
     "metadata": {},
     "output_type": "execute_result"
    }
   ],
   "source": [
    "is_valid(\"3-598-21507-X\")"
   ]
  },
  {
   "cell_type": "code",
   "execution_count": 38,
   "id": "ce2fabda",
   "metadata": {},
   "outputs": [
    {
     "data": {
      "text/plain": [
       "False"
      ]
     },
     "execution_count": 38,
     "metadata": {},
     "output_type": "execute_result"
    }
   ],
   "source": [
    "is_valid(\"\")"
   ]
  },
  {
   "cell_type": "markdown",
   "id": "7a3f315f",
   "metadata": {},
   "source": [
    "## Other Approaches"
   ]
  },
  {
   "cell_type": "code",
   "execution_count": 62,
   "id": "6f9bbb7a",
   "metadata": {},
   "outputs": [],
   "source": [
    "def is_valid2(isbn):\n",
    "    nums = list(isbn.replace(\"-\",\"\"))\n",
    "    if len(nums) != 10: return False\n",
    "    if nums[-1] == 'X': nums[-1] = \"10\"\n",
    "    if not all ([c.isdigit()for c in nums]): return False\n",
    "    return sum(int(x)*y for x,y in zip(nums, range(10,0,-1)))%11 == 0"
   ]
  },
  {
   "cell_type": "code",
   "execution_count": 63,
   "id": "23bd2d05",
   "metadata": {},
   "outputs": [
    {
     "data": {
      "text/plain": [
       "True"
      ]
     },
     "execution_count": 63,
     "metadata": {},
     "output_type": "execute_result"
    }
   ],
   "source": [
    "is_valid2(\"3-598-21507-X\")"
   ]
  },
  {
   "cell_type": "code",
   "execution_count": null,
   "id": "857e6ca1",
   "metadata": {},
   "outputs": [],
   "source": []
  }
 ],
 "metadata": {
  "kernelspec": {
   "display_name": "Python 3 (ipykernel)",
   "language": "python",
   "name": "python3"
  },
  "language_info": {
   "codemirror_mode": {
    "name": "ipython",
    "version": 3
   },
   "file_extension": ".py",
   "mimetype": "text/x-python",
   "name": "python",
   "nbconvert_exporter": "python",
   "pygments_lexer": "ipython3",
   "version": "3.9.7"
  }
 },
 "nbformat": 4,
 "nbformat_minor": 5
}
