{
 "cells": [
  {
   "cell_type": "markdown",
   "id": "17552f20",
   "metadata": {},
   "source": [
    "# Instructions\n",
    "Create an implementation of the rotational cipher, also sometimes called the Caesar cipher.\n",
    "\n",
    "The Caesar cipher is a simple shift cipher that relies on transposing all the letters in the alphabet using an integer key between 0 and 26. Using a key of 0 or 26 will always yield the same output due to modular arithmetic. The letter is shifted for as many values as the value of the key.\n",
    "\n",
    "The general notation for rotational ciphers is ROT + key. The most commonly used rotational cipher is ROT13.\n",
    "\n",
    "A ROT13 on the Latin alphabet would be as follows:\n",
    "\n",
    "Plain:  abcdefghijklmnopqrstuvwxyz\n",
    "\n",
    "Cipher: nopqrstuvwxyzabcdefghijklm\n",
    "\n",
    "It is stronger than the Atbash cipher because it has 27 possible keys, and 25 usable keys.\n",
    "\n",
    "Ciphertext is written out in the same formatting as the input including spaces and punctuation.\n",
    "\n",
    "### Examples\n",
    "    \n",
    "- ROT5 omg gives trl\n",
    "- ROT0 c gives c\n",
    "- ROT26 Cool gives Cool\n",
    "- ROT13 The quick brown fox jumps over the lazy dog. gives Gur dhvpx oebja sbk whzcf bire gur ynml qbt.\n",
    "- ROT13 Gur dhvpx oebja sbk whzcf bire gur ynml qbt. gives The quick brown fox jumps over the lazy dog."
   ]
  },
  {
   "cell_type": "code",
   "execution_count": 57,
   "id": "529c8a14",
   "metadata": {},
   "outputs": [],
   "source": [
    "import string\n",
    "\n",
    "def rotate(text, key):\n",
    "    \n",
    "    cipher = ''\n",
    "    \n",
    "    u_case = string.ascii_uppercase\n",
    "    l_case = string.ascii_lowercase\n",
    "    \n",
    "    for char in text:\n",
    "        if char in u_case:\n",
    "            c_index = (u_case.index(char)+key)%26\n",
    "            cipher += u_case[c_index]\n",
    "        elif char in l_case:\n",
    "            c_index = (l_case.index(char)+key)%26\n",
    "            cipher +=l_case[c_index]\n",
    "        else: \n",
    "            cipher += char\n",
    "\n",
    "    return cipher"
   ]
  },
  {
   "cell_type": "code",
   "execution_count": 59,
   "id": "0b3b2de2",
   "metadata": {},
   "outputs": [
    {
     "data": {
      "text/plain": [
       "'Gur dhvpx oebja sbk whzcf bire gur ynml qbt.'"
      ]
     },
     "execution_count": 59,
     "metadata": {},
     "output_type": "execute_result"
    }
   ],
   "source": [
    "rotate('The quick brown fox jumps over the lazy dog.',13)"
   ]
  },
  {
   "cell_type": "code",
   "execution_count": 60,
   "id": "78610692",
   "metadata": {},
   "outputs": [
    {
     "data": {
      "text/plain": [
       "'The quick brown fox jumps over the lazy dog.'"
      ]
     },
     "execution_count": 60,
     "metadata": {},
     "output_type": "execute_result"
    }
   ],
   "source": [
    "rotate('Gur dhvpx oebja sbk whzcf bire gur ynml qbt.',13)"
   ]
  },
  {
   "cell_type": "code",
   "execution_count": 61,
   "id": "f42c9b0a",
   "metadata": {},
   "outputs": [
    {
     "data": {
      "text/plain": [
       "'trl'"
      ]
     },
     "execution_count": 61,
     "metadata": {},
     "output_type": "execute_result"
    }
   ],
   "source": [
    "rotate('omg',5)"
   ]
  },
  {
   "cell_type": "markdown",
   "id": "80d32a49",
   "metadata": {},
   "source": [
    "## Str translate Approach"
   ]
  },
  {
   "cell_type": "code",
   "execution_count": 62,
   "id": "a112ef99",
   "metadata": {},
   "outputs": [],
   "source": [
    "def rotate2(text,key):\n",
    "    ALPHABET = 'abcdefghijklmnopqrstuvwxyz'\n",
    "    translator = ALPHABET[key:]+ALPHABET[:key]\n",
    "    return text.translate(str.maketrans(ALPHABET+ALPHABET.upper(),translator + translator.upper()))"
   ]
  },
  {
   "cell_type": "code",
   "execution_count": 63,
   "id": "751a69c1",
   "metadata": {},
   "outputs": [
    {
     "data": {
      "text/plain": [
       "'Gur dhvpx oebja sbk whzcf bire gur ynml qbt.'"
      ]
     },
     "execution_count": 63,
     "metadata": {},
     "output_type": "execute_result"
    }
   ],
   "source": [
    "rotate2('The quick brown fox jumps over the lazy dog.',13)"
   ]
  },
  {
   "cell_type": "code",
   "execution_count": null,
   "id": "f0662a56",
   "metadata": {},
   "outputs": [],
   "source": []
  }
 ],
 "metadata": {
  "kernelspec": {
   "display_name": "Python 3 (ipykernel)",
   "language": "python",
   "name": "python3"
  },
  "language_info": {
   "codemirror_mode": {
    "name": "ipython",
    "version": 3
   },
   "file_extension": ".py",
   "mimetype": "text/x-python",
   "name": "python",
   "nbconvert_exporter": "python",
   "pygments_lexer": "ipython3",
   "version": "3.9.7"
  }
 },
 "nbformat": 4,
 "nbformat_minor": 5
}
