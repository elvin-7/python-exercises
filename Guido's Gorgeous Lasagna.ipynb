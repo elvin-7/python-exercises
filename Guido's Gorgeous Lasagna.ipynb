{
 "cells": [
  {
   "cell_type": "markdown",
   "id": "c1bc7279",
   "metadata": {},
   "source": [
    "# Guido's Gorgeous Lasagna Exercise"
   ]
  },
  {
   "cell_type": "markdown",
   "id": "5e5da7aa",
   "metadata": {},
   "source": [
    "## Instructions\n",
    "\n",
    "You're going to write some code to help you cook a gorgeous lasagna from your favorite cookbook.\n",
    "\n",
    "You have five tasks, all related to cooking your recipe."
   ]
  },
  {
   "cell_type": "markdown",
   "id": "5cd12252",
   "metadata": {},
   "source": [
    "### 1. Define expected bake time in minutes as a constant\n",
    "\n",
    "Define the EXPECTED_BAKE_TIME constant that represents how many minutes the lasagna should bake in the oven. According to your cookbook, the Lasagna should be in the oven for 40 minutes:"
   ]
  },
  {
   "cell_type": "code",
   "execution_count": 1,
   "id": "e95d0799",
   "metadata": {},
   "outputs": [],
   "source": [
    "EXPECTED_BAKE_TIME = 40"
   ]
  },
  {
   "cell_type": "markdown",
   "id": "ab1c00cf",
   "metadata": {},
   "source": [
    "### 2. Calculate remaining bake time in minutes\n",
    "\n",
    "Complete the bake_time_remaining() function that takes the actual minutes the lasagna has been in the oven as an argument and returns how many minutes the lasagna still needs to bake based on the EXPECTED_BAKE_TIME constant."
   ]
  },
  {
   "cell_type": "code",
   "execution_count": 2,
   "id": "bd589eb5",
   "metadata": {},
   "outputs": [],
   "source": [
    "def bake_time_remaining(mins_in_oven):\n",
    "    return EXPECTED_BAKE_TIME - mins_in_oven"
   ]
  },
  {
   "cell_type": "code",
   "execution_count": 3,
   "id": "4d5a8600",
   "metadata": {},
   "outputs": [
    {
     "data": {
      "text/plain": [
       "10"
      ]
     },
     "execution_count": 3,
     "metadata": {},
     "output_type": "execute_result"
    }
   ],
   "source": [
    "bake_time_remaining(30)"
   ]
  },
  {
   "cell_type": "markdown",
   "id": "35a42d2e",
   "metadata": {},
   "source": [
    "### 3. Calculate preparation time in minutes\n",
    "\n",
    "Define the preparation_time_in_minutes() function that takes the number_of_layers you want to add to the lasagna as an argument and returns how many minutes you would spend making them. Assume each layer takes 2 minutes to prepare."
   ]
  },
  {
   "cell_type": "code",
   "execution_count": 4,
   "id": "00722300",
   "metadata": {},
   "outputs": [
    {
     "name": "stdout",
     "output_type": "stream",
     "text": [
      "10\n"
     ]
    }
   ],
   "source": [
    "def preparation_time_in_minutes(number_of_layers):\n",
    "    prep_time = number_of_layers * 2\n",
    "    print(prep_time)\n",
    "\n",
    "\n",
    "preparation_time_in_minutes(5)"
   ]
  },
  {
   "cell_type": "markdown",
   "id": "e99e58eb",
   "metadata": {},
   "source": [
    "### 4. Calculate total elapsed cooking time (prep + bake) in minutes\n",
    "\n",
    "Define the elapsed_time_in_minutes() function that takes two parameters as arguments: number_of_layers (the number of layers added to the lasagna) and elapsed_bake_time (the number of minutes the lasagna has been baking in the oven). This function should return the total number of minutes you have been cooking, or the sum of your preparation time and the time the lasagna has already spent baking in the oven."
   ]
  },
  {
   "cell_type": "code",
   "execution_count": 5,
   "id": "770e4f1c",
   "metadata": {},
   "outputs": [
    {
     "data": {
      "text/plain": [
       "26"
      ]
     },
     "execution_count": 5,
     "metadata": {},
     "output_type": "execute_result"
    }
   ],
   "source": [
    "def elapsed_time_in_minutes(number_of_layers,elapsed_bake_time):\n",
    "    total_elapsed_cooking_time = (number_of_layers*2)+elapsed_bake_time\n",
    "    return total_elapsed_cooking_time\n",
    "\n",
    "\n",
    "elapsed_time_in_minutes(3,20)\n"
   ]
  },
  {
   "cell_type": "markdown",
   "id": "5e120be0",
   "metadata": {},
   "source": [
    "### 5. Update the recipe with notes\n",
    "\n",
    "Go back through the recipe, adding \"notes\" in the form of function docstrings."
   ]
  },
  {
   "cell_type": "code",
   "execution_count": 6,
   "id": "03c37303",
   "metadata": {},
   "outputs": [],
   "source": [
    "def elapsed_time_in_minutes(number_of_layers,elapsed_bake_time):\n",
    "    \"\"\"Calculate the elapsed cooking time.\n",
    "    \n",
    "    :param number_of_layers: int - the number of layers in the lasagna.\n",
    "    :param elapsed_bake_time: int - elapsed cooking time.\n",
    "    :return: int - total time elapsed (in minutes) preparing and cooking.\n",
    "    \n",
    "    This function takes two integers representing the number of lasagna layers and the time\n",
    "    already spent baking and calculates the total elapsed minutes spent cooking the lasagna. \n",
    "    \"\"\"\n",
    "       \n",
    "    total_elapsed_cooking_time = (number_of_layers*2)+elapsed_bake_time\n",
    "    return total_elapsed_cooking_time\n",
    "\n",
    "\n"
   ]
  },
  {
   "cell_type": "code",
   "execution_count": 7,
   "id": "851c60c8",
   "metadata": {},
   "outputs": [
    {
     "name": "stdout",
     "output_type": "stream",
     "text": [
      "Calculate the elapsed cooking time.\n",
      "    \n",
      "    :param number_of_layers: int - the number of layers in the lasagna.\n",
      "    :param elapsed_bake_time: int - elapsed cooking time.\n",
      "    :return: int - total time elapsed (in minutes) preparing and cooking.\n",
      "    \n",
      "    This function takes two integers representing the number of lasagna layers and the time\n",
      "    already spent baking and calculates the total elapsed minutes spent cooking the lasagna. \n",
      "    \n"
     ]
    }
   ],
   "source": [
    "print(elapsed_time_in_minutes.__doc__)"
   ]
  },
  {
   "cell_type": "code",
   "execution_count": null,
   "id": "8041ba2b",
   "metadata": {},
   "outputs": [],
   "source": []
  }
 ],
 "metadata": {
  "kernelspec": {
   "display_name": "Python 3 (ipykernel)",
   "language": "python",
   "name": "python3"
  },
  "language_info": {
   "codemirror_mode": {
    "name": "ipython",
    "version": 3
   },
   "file_extension": ".py",
   "mimetype": "text/x-python",
   "name": "python",
   "nbconvert_exporter": "python",
   "pygments_lexer": "ipython3",
   "version": "3.9.7"
  }
 },
 "nbformat": 4,
 "nbformat_minor": 5
}
