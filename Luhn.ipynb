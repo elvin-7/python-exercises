{
 "cells": [
  {
   "cell_type": "markdown",
   "id": "7c99da9f",
   "metadata": {},
   "source": [
    "# Introduction\n",
    "At the Global Verification Authority, you've just been entrusted with a critical assignment. Across the city, from online purchases to secure logins, countless operations rely on the accuracy of numerical identifiers like credit card numbers, bank account numbers, transaction codes, and tracking IDs. The Luhn algorithm is a simple checksum formula used to ensure these numbers are valid and error-free.\n",
    "\n",
    "A batch of identifiers has just arrived on your desk. All of them must pass the Luhn test to ensure they're legitimate. If any fail, they'll be flagged as invalid, preventing errors or fraud, such as incorrect transactions or unauthorized access.\n",
    "\n",
    "Can you ensure this is done right? The integrity of many services depends on you.\n",
    "\n",
    "## Instructions\n",
    "Determine whether a credit card number is valid according to the Luhn formula.\n",
    "\n",
    "The number will be provided as a string.\n",
    "\n",
    "### Validating a number\n",
    "Strings of length 1 or less are not valid. Spaces are allowed in the input, but they should be stripped before checking. All other non-digit characters are disallowed.\n",
    "\n",
    "#### Example 1: valid credit card number\n",
    "```\n",
    "4539 3195 0343 6467\n",
    "```\n",
    "The first step of the Luhn algorithm is to double every second digit, starting from the right. We will be doubling\n",
    "```\n",
    "4539 3195 0343 6467\n",
    "↑ ↑  ↑ ↑  ↑ ↑  ↑ ↑  (double these)\n",
    "```\n",
    "If doubling the number results in a number greater than 9 then subtract 9 from the product. The results of our doubling:\n",
    "```\n",
    "8569 6195 0383 3437\n",
    "```\n",
    "Then sum all of the digits:\n",
    "```\n",
    "8+5+6+9+6+1+9+5+0+3+8+3+3+4+3+7 = 80\n",
    "```\n",
    "If the sum is evenly divisible by 10, then the number is valid. This number is valid!\n",
    "\n",
    "#### Example 2: invalid credit card number\n",
    "```\n",
    "8273 1232 7352 0569\n",
    "```\n",
    "Double the second digits, starting from the right\n",
    "```\n",
    "7253 2262 5312 0539\n",
    "```\n",
    "Sum the digits\n",
    "```\n",
    "7+2+5+3+2+2+6+2+5+3+1+2+0+5+3+9 = 57\n",
    "```\n",
    "57 is not evenly divisible by 10, so this number is not valid."
   ]
  },
  {
   "cell_type": "code",
   "execution_count": 67,
   "id": "f5c9d736",
   "metadata": {},
   "outputs": [],
   "source": [
    "class Luhn:\n",
    "    def __init__(self, card_num):\n",
    "        \n",
    "        self.card_num = card_num\n",
    "        p_card_num = card_num.replace(\" \",\"\")\n",
    "        p_card_num = p_card_num[::-1]\n",
    "        \n",
    "        if len(p_card_num)<=1:\n",
    "            self.p_card_num = None\n",
    "            return\n",
    "        \n",
    "        for i in p_card_num:\n",
    "            if not i.isdigit():\n",
    "                self.p_card_num = None\n",
    "                return\n",
    "        \n",
    "        doub = []\n",
    "        for i, num in enumerate(p_card_num):\n",
    "            if (i+1)% 2 == 0:\n",
    "                if (int(num)*2) > 9:\n",
    "                    doub.append(str((int(num)*2)-9))\n",
    "                else:\n",
    "                    doub.append(str(int(num)*2))\n",
    "            else:\n",
    "                doub.append(num)\n",
    "        \n",
    "        self.p_card_num = [int(d) for d in doub[::-1]]\n",
    "        \n",
    "\n",
    "    def valid(self):\n",
    "        if self.p_card_num is None:\n",
    "            return False\n",
    "        return sum(self.p_card_num)%10 == 0"
   ]
  },
  {
   "cell_type": "code",
   "execution_count": 68,
   "id": "98403097",
   "metadata": {},
   "outputs": [
    {
     "data": {
      "text/plain": [
       "True"
      ]
     },
     "execution_count": 68,
     "metadata": {},
     "output_type": "execute_result"
    }
   ],
   "source": [
    "Luhn(\"34\").valid()"
   ]
  },
  {
   "cell_type": "code",
   "execution_count": 73,
   "id": "d937c60a",
   "metadata": {},
   "outputs": [
    {
     "data": {
      "text/plain": [
       "True"
      ]
     },
     "execution_count": 73,
     "metadata": {},
     "output_type": "execute_result"
    }
   ],
   "source": [
    "Luhn(\"9999999999 9999999999 9999999999 9999999999\").valid()"
   ]
  },
  {
   "cell_type": "code",
   "execution_count": 74,
   "id": "c57d1f03",
   "metadata": {},
   "outputs": [
    {
     "data": {
      "text/plain": [
       "True"
      ]
     },
     "execution_count": 74,
     "metadata": {},
     "output_type": "execute_result"
    }
   ],
   "source": [
    "Luhn(\"109\").valid()"
   ]
  },
  {
   "cell_type": "code",
   "execution_count": 75,
   "id": "fa4ff7a1",
   "metadata": {},
   "outputs": [
    {
     "data": {
      "text/plain": [
       "False"
      ]
     },
     "execution_count": 75,
     "metadata": {},
     "output_type": "execute_result"
    }
   ],
   "source": [
    "Luhn(\"055b 444 285\").valid()"
   ]
  },
  {
   "cell_type": "code",
   "execution_count": 76,
   "id": "d28a0fb8",
   "metadata": {},
   "outputs": [
    {
     "data": {
      "text/plain": [
       "True"
      ]
     },
     "execution_count": 76,
     "metadata": {},
     "output_type": "execute_result"
    }
   ],
   "source": [
    "Luhn(\"055 444 285\").valid()"
   ]
  },
  {
   "cell_type": "code",
   "execution_count": null,
   "id": "d18d94d2",
   "metadata": {},
   "outputs": [],
   "source": []
  }
 ],
 "metadata": {
  "kernelspec": {
   "display_name": "Python 3 (ipykernel)",
   "language": "python",
   "name": "python3"
  },
  "language_info": {
   "codemirror_mode": {
    "name": "ipython",
    "version": 3
   },
   "file_extension": ".py",
   "mimetype": "text/x-python",
   "name": "python",
   "nbconvert_exporter": "python",
   "pygments_lexer": "ipython3",
   "version": "3.9.7"
  }
 },
 "nbformat": 4,
 "nbformat_minor": 5
}
