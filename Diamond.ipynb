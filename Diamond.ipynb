{
 "cells": [
  {
   "cell_type": "markdown",
   "id": "16d1e5ab",
   "metadata": {},
   "source": [
    "# Instructions\n",
    "The diamond kata takes as its input a letter, and outputs it in a diamond shape. Given a letter, it prints a diamond starting with 'A', with the supplied letter at the widest point.\n",
    "\n",
    "## Requirements\n",
    "- The first row contains one 'A'.\n",
    "- The last row contains one 'A'.\n",
    "- All rows, except the first and last, have exactly two identical letters.\n",
    "- All rows have as many trailing spaces as leading spaces. (This might be 0).\n",
    "- The diamond is horizontally symmetric.\n",
    "- The diamond is vertically symmetric.\n",
    "- The diamond has a square shape (width equals height).\n",
    "- The letters form a diamond shape.\n",
    "- The top half has the letters in ascending order.\n",
    "- The bottom half has the letters in descending order.\n",
    "- The four corners (containing the spaces) are triangles.\n",
    "\n",
    "### Examples\n",
    "In the following examples, spaces are indicated by · characters.\n",
    "\n",
    "Diamond for letter 'A':\n",
    "```\n",
    "A\n",
    "```\n",
    "Diamond for letter 'C':\n",
    "```\n",
    "··A··\n",
    "·B·B·\n",
    "C···C\n",
    "·B·B·\n",
    "··A··\n",
    "```\n",
    "Diamond for letter 'E':\n",
    "```\n",
    "····A····\n",
    "···B·B···\n",
    "··C···C··\n",
    "·D·····D·\n",
    "E·······E\n",
    "·D·····D·\n",
    "··C···C··\n",
    "···B·B···\n",
    "····A····\n",
    "```"
   ]
  },
  {
   "cell_type": "code",
   "execution_count": 71,
   "id": "1d3c5057",
   "metadata": {},
   "outputs": [],
   "source": [
    "def rows(letter):\n",
    "    \n",
    "    alpha = 'ABCDEFGHIJKLMNOPQRSTUVWXYZ'    \n",
    "    d = {alpha[i]: i+1 for i in range(26)}\n",
    "    n = d[letter]\n",
    "    \n",
    "    result = []\n",
    "    \n",
    "    total_width = 2*n-1\n",
    "    \n",
    "    for i in range(1,n+1):\n",
    "        ch = chr(64+i)\n",
    "        if i == 1:\n",
    "            row = ch\n",
    "        else:\n",
    "            inner_spaces = ' ' * (i*2-3)\n",
    "            row = ch+inner_spaces+ch   \n",
    "        row = row.center(total_width)\n",
    "        result.append(row)\n",
    "        \n",
    "    bottom = result[:-1][::-1]\n",
    "    result.extend(bottom)\n",
    "        \n",
    "    return result"
   ]
  },
  {
   "cell_type": "code",
   "execution_count": 72,
   "id": "dcce7b26",
   "metadata": {},
   "outputs": [
    {
     "data": {
      "text/plain": [
       "['  A  ', ' B B ', 'C   C', ' B B ', '  A  ']"
      ]
     },
     "execution_count": 72,
     "metadata": {},
     "output_type": "execute_result"
    }
   ],
   "source": [
    "rows('C')"
   ]
  },
  {
   "cell_type": "code",
   "execution_count": 73,
   "id": "9b1e48d4",
   "metadata": {},
   "outputs": [
    {
     "data": {
      "text/plain": [
       "['    A    ',\n",
       " '   B B   ',\n",
       " '  C   C  ',\n",
       " ' D     D ',\n",
       " 'E       E',\n",
       " ' D     D ',\n",
       " '  C   C  ',\n",
       " '   B B   ',\n",
       " '    A    ']"
      ]
     },
     "execution_count": 73,
     "metadata": {},
     "output_type": "execute_result"
    }
   ],
   "source": [
    "rows('E')"
   ]
  },
  {
   "cell_type": "code",
   "execution_count": 74,
   "id": "79096f7f",
   "metadata": {},
   "outputs": [
    {
     "data": {
      "text/plain": [
       "['      A      ',\n",
       " '     B B     ',\n",
       " '    C   C    ',\n",
       " '   D     D   ',\n",
       " '  E       E  ',\n",
       " ' F         F ',\n",
       " 'G           G',\n",
       " ' F         F ',\n",
       " '  E       E  ',\n",
       " '   D     D   ',\n",
       " '    C   C    ',\n",
       " '     B B     ',\n",
       " '      A      ']"
      ]
     },
     "execution_count": 74,
     "metadata": {},
     "output_type": "execute_result"
    }
   ],
   "source": [
    "rows('G')"
   ]
  },
  {
   "cell_type": "code",
   "execution_count": 64,
   "id": "b0c168d0",
   "metadata": {},
   "outputs": [
    {
     "data": {
      "text/plain": [
       "['A']"
      ]
     },
     "execution_count": 64,
     "metadata": {},
     "output_type": "execute_result"
    }
   ],
   "source": [
    "rows('A')"
   ]
  },
  {
   "cell_type": "markdown",
   "id": "1e4a46b8",
   "metadata": {},
   "source": [
    "# Alternative"
   ]
  },
  {
   "cell_type": "code",
   "execution_count": 82,
   "id": "4f2e548f",
   "metadata": {},
   "outputs": [],
   "source": [
    "def rows2(letter):\n",
    "    \n",
    "    alpha = 'ABCDEFGHIJKLMNOPQRSTUVWXYZ'\n",
    "    d = {alpha[num]: num+1 for num in range(26)} \n",
    "    n = d[letter]\n",
    "    \n",
    "    result = []\n",
    "    \n",
    "    \n",
    "    for i in range(1,n+1):\n",
    "        inner_spaces = \" \"*(i*2-3)\n",
    "        outer_spaces = \" \"*(n-i)\n",
    "        ch = chr(64+i)\n",
    "        if i == 1:\n",
    "            row = outer_spaces+ch+outer_spaces\n",
    "        else:\n",
    "            row = outer_spaces+ch+inner_spaces+ch+outer_spaces   \n",
    "        result.append(row)\n",
    "        \n",
    "    bottom = result[:-1][::-1]\n",
    "    result.extend(bottom)\n",
    "        \n",
    "    return result"
   ]
  },
  {
   "cell_type": "code",
   "execution_count": 83,
   "id": "711ccd34",
   "metadata": {},
   "outputs": [
    {
     "data": {
      "text/plain": [
       "['      A      ',\n",
       " '     B B     ',\n",
       " '    C   C    ',\n",
       " '   D     D   ',\n",
       " '  E       E  ',\n",
       " ' F         F ',\n",
       " 'G           G',\n",
       " ' F         F ',\n",
       " '  E       E  ',\n",
       " '   D     D   ',\n",
       " '    C   C    ',\n",
       " '     B B     ',\n",
       " '      A      ']"
      ]
     },
     "execution_count": 83,
     "metadata": {},
     "output_type": "execute_result"
    }
   ],
   "source": [
    "rows2('G')"
   ]
  },
  {
   "cell_type": "code",
   "execution_count": null,
   "id": "ba66cd84",
   "metadata": {},
   "outputs": [],
   "source": []
  }
 ],
 "metadata": {
  "kernelspec": {
   "display_name": "Python 3 (ipykernel)",
   "language": "python",
   "name": "python3"
  },
  "language_info": {
   "codemirror_mode": {
    "name": "ipython",
    "version": 3
   },
   "file_extension": ".py",
   "mimetype": "text/x-python",
   "name": "python",
   "nbconvert_exporter": "python",
   "pygments_lexer": "ipython3",
   "version": "3.9.7"
  }
 },
 "nbformat": 4,
 "nbformat_minor": 5
}
