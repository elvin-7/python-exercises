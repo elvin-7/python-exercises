{
 "cells": [
  {
   "cell_type": "markdown",
   "id": "0c959659",
   "metadata": {},
   "source": [
    "# Instructions\n",
    "Ellen is making a game where the player has to fight aliens. She has just learned about Object Oriented Programming (OOP) and is eager to take advantage of what using classes could offer her program.\n",
    "\n",
    "To Ellen's delight, you have offered to help and she has given you the task of programming the aliens that the player has to fight."
   ]
  },
  {
   "cell_type": "markdown",
   "id": "6f886139",
   "metadata": {},
   "source": [
    "## Task 1. Create the Alien Class\n",
    "Define the Alien class with a constructor that accepts two parameters x_coordinate and y_coordinate, putting them into x_coordinate and y_coordinate instance variables. Every alien will also start off with a health level of 3, so the health variable should be initialized as well."
   ]
  },
  {
   "cell_type": "code",
   "execution_count": 1,
   "id": "bd3b625e",
   "metadata": {},
   "outputs": [],
   "source": [
    "class Alien:\n",
    "    \"\"\"Create an Alien object with location x_coordinate and y_coordinate.\n",
    "\n",
    "    Attributes\n",
    "    ----------\n",
    "    (class)total_aliens_created: int\n",
    "    x_coordinate: int - Position on the x-axis.\n",
    "    y_coordinate: int - Position on the y-axis.\n",
    "    health: int - Number of health points.\n",
    "\n",
    "    Methods\n",
    "    -------\n",
    "    hit(): Decrement Alien health by one point.\n",
    "    is_alive(): Return a boolean for if Alien is alive (if health is > 0).\n",
    "    teleport(new_x_coordinate, new_y_coordinate): Move Alien object to new coordinates.\n",
    "    collision_detection(other): Implementation TBD.\n",
    "    \"\"\"\n",
    "\n",
    "    \n",
    "    total_aliens_created = 0\n",
    "    \n",
    "    def __init__(self,x_coordinate,y_coordinate):\n",
    "        \n",
    "        self.x_coordinate = x_coordinate\n",
    "        self.y_coordinate = y_coordinate\n",
    "        self.health = 3\n",
    "        Alien.total_aliens_created += 1\n",
    "        \n",
    "    def hit(self):\n",
    "        self.health -= 1\n",
    "        \n",
    "    def is_alive(self):\n",
    "        return self.health > 0:\n",
    "        \n",
    "    def teleport(self,x_coordinate,y_coordinate):\n",
    "        self.x_coordinate = x_coordinate\n",
    "        self.y_coordinate = y_coordinate\n",
    "        \n",
    "    def collision_detection(self,other_object):\n",
    "        pass"
   ]
  },
  {
   "cell_type": "code",
   "execution_count": 2,
   "id": "3866051e",
   "metadata": {},
   "outputs": [
    {
     "name": "stdout",
     "output_type": "stream",
     "text": [
      "2\n",
      "0\n",
      "3\n"
     ]
    }
   ],
   "source": [
    "alien = Alien(2,0)\n",
    "print(alien.x_coordinate)\n",
    "print(alien.y_coordinate)\n",
    "print(alien.health)"
   ]
  },
  {
   "cell_type": "markdown",
   "id": "b01d023b",
   "metadata": {},
   "source": [
    "## Task 2. The hit Method\n",
    "\n",
    "Ellen would like the Alien class to have a hit method that decrements the health of an alien object by 1 when called. This way, she can simply call alien.hit() instead of having to manually change an alien's health. It is up to you if hit() takes healths points to or below zero."
   ]
  },
  {
   "cell_type": "code",
   "execution_count": 3,
   "id": "8e79bde3",
   "metadata": {},
   "outputs": [
    {
     "name": "stdout",
     "output_type": "stream",
     "text": [
      "3\n",
      "0\n"
     ]
    }
   ],
   "source": [
    "alien = Alien(0,0)\n",
    "print(alien.health)\n",
    "alien.hit()\n",
    "alien.hit()\n",
    "alien.hit()\n",
    "print(alien.health)"
   ]
  },
  {
   "cell_type": "markdown",
   "id": "12bb6b7b",
   "metadata": {},
   "source": [
    "## Task 3. The is_alive Method\n",
    "\n",
    "You realize that if the health keeps decreasing, at some point it will probably hit 0 (or even less!). It would be a good idea to add an is_alive method that Ellen can quickly call to check if the alien is... well... alive. 😉 alien.is_alive() should return a boolean."
   ]
  },
  {
   "cell_type": "code",
   "execution_count": null,
   "id": "1561689a",
   "metadata": {},
   "outputs": [],
   "source": [
    "print(alien.is_alive())\n",
    "print(alien.health)\n",
    "alien.hit()\n",
    "alien.hit()\n",
    "print(alien.health)\n",
    "print(alien.is_alive())"
   ]
  },
  {
   "cell_type": "markdown",
   "id": "0b497a53",
   "metadata": {},
   "source": [
    "## Task 4. The teleport Method\n",
    "\n",
    "In Ellen's game, the aliens have the ability to teleport! You will need to write a teleport method that takes new x_coordinate and y_coordinate values, and changes the alien's coordinates accordingly."
   ]
  },
  {
   "cell_type": "code",
   "execution_count": null,
   "id": "046b3399",
   "metadata": {},
   "outputs": [],
   "source": [
    "alien = Alien(2,0)\n",
    "alien.teleport(5, -4)\n",
    "print(alien.x_coordinate)\n",
    "print(alien.y_coordinate)"
   ]
  },
  {
   "cell_type": "markdown",
   "id": "b9690323",
   "metadata": {},
   "source": [
    "## Task 5. The collision_detection Method\n",
    "\n",
    "Obviously, if the aliens can be hit by something, then they need to be able to detect when such a collision has occurred. However, collision detection algorithms can be tricky, and you do not yet know how to implement one. Ellen has said that she will do it later, but she would still like the collision_detection method to appear in the class as a reminder to build out the functionality. It will need to take a variable of some kind (probably another object), but that's really all you know. You will need to make sure that putting the method definition into the class doesn't cause any errors when called:"
   ]
  },
  {
   "cell_type": "code",
   "execution_count": null,
   "id": "7392b387",
   "metadata": {},
   "outputs": [],
   "source": [
    "alien = Alien(2,0)\n",
    "alien.collision_detection(9)"
   ]
  },
  {
   "cell_type": "markdown",
   "id": "f0cfe261",
   "metadata": {},
   "source": [
    "## Task 6. Alien Counter\n",
    "\n",
    "Ellen has come back with a new request for you. She wants to keep track of how many aliens have been created over the game's lifetime. She says that it's got something to do with the scoring system.\n"
   ]
  },
  {
   "cell_type": "code",
   "execution_count": null,
   "id": "ffae336a",
   "metadata": {},
   "outputs": [],
   "source": [
    "alien_one = Alien(5,1)\n",
    "print(alien_one.total_aliens_created)\n",
    "alien_two = Alien(3,0)\n",
    "print(alien_two.total_aliens_created)\n",
    "print(alien_one.total_aliens_created)\n",
    "print(Alien.total_aliens_created)"
   ]
  },
  {
   "cell_type": "markdown",
   "id": "153ceeca",
   "metadata": {},
   "source": [
    "## Task 7. Creating a List of Aliens\n",
    "\n",
    "Ellen loves what you've done so far, but she has one more favor to ask. She would like a standalone (outside the Alien() class) function that creates a list of Alien() objects, given a list of positions (as tuples)."
   ]
  },
  {
   "cell_type": "code",
   "execution_count": 4,
   "id": "9485ec19",
   "metadata": {},
   "outputs": [],
   "source": [
    "def new_alien_collection(start_positions):\n",
    "    alien_list = []\n",
    "    for position in start_positions:\n",
    "        alien_list.append(Alien(position[0],position[1]))\n",
    "    return alien_list"
   ]
  },
  {
   "cell_type": "code",
   "execution_count": null,
   "id": "640ca09e",
   "metadata": {},
   "outputs": [],
   "source": []
  }
 ],
 "metadata": {
  "kernelspec": {
   "display_name": "Python 3 (ipykernel)",
   "language": "python",
   "name": "python3"
  },
  "language_info": {
   "codemirror_mode": {
    "name": "ipython",
    "version": 3
   },
   "file_extension": ".py",
   "mimetype": "text/x-python",
   "name": "python",
   "nbconvert_exporter": "python",
   "pygments_lexer": "ipython3",
   "version": "3.9.7"
  }
 },
 "nbformat": 4,
 "nbformat_minor": 5
}
