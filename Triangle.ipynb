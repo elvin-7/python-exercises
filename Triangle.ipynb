{
 "cells": [
  {
   "cell_type": "markdown",
   "id": "3b09b071",
   "metadata": {},
   "source": [
    "# Instructions\n",
    "\n",
    "Instructions\n",
    "Determine if a triangle is equilateral, isosceles, or scalene.\n",
    "\n",
    "An equilateral triangle has all three sides the same length.\n",
    "\n",
    "An isosceles triangle has at least two sides the same length. (It is sometimes specified as having exactly two sides the same length, but for the purposes of this exercise we'll say at least two.)\n",
    "\n",
    "A scalene triangle has all sides of different lengths.\n",
    "\n",
    "## Note\n",
    "For a shape to be a triangle at all, all sides have to be of length > 0, and the sum of the lengths of any two sides must be greater than or equal to the length of the third side.\n",
    "\n",
    "In equations:\n",
    "\n",
    "Let a, b, and c be sides of the triangle. Then all three of the following expressions must be true:\n",
    "\n",
    "- a + b ≥ c\n",
    "- b + c ≥ a\n",
    "- a + c ≥ b"
   ]
  },
  {
   "cell_type": "code",
   "execution_count": 51,
   "id": "24dab200",
   "metadata": {},
   "outputs": [],
   "source": [
    "def equilateral(sides):\n",
    "    cond1 = all(side != 0 for side in sides)\n",
    "    cond2 = sides[0]+sides[1] >= sides[2] and sides[0]+sides[2] >= sides[1] and sides[2]+sides[1] >= sides[0]\n",
    "    cond3 = sides[0]==sides[1]==sides[2]\n",
    "    return cond1 == cond2 == cond3\n"
   ]
  },
  {
   "cell_type": "code",
   "execution_count": 54,
   "id": "bbe3e17b",
   "metadata": {},
   "outputs": [
    {
     "data": {
      "text/plain": [
       "False"
      ]
     },
     "execution_count": 54,
     "metadata": {},
     "output_type": "execute_result"
    }
   ],
   "source": [
    "equilateral([2,1,1])"
   ]
  },
  {
   "cell_type": "code",
   "execution_count": 78,
   "id": "e7e0635f",
   "metadata": {},
   "outputs": [],
   "source": [
    "def isosceles(sides):\n",
    "    cond1 = all(side != 0 for side in sides)\n",
    "    cond2 = sides[0]+sides[1] >= sides[2] and sides[0]+sides[2] >= sides[1] and sides[2]+sides[1] >= sides[0]\n",
    "    cond3 = sides[0]==sides[1] or sides[1]==sides[2] or sides[0]==sides[2]\n",
    "    return cond1 == cond2 == cond3"
   ]
  },
  {
   "cell_type": "code",
   "execution_count": 79,
   "id": "9aaed893",
   "metadata": {},
   "outputs": [
    {
     "data": {
      "text/plain": [
       "True"
      ]
     },
     "execution_count": 79,
     "metadata": {},
     "output_type": "execute_result"
    }
   ],
   "source": [
    "isosceles([11,11,11])"
   ]
  },
  {
   "cell_type": "code",
   "execution_count": 65,
   "id": "39c2228b",
   "metadata": {},
   "outputs": [],
   "source": [
    "def scalene(sides):\n",
    "    cond1 = all(side != 0 for side in sides)\n",
    "    cond2 = sides[0]+sides[1] >= sides[2] and sides[0]+sides[2] >= sides[1] and sides[2]+sides[1] >= sides[0]\n",
    "    cond3 = sides[0]!=sides[1]!=sides[2]!=sides[0]\n",
    "    return cond1 == cond2 == cond3"
   ]
  },
  {
   "cell_type": "code",
   "execution_count": 77,
   "id": "36ee53eb",
   "metadata": {},
   "outputs": [
    {
     "data": {
      "text/plain": [
       "False"
      ]
     },
     "execution_count": 77,
     "metadata": {},
     "output_type": "execute_result"
    }
   ],
   "source": [
    "scalene([111,1,2])"
   ]
  },
  {
   "cell_type": "code",
   "execution_count": null,
   "id": "fd484f93",
   "metadata": {},
   "outputs": [],
   "source": []
  }
 ],
 "metadata": {
  "kernelspec": {
   "display_name": "Python 3 (ipykernel)",
   "language": "python",
   "name": "python3"
  },
  "language_info": {
   "codemirror_mode": {
    "name": "ipython",
    "version": 3
   },
   "file_extension": ".py",
   "mimetype": "text/x-python",
   "name": "python",
   "nbconvert_exporter": "python",
   "pygments_lexer": "ipython3",
   "version": "3.9.7"
  }
 },
 "nbformat": 4,
 "nbformat_minor": 5
}
