{
 "cells": [
  {
   "cell_type": "markdown",
   "id": "114c9cb1",
   "metadata": {},
   "source": [
    "# Instructions\n",
    "Given any two lists A and B, determine if:\n",
    "\n",
    "- List A is equal to list B; or\n",
    "- List A contains list B (A is a superlist of B); or\n",
    "- List A is contained by list B (A is a sublist of B); or\n",
    "- None of the above is true, thus lists A and B are unequal\n",
    "\n",
    "Specifically, list A is equal to list B if both lists have the same values in the same order. List A is a superlist of B if A contains a contiguous sub-sequence of values equal to B. List A is a sublist of B if B contains a contiguous sub-sequence of values equal to A.\n",
    "\n",
    "Examples:\n",
    "\n",
    "- If A = [] and B = [] (both lists are empty), then A and B are equal\n",
    "- If A = [1, 2, 3] and B = [], then A is a superlist of B\n",
    "- If A = [] and B = [1, 2, 3], then A is a sublist of B\n",
    "- If A = [1, 2, 3] and B = [1, 2, 3, 4, 5], then A is a sublist of B\n",
    "- If A = [3, 4, 5] and B = [1, 2, 3, 4, 5], then A is a sublist of B\n",
    "- If A = [3, 4] and B = [1, 2, 3, 4, 5], then A is a sublist of B\n",
    "- If A = [1, 2, 3] and B = [1, 2, 3], then A and B are equal\n",
    "- If A = [1, 2, 3, 4, 5] and B = [2, 3, 4], then A is a superlist of B\n",
    "- If A = [1, 2, 4] and B = [1, 2, 3, 4, 5], then A and B are unequal\n",
    "- If A = [1, 2, 3] and B = [1, 3, 2], then A and B are unequal"
   ]
  },
  {
   "cell_type": "code",
   "execution_count": 118,
   "id": "6e0e5f27",
   "metadata": {},
   "outputs": [],
   "source": [
    "\"\"\"\n",
    "This exercise stub and the test suite contain several enumerated constants.\n",
    "\n",
    "Enumerated constants can be done with a NAME assigned to an arbitrary,\n",
    "but unique value. An integer is traditionally used because it’s memory\n",
    "efficient.\n",
    "It is a common practice to export both constants and functions that work with\n",
    "those constants (ex. the constants in the os, subprocess and re modules).\n",
    "\n",
    "You can learn more here: https://en.wikipedia.org/wiki/Enumerated_type\n",
    "\"\"\"\n",
    "\n",
    "# Possible sublist categories.\n",
    "# Change the values as you see fit.\n",
    "SUBLIST = 'SUBLIST'\n",
    "SUPERLIST = 'SUPERLIST'\n",
    "EQUAL = 'EQUAL'\n",
    "UNEQUAL = 'UNEQUAL'\n",
    "\n",
    "\n",
    "def sublist(list_one, list_two):\n",
    "    \n",
    "    m,n = len(list_one),len(list_two)\n",
    "    \n",
    "    if list_one == list_two:\n",
    "        return 'EQUAL'\n",
    "    \n",
    "    if list_two == [] and list_one != []:\n",
    "        return 'SUPERLIST'\n",
    "    \n",
    "    if list_one == [] and list_two != []:\n",
    "        return 'SUBLIST'\n",
    "    \n",
    "    if m>n:\n",
    "        for i in range(m):\n",
    "            if list_one[i:i+n] == list_two:\n",
    "                return 'SUPERLIST'\n",
    "    \n",
    "    elif n>m:\n",
    "        for i in range(n):\n",
    "            if list_two[i:i+m] == list_one:\n",
    "                return 'SUBLIST'\n",
    "            \n",
    "    return 'UNEQUAL'"
   ]
  },
  {
   "cell_type": "code",
   "execution_count": 119,
   "id": "e00d2bc8",
   "metadata": {},
   "outputs": [
    {
     "data": {
      "text/plain": [
       "'EQUAL'"
      ]
     },
     "execution_count": 119,
     "metadata": {},
     "output_type": "execute_result"
    }
   ],
   "source": [
    "sublist([], [])#EQUAL"
   ]
  },
  {
   "cell_type": "code",
   "execution_count": 120,
   "id": "cfc44901",
   "metadata": {},
   "outputs": [
    {
     "data": {
      "text/plain": [
       "'SUBLIST'"
      ]
     },
     "execution_count": 120,
     "metadata": {},
     "output_type": "execute_result"
    }
   ],
   "source": [
    "sublist([], [1, 2, 3])#SUBLIST"
   ]
  },
  {
   "cell_type": "code",
   "execution_count": 121,
   "id": "a8245c61",
   "metadata": {},
   "outputs": [
    {
     "data": {
      "text/plain": [
       "'SUPERLIST'"
      ]
     },
     "execution_count": 121,
     "metadata": {},
     "output_type": "execute_result"
    }
   ],
   "source": [
    "sublist([1, 2, 3], [])#SUPERLIST"
   ]
  },
  {
   "cell_type": "code",
   "execution_count": 122,
   "id": "a7e363a3",
   "metadata": {},
   "outputs": [
    {
     "data": {
      "text/plain": [
       "'EQUAL'"
      ]
     },
     "execution_count": 122,
     "metadata": {},
     "output_type": "execute_result"
    }
   ],
   "source": [
    "sublist([1, 2, 3], [1, 2, 3])#EQUAL"
   ]
  },
  {
   "cell_type": "code",
   "execution_count": 123,
   "id": "20751e6a",
   "metadata": {},
   "outputs": [
    {
     "data": {
      "text/plain": [
       "'UNEQUAL'"
      ]
     },
     "execution_count": 123,
     "metadata": {},
     "output_type": "execute_result"
    }
   ],
   "source": [
    "sublist([1, 2, 3], [2, 3, 4])#UNEQUAL"
   ]
  },
  {
   "cell_type": "code",
   "execution_count": 124,
   "id": "98d3ee0e",
   "metadata": {},
   "outputs": [
    {
     "data": {
      "text/plain": [
       "'SUBLIST'"
      ]
     },
     "execution_count": 124,
     "metadata": {},
     "output_type": "execute_result"
    }
   ],
   "source": [
    "sublist([1, 2, 5], [0, 1, 2, 3, 1, 2, 5, 6])#SUBLIST"
   ]
  },
  {
   "cell_type": "code",
   "execution_count": 125,
   "id": "13c958ca",
   "metadata": {},
   "outputs": [
    {
     "data": {
      "text/plain": [
       "'SUBLIST'"
      ]
     },
     "execution_count": 125,
     "metadata": {},
     "output_type": "execute_result"
    }
   ],
   "source": [
    "sublist([1, 1, 2], [0, 1, 1, 1, 2, 1, 2])#SUBLIST"
   ]
  },
  {
   "cell_type": "code",
   "execution_count": 126,
   "id": "55c34991",
   "metadata": {},
   "outputs": [
    {
     "data": {
      "text/plain": [
       "'SUBLIST'"
      ]
     },
     "execution_count": 126,
     "metadata": {},
     "output_type": "execute_result"
    }
   ],
   "source": [
    "sublist([0, 1, 2], [0, 1, 2, 3, 4, 5])#SUBLIST"
   ]
  },
  {
   "cell_type": "code",
   "execution_count": 127,
   "id": "814a8148",
   "metadata": {},
   "outputs": [
    {
     "data": {
      "text/plain": [
       "'SUBLIST'"
      ]
     },
     "execution_count": 127,
     "metadata": {},
     "output_type": "execute_result"
    }
   ],
   "source": [
    "sublist([2, 3, 4], [0, 1, 2, 3, 4, 5])#SUBLIST"
   ]
  },
  {
   "cell_type": "code",
   "execution_count": 128,
   "id": "e520e06f",
   "metadata": {},
   "outputs": [
    {
     "data": {
      "text/plain": [
       "'SUBLIST'"
      ]
     },
     "execution_count": 128,
     "metadata": {},
     "output_type": "execute_result"
    }
   ],
   "source": [
    "sublist([3, 4, 5], [0, 1, 2, 3, 4, 5])#SUBLIST"
   ]
  },
  {
   "cell_type": "code",
   "execution_count": 129,
   "id": "569e001a",
   "metadata": {},
   "outputs": [
    {
     "data": {
      "text/plain": [
       "'SUPERLIST'"
      ]
     },
     "execution_count": 129,
     "metadata": {},
     "output_type": "execute_result"
    }
   ],
   "source": [
    "sublist([0, 1, 2, 3, 4, 5], [0, 1, 2])#SUPERLIST"
   ]
  },
  {
   "cell_type": "code",
   "execution_count": 130,
   "id": "8435bbea",
   "metadata": {},
   "outputs": [
    {
     "data": {
      "text/plain": [
       "'SUPERLIST'"
      ]
     },
     "execution_count": 130,
     "metadata": {},
     "output_type": "execute_result"
    }
   ],
   "source": [
    "sublist([0, 1, 2, 3, 4, 5], [2, 3])#SUPERLIST"
   ]
  },
  {
   "cell_type": "code",
   "execution_count": 131,
   "id": "b76f9ce1",
   "metadata": {},
   "outputs": [
    {
     "data": {
      "text/plain": [
       "'SUPERLIST'"
      ]
     },
     "execution_count": 131,
     "metadata": {},
     "output_type": "execute_result"
    }
   ],
   "source": [
    "sublist([0, 1, 2, 3, 4, 5], [3, 4, 5])#SUPERLIST"
   ]
  },
  {
   "cell_type": "code",
   "execution_count": 132,
   "id": "f9e70c81",
   "metadata": {},
   "outputs": [
    {
     "data": {
      "text/plain": [
       "'UNEQUAL'"
      ]
     },
     "execution_count": 132,
     "metadata": {},
     "output_type": "execute_result"
    }
   ],
   "source": [
    "sublist([1, 3], [1, 2, 3])#UNEQUAL"
   ]
  },
  {
   "cell_type": "code",
   "execution_count": 133,
   "id": "957798cc",
   "metadata": {},
   "outputs": [
    {
     "data": {
      "text/plain": [
       "'UNEQUAL'"
      ]
     },
     "execution_count": 133,
     "metadata": {},
     "output_type": "execute_result"
    }
   ],
   "source": [
    "sublist([1, 2, 3], [1, 3])#UNEQUAL"
   ]
  },
  {
   "cell_type": "code",
   "execution_count": 134,
   "id": "fd16933f",
   "metadata": {},
   "outputs": [
    {
     "data": {
      "text/plain": [
       "'UNEQUAL'"
      ]
     },
     "execution_count": 134,
     "metadata": {},
     "output_type": "execute_result"
    }
   ],
   "source": [
    "sublist([1, 2], [1, 22])#UNEQUAL"
   ]
  },
  {
   "cell_type": "code",
   "execution_count": 135,
   "id": "a7aafdd8",
   "metadata": {},
   "outputs": [
    {
     "data": {
      "text/plain": [
       "'UNEQUAL'"
      ]
     },
     "execution_count": 135,
     "metadata": {},
     "output_type": "execute_result"
    }
   ],
   "source": [
    "sublist([1, 2, 3], [3, 2, 1])#UNEQUAL"
   ]
  },
  {
   "cell_type": "code",
   "execution_count": 136,
   "id": "c3695d51",
   "metadata": {},
   "outputs": [
    {
     "data": {
      "text/plain": [
       "'UNEQUAL'"
      ]
     },
     "execution_count": 136,
     "metadata": {},
     "output_type": "execute_result"
    }
   ],
   "source": [
    "sublist([1, 0, 1], [10, 1])#UNEQUAL"
   ]
  },
  {
   "cell_type": "code",
   "execution_count": 137,
   "id": "4bfe9800",
   "metadata": {},
   "outputs": [
    {
     "data": {
      "text/plain": [
       "4"
      ]
     },
     "execution_count": 137,
     "metadata": {},
     "output_type": "execute_result"
    }
   ],
   "source": [
    "len(set([SUBLIST, SUPERLIST, EQUAL, UNEQUAL]))# 4"
   ]
  },
  {
   "cell_type": "code",
   "execution_count": 138,
   "id": "14d60478",
   "metadata": {},
   "outputs": [
    {
     "data": {
      "text/plain": [
       "'UNEQUAL'"
      ]
     },
     "execution_count": 138,
     "metadata": {},
     "output_type": "execute_result"
    }
   ],
   "source": [
    "sublist([\"a c\"], [\"a\", \"c\"])#UNEQUAL"
   ]
  },
  {
   "cell_type": "code",
   "execution_count": 139,
   "id": "d2290698",
   "metadata": {},
   "outputs": [
    {
     "data": {
      "text/plain": [
       "'SUPERLIST'"
      ]
     },
     "execution_count": 139,
     "metadata": {},
     "output_type": "execute_result"
    }
   ],
   "source": [
    "sublist(\n",
    "                list(range(1000)) * 1000 + list(range(1000, 1100)),\n",
    "                list(range(900, 1050)),\n",
    "            )#SUPERLIST"
   ]
  },
  {
   "cell_type": "code",
   "execution_count": 140,
   "id": "39f58d8e",
   "metadata": {},
   "outputs": [
    {
     "data": {
      "text/plain": [
       "'UNEQUAL'"
      ]
     },
     "execution_count": 140,
     "metadata": {},
     "output_type": "execute_result"
    }
   ],
   "source": [
    " sublist(list(range(3, 200, 3)), list(range(15, 200, 15)))#UNEQUAL"
   ]
  },
  {
   "cell_type": "code",
   "execution_count": null,
   "id": "43c1c57a",
   "metadata": {},
   "outputs": [],
   "source": []
  }
 ],
 "metadata": {
  "kernelspec": {
   "display_name": "Python 3 (ipykernel)",
   "language": "python",
   "name": "python3"
  },
  "language_info": {
   "codemirror_mode": {
    "name": "ipython",
    "version": 3
   },
   "file_extension": ".py",
   "mimetype": "text/x-python",
   "name": "python",
   "nbconvert_exporter": "python",
   "pygments_lexer": "ipython3",
   "version": "3.9.7"
  }
 },
 "nbformat": 4,
 "nbformat_minor": 5
}
