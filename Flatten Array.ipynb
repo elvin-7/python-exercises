{
 "cells": [
  {
   "cell_type": "markdown",
   "id": "3c326dcc",
   "metadata": {},
   "source": [
    "# Instructions\n",
    "Take a nested list and return a single flattened list with all values except nil/null.\n",
    "\n",
    "The challenge is to take an arbitrarily-deep nested list-like structure and produce a flattened structure without any nil/null values.\n",
    "\n",
    "For example:\n",
    "\n",
    "input: [1,[2,3,null,4],[null],5]\n",
    "\n",
    "output: [1,2,3,4,5]"
   ]
  },
  {
   "cell_type": "code",
   "execution_count": 73,
   "id": "d6ae5c79",
   "metadata": {},
   "outputs": [],
   "source": [
    "def flatten(iterable):\n",
    "    flat_list = []\n",
    "    for i in iterable:\n",
    "        if type(i) is list:\n",
    "            flat_list.extend(flatten(i))\n",
    "        else:\n",
    "            flat_list.append(i)\n",
    "        \n",
    "    return [item for item in flat_list if item is not None]"
   ]
  },
  {
   "cell_type": "code",
   "execution_count": 74,
   "id": "cfab8ba2",
   "metadata": {},
   "outputs": [
    {
     "data": {
      "text/plain": [
       "[1, 2, 3, 4, 5]"
      ]
     },
     "execution_count": 74,
     "metadata": {},
     "output_type": "execute_result"
    }
   ],
   "source": [
    "flatten([1,[2,3,None,4],[None],5])"
   ]
  },
  {
   "cell_type": "code",
   "execution_count": 75,
   "id": "c01a7601",
   "metadata": {},
   "outputs": [
    {
     "data": {
      "text/plain": [
       "[]"
      ]
     },
     "execution_count": 75,
     "metadata": {},
     "output_type": "execute_result"
    }
   ],
   "source": [
    "flatten([[[]]])"
   ]
  },
  {
   "cell_type": "code",
   "execution_count": 76,
   "id": "32f45266",
   "metadata": {},
   "outputs": [],
   "source": [
    "def flatten2(iterable):\n",
    "    return [item for i in iterable for item in (flatten(i) if isinstance(i, list) else [i]) if item is not None]"
   ]
  },
  {
   "cell_type": "code",
   "execution_count": 77,
   "id": "94c80eba",
   "metadata": {},
   "outputs": [
    {
     "data": {
      "text/plain": [
       "[1, 2, 3, 4, 5]"
      ]
     },
     "execution_count": 77,
     "metadata": {},
     "output_type": "execute_result"
    }
   ],
   "source": [
    "flatten2([1,[2,3,None,4],[None],5])"
   ]
  },
  {
   "cell_type": "code",
   "execution_count": 78,
   "id": "e94822f3",
   "metadata": {},
   "outputs": [
    {
     "data": {
      "text/plain": [
       "[]"
      ]
     },
     "execution_count": 78,
     "metadata": {},
     "output_type": "execute_result"
    }
   ],
   "source": [
    "flatten2([[[]]])"
   ]
  },
  {
   "cell_type": "code",
   "execution_count": null,
   "id": "f8225984",
   "metadata": {},
   "outputs": [],
   "source": []
  }
 ],
 "metadata": {
  "kernelspec": {
   "display_name": "Python 3 (ipykernel)",
   "language": "python",
   "name": "python3"
  },
  "language_info": {
   "codemirror_mode": {
    "name": "ipython",
    "version": 3
   },
   "file_extension": ".py",
   "mimetype": "text/x-python",
   "name": "python",
   "nbconvert_exporter": "python",
   "pygments_lexer": "ipython3",
   "version": "3.9.7"
  }
 },
 "nbformat": 4,
 "nbformat_minor": 5
}
