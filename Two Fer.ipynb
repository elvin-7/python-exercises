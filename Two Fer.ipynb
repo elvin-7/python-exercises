{
 "cells": [
  {
   "cell_type": "markdown",
   "id": "56b31d2b",
   "metadata": {},
   "source": [
    "# Introduction\n",
    "In some English accents, when you say \"two for\" quickly, it sounds like \"two fer\". Two-for-one is a way of saying that if you buy one, you also get one for free. So the phrase \"two-fer\" often implies a two-for-one offer.\n",
    "\n",
    "Imagine a bakery that has a holiday offer where you can buy two cookies for the price of one (\"two-fer one!\"). You take the offer and (very generously) decide to give the extra cookie to someone else in the queue.\n",
    "\n",
    "## Instructions\n",
    "Your task is to determine what you will say as you give away the extra cookie.\n",
    "\n",
    "If you know the person's name (e.g. if they're named Do-yun), then you will say:\n",
    "\n",
    "One for Do-yun, one for me.\n",
    "If you don't know the person's name, you will say you instead.\n",
    "\n",
    "One for you, one for me.\n",
    "Here are some examples:\n",
    "\n",
    "Name|\tDialogue\n",
    "----|---------------\n",
    "Alice|\tOne for Alice, one for me.\n",
    "Bohdan|\tOne for Bohdan, one for me.\n",
    "|One for you, one for me.\n",
    "Zaphod|\tOne for Zaphod, one for me.\n"
   ]
  },
  {
   "cell_type": "code",
   "execution_count": 1,
   "id": "3274c279",
   "metadata": {},
   "outputs": [],
   "source": [
    "def two_fer(name='you'):\n",
    "    return f'One for {name}, one for me.'"
   ]
  },
  {
   "cell_type": "code",
   "execution_count": 2,
   "id": "1025a7bd",
   "metadata": {},
   "outputs": [
    {
     "data": {
      "text/plain": [
       "'One for you, one for me.'"
      ]
     },
     "execution_count": 2,
     "metadata": {},
     "output_type": "execute_result"
    }
   ],
   "source": [
    "two_fer()"
   ]
  },
  {
   "cell_type": "code",
   "execution_count": 3,
   "id": "2af8b861",
   "metadata": {},
   "outputs": [
    {
     "data": {
      "text/plain": [
       "'One for John, one for me.'"
      ]
     },
     "execution_count": 3,
     "metadata": {},
     "output_type": "execute_result"
    }
   ],
   "source": [
    "two_fer('John')"
   ]
  },
  {
   "cell_type": "code",
   "execution_count": null,
   "id": "ed180466",
   "metadata": {},
   "outputs": [],
   "source": []
  }
 ],
 "metadata": {
  "kernelspec": {
   "display_name": "Python 3 (ipykernel)",
   "language": "python",
   "name": "python3"
  },
  "language_info": {
   "codemirror_mode": {
    "name": "ipython",
    "version": 3
   },
   "file_extension": ".py",
   "mimetype": "text/x-python",
   "name": "python",
   "nbconvert_exporter": "python",
   "pygments_lexer": "ipython3",
   "version": "3.9.7"
  }
 },
 "nbformat": 4,
 "nbformat_minor": 5
}
