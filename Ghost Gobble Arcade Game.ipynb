{
 "cells": [
  {
   "cell_type": "markdown",
   "id": "3ed30f81",
   "metadata": {},
   "source": [
    "# Ghost Gobble Arcade Game"
   ]
  },
  {
   "cell_type": "markdown",
   "id": "8b5a45f5",
   "metadata": {},
   "source": [
    "## Instructions\n",
    "\n",
    "In this exercise, you need to implement some rules from Pac-Man, the classic 1980s-era arcade-game.\n",
    "\n",
    "You have four rules to implement, all related to the game states.\n",
    "\n",
    "Do not worry about how the arguments are derived, just focus on combining the arguments to return the intended result."
   ]
  },
  {
   "cell_type": "markdown",
   "id": "4ad7b4f8",
   "metadata": {},
   "source": [
    "### 1. Define if Pac-Man eats a ghost\n",
    "\n",
    "Define the eat_ghost() function that takes two parameters (if Pac-Man has a power pellet active and if Pac-Man is touching a ghost) and returns a Boolean value if Pac-Man is able to eat a ghost. The function should return True only if Pac-Man has a power pellet active and is touching a ghost."
   ]
  },
  {
   "cell_type": "code",
   "execution_count": 1,
   "id": "774996ee",
   "metadata": {},
   "outputs": [],
   "source": [
    "def eat_ghost(power_pellet_active, touching_ghost):\n",
    "    \"\"\"Verify that Pac-Man can eat a ghost if he is empowered by a power pellet.\n",
    "\n",
    "    :param power_pellet_active: bool - does the player have an active power pellet?\n",
    "    :param touching_ghost: bool - is the player touching a ghost?\n",
    "    :return: bool - can a ghost be eaten?\n",
    "    \"\"\"\n",
    "    return power_pellet_active and touching_ghost"
   ]
  },
  {
   "cell_type": "markdown",
   "id": "452f96c3",
   "metadata": {},
   "source": [
    "### 2. Define if Pac-Man scores\n",
    "\n",
    "Define the score() function that takes two parameters (if Pac-Man is touching a power pellet and if Pac-Man is touching a dot) and returns a Boolean value if Pac-Man scored. The function should return True if Pac-Man is touching a power pellet or a dot."
   ]
  },
  {
   "cell_type": "code",
   "execution_count": 8,
   "id": "76356265",
   "metadata": {},
   "outputs": [],
   "source": [
    "def score(touching_power_pellet,touching_dot):\n",
    "    \"\"\"Verify that Pac-Man has scored when a power pellet or dot has been eaten.\n",
    "\n",
    "    :param touching_power_pellet: bool - is the player touching a power pellet?\n",
    "    :param touching_dot: bool - is the player touching a dot?\n",
    "    :return: bool - has the player scored or not?\n",
    "    \"\"\"\n",
    "    return touching_power_pellet or touching_dot"
   ]
  },
  {
   "cell_type": "markdown",
   "id": "1c7ebbc4",
   "metadata": {},
   "source": [
    "### 3. Define if Pac-Man loses\n",
    "\n",
    "Define the lose() function that takes two parameters (if Pac-Man has a power pellet active and if Pac-Man is touching a ghost) and returns a Boolean value if Pac-Man loses. The function should return True if Pac-Man is touching a ghost and does not have a power pellet active."
   ]
  },
  {
   "cell_type": "code",
   "execution_count": 11,
   "id": "f4e1a66e",
   "metadata": {},
   "outputs": [],
   "source": [
    "def lose(power_pellet_active,touching_ghost):\n",
    "    \"\"\"Trigger the game loop to end (GAME OVER) when Pac-Man touches a ghost without his power pellet.\n",
    "\n",
    "    :param power_pellet_active: bool - does the player have an active power pellet?\n",
    "    :param touching_ghost: bool - is the player touching a ghost?\n",
    "    :return: bool - has the player lost the game?\n",
    "    \"\"\"  \n",
    "        \n",
    "    return not power_pellet_active and touching_ghost"
   ]
  },
  {
   "cell_type": "markdown",
   "id": "a4cfff60",
   "metadata": {},
   "source": [
    "### 4. Define if Pac-Man wins\n",
    "\n",
    "Define the win() function that takes three parameters (if Pac-Man has eaten all of the dots, if Pac-Man has a power pellet active, and if Pac-Man is touching a ghost) and returns a Boolean value if Pac-Man wins. The function should return True if Pac-Man has eaten all of the dots and has not lost based on the parameters defined in part 3."
   ]
  },
  {
   "cell_type": "code",
   "execution_count": 20,
   "id": "83f7b1ed",
   "metadata": {},
   "outputs": [],
   "source": [
    "def win(eaten_all_dots,power_pellet_active,touching_ghost):\n",
    "    \"\"\"Trigger the victory event when all dots have been eaten.\n",
    "\n",
    "    :param has_eaten_all_dots: bool - has the player \"eaten\" all the dots?\n",
    "    :param power_pellet_active: bool - does the player have an active power pellet?\n",
    "    :param touching_ghost: bool - is the player touching a ghost?\n",
    "    :return: bool - has the player won the game?\n",
    "    \"\"\"\n",
    "    \n",
    "    \n",
    "    \n",
    "    return eaten_all_dots and not(not power_pellet_active and touching_ghost)"
   ]
  },
  {
   "cell_type": "code",
   "execution_count": null,
   "id": "904b1584",
   "metadata": {},
   "outputs": [],
   "source": []
  }
 ],
 "metadata": {
  "kernelspec": {
   "display_name": "Python 3 (ipykernel)",
   "language": "python",
   "name": "python3"
  },
  "language_info": {
   "codemirror_mode": {
    "name": "ipython",
    "version": 3
   },
   "file_extension": ".py",
   "mimetype": "text/x-python",
   "name": "python",
   "nbconvert_exporter": "python",
   "pygments_lexer": "ipython3",
   "version": "3.9.7"
  }
 },
 "nbformat": 4,
 "nbformat_minor": 5
}
