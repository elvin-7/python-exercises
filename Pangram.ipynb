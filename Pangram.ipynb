{
 "cells": [
  {
   "cell_type": "markdown",
   "id": "e311b025",
   "metadata": {},
   "source": [
    "# Introduction\n",
    "You work for a company that sells fonts through their website. They'd like to show a different sentence each time someone views a font on their website. To give a comprehensive sense of the font, the random sentences should use all the letters in the English alphabet.\n",
    "\n",
    "They're running a competition to get suggestions for sentences that they can use. You're in charge of checking the submissions to see if they are valid.\n",
    "\n",
    "#### Note\n",
    "Pangram comes from Greek, παν γράμμα, pan gramma, which means \"every letter\".\n",
    "\n",
    "The best known English pangram is:\n",
    ">The quick brown fox jumps over the lazy dog.\n",
    "\n",
    "## Instructions\n",
    "Your task is to figure out if a sentence is a pangram.\n",
    "\n",
    "A pangram is a sentence using every letter of the alphabet at least once. It is case insensitive, so it doesn't matter if a letter is lower-case (e.g. k) or upper-case (e.g. K).\n",
    "\n",
    "For this exercise, a sentence is a pangram if it contains each of the 26 letters in the English alphabet."
   ]
  },
  {
   "cell_type": "code",
   "execution_count": 8,
   "id": "07d0c22e",
   "metadata": {},
   "outputs": [],
   "source": [
    "def is_pangram(sentence):\n",
    "    alphabets = {'a','b','c','d','e','f','g','h','i','j','k','l','m','n','o','p','q','r','s','t','u','v','w','x','y','z'}\n",
    "    return alphabets.issubset(set(sentence.lower()))"
   ]
  },
  {
   "cell_type": "code",
   "execution_count": 11,
   "id": "ec1aae66",
   "metadata": {},
   "outputs": [
    {
     "data": {
      "text/plain": [
       "True"
      ]
     },
     "execution_count": 11,
     "metadata": {},
     "output_type": "execute_result"
    }
   ],
   "source": [
    "is_pangram('The quick brown fox jumps over the lazy dog.')"
   ]
  },
  {
   "cell_type": "markdown",
   "id": "d8c62d31",
   "metadata": {},
   "source": [
    "# Other solutions"
   ]
  },
  {
   "cell_type": "markdown",
   "id": "552b87cb",
   "metadata": {},
   "source": [
    "## all() on lowercased letters"
   ]
  },
  {
   "cell_type": "code",
   "execution_count": 15,
   "id": "eaabf267",
   "metadata": {},
   "outputs": [],
   "source": [
    "from string import ascii_lowercase\n",
    "\n",
    "def is_pangram2(sentence):\n",
    "    return all (charac in sentence.lower()for charac in ascii_lowercase)"
   ]
  },
  {
   "cell_type": "code",
   "execution_count": 16,
   "id": "5ad02f68",
   "metadata": {},
   "outputs": [
    {
     "data": {
      "text/plain": [
       "True"
      ]
     },
     "execution_count": 16,
     "metadata": {},
     "output_type": "execute_result"
    }
   ],
   "source": [
    "is_pangram2('The quick brown fox jumps over the lazy dog.')"
   ]
  },
  {
   "cell_type": "markdown",
   "id": "b0c1008f",
   "metadata": {},
   "source": [
    "## for, if loops"
   ]
  },
  {
   "cell_type": "code",
   "execution_count": 24,
   "id": "eb01ecbc",
   "metadata": {},
   "outputs": [],
   "source": [
    "def is_pangram3(sentence):\n",
    "    alphabets = 'abcdefghijklmnopqrstuvwxyz'\n",
    "    sentence = sentence.lower()\n",
    "    for letter in alphabets:\n",
    "        if letter not in sentence:\n",
    "            return False\n",
    "    return True"
   ]
  },
  {
   "cell_type": "code",
   "execution_count": 25,
   "id": "c168d937",
   "metadata": {},
   "outputs": [
    {
     "data": {
      "text/plain": [
       "True"
      ]
     },
     "execution_count": 25,
     "metadata": {},
     "output_type": "execute_result"
    }
   ],
   "source": [
    "is_pangram3('The Quick brown fox jumps over the lazy dog.')"
   ]
  },
  {
   "cell_type": "code",
   "execution_count": null,
   "id": "ebdb230d",
   "metadata": {},
   "outputs": [],
   "source": []
  }
 ],
 "metadata": {
  "kernelspec": {
   "display_name": "Python 3 (ipykernel)",
   "language": "python",
   "name": "python3"
  },
  "language_info": {
   "codemirror_mode": {
    "name": "ipython",
    "version": 3
   },
   "file_extension": ".py",
   "mimetype": "text/x-python",
   "name": "python",
   "nbconvert_exporter": "python",
   "pygments_lexer": "ipython3",
   "version": "3.9.7"
  }
 },
 "nbformat": 4,
 "nbformat_minor": 5
}
