{
 "cells": [
  {
   "cell_type": "markdown",
   "id": "3adf6104",
   "metadata": {},
   "source": [
    "# Introduction\n",
    "Your body is made up of cells that contain DNA. Those cells regularly wear out and need replacing, which they achieve by dividing into daughter cells. In fact, the average human body experiences about 10 quadrillion cell divisions in a lifetime!\n",
    "\n",
    "When cells divide, their DNA replicates too. Sometimes during this process mistakes happen and single pieces of DNA get encoded with the incorrect information. If we compare two strands of DNA and count the differences between them, we can see how many mistakes occurred. This is known as the \"Hamming distance\".\n",
    "\n",
    "The Hamming distance is useful in many areas of science, not just biology, so it's a nice phrase to be familiar with :)\n",
    "\n",
    "Instructions\n",
    "Calculate the Hamming distance between two DNA strands.\n",
    "\n",
    "We read DNA using the letters C, A, G and T. Two strands might look like this:\n",
    "\n",
    "GAGCCTACTAACGGGAT\n",
    "\n",
    "CATCGTAATGACGGCCT\n",
    "\n",
    "\n",
    "They have 7 differences, and therefore the Hamming distance is 7.\n",
    "\n",
    "## Implementation notes\n",
    "The Hamming distance is only defined for sequences of equal length, so an attempt to calculate it between sequences of different lengths should not work.\n",
    "\n",
    "## Exception messages\n",
    "Sometimes it is necessary to raise an exception. When you do this, you should always include a meaningful error message to indicate what the source of the error is. This makes your code more readable and helps significantly with debugging. For situations where you know that the error source will be a certain type, you can choose to raise one of the built in error types, but should still include a meaningful message.\n",
    "\n",
    "This particular exercise requires that you use the raise statement to \"throw\" a ValueError when the strands being checked are not the same length. The tests will only pass if you both raise the exception and include a message with it.\n",
    "\n",
    "To raise a ValueError with a message, write the message as an argument to the exception type:\n",
    "\n",
    "###### When the sequences being passed are not the same length.\n",
    "raise ValueError(\"Strands must be of equal length.\")"
   ]
  },
  {
   "cell_type": "code",
   "execution_count": 60,
   "id": "582370d6",
   "metadata": {},
   "outputs": [],
   "source": [
    "def distance(strand_a,strand_b):\n",
    "    count = 0\n",
    "    \n",
    "    if len(strand_a)!=len(strand_b):\n",
    "        raise ValueError('Strands must be of equal length.')\n",
    "    \n",
    "    for i in range(len(strand_a)):\n",
    "        if strand_a[i] != strand_b[i]:\n",
    "            count += 1\n",
    "    \n",
    "    return count"
   ]
  },
  {
   "cell_type": "code",
   "execution_count": 61,
   "id": "19160e96",
   "metadata": {},
   "outputs": [
    {
     "data": {
      "text/plain": [
       "0"
      ]
     },
     "execution_count": 61,
     "metadata": {},
     "output_type": "execute_result"
    }
   ],
   "source": [
    "distance(\"A\", \"A\")"
   ]
  },
  {
   "cell_type": "code",
   "execution_count": 62,
   "id": "7748f0d1",
   "metadata": {},
   "outputs": [
    {
     "data": {
      "text/plain": [
       "9"
      ]
     },
     "execution_count": 62,
     "metadata": {},
     "output_type": "execute_result"
    }
   ],
   "source": [
    "distance(\"GGACGGATTCTG\", \"AGGACGGATTCT\")"
   ]
  },
  {
   "cell_type": "markdown",
   "id": "334e5337",
   "metadata": {},
   "source": [
    "# Approach 2: zip function"
   ]
  },
  {
   "cell_type": "code",
   "execution_count": 63,
   "id": "9bcb08aa",
   "metadata": {},
   "outputs": [],
   "source": [
    "def distance2(strand_a,strand_b):\n",
    "    \n",
    "    if len(strand_a) != len(strand_b):\n",
    "        raise ValueError('Stands must be of equal length.')\n",
    "        \n",
    "    return sum(a!=b for a,b in zip(strand_a,strand_b))"
   ]
  },
  {
   "cell_type": "code",
   "execution_count": 64,
   "id": "e9940147",
   "metadata": {},
   "outputs": [
    {
     "data": {
      "text/plain": [
       "0"
      ]
     },
     "execution_count": 64,
     "metadata": {},
     "output_type": "execute_result"
    }
   ],
   "source": [
    "distance2(\"A\", \"A\")"
   ]
  },
  {
   "cell_type": "code",
   "execution_count": 65,
   "id": "fbdc91c7",
   "metadata": {},
   "outputs": [
    {
     "data": {
      "text/plain": [
       "9"
      ]
     },
     "execution_count": 65,
     "metadata": {},
     "output_type": "execute_result"
    }
   ],
   "source": [
    "distance2(\"GGACGGATTCTG\", \"AGGACGGATTCT\")"
   ]
  },
  {
   "cell_type": "code",
   "execution_count": null,
   "id": "868ba9d5",
   "metadata": {},
   "outputs": [],
   "source": []
  }
 ],
 "metadata": {
  "kernelspec": {
   "display_name": "Python 3 (ipykernel)",
   "language": "python",
   "name": "python3"
  },
  "language_info": {
   "codemirror_mode": {
    "name": "ipython",
    "version": 3
   },
   "file_extension": ".py",
   "mimetype": "text/x-python",
   "name": "python",
   "nbconvert_exporter": "python",
   "pygments_lexer": "ipython3",
   "version": "3.9.7"
  }
 },
 "nbformat": 4,
 "nbformat_minor": 5
}
