{
 "cells": [
  {
   "cell_type": "markdown",
   "id": "a4527bb4",
   "metadata": {},
   "source": [
    "# Introduction\n",
    "Today, most people in the world use Arabic numerals (0–9). But if you travelled back two thousand years, you'd find that most Europeans were using Roman numerals instead.\n",
    "\n",
    "To write a Roman numeral we use the following Latin letters, each of which has a value:\n",
    "\n",
    " M  | D  | C  | L  | X  | V  | I  |\n",
    "----|----|----|----|----|----|----|\n",
    "1000| 500| 100| 50 | 10 | 5  | 1  |\n",
    "\n",
    "A Roman numeral is a sequence of these letters, and its value is the sum of the letters' values. For example, XVIII has the value 18 (10 + 5 + 1 + 1 + 1 = 18).\n",
    "\n",
    "There's one rule that makes things trickier though, and that's that the same letter cannot be used more than three times in succession. That means that we can't express numbers such as 4 with the seemingly natural IIII. Instead, for those numbers, we use a subtraction method between two letters. So we think of 4 not as 1 + 1 + 1 + 1 but instead as 5 - 1. And slightly confusingly to our modern thinking, we write the smaller number first. This applies only in the following cases: 4 (IV), 9 (IX), 40 (XL), 90 (XC), 400 (CD) and 900 (CM).\n",
    "\n",
    "Order matters in Roman numerals! Letters (and the special compounds above) must be ordered by decreasing value from left to right.\n",
    "\n",
    "Here are some examples:\n",
    "```\n",
    " 105 => CV\n",
    "---- => --\n",
    " 100 => C\n",
    "+  5 =>  V\n",
    "```\n",
    "---\n",
    "```\n",
    "106 => CVI\n",
    "---- => --\n",
    " 100 => C\n",
    "+  5 =>  V\n",
    "+  1 =>   I\n",
    "```\n",
    "---\n",
    "```\n",
    "104 => CIV\n",
    "---- => ---\n",
    " 100 => C\n",
    "+  4 =>  IV\n",
    "```\n",
    "And a final more complex example:\n",
    "```\n",
    " 1996 => MCMXCVI\n",
    "----- => -------\n",
    " 1000 => M\n",
    "+ 900 =>  CM\n",
    "+  90 =>    XC\n",
    "+   5 =>      V\n",
    "+   1 =>       I\n",
    "```\n",
    "# Instructions\n",
    "Your task is to convert a number from Arabic numerals to Roman numerals.\n",
    "\n",
    "For this exercise, we are only concerned about traditional Roman numerals, in which the largest number is MMMCMXCIX (or 3,999).\n"
   ]
  },
  {
   "cell_type": "code",
   "execution_count": 1,
   "id": "6772f34c",
   "metadata": {},
   "outputs": [],
   "source": [
    "def roman(number):\n",
    "    \n",
    "    NUMERALS={1000:'M',\n",
    "              900:'CM',\n",
    "              500:'D',\n",
    "              400:'CD',\n",
    "              100:'C',\n",
    "              90:'XC',\n",
    "              50:'L',\n",
    "              40:'XL',\n",
    "              10:'X',\n",
    "              9:'IX',\n",
    "              5:'V',\n",
    "              4:'IV',\n",
    "              1:'I'}\n",
    "    \n",
    "    roman_numerals = []\n",
    "    \n",
    "    if number > 3999:\n",
    "        raise ValueError('number cannot be greater than 3,999')\n",
    "    \n",
    "    for value in NUMERALS.keys():\n",
    "        while number > 0:\n",
    "            if value <= number:\n",
    "                roman_numerals.append(NUMERALS[value])\n",
    "                number -= value\n",
    "            else:\n",
    "                break\n",
    "    return ''.join(roman_numerals)"
   ]
  },
  {
   "cell_type": "code",
   "execution_count": 3,
   "id": "04a6eac9",
   "metadata": {},
   "outputs": [
    {
     "data": {
      "text/plain": [
       "'MMMCMXCIX'"
      ]
     },
     "execution_count": 3,
     "metadata": {},
     "output_type": "execute_result"
    }
   ],
   "source": [
    "roman(3999)"
   ]
  },
  {
   "cell_type": "code",
   "execution_count": 4,
   "id": "89a887fe",
   "metadata": {},
   "outputs": [
    {
     "data": {
      "text/plain": [
       "'CM'"
      ]
     },
     "execution_count": 4,
     "metadata": {},
     "output_type": "execute_result"
    }
   ],
   "source": [
    "roman(900)"
   ]
  },
  {
   "cell_type": "code",
   "execution_count": 5,
   "id": "ed9a82a6",
   "metadata": {},
   "outputs": [
    {
     "data": {
      "text/plain": [
       "'DCLXXVIII'"
      ]
     },
     "execution_count": 5,
     "metadata": {},
     "output_type": "execute_result"
    }
   ],
   "source": [
    "roman(678)"
   ]
  },
  {
   "cell_type": "code",
   "execution_count": 6,
   "id": "590d341a",
   "metadata": {},
   "outputs": [
    {
     "data": {
      "text/plain": [
       "'DCCLXXVII'"
      ]
     },
     "execution_count": 6,
     "metadata": {},
     "output_type": "execute_result"
    }
   ],
   "source": [
    "roman(777)"
   ]
  },
  {
   "cell_type": "code",
   "execution_count": null,
   "id": "668a8d0c",
   "metadata": {},
   "outputs": [],
   "source": []
  }
 ],
 "metadata": {
  "kernelspec": {
   "display_name": "Python 3 (ipykernel)",
   "language": "python",
   "name": "python3"
  },
  "language_info": {
   "codemirror_mode": {
    "name": "ipython",
    "version": 3
   },
   "file_extension": ".py",
   "mimetype": "text/x-python",
   "name": "python",
   "nbconvert_exporter": "python",
   "pygments_lexer": "ipython3",
   "version": "3.9.7"
  }
 },
 "nbformat": 4,
 "nbformat_minor": 5
}
