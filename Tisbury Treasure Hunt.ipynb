{
 "cells": [
  {
   "cell_type": "markdown",
   "id": "6976fa6e",
   "metadata": {},
   "source": [
    "# Instructions\n",
    "\n",
    "Azara and Rui are teammates competing in a pirate-themed treasure hunt. One has a list of treasures with map coordinates, the other a list of location names with map coordinates. They've also been given blank maps with a starting place marked YOU ARE HERE."
   ]
  },
  {
   "cell_type": "markdown",
   "id": "1b1dc20c",
   "metadata": {},
   "source": [
    "    Azara's List\t\t                                     \n",
    "|Treasure |\tCoordinates |\n",
    "|:--------:|:-----------:|\n",
    "|Amethyst Octopus |\t1F |\n",
    "|Angry Monkey Figurine |\t5B |\n",
    "|Antique Glass Fishnet Float |\t3D |\n",
    "|Brass Spyglass |\t4B |\n",
    "|Carved Wooden Elephant |\t8C |\n",
    "|Crystal Crab |\t6A |\n",
    "|Glass Starfish |\t6D |\n",
    "|Model Ship in Large Bottle |\t8A |\n",
    "|Pirate Flag |\t7F |\n",
    "|Robot Parrot |\t1C |\n",
    "|Scrimshawed Whale Tooth |\t2A |\n",
    "|Silver Seahorse |\t4E |\n",
    "|Vintage Pirate Hat |\t7E |\n",
    "\n",
    "    Rui's List\n",
    "|Location Name|\tCoordinates|\tQuadrant|\n",
    "|:-----------:|:----------:|:----------:|\n",
    "|Seaside Cottages|\t(\"1\", \"C\")|\tBlue|\n",
    "|Aqua Lagoon (Island of Mystery)|\t(\"1\", \"F\")|\tYellow|\n",
    "|Deserted Docks|\t(\"2\", \"A\")|\tBlue|\n",
    "|Spiky Rocks|\t(\"3\", \"D\")|\tYellow|\n",
    "|Abandoned Lighthouse|\t(\"4\", \"B\")|\tBlue|\n",
    "|Hidden Spring (Island of Mystery)|\t(\"4\", \"E\")|\tYellow|\n",
    "|Stormy Breakwater|\t(\"5\", \"B\")|\tPurple|\n",
    "|Old Schooner|\t(\"6\", \"A\")|\tPurple|\n",
    "|Tangled Seaweed Patch|\t(\"6\", \"D\")|\tOrange|\n",
    "|Quiet Inlet (Island of Mystery)|\t(\"7\", \"E\")|\tOrange|\n",
    "|Windswept Hilltop (Island of Mystery)|\t(\"7\", \"F\")|\tOrange|\n",
    "|Harbor Managers Office|\t(\"8\", \"A\")|\tPurple|\n",
    "|Foggy Seacave|\t(\"8\", \"C\")|\tPurple|\n",
    "\n",
    "\n",
    "\n",
    "\n",
    "\n",
    "But things are a bit disorganized: Azara's coordinates appear to be formatted and sorted differently from Rui's, and they have to keep looking from one list to the other to figure out which treasures go with which locations. Being budding pythonistas, they have come to you for help in writing a small program (a set of functions, really) to better organize their hunt information."
   ]
  },
  {
   "cell_type": "markdown",
   "id": "73e6428f",
   "metadata": {},
   "source": [
    "## Task 1. Extract coordinates\n",
    "\n",
    "Implement the get_coordinate() function that takes a (treasure, coordinate) pair from Azara's list and returns only the extracted map coordinate."
   ]
  },
  {
   "cell_type": "code",
   "execution_count": 1,
   "id": "b14d690d",
   "metadata": {},
   "outputs": [],
   "source": [
    "def get_coordinate(record):\n",
    "    \"\"\"Return coordinate value from a tuple containing the treasure name, and treasure coordinate.\n",
    "\n",
    "    :param record: tuple - with a (treasure, coordinate) pair.\n",
    "    :return: str - the extracted map coordinate.\n",
    "    \"\"\"\n",
    "\n",
    "    return record[-1]"
   ]
  },
  {
   "cell_type": "code",
   "execution_count": 2,
   "id": "6b30c1a1",
   "metadata": {},
   "outputs": [
    {
     "data": {
      "text/plain": [
       "'2A'"
      ]
     },
     "execution_count": 2,
     "metadata": {},
     "output_type": "execute_result"
    }
   ],
   "source": [
    "get_coordinate(('Scrimshawed Whale Tooth', '2A'))"
   ]
  },
  {
   "cell_type": "markdown",
   "id": "71885fd8",
   "metadata": {},
   "source": [
    "## Task 2. Format coordinates\n",
    "\n",
    "Implement the convert_coordinate() function that takes a coordinate in the format \"2A\" and returns a tuple in the format (\"2\", \"A\")."
   ]
  },
  {
   "cell_type": "code",
   "execution_count": 5,
   "id": "dafdaa77",
   "metadata": {},
   "outputs": [],
   "source": [
    "def convert_coordinate(coordinate):\n",
    "    \"\"\"Split the given coordinate into tuple containing its individual components.\n",
    "\n",
    "    :param coordinate: str - a string map coordinate\n",
    "    :return: tuple - the string coordinate split into its individual components.\n",
    "    \"\"\"\n",
    "\n",
    "    return tuple(coordinate)"
   ]
  },
  {
   "cell_type": "code",
   "execution_count": 6,
   "id": "3c33d3fe",
   "metadata": {},
   "outputs": [
    {
     "data": {
      "text/plain": [
       "('2', 'A')"
      ]
     },
     "execution_count": 6,
     "metadata": {},
     "output_type": "execute_result"
    }
   ],
   "source": [
    "convert_coordinate(\"2A\")"
   ]
  },
  {
   "cell_type": "markdown",
   "id": "e5beafcc",
   "metadata": {},
   "source": [
    "## Task 3. Match coordinates\n",
    "\n",
    "Implement the compare_records() function that takes a (treasure, coordinate) pair and a (location, coordinate, quadrant) record and compares coordinates from each. Return True if the coordinates \"match\", and return False if they do not. Re-format coordinates as needed for accurate comparison."
   ]
  },
  {
   "cell_type": "code",
   "execution_count": 11,
   "id": "9ea40033",
   "metadata": {},
   "outputs": [],
   "source": [
    "def compare_records(azara_record, rui_record):\n",
    "    \"\"\"Compare two record types and determine if their coordinates match.\n",
    "\n",
    "    :param azara_record: tuple - a (treasure, coordinate) pair.\n",
    "    :param rui_record: tuple - a (location, tuple(coordinate_1, coordinate_2), quadrant) trio.\n",
    "    :return: bool - do the coordinates match?\n",
    "    \"\"\"\n",
    "\n",
    "    conv = convert_coordinate(azara_record[-1])\n",
    "    return conv in rui_record"
   ]
  },
  {
   "cell_type": "code",
   "execution_count": 12,
   "id": "b322567e",
   "metadata": {},
   "outputs": [
    {
     "data": {
      "text/plain": [
       "False"
      ]
     },
     "execution_count": 12,
     "metadata": {},
     "output_type": "execute_result"
    }
   ],
   "source": [
    "compare_records(('Brass Spyglass', '4B'), ('Seaside Cottages', ('1', 'C'), 'blue'))"
   ]
  },
  {
   "cell_type": "code",
   "execution_count": 13,
   "id": "a68cb439",
   "metadata": {},
   "outputs": [
    {
     "data": {
      "text/plain": [
       "True"
      ]
     },
     "execution_count": 13,
     "metadata": {},
     "output_type": "execute_result"
    }
   ],
   "source": [
    "compare_records(('Model Ship in Large Bottle', '8A'), ('Harbor Managers Office', ('8', 'A'), 'purple'))"
   ]
  },
  {
   "cell_type": "markdown",
   "id": "d894685c",
   "metadata": {},
   "source": [
    "## Task 4. Combine matched records\n",
    "\n",
    "Implement the create_record() function that takes a (treasure, coordinate) pair from Azara's list and a (location, coordinate, quadrant) record from Rui's list and returns (treasure, coordinate, location, coordinate, quadrant) if the coordinates match. If the coordinates do not match, return the string \"not a match\". Re-format the coordinate as needed for accurate comparison."
   ]
  },
  {
   "cell_type": "code",
   "execution_count": 14,
   "id": "2eb1bdaf",
   "metadata": {},
   "outputs": [],
   "source": [
    "def create_record(azara_record, rui_record):\n",
    "    \"\"\"Combine the two record types (if possible) and create a combined record group.\n",
    "\n",
    "    :param azara_record: tuple - a (treasure, coordinate) pair.\n",
    "    :param rui_record: tuple - a (location, coordinate, quadrant) trio.\n",
    "    :return: tuple or str - the combined record (if compatible), or the string \"not a match\" (if incompatible).\n",
    "    \"\"\"\n",
    "\n",
    "    if compare_records(azara_record, rui_record):\n",
    "        return azara_record + rui_record\n",
    "    return \"not a match\""
   ]
  },
  {
   "cell_type": "code",
   "execution_count": 15,
   "id": "83e9dd61",
   "metadata": {},
   "outputs": [
    {
     "data": {
      "text/plain": [
       "('Brass Spyglass', '4B', 'Abandoned Lighthouse', ('4', 'B'), 'Blue')"
      ]
     },
     "execution_count": 15,
     "metadata": {},
     "output_type": "execute_result"
    }
   ],
   "source": [
    "create_record(('Brass Spyglass', '4B'), ('Abandoned Lighthouse', ('4', 'B'), 'Blue'))"
   ]
  },
  {
   "cell_type": "code",
   "execution_count": 16,
   "id": "808dc241",
   "metadata": {},
   "outputs": [
    {
     "data": {
      "text/plain": [
       "'not a match'"
      ]
     },
     "execution_count": 16,
     "metadata": {},
     "output_type": "execute_result"
    }
   ],
   "source": [
    "create_record(('Brass Spyglass', '4B'), ('Seaside Cottages', ('1', 'C'), 'blue'))"
   ]
  },
  {
   "cell_type": "markdown",
   "id": "984c5cb0",
   "metadata": {},
   "source": [
    "## Task 5. \"Clean up\" & make a report of all records\n",
    "\n",
    "Clean up the combined records from Azara and Rui so that there's only one set of coordinates per record. Make a report so they can see one list of everything they need to put on their maps. Implement the clean_up() function that takes a tuple of tuples (everything from both lists), looping through the outer tuple, dropping the unwanted coordinates from each inner tuple and adding each to a 'report'. Format and return the 'report' so that there is one cleaned record on each line."
   ]
  },
  {
   "cell_type": "code",
   "execution_count": 134,
   "id": "4d4229b3",
   "metadata": {},
   "outputs": [],
   "source": [
    "def clean_up(combined_record_group):\n",
    "    \"\"\"Clean up a combined record group into a multi-line string of single records.\n",
    "\n",
    "    :param combined_record_group: tuple - everything from both participants.\n",
    "    :return: str - everything \"cleaned\", excess coordinates and information are removed.\n",
    "\n",
    "    The return statement should be a multi-lined string with items separated by newlines.\n",
    "\n",
    "    (see HINTS.md for an example).\n",
    "    \"\"\"\n",
    "\n",
    "    return \"\".join([f\"{(record[0],record[2],record[3],record[4])}\\n\" for record in combined_record_group])"
   ]
  },
  {
   "cell_type": "code",
   "execution_count": 135,
   "id": "8130c940",
   "metadata": {},
   "outputs": [
    {
     "data": {
      "text/plain": [
       "\"('Brass Spyglass', 'Abandoned Lighthouse', ('4', 'B'), 'Blue')\\n('Vintage Pirate Hat', 'Quiet Inlet (Island of Mystery)', ('7', 'E'), 'Orange')\\n('Crystal Crab', 'Old Schooner', ('6', 'A'), 'Purple')\\n\""
      ]
     },
     "execution_count": 135,
     "metadata": {},
     "output_type": "execute_result"
    }
   ],
   "source": [
    "clean_up((('Brass Spyglass', '4B', 'Abandoned Lighthouse', ('4', 'B'), 'Blue'), ('Vintage Pirate Hat', '7E', 'Quiet Inlet (Island of Mystery)', ('7', 'E'), 'Orange'), ('Crystal Crab', '6A', 'Old Schooner', ('6', 'A'), 'Purple')))"
   ]
  },
  {
   "cell_type": "code",
   "execution_count": 58,
   "id": "4cd36136",
   "metadata": {},
   "outputs": [
    {
     "data": {
      "text/plain": [
       "['Brass Spyglass', 'Abandoned Lighthouse', ('4', 'B'), 'Blue']"
      ]
     },
     "execution_count": 58,
     "metadata": {},
     "output_type": "execute_result"
    }
   ],
   "source": [
    "lt = list(tu)\n",
    "lt2 = list(lt[0])\n",
    "lt2.pop(1)\n",
    "tup = lt2\n",
    "tup"
   ]
  },
  {
   "cell_type": "code",
   "execution_count": 50,
   "id": "eec707aa",
   "metadata": {},
   "outputs": [
    {
     "data": {
      "text/plain": [
       "(('Brass Spyglass', '4B', 'Abandoned Lighthouse', ('4', 'B'), 'Blue'),\n",
       " ('Vintage Pirate Hat',\n",
       "  '7E',\n",
       "  'Quiet Inlet (Island of Mystery)',\n",
       "  ('7', 'E'),\n",
       "  'Orange'),\n",
       " ('Crystal Crab', '6A', 'Old Schooner', ('6', 'A'), 'Purple'))"
      ]
     },
     "execution_count": 50,
     "metadata": {},
     "output_type": "execute_result"
    }
   ],
   "source": [
    "tu"
   ]
  },
  {
   "cell_type": "code",
   "execution_count": null,
   "id": "9d62d867",
   "metadata": {},
   "outputs": [],
   "source": []
  }
 ],
 "metadata": {
  "kernelspec": {
   "display_name": "Python 3 (ipykernel)",
   "language": "python",
   "name": "python3"
  },
  "language_info": {
   "codemirror_mode": {
    "name": "ipython",
    "version": 3
   },
   "file_extension": ".py",
   "mimetype": "text/x-python",
   "name": "python",
   "nbconvert_exporter": "python",
   "pygments_lexer": "ipython3",
   "version": "3.9.7"
  }
 },
 "nbformat": 4,
 "nbformat_minor": 5
}
