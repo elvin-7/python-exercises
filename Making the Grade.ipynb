{
 "cells": [
  {
   "cell_type": "markdown",
   "id": "f043d543",
   "metadata": {},
   "source": [
    "# Instructions\n",
    "\n",
    "You're a teaching assistant correcting student exams. Keeping track of results manually is getting both tedious and mistake-prone. You decide to make things a little more interesting by putting together some functions to count and calculate results for the class."
   ]
  },
  {
   "cell_type": "markdown",
   "id": "f6d57422",
   "metadata": {},
   "source": [
    "## Task 1. Rounding Scores\n",
    "\n",
    "While you can give \"partial credit\" on exam questions, overall exam scores have to be ints. So before you can do anything else with the class scores, you need to go through the grades and turn any float scores into ints. Lucky for you, Python has the built-in round() function you can use.\n",
    "\n",
    "Create the function round_scores(student_scores) that takes a list of student_scores. This function should consume the input list and return a new list with all the scores converted to ints. The order of the scores in the resulting list is not important."
   ]
  },
  {
   "cell_type": "code",
   "execution_count": 18,
   "id": "bb654388",
   "metadata": {},
   "outputs": [],
   "source": [
    "def round_scores(student_scores):\n",
    "    \"\"\"Round all provided student scores.\n",
    "\n",
    "    :param student_scores: list - float or int of student exam scores.\n",
    "    :return: list - student scores *rounded* to nearest integer value.\n",
    "    \"\"\"\n",
    "\n",
    "    return [round(number) for number in student_scores]"
   ]
  },
  {
   "cell_type": "code",
   "execution_count": 38,
   "id": "a918346a",
   "metadata": {},
   "outputs": [],
   "source": [
    "def rounded_scores(student_scores):\n",
    "    rounded_list = []\n",
    "    while student_scores:\n",
    "        score = student_scores.pop(0)\n",
    "        rounded_list.append(round(score))\n",
    "    return rounded_list"
   ]
  },
  {
   "cell_type": "code",
   "execution_count": 39,
   "id": "c13b1746",
   "metadata": {},
   "outputs": [
    {
     "data": {
      "text/plain": [
       "[90, 40, 55, 70, 31, 25, 80, 95, 39, 40]"
      ]
     },
     "execution_count": 39,
     "metadata": {},
     "output_type": "execute_result"
    }
   ],
   "source": [
    "student_scores = [90.33, 40.5, 55.44, 70.05, 30.55, 25.45, 80.45, 95.3, 38.7, 40.3]\n",
    "rounded_scores(student_scores)"
   ]
  },
  {
   "cell_type": "markdown",
   "id": "83eb2801",
   "metadata": {},
   "source": [
    "## Task 2. Non-Passing Students\n",
    "\n",
    "As you were grading the exam, you noticed some students weren't performing as well as you had hoped. But you were distracted, and forgot to note exactly how many students.\n",
    "\n",
    "Create the function count_failed_students(student_scores) that takes a list of student_scores. This function should count up the number of students who don't have passing scores and return that count as an integer. A student needs a score greater than 40 to achieve a passing grade on the exam."
   ]
  },
  {
   "cell_type": "code",
   "execution_count": 44,
   "id": "bb680f45",
   "metadata": {},
   "outputs": [],
   "source": [
    "def count_failed_students(student_scores):\n",
    "    \"\"\"Count the number of failing students out of the group provided.\n",
    "\n",
    "    :param student_scores: list - containing int student scores.\n",
    "    :return: int - count of student scores at or below 40.\n",
    "    \"\"\"\n",
    "\n",
    "    count = 0\n",
    "    for score in student_scores:\n",
    "        if score <= 40:\n",
    "            count += 1\n",
    "    return count"
   ]
  },
  {
   "cell_type": "code",
   "execution_count": 45,
   "id": "83bbd5d5",
   "metadata": {},
   "outputs": [
    {
     "data": {
      "text/plain": [
       "5"
      ]
     },
     "execution_count": 45,
     "metadata": {},
     "output_type": "execute_result"
    }
   ],
   "source": [
    "count_failed_students(student_scores=[90,40,55,70,30,25,80,95,38,40])"
   ]
  },
  {
   "cell_type": "markdown",
   "id": "11449fd5",
   "metadata": {},
   "source": [
    "## Task 3. The Best\n",
    "\n",
    "The teacher you're assisting wants to find the group of students who've performed \"the best\" on this exam. What qualifies as \"the best\" fluctuates, so you need to find the student scores that are greater than or equal to the current threshold.\n",
    "\n",
    "Create the function above_threshold(student_scores, threshold) taking student_scores (a list of grades), and threshold (the \"top score\" threshold) as parameters. This function should return a list of all scores that are >= to threshold."
   ]
  },
  {
   "cell_type": "code",
   "execution_count": 54,
   "id": "74bdcaa2",
   "metadata": {},
   "outputs": [],
   "source": [
    "def above_threshold(student_scores, threshold):\n",
    "    \"\"\"Determine how many of the provided student scores were 'the best' based on the provided threshold.\n",
    "\n",
    "    :param student_scores: list - of integer scores.\n",
    "    :param threshold: int - threshold to cross to be the \"best\" score.\n",
    "    :return: list - of integer scores that are at or above the \"best\" threshold.\n",
    "    \"\"\"\n",
    "\n",
    "    pass_scores = []\n",
    "    for scores in student_scores:\n",
    "        if scores >= threshold:\n",
    "            passed = scores\n",
    "            pass_scores.append(passed)\n",
    "    return pass_scores"
   ]
  },
  {
   "cell_type": "code",
   "execution_count": 55,
   "id": "b3743d3a",
   "metadata": {},
   "outputs": [
    {
     "data": {
      "text/plain": [
       "[90, 75, 83, 96]"
      ]
     },
     "execution_count": 55,
     "metadata": {},
     "output_type": "execute_result"
    }
   ],
   "source": [
    "above_threshold(student_scores=[90,40,55,70,30,68,70,75,83,96], threshold=75)"
   ]
  },
  {
   "cell_type": "markdown",
   "id": "9134fd15",
   "metadata": {},
   "source": [
    "## Task 4. Calculating Letter Grades\n",
    "\n",
    "The teacher you are assisting likes to assign letter grades as well as numeric scores. Since students rarely score 100 on an exam, the \"letter grade\" lower thresholds are calculated based on the highest score achieved, and increment evenly between the high score and the failing threshold of <= 40.\n",
    "\n",
    "Create the function letter_grades(highest) that takes the \"highest\" score on the exam as an argument, and returns a list of lower score thresholds for each \"American style\" grade interval: [\"D\", \"C\", \"B\", \"A\"]."
   ]
  },
  {
   "cell_type": "code",
   "execution_count": 88,
   "id": "e2e51bba",
   "metadata": {},
   "outputs": [],
   "source": [
    "def letter_grades(highest):\n",
    "    \"\"\"Create a list of grade thresholds based on the provided highest grade.\n",
    "\n",
    "    :param highest: int - value of highest exam score.\n",
    "    :return: list - of lower threshold scores for each D-A letter grade interval.\n",
    "            For example, where the highest score is 100, and failing is <= 40,\n",
    "            The result would be [41, 56, 71, 86]:\n",
    "\n",
    "            41 <= \"D\" <= 55\n",
    "            56 <= \"C\" <= 70\n",
    "            71 <= \"B\" <= 85\n",
    "            86 <= \"A\" <= 100\n",
    "    \"\"\"\n",
    "\n",
    "    interval = (highest - 40) // 4\n",
    "    grading = [40 + (i * interval) + 1 for i in range(0, 4)]\n",
    "    return grading\n",
    "    "
   ]
  },
  {
   "cell_type": "code",
   "execution_count": 90,
   "id": "eff85d3a",
   "metadata": {},
   "outputs": [
    {
     "data": {
      "text/plain": [
       "[41, 53, 65, 77]"
      ]
     },
     "execution_count": 90,
     "metadata": {},
     "output_type": "execute_result"
    }
   ],
   "source": [
    "letter_grades(highest=88)"
   ]
  },
  {
   "cell_type": "markdown",
   "id": "f6a18e65",
   "metadata": {},
   "source": [
    "## Task 5. Matching Names to Scores\n",
    "\n",
    "You have a list of exam scores in descending order, and another list of student names also sorted in descending order by their exam scores. You would like to match each student name with their exam score and print out an overall class ranking.\n",
    "\n",
    "Create the function student_ranking(student_scores, student_names) with parameters student_scores and student_names. Match each student name on the student_names list with their score from the student_scores list. You can assume each argument list will be sorted from highest score(er) to lowest score(er). The function should return a list of strings with the format rank. student name: student score."
   ]
  },
  {
   "cell_type": "code",
   "execution_count": 75,
   "id": "4dce4864",
   "metadata": {},
   "outputs": [],
   "source": [
    "def student_ranking(student_scores, student_names):\n",
    "    \"\"\"Organize the student's rank, name, and grade information in descending order.\n",
    "\n",
    "    :param student_scores: list - of scores in descending order.\n",
    "    :param student_names: list - of string names by exam score in descending order.\n",
    "    :return: list - of strings in format [\"<rank>. <student name>: <score>\"].\n",
    "    \"\"\"\n",
    "    ranked = []\n",
    "    rank = 1\n",
    "    for index, name in enumerate(student_names):\n",
    "        ranked.append(f\"{rank}. {name}: {student_scores[index]}\")\n",
    "        rank = rank + 1\n",
    "    return ranked"
   ]
  },
  {
   "cell_type": "code",
   "execution_count": 76,
   "id": "b180e6e4",
   "metadata": {},
   "outputs": [
    {
     "data": {
      "text/plain": [
       "['1. Joci: 100',\n",
       " '2. Sara: 99',\n",
       " '3. Kora: 90',\n",
       " '4. Jan: 84',\n",
       " '5. John: 66',\n",
       " '6. Bern: 53',\n",
       " '7. Fred: 47']"
      ]
     },
     "execution_count": 76,
     "metadata": {},
     "output_type": "execute_result"
    }
   ],
   "source": [
    "student_scores = [100, 99, 90, 84, 66, 53, 47]\n",
    "student_names =  ['Joci', 'Sara','Kora','Jan','John','Bern', 'Fred']\n",
    "\n",
    "student_ranking(student_scores, student_names)"
   ]
  },
  {
   "cell_type": "markdown",
   "id": "07dfd292",
   "metadata": {},
   "source": [
    "## Task 6. A \"Perfect\" Score\n",
    "\n",
    "Although a \"perfect\" score of 100 is rare on an exam, it is interesting to know if at least one student has achieved it.\n",
    "\n",
    "Create the function perfect_score(student_info) with parameter student_info. student_info is a list of lists containing the name and score of each student: [[\"Charles\", 90], [\"Tony\", 80]]. The function should return the first [name, score] pair of the student who scored 100 on the exam.\n",
    "\n",
    "If no 100 scores are found in student_info, an empty list [] should be returned."
   ]
  },
  {
   "cell_type": "code",
   "execution_count": 77,
   "id": "1e0e583e",
   "metadata": {},
   "outputs": [],
   "source": [
    "def perfect_score(student_info):\n",
    "    \"\"\"Create a list that contains the name and grade of the first student to make a perfect score on the exam.\n",
    "\n",
    "    :param student_info: list - of [<student name>, <score>] lists.\n",
    "    :return: list - first `[<student name>, 100]` or `[]` if no student score of 100 is found.\n",
    "    \"\"\"\n",
    "\n",
    "    for student_score in student_info:\n",
    "        if student_score[1] == 100:\n",
    "            return student_score\n",
    "    return []"
   ]
  },
  {
   "cell_type": "code",
   "execution_count": 78,
   "id": "6250a108",
   "metadata": {},
   "outputs": [
    {
     "data": {
      "text/plain": [
       "['Alex', 100]"
      ]
     },
     "execution_count": 78,
     "metadata": {},
     "output_type": "execute_result"
    }
   ],
   "source": [
    "perfect_score(student_info=[[\"Charles\", 90], [\"Tony\", 80], [\"Alex\", 100]])"
   ]
  },
  {
   "cell_type": "code",
   "execution_count": 79,
   "id": "74e25f56",
   "metadata": {},
   "outputs": [
    {
     "data": {
      "text/plain": [
       "[]"
      ]
     },
     "execution_count": 79,
     "metadata": {},
     "output_type": "execute_result"
    }
   ],
   "source": [
    "perfect_score(student_info=[[\"Charles\", 90], [\"Tony\", 80]])"
   ]
  },
  {
   "cell_type": "code",
   "execution_count": null,
   "id": "27cb0ba1",
   "metadata": {},
   "outputs": [],
   "source": []
  }
 ],
 "metadata": {
  "kernelspec": {
   "display_name": "Python 3 (ipykernel)",
   "language": "python",
   "name": "python3"
  },
  "language_info": {
   "codemirror_mode": {
    "name": "ipython",
    "version": 3
   },
   "file_extension": ".py",
   "mimetype": "text/x-python",
   "name": "python",
   "nbconvert_exporter": "python",
   "pygments_lexer": "ipython3",
   "version": "3.9.7"
  }
 },
 "nbformat": 4,
 "nbformat_minor": 5
}
