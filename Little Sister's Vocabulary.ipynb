{
 "cells": [
  {
   "cell_type": "markdown",
   "id": "3f56336c",
   "metadata": {},
   "source": [
    "# Instructions\n",
    "\n",
    "You are helping your younger sister with her English vocabulary homework, which she is finding very tedious. Her class is learning to create new words by adding prefixes and suffixes. Given a set of words, the teacher is looking for correctly transformed words with correct spelling by adding the prefix to the beginning or the suffix to the ending.\n",
    "\n",
    "The assignment has four activities, each with a set of text or words to work with."
   ]
  },
  {
   "cell_type": "markdown",
   "id": "93c2bf13",
   "metadata": {},
   "source": [
    "## Task 1. Add a prefix to a word\n",
    "\n",
    "One of the most common prefixes in English is un, meaning \"not\". In this activity, your sister needs to make negative, or \"not\" words by adding un to them.\n",
    "\n",
    "Implement the add_prefix_un(word) function that takes word as a parameter and returns a new un prefixed word:"
   ]
  },
  {
   "cell_type": "code",
   "execution_count": 1,
   "id": "8b17341f",
   "metadata": {},
   "outputs": [],
   "source": [
    "def add_prefix_un(word):\n",
    "     \"\"\"Take the given word and add the 'un' prefix.\n",
    "\n",
    "    :param word: str - containing the root word.\n",
    "    :return: str - of root word prepended with 'un'.\n",
    "    \"\"\"\n",
    "\n",
    "    return 'un'+word"
   ]
  },
  {
   "cell_type": "code",
   "execution_count": 2,
   "id": "305b5d33",
   "metadata": {},
   "outputs": [
    {
     "data": {
      "text/plain": [
       "'unavailable'"
      ]
     },
     "execution_count": 2,
     "metadata": {},
     "output_type": "execute_result"
    }
   ],
   "source": [
    "add_prefix_un('available')"
   ]
  },
  {
   "cell_type": "markdown",
   "id": "0596f9db",
   "metadata": {},
   "source": [
    "## Task 2. Add prefixes to word groups\n",
    "\n",
    "There are four more common prefixes that your sister's class is studying: en (meaning to 'put into' or 'cover with'), pre (meaning 'before' or 'forward'), auto (meaning 'self' or 'same'), and inter (meaning 'between' or 'among').\n",
    "\n",
    "In this exercise, the class is creating groups of vocabulary words using these prefixes, so they can be studied together. Each prefix comes in a list with common words it's used with. The students need to apply the prefix and produce a string that shows the prefix applied to all of the words.\n",
    "\n",
    "Implement the make_word_groups(vocab_words) function that takes a vocab_words as a parameter in the following form: [prefix, word_1, word_2 .... word_n], and returns a string with the prefix applied to each word that looks like: 'prefix :: prefix word_1 :: prefix word_2 :: prefix word_n'."
   ]
  },
  {
   "cell_type": "code",
   "execution_count": 71,
   "id": "9c13de1f",
   "metadata": {},
   "outputs": [],
   "source": [
    "def make_word_group(vocab_words):\n",
    "    \"\"\"Transform a list containing a prefix and words into a string with the prefix followed by the words with prefix prepended.\n",
    "\n",
    "    :param vocab_words: list - of vocabulary words with prefix in first index.\n",
    "    :return: str - of prefix followed by vocabulary words with\n",
    "            prefix applied.\n",
    "\n",
    "    This function takes a `vocab_words` list and returns a string\n",
    "    with the prefix and the words with prefix applied, separated\n",
    "     by ' :: '.\n",
    "\n",
    "    For example: list('en', 'close', 'joy', 'lighten'),\n",
    "    produces the following string: 'en :: enclose :: enjoy :: enlighten'.\n",
    "    \"\"\"\n",
    "    \n",
    "    prefix = ' :: ' +vocab_words[0] # puts ' :: ' in front of the first word in the vocab list e.g 'pre' becomes ' :: pre'\n",
    "    return prefix.join(vocab_words)"
   ]
  },
  {
   "cell_type": "code",
   "execution_count": 73,
   "id": "1aca903b",
   "metadata": {},
   "outputs": [
    {
     "data": {
      "text/plain": [
       "'pre :: preserve :: predispose :: preposition'"
      ]
     },
     "execution_count": 73,
     "metadata": {},
     "output_type": "execute_result"
    }
   ],
   "source": [
    "make_word_group(['pre', 'serve', 'dispose', 'position'])"
   ]
  },
  {
   "cell_type": "markdown",
   "id": "b9e1444e",
   "metadata": {},
   "source": [
    "## Task 3. Remove a suffix from a word\n",
    "\n",
    "ness is a common suffix that means 'state of being'. In this activity, your sister needs to find the original root word by removing the ness suffix. But of course there are pesky spelling rules: If the root word originally ended in a consonant followed by a 'y', then the 'y' was changed to 'i'. Removing 'ness' needs to restore the 'y' in those root words. e.g. happiness --> happi --> happy.\n",
    "\n",
    "Implement the remove_suffix_ness(word) function that takes in a word, and returns the root word without the ness suffix."
   ]
  },
  {
   "cell_type": "code",
   "execution_count": 123,
   "id": "8aa66f50",
   "metadata": {},
   "outputs": [],
   "source": [
    "def remove_suffix_ness(word):\n",
    "    \"\"\"Remove the suffix from the word while keeping spelling in mind.\n",
    "\n",
    "    :param word: str - of word to remove suffix from.\n",
    "    :return: str - of word with suffix removed & spelling adjusted.\n",
    "\n",
    "    For example: \"heaviness\" becomes \"heavy\", but \"sadness\" becomes \"sad\".\n",
    "    \"\"\"\n",
    "    remove_ness = word[:-4] \n",
    "    if remove_ness[-1] =='i':\n",
    "        return remove_ness[:-1] + 'y' # replaces 'i' with 'y' if the last letter after 'ness' has been removed is 'i\n",
    "    return remove_ness"
   ]
  },
  {
   "cell_type": "code",
   "execution_count": 124,
   "id": "23744957",
   "metadata": {},
   "outputs": [
    {
     "data": {
      "text/plain": [
       "'happy'"
      ]
     },
     "execution_count": 124,
     "metadata": {},
     "output_type": "execute_result"
    }
   ],
   "source": [
    "remove_suffix_ness('happiness')"
   ]
  },
  {
   "cell_type": "markdown",
   "id": "e614178d",
   "metadata": {},
   "source": [
    "## Task 4. Extract and transform a word\n",
    "\n",
    "Suffixes are often used to change the part of speech a word is assigned to. A common practice in English is \"verbing\" or \"verbifying\" -- where an adjective becomes a verb by adding an en suffix.\n",
    "\n",
    "In this task, your sister is going to practice \"verbing\" words by extracting an adjective from a sentence and turning it into a verb. Fortunately, all the words that need to be transformed here are \"regular\" - they don't need spelling changes to add the suffix.\n",
    "\n",
    "Implement the adjective_to_verb(sentence, index) function that takes two parameters. A sentence using the vocabulary word, and the index of the word, once that sentence is split apart. The function should return the extracted adjective as a verb."
   ]
  },
  {
   "cell_type": "code",
   "execution_count": 113,
   "id": "9711b72e",
   "metadata": {},
   "outputs": [],
   "source": [
    "def adjective_to_verb(sentence, index):\n",
    "    \"\"\"Change the adjective within the sentence to a verb.\n",
    "\n",
    "    :param sentence: str - that uses the word in sentence.\n",
    "    :param index: int - index of the word to remove and transform.\n",
    "    :return: str - word that changes the extracted adjective to a verb.\n",
    "\n",
    "    For example, (\"It got dark as the sun set.\", 2) becomes \"darken\".\n",
    "    \"\"\"\n",
    "    sentence = sentence[:-1] # removes the period from the sentence\n",
    "    return sentence.split()[index]+'en'"
   ]
  },
  {
   "cell_type": "code",
   "execution_count": 114,
   "id": "2a350a9d",
   "metadata": {},
   "outputs": [
    {
     "data": {
      "text/plain": [
       "'brighten'"
      ]
     },
     "execution_count": 114,
     "metadata": {},
     "output_type": "execute_result"
    }
   ],
   "source": [
    "adjective_to_verb('I need to make that bright.', -1 )"
   ]
  },
  {
   "cell_type": "code",
   "execution_count": 115,
   "id": "9e173b3f",
   "metadata": {},
   "outputs": [
    {
     "data": {
      "text/plain": [
       "'darken'"
      ]
     },
     "execution_count": 115,
     "metadata": {},
     "output_type": "execute_result"
    }
   ],
   "source": [
    "adjective_to_verb('It got dark as the sun set.', 2)"
   ]
  },
  {
   "cell_type": "code",
   "execution_count": null,
   "id": "a0fc1667",
   "metadata": {},
   "outputs": [],
   "source": []
  }
 ],
 "metadata": {
  "kernelspec": {
   "display_name": "Python 3 (ipykernel)",
   "language": "python",
   "name": "python3"
  },
  "language_info": {
   "codemirror_mode": {
    "name": "ipython",
    "version": 3
   },
   "file_extension": ".py",
   "mimetype": "text/x-python",
   "name": "python",
   "nbconvert_exporter": "python",
   "pygments_lexer": "ipython3",
   "version": "3.9.7"
  }
 },
 "nbformat": 4,
 "nbformat_minor": 5
}
