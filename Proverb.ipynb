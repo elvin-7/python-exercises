{
 "cells": [
  {
   "cell_type": "markdown",
   "id": "25604a4f",
   "metadata": {},
   "source": [
    "# Instructions\n",
    "For want of a horseshoe nail, a kingdom was lost, or so the saying goes.\n",
    "\n",
    "Given a list of inputs, generate the relevant proverb. For example, given the list [\"nail\", \"shoe\", \"horse\", \"rider\", \"message\", \"battle\", \"kingdom\"], you will output the full text of this proverbial rhyme:\n",
    "\n",
    "```\n",
    "For want of a nail the shoe was lost.\n",
    "For want of a shoe the horse was lost.\n",
    "For want of a horse the rider was lost.\n",
    "For want of a rider the message was lost.\n",
    "For want of a message the battle was lost.\n",
    "For want of a battle the kingdom was lost.\n",
    "And all for the want of a nail.\n",
    "```\n",
    "\n",
    "Note that the list of inputs may vary; your solution should be able to handle lists of arbitrary length and content. No line of the output text should be a static, unchanging string; all should vary according to the input given.\n",
    "\n",
    "In unpacking-and-multiple-assignment, you learned multiple techniques for working with lists/tuples of arbitrary length as well as function arguments of arbitrary length. This exercise would be a great place to practice those techniques.\n",
    "\n",
    "### How this exercise is implemented for Python\n",
    "The test cases for this track add an additional keyword argument called qualifier. You should use this keyword arguments value to modify the final verse of your Proverb."
   ]
  },
  {
   "cell_type": "code",
   "execution_count": 104,
   "id": "9ccf606c",
   "metadata": {},
   "outputs": [],
   "source": [
    "def proverb(*words,qualifier=None):\n",
    "    \n",
    "    rhyme = []\n",
    "    \n",
    "    for i in range(len(words)-1):\n",
    "        rhyme.append(f'For want of a {words[i]} the {words[i+1]} was lost.')\n",
    "    \n",
    "    if len(words)>0 and qualifier:\n",
    "        rhyme.append(f'And all for the want of a {qualifier} {words[0]}.')\n",
    "    else:\n",
    "        rhyme.append(f'And all for the want of a {words[0]}.')\n",
    "        \n",
    "    return rhyme"
   ]
  },
  {
   "cell_type": "code",
   "execution_count": 105,
   "id": "83330235",
   "metadata": {},
   "outputs": [
    {
     "data": {
      "text/plain": [
       "['For want of a nail the shoe was lost.',\n",
       " 'For want of a shoe the gun was lost.',\n",
       " 'And all for the want of a horseshoe nail.']"
      ]
     },
     "execution_count": 105,
     "metadata": {},
     "output_type": "execute_result"
    }
   ],
   "source": [
    "proverb('nail','shoe','gun',qualifier='horseshoe')"
   ]
  },
  {
   "cell_type": "code",
   "execution_count": null,
   "id": "d707e3fa",
   "metadata": {},
   "outputs": [],
   "source": []
  }
 ],
 "metadata": {
  "kernelspec": {
   "display_name": "Python 3 (ipykernel)",
   "language": "python",
   "name": "python3"
  },
  "language_info": {
   "codemirror_mode": {
    "name": "ipython",
    "version": 3
   },
   "file_extension": ".py",
   "mimetype": "text/x-python",
   "name": "python",
   "nbconvert_exporter": "python",
   "pygments_lexer": "ipython3",
   "version": "3.9.7"
  }
 },
 "nbformat": 4,
 "nbformat_minor": 5
}
