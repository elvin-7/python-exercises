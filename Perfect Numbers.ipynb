{
 "cells": [
  {
   "cell_type": "markdown",
   "id": "1b95ab1c",
   "metadata": {},
   "source": [
    "# Instructions\n",
    "\n",
    "Determine if a number is perfect, abundant, or deficient based on Nicomachus' (60 - 120 CE) classification scheme for positive integers.\n",
    "\n",
    "The Greek mathematician Nicomachus devised a classification scheme for positive integers, identifying each as belonging uniquely to the categories of perfect, abundant, or deficient based on their aliquot sum. The aliquot sum is defined as the sum of the factors of a number not including the number itself. For example, the aliquot sum of 15 is 1 + 3 + 5 = 9.\n",
    "\n",
    "## Perfect\n",
    "A number is perfect when it equals its aliquot sum. For example:\n",
    "\n",
    "- 6 is a perfect number because 1 + 2 + 3 = 6\n",
    "- 28 is a perfect number because 1 + 2 + 4 + 7 + 14 = 28\n",
    "\n",
    "## Abundant\n",
    "A number is abundant when it is less than its aliquot sum. For example:\n",
    "\n",
    "- 12 is an abundant number because 1 + 2 + 3 + 4 + 6 = 16\n",
    "- 24 is an abundant number because 1 + 2 + 3 + 4 + 6 + 8 + 12 = 36\n",
    "\n",
    "## Deficient\n",
    "A number is deficient when it is greater than its aliquot sum. For example:\n",
    "\n",
    "- 8 is a deficient number because 1 + 2 + 4 = 7\n",
    "- Prime numbers are deficient\n",
    "\n",
    "## Task\n",
    "Implement a way to determine whether a given number is perfect. Depending on your language track, you may also need to implement a way to determine whether a given number is abundant or deficient.\n",
    "\n",
    "## Exception messages\n",
    "Sometimes it is necessary to raise an exception. When you do this, you should always include a meaningful error message to indicate what the source of the error is. This makes your code more readable and helps significantly with debugging. For situations where you know that the error source will be a certain type, you can choose to raise one of the built in error types, but should still include a meaningful message.\n",
    "\n",
    "This particular exercise requires that you use the raise statement to \"throw\" a ValueError if the classify() function is passed a number that is not a positive integer. The tests will only pass if you both raise the exception and include a message with it.\n",
    "\n",
    "To raise a ValueError with a message, write the message as an argument to the exception type:\n",
    "\n",
    "if a number to be classified is less than 1.\n",
    "raise ValueError(\"Classification is only possible for positive integers.\")"
   ]
  },
  {
   "cell_type": "code",
   "execution_count": 8,
   "id": "c05d2469",
   "metadata": {},
   "outputs": [],
   "source": [
    "def classify(number):\n",
    "    \"\"\" A perfect number equals the sum of its positive divisors.\n",
    "\n",
    "    :param number: int a positive integer\n",
    "    :return: str the classification of the input integer\n",
    "    \"\"\"\n",
    "    divisors = []\n",
    "    if number < 1:\n",
    "        raise ValueError('Classification is only possible for positive integers.')\n",
    "    for d in range(1,number):\n",
    "        if number % d == 0:\n",
    "            divisors.append(d)\n",
    "    if number == sum(divisors):\n",
    "        return 'perfect'\n",
    "    if number < sum(divisors):\n",
    "        return 'abundant'\n",
    "    if number > sum(divisors):\n",
    "        return 'deficient'\n",
    "    "
   ]
  },
  {
   "cell_type": "code",
   "execution_count": 10,
   "id": "8a581359",
   "metadata": {},
   "outputs": [
    {
     "name": "stdout",
     "output_type": "stream",
     "text": [
      "Perfect\n",
      "Perfect\n"
     ]
    }
   ],
   "source": [
    "print(classify(6))\n",
    "print(classify(28))"
   ]
  },
  {
   "cell_type": "code",
   "execution_count": 11,
   "id": "dc3489df",
   "metadata": {},
   "outputs": [
    {
     "name": "stdout",
     "output_type": "stream",
     "text": [
      "Abundant\n",
      "Abundant\n"
     ]
    }
   ],
   "source": [
    "print(classify(12))\n",
    "print(classify(24))"
   ]
  },
  {
   "cell_type": "code",
   "execution_count": 12,
   "id": "146a08da",
   "metadata": {},
   "outputs": [
    {
     "name": "stdout",
     "output_type": "stream",
     "text": [
      "Deficient\n"
     ]
    }
   ],
   "source": [
    "print(classify(8))"
   ]
  },
  {
   "cell_type": "code",
   "execution_count": 13,
   "id": "a59b0249",
   "metadata": {},
   "outputs": [
    {
     "ename": "ValueError",
     "evalue": "Classification is only possible for positive integers",
     "output_type": "error",
     "traceback": [
      "\u001b[1;31m---------------------------------------------------------------------------\u001b[0m",
      "\u001b[1;31mValueError\u001b[0m                                Traceback (most recent call last)",
      "\u001b[1;32m~\\AppData\\Local\\Temp/ipykernel_9412/52763213.py\u001b[0m in \u001b[0;36m<module>\u001b[1;34m\u001b[0m\n\u001b[1;32m----> 1\u001b[1;33m \u001b[0mprint\u001b[0m\u001b[1;33m(\u001b[0m\u001b[0mclassify\u001b[0m\u001b[1;33m(\u001b[0m\u001b[1;36m0\u001b[0m\u001b[1;33m)\u001b[0m\u001b[1;33m)\u001b[0m\u001b[1;33m\u001b[0m\u001b[1;33m\u001b[0m\u001b[0m\n\u001b[0m",
      "\u001b[1;32m~\\AppData\\Local\\Temp/ipykernel_9412/2297705548.py\u001b[0m in \u001b[0;36mclassify\u001b[1;34m(number)\u001b[0m\n\u001b[0;32m      7\u001b[0m     \u001b[0mdivisors\u001b[0m \u001b[1;33m=\u001b[0m \u001b[1;33m[\u001b[0m\u001b[1;33m]\u001b[0m\u001b[1;33m\u001b[0m\u001b[1;33m\u001b[0m\u001b[0m\n\u001b[0;32m      8\u001b[0m     \u001b[1;32mif\u001b[0m \u001b[0mnumber\u001b[0m \u001b[1;33m<\u001b[0m \u001b[1;36m1\u001b[0m\u001b[1;33m:\u001b[0m\u001b[1;33m\u001b[0m\u001b[1;33m\u001b[0m\u001b[0m\n\u001b[1;32m----> 9\u001b[1;33m         \u001b[1;32mraise\u001b[0m \u001b[0mValueError\u001b[0m\u001b[1;33m(\u001b[0m\u001b[1;34m'Classification is only possible for positive integers'\u001b[0m\u001b[1;33m)\u001b[0m\u001b[1;33m\u001b[0m\u001b[1;33m\u001b[0m\u001b[0m\n\u001b[0m\u001b[0;32m     10\u001b[0m     \u001b[1;32mfor\u001b[0m \u001b[0md\u001b[0m \u001b[1;32min\u001b[0m \u001b[0mrange\u001b[0m\u001b[1;33m(\u001b[0m\u001b[1;36m1\u001b[0m\u001b[1;33m,\u001b[0m\u001b[0mnumber\u001b[0m\u001b[1;33m)\u001b[0m\u001b[1;33m:\u001b[0m\u001b[1;33m\u001b[0m\u001b[1;33m\u001b[0m\u001b[0m\n\u001b[0;32m     11\u001b[0m         \u001b[1;32mif\u001b[0m \u001b[0mnumber\u001b[0m \u001b[1;33m%\u001b[0m \u001b[0md\u001b[0m \u001b[1;33m==\u001b[0m \u001b[1;36m0\u001b[0m\u001b[1;33m:\u001b[0m\u001b[1;33m\u001b[0m\u001b[1;33m\u001b[0m\u001b[0m\n",
      "\u001b[1;31mValueError\u001b[0m: Classification is only possible for positive integers"
     ]
    }
   ],
   "source": [
    "print(classify(0))"
   ]
  },
  {
   "cell_type": "code",
   "execution_count": null,
   "id": "6fa834a1",
   "metadata": {},
   "outputs": [],
   "source": []
  }
 ],
 "metadata": {
  "kernelspec": {
   "display_name": "Python 3 (ipykernel)",
   "language": "python",
   "name": "python3"
  },
  "language_info": {
   "codemirror_mode": {
    "name": "ipython",
    "version": 3
   },
   "file_extension": ".py",
   "mimetype": "text/x-python",
   "name": "python",
   "nbconvert_exporter": "python",
   "pygments_lexer": "ipython3",
   "version": "3.9.7"
  }
 },
 "nbformat": 4,
 "nbformat_minor": 5
}
