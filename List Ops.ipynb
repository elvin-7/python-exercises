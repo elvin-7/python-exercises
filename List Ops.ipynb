{
 "cells": [
  {
   "cell_type": "markdown",
   "id": "b5fa3ffd",
   "metadata": {},
   "source": [
    "# Instructions\n",
    "Implement basic list operations.\n",
    "\n",
    "In functional languages list operations like length, map, and reduce are very common. Implement a series of basic list operations, without using existing functions.\n",
    "\n",
    "The precise number and names of the operations to be implemented will be track dependent to avoid conflicts with existing names, but the general operations you will implement include:\n",
    "\n",
    "- append (given two lists, add all items in the second list to the end of the first list);\n",
    "- concatenate (given a series of lists, combine all items in all lists into one flattened list);\n",
    "- filter (given a predicate and a list, return the list of all items for which predicate(item) is True);\n",
    "- length (given a list, return the total number of items within it);\n",
    "- map (given a function and a list, return the list of the results of applying function(item) on all items);\n",
    "- foldl (given a function, a list, and initial accumulator, fold (reduce) each item into the accumulator from the left);\n",
    "- foldr (given a function, a list, and an initial accumulator, fold (reduce) each item into the accumulator from the right);\n",
    "- reverse (given a list, return a list with all the original items, but in reversed order).\n",
    "\n",
    "Note, the ordering in which arguments are passed to the fold functions (foldl, foldr) is significant."
   ]
  },
  {
   "cell_type": "code",
   "execution_count": 5,
   "id": "e9ceb102",
   "metadata": {},
   "outputs": [],
   "source": [
    "def append(list1, list2):\n",
    "    return list1+list2\n",
    "\n",
    "\n",
    "def concat(lists):\n",
    "    con_list = []\n",
    "    for i in lists:\n",
    "        con_list = append(con_list,i)\n",
    "    return con_list\n",
    "\n",
    "\n",
    "def filter(function, list):\n",
    "    return [item for item in list if function(item)]\n",
    "\n",
    "\n",
    "def length(list):\n",
    "    count = 0\n",
    "    for element in list:\n",
    "        count += 1\n",
    "    return count\n",
    "\n",
    "\n",
    "def map(function, list):\n",
    "    return [function(item) for item in list]\n",
    "\n",
    "\n",
    "def foldl(function, list, initial):\n",
    "    for item in list:\n",
    "        initial = function(initial,item)\n",
    "    return initial\n",
    "\n",
    "\n",
    "def foldr(function, list, initial):\n",
    "    for item in reversed(list):\n",
    "        initial = function(initial,item)\n",
    "    return initial\n",
    "\n",
    "    \n",
    "def reverse(list):\n",
    "    result = []\n",
    "    for i in range(len(list)-1,-1,-1):\n",
    "        result.append(list[i])\n",
    "    return result"
   ]
  },
  {
   "cell_type": "code",
   "execution_count": null,
   "id": "a61718c9",
   "metadata": {},
   "outputs": [],
   "source": []
  }
 ],
 "metadata": {
  "kernelspec": {
   "display_name": "Python 3 (ipykernel)",
   "language": "python",
   "name": "python3"
  },
  "language_info": {
   "codemirror_mode": {
    "name": "ipython",
    "version": 3
   },
   "file_extension": ".py",
   "mimetype": "text/x-python",
   "name": "python",
   "nbconvert_exporter": "python",
   "pygments_lexer": "ipython3",
   "version": "3.9.7"
  }
 },
 "nbformat": 4,
 "nbformat_minor": 5
}
