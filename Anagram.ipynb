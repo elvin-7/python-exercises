{
 "cells": [
  {
   "cell_type": "markdown",
   "id": "914e753a",
   "metadata": {},
   "source": [
    "# Introduction\n",
    "At a garage sale, you find a lovely vintage typewriter at a bargain price! Excitedly, you rush home, insert a sheet of paper, and start typing away. However, your excitement wanes when you examine the output: all words are garbled! For example, it prints \"stop\" instead of \"post\" and \"least\" instead of \"stale.\" Carefully, you try again, but now it prints \"spot\" and \"slate.\" After some experimentation, you find there is a random delay before each letter is printed, which messes up the order. You now understand why they sold it for so little money!\n",
    "\n",
    "You realize this quirk allows you to generate anagrams, which are words formed by rearranging the letters of another word. Pleased with your finding, you spend the rest of the day generating hundreds of anagrams.\n",
    "\n",
    "## Instructions\n",
    "Given a target word and one or more candidate words, your task is to find the candidates that are anagrams of the target.\n",
    "\n",
    "An anagram is a rearrangement of letters to form a new word: for example \"owns\" is an anagram of \"snow\". A word is not its own anagram: for example, \"stop\" is not an anagram of \"stop\".\n",
    "\n",
    "The target word and candidate words are made up of one or more ASCII alphabetic characters (A-Z and a-z). Lowercase and uppercase characters are equivalent: for example, \"PoTS\" is an anagram of \"sTOp\", but \"StoP\" is not an anagram of \"sTOp\". The words you need to find should be taken from the candidate words, using the same letter case.\n",
    "\n",
    "Given the target \"stone\" and the candidate words \"stone\", \"tones\", \"banana\", \"tons\", \"notes\", and \"Seton\", the anagram words you need to find are \"tones\", \"notes\", and \"Seton\"."
   ]
  },
  {
   "cell_type": "code",
   "execution_count": 16,
   "id": "89adba8e",
   "metadata": {},
   "outputs": [],
   "source": [
    "from collections import Counter\n",
    "\n",
    "def find_anagrams(word, candidates):\n",
    "    \n",
    "    anagrams = []\n",
    "    \n",
    "    word_counter = Counter(word.lower())\n",
    "        \n",
    "    for candidate in candidates:\n",
    "        if candidate.lower() != word.lower() and Counter(candidate.lower()) == word_counter:\n",
    "            anagrams.append(candidate)\n",
    "    return anagrams"
   ]
  },
  {
   "cell_type": "code",
   "execution_count": 17,
   "id": "a7cabb1c",
   "metadata": {},
   "outputs": [
    {
     "data": {
      "text/plain": [
       "['tones', 'notes', 'Seton']"
      ]
     },
     "execution_count": 17,
     "metadata": {},
     "output_type": "execute_result"
    }
   ],
   "source": [
    "find_anagrams('stone',['tones','banana','tons','notes','Seton'])"
   ]
  },
  {
   "cell_type": "code",
   "execution_count": 18,
   "id": "e07307f6",
   "metadata": {},
   "outputs": [
    {
     "data": {
      "text/plain": [
       "['lemons', 'melons']"
      ]
     },
     "execution_count": 18,
     "metadata": {},
     "output_type": "execute_result"
    }
   ],
   "source": [
    "find_anagrams('solemn',['lemons','cherry','melons'])"
   ]
  },
  {
   "cell_type": "markdown",
   "id": "637e8500",
   "metadata": {},
   "source": [
    "## Approach 2"
   ]
  },
  {
   "cell_type": "code",
   "execution_count": 19,
   "id": "4a46df00",
   "metadata": {},
   "outputs": [],
   "source": [
    "def is_anagram(word, candidate):\n",
    "    w = word.lower()\n",
    "    c = candidate.lower()\n",
    "    return sorted(w)==sorted(c) and w != c\n",
    "\n",
    "def find_anagrams2(word,candidates):\n",
    "    return [candidate for candidate in candidates if is_anagram(word,candidate)]"
   ]
  },
  {
   "cell_type": "code",
   "execution_count": 20,
   "id": "a65a0395",
   "metadata": {},
   "outputs": [
    {
     "data": {
      "text/plain": [
       "[]"
      ]
     },
     "execution_count": 20,
     "metadata": {},
     "output_type": "execute_result"
    }
   ],
   "source": [
    "find_anagrams2(\"good\", [\"dog\", \"goody\"])"
   ]
  },
  {
   "cell_type": "code",
   "execution_count": 21,
   "id": "1ac2c7ad",
   "metadata": {},
   "outputs": [
    {
     "data": {
      "text/plain": [
       "['inlets']"
      ]
     },
     "execution_count": 21,
     "metadata": {},
     "output_type": "execute_result"
    }
   ],
   "source": [
    "find_anagrams2(\"listen\", [\"enlists\", \"google\",\"inlets\",\"banana\"])"
   ]
  },
  {
   "cell_type": "code",
   "execution_count": 22,
   "id": "c9eb4ec5",
   "metadata": {},
   "outputs": [
    {
     "data": {
      "text/plain": [
       "['Eons', 'ONES']"
      ]
     },
     "execution_count": 22,
     "metadata": {},
     "output_type": "execute_result"
    }
   ],
   "source": [
    "find_anagrams2(\"nose\", [\"Eons\", \"ONES\"])"
   ]
  },
  {
   "cell_type": "code",
   "execution_count": null,
   "id": "16805c26",
   "metadata": {},
   "outputs": [],
   "source": []
  }
 ],
 "metadata": {
  "kernelspec": {
   "display_name": "Python 3 (ipykernel)",
   "language": "python",
   "name": "python3"
  },
  "language_info": {
   "codemirror_mode": {
    "name": "ipython",
    "version": 3
   },
   "file_extension": ".py",
   "mimetype": "text/x-python",
   "name": "python",
   "nbconvert_exporter": "python",
   "pygments_lexer": "ipython3",
   "version": "3.9.7"
  }
 },
 "nbformat": 4,
 "nbformat_minor": 5
}
