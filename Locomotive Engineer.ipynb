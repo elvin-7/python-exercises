{
 "cells": [
  {
   "cell_type": "markdown",
   "id": "02cc36b8",
   "metadata": {},
   "source": [
    "# Instructions\n",
    "\n",
    "Your friend Linus is a Locomotive Engineer who drives cargo trains between cities. Although they are amazing at handling trains, they are not amazing at handling logistics or computers. They would like to enlist your programming help organizing train details and correcting mistakes in route data."
   ]
  },
  {
   "cell_type": "markdown",
   "id": "c35fc74e",
   "metadata": {},
   "source": [
    "## Task 1. Create a list of all wagons\n",
    "\n",
    "Your friend has been keeping track of each wagon identifier (ID), but they are never sure how many wagons the system is going to have to process at any given time. It would be much easier for the rest of the logistics program to have this data packaged into a unified list.\n",
    "\n",
    "Implement a function get_list_of_wagons() that accepts an arbitrary number of wagon IDs. Each ID will be a positive integer. The function should then return the given IDs as a single list."
   ]
  },
  {
   "cell_type": "code",
   "execution_count": 40,
   "id": "da7d8597",
   "metadata": {},
   "outputs": [],
   "source": [
    "def get_list_of_wagons(*args):\n",
    "    \"\"\"Return a list of wagons.\n",
    "\n",
    "    :param: arbitrary number of wagons.\n",
    "    :return: list - list of wagons.\n",
    "    \"\"\"\n",
    "    a,*b = args\n",
    "    *args,= a,*b\n",
    "    \n",
    "    return args\n",
    "        "
   ]
  },
  {
   "cell_type": "code",
   "execution_count": 41,
   "id": "eb9dcb00",
   "metadata": {},
   "outputs": [
    {
     "data": {
      "text/plain": [
       "[1, 7, 12, 3, 14, 8, 5]"
      ]
     },
     "execution_count": 41,
     "metadata": {},
     "output_type": "execute_result"
    }
   ],
   "source": [
    "get_list_of_wagons(1, 7, 12, 3, 14, 8, 5)"
   ]
  },
  {
   "cell_type": "markdown",
   "id": "522db164",
   "metadata": {},
   "source": [
    "## Task 2. Fix the list of wagons\n",
    "\n",
    "At this point, you are starting to get a feel for the data and how it's used in the logistics program. The ID system always assigns the locomotive an ID of 1, with the remainder of the wagons in the train assigned a randomly chosen ID greater than 1.\n",
    "\n",
    "Your friend had to connect two new wagons to the train and forgot to update the system! Now, the first two wagons in the train list have to be moved to the end, or everything will be out of order.\n",
    "\n",
    "To make matters more complicated, your friend just uncovered a second list that appears to contain missing wagon IDs. All they can remember is that once the new wagons are moved, the IDs from this second list should be placed directly after the designated locomotive.\n",
    "\n",
    "Linus would be really grateful to you for fixing their mistakes and consolidating the data.\n",
    "\n",
    "Implement a function fix_list_of_wagons() that takes two lists containing wagon IDs. It should reposition the first two items of the first list to the end, and insert the values from the second list behind (on the right hand side of) the locomotive ID (1). The function should then return a list with the modifications."
   ]
  },
  {
   "cell_type": "code",
   "execution_count": 33,
   "id": "d91efcaa",
   "metadata": {},
   "outputs": [],
   "source": [
    "def fix_list_of_wagons(each_wagons_id, missing_wagons):\n",
    "    \"\"\"Fix the list of wagons.\n",
    "\n",
    "    :param each_wagons_id: list - the list of wagons.\n",
    "    :param missing_wagons: list - the list of missing wagons.\n",
    "    :return: list - list of wagons.\n",
    "    \"\"\"\n",
    "    a,b,c,*rest = each_wagons_id\n",
    "    *corrected_list, = c,*missing_wagons,*rest,a,b\n",
    "    return corrected_list"
   ]
  },
  {
   "cell_type": "code",
   "execution_count": 34,
   "id": "d1a892b0",
   "metadata": {},
   "outputs": [
    {
     "data": {
      "text/plain": [
       "[1, 3, 17, 6, 15, 7, 4, 12, 6, 3, 13, 2, 5]"
      ]
     },
     "execution_count": 34,
     "metadata": {},
     "output_type": "execute_result"
    }
   ],
   "source": [
    "fix_list_of_wagons([2, 5, 1, 7, 4, 12, 6, 3, 13], [3, 17, 6, 15])"
   ]
  },
  {
   "cell_type": "markdown",
   "id": "0bf5faad",
   "metadata": {},
   "source": [
    "## Task 3. Add missing stops\n",
    "\n",
    "Now that all the wagon data is correct, Linus would like you to update the system's routing information. Along a transport route, a train might make stops at a few different stations to pick up and/or drop off cargo. Each journey could have a different number of these intermediary delivery points. Your friend would like you to update the systems routing dict with any missing/additional delivery information.\n",
    "\n",
    "Implement a function add_missing_stops() that accepts a routing dict followed by a variable number of keyword arguments. These arguments could be in the form of a dict holding one or more stops, or any number of stop_number=city keyword pairs. Your function should then return the routing dict updated with an additional key that holds a list of all the added stops in order."
   ]
  },
  {
   "cell_type": "code",
   "execution_count": 57,
   "id": "3496b746",
   "metadata": {},
   "outputs": [],
   "source": [
    "def add_missing_stops(journey,**kwargs):\n",
    "    \"\"\"Add missing stops to route dict.\n",
    "\n",
    "    :param route: dict - the dict of routing information.\n",
    "    :param: arbitrary number of stops.\n",
    "    :return: dict - updated route dictionary.\n",
    "    \"\"\"\n",
    "    updated_stops = kwargs\n",
    "    stops = dict(updated_stops).values()\n",
    "    stops = {'stops':list(stops)}\n",
    "    missing_stops = {**journey,**stops}\n",
    "    return missing_stops"
   ]
  },
  {
   "cell_type": "code",
   "execution_count": 58,
   "id": "d3f60e31",
   "metadata": {},
   "outputs": [
    {
     "data": {
      "text/plain": [
       "{'from': 'New York',\n",
       " 'to': 'Miami',\n",
       " 'stops': ['Washington, DC',\n",
       "  'Charlotte',\n",
       "  'Atlanta',\n",
       "  'Jacksonville',\n",
       "  'Orlando']}"
      ]
     },
     "execution_count": 58,
     "metadata": {},
     "output_type": "execute_result"
    }
   ],
   "source": [
    "add_missing_stops({\"from\": \"New York\", \"to\": \"Miami\"},stop_1=\"Washington, DC\", stop_2=\"Charlotte\", stop_3=\"Atlanta\",\n",
    "                      stop_4=\"Jacksonville\", stop_5=\"Orlando\")"
   ]
  },
  {
   "cell_type": "markdown",
   "id": "606e4592",
   "metadata": {},
   "source": [
    "## Task 4. Extend routing information\n",
    "\n",
    "Linus has been working on the routing program and has noticed that certain routes are missing some important details. Initial route information has been constructed as a dict and your friend would like you to update that dict with whatever might be missing. Every route in the system requires slightly different details, so Linus would really prefer a generic solution.\n",
    "\n",
    "Implement a function called extend_route_information() that accepts two dicts. The first dict contains the origin and destination cities the train route runs between.\n",
    "\n",
    "The second dict contains other routing details such as train speed, length, or temperature. The function should return a consolidated dict with all routing information."
   ]
  },
  {
   "cell_type": "code",
   "execution_count": 59,
   "id": "082a274e",
   "metadata": {},
   "outputs": [],
   "source": [
    "def extend_route_information(route, more_route_information):\n",
    "    \"\"\"Extend route information with more_route_information.\n",
    "\n",
    "    :param route: dict - the route information.\n",
    "    :param more_route_information: dict -  extra route information.\n",
    "    :return: dict - extended route information.\n",
    "    \"\"\"\n",
    "    extended_info = {**route,**more_route_information}\n",
    "    return extended_info"
   ]
  },
  {
   "cell_type": "code",
   "execution_count": 60,
   "id": "4b9f64cc",
   "metadata": {},
   "outputs": [
    {
     "data": {
      "text/plain": [
       "{'from': 'Berlin', 'to': 'Hamburg', 'length': '100', 'speed': '50'}"
      ]
     },
     "execution_count": 60,
     "metadata": {},
     "output_type": "execute_result"
    }
   ],
   "source": [
    "extend_route_information({\"from\": \"Berlin\", \"to\": \"Hamburg\"}, {\"length\": \"100\", \"speed\": \"50\"})"
   ]
  },
  {
   "cell_type": "markdown",
   "id": "1e1a4e3b",
   "metadata": {},
   "source": [
    "## Task 5. Fix the wagon depot\n",
    "\n",
    "When Linus was surveying the wagon depot they noticed that the wagons were not getting stored in the correct order. In addition to an ID, each wagon has a color that corresponds to the type of cargo it carries. Wagons are stored in the depot in grids, where each column in the grid has wagons of the same color.\n",
    "\n",
    "However, the logistics system shows lists of wagons to be stored in the depot have their rows grouped by color. But for the storage grid to work correctly, each row should have three different colors so that the columns align by color. Your friend would like you to sort out the wagon depot lists, so that the wagons get stored correctly.\n",
    "\n",
    "Implement a function called fix_wagon_depot() that accepts a list of three items. Each list item is a sublist (or \"row\") that contains three tuples. Each tuple is a (wagon ID, wagon color) pair.\n",
    "\n",
    "Your function should return a list with the three \"row\" lists reordered to have the wagons swapped into their correct positions."
   ]
  },
  {
   "cell_type": "code",
   "execution_count": 145,
   "id": "4f71ceeb",
   "metadata": {},
   "outputs": [],
   "source": [
    "def fix_wagon_depot(wagons_rows):\n",
    "    \"\"\"Fix the list of rows of wagons.\n",
    "\n",
    "    :param wagons_rows: list[list[tuple]] - the list of rows of wagons.\n",
    "    :return: list[list[tuple]] - list of rows of wagons.\n",
    "    \"\"\"\n",
    "    row_1,row_2,row_3 = wagons_rows\n",
    "    return [[row1,row2,row3]for row1,row2,row3 in zip(row_1,row_2,row_3)]"
   ]
  },
  {
   "cell_type": "code",
   "execution_count": 146,
   "id": "72d0933f",
   "metadata": {},
   "outputs": [
    {
     "data": {
      "text/plain": [
       "[[(2, 'red'), (5, 'blue'), (3, 'orange')],\n",
       " [(4, 'red'), (9, 'blue'), (7, 'orange')],\n",
       " [(8, 'red'), (13, 'blue'), (11, 'orange')]]"
      ]
     },
     "execution_count": 146,
     "metadata": {},
     "output_type": "execute_result"
    }
   ],
   "source": [
    "fix_wagon_depot([\n",
    "                    [(2, \"red\"), (4, \"red\"), (8, \"red\")],\n",
    "                    [(5, \"blue\"), (9, \"blue\"), (13,\"blue\")],\n",
    "                    [(3, \"orange\"), (7, \"orange\"), (11, \"orange\")],\n",
    "                    ])"
   ]
  },
  {
   "cell_type": "code",
   "execution_count": null,
   "id": "6bed2b92",
   "metadata": {},
   "outputs": [],
   "source": []
  }
 ],
 "metadata": {
  "kernelspec": {
   "display_name": "Python 3 (ipykernel)",
   "language": "python",
   "name": "python3"
  },
  "language_info": {
   "codemirror_mode": {
    "name": "ipython",
    "version": 3
   },
   "file_extension": ".py",
   "mimetype": "text/x-python",
   "name": "python",
   "nbconvert_exporter": "python",
   "pygments_lexer": "ipython3",
   "version": "3.9.7"
  }
 },
 "nbformat": 4,
 "nbformat_minor": 5
}
