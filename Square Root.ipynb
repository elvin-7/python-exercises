{
 "cells": [
  {
   "cell_type": "markdown",
   "id": "372a277a",
   "metadata": {},
   "source": [
    "# Introduction\n",
    "We are launching a deep space exploration rocket and we need a way to make sure the navigation system stays on target.\n",
    "\n",
    "As the first step in our calculation, we take a target number and find its square root (that is, the number that when multiplied by itself equals the target number).\n",
    "\n",
    "The journey will be very long. To make the batteries last as long as possible, we had to make our rocket's onboard computer very power efficient. Unfortunately that means that we can't rely on fancy math libraries and functions, as they use more power. Instead we want to implement our own square root calculation.\n",
    "\n",
    "## Instructions\n",
    "Your task is to calculate the square root of a given number.\n",
    "\n",
    "- Try to avoid using the pre-existing math libraries of your language.\n",
    "- As input you'll be given a positive whole number, i.e. 1, 2, 3, 4…\n",
    "- You are only required to handle cases where the result is a positive whole number.\n",
    "\n",
    "Some potential approaches:\n",
    "\n",
    "- Linear or binary search for a number that gives the input number when squared.\n",
    "- Successive approximation using Newton's or Heron's method.\n",
    "- Calculating one digit at a time or one bit at a time.\n",
    "\n",
    "You can check out the Wikipedia pages on integer square root and methods of computing square roots to help with choosing a method of calculation.\n",
    "\n",
    "**How this Exercise is Structured in Python\n",
    "\n",
    "Python offers a wealth of mathematical functions in the form of the math module and built-ins such as the exponentiation operator **, pow() and sum(). However, we'd like you to consider the challenge of solving this exercise without those built-ins or modules.\n",
    "\n",
    "While there is a mathematical formula that will find the square root of any number, we have gone the route of having only natural numbers (positive integers) as solutions.\n",
    "It is possible to compute the square root of any natural number using only natural numbers in the computation."
   ]
  },
  {
   "cell_type": "code",
   "execution_count": 5,
   "id": "667833c2",
   "metadata": {},
   "outputs": [],
   "source": [
    "def square_root(number):\n",
    "    for sr in range(1,number+1):\n",
    "        if sr*sr == number:\n",
    "            return sr"
   ]
  },
  {
   "cell_type": "code",
   "execution_count": 6,
   "id": "5c576078",
   "metadata": {},
   "outputs": [
    {
     "data": {
      "text/plain": [
       "1"
      ]
     },
     "execution_count": 6,
     "metadata": {},
     "output_type": "execute_result"
    }
   ],
   "source": [
    "square_root(1)"
   ]
  },
  {
   "cell_type": "code",
   "execution_count": 20,
   "id": "2735cf44",
   "metadata": {},
   "outputs": [],
   "source": [
    "def square_root_binary_search(number):\n",
    "    nums = list(range(number))\n",
    "    if number == 1:\n",
    "        return number\n",
    "    start,end = 0, len(nums)-1\n",
    "    while start <= end:\n",
    "        mid = (start+end)//2\n",
    "        if nums[mid]*nums[mid] == number:\n",
    "            return nums[mid]\n",
    "        elif nums[mid]*nums[mid] > number:\n",
    "            end = mid\n",
    "        else:\n",
    "            start = mid"
   ]
  },
  {
   "cell_type": "code",
   "execution_count": 18,
   "id": "474a9b72",
   "metadata": {},
   "outputs": [
    {
     "data": {
      "text/plain": [
       "1"
      ]
     },
     "execution_count": 18,
     "metadata": {},
     "output_type": "execute_result"
    }
   ],
   "source": [
    "square_root_binary_search(1)"
   ]
  },
  {
   "cell_type": "code",
   "execution_count": 17,
   "id": "63d9d71b",
   "metadata": {},
   "outputs": [
    {
     "data": {
      "text/plain": [
       "5"
      ]
     },
     "execution_count": 17,
     "metadata": {},
     "output_type": "execute_result"
    }
   ],
   "source": [
    "square_root_binary_search(25)"
   ]
  },
  {
   "cell_type": "code",
   "execution_count": null,
   "id": "73193ea3",
   "metadata": {},
   "outputs": [],
   "source": []
  }
 ],
 "metadata": {
  "kernelspec": {
   "display_name": "Python 3 (ipykernel)",
   "language": "python",
   "name": "python3"
  },
  "language_info": {
   "codemirror_mode": {
    "name": "ipython",
    "version": 3
   },
   "file_extension": ".py",
   "mimetype": "text/x-python",
   "name": "python",
   "nbconvert_exporter": "python",
   "pygments_lexer": "ipython3",
   "version": "3.9.7"
  }
 },
 "nbformat": 4,
 "nbformat_minor": 5
}
