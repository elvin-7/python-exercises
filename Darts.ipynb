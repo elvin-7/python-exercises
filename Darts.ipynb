{
 "cells": [
  {
   "cell_type": "markdown",
   "id": "01df99ab",
   "metadata": {},
   "source": [
    "# Instructions\n",
    "\n",
    "Calculate the points scored in a single toss of a Darts game.\n",
    "\n",
    "Darts is a game where players throw darts at a target.\n",
    "\n",
    "In our particular instance of the game, the target rewards 4 different amounts of points, depending on where the dart lands:\n",
    "\n",
    "Our dart scoreboard with values from a complete miss to a bullseye\n",
    "\n",
    "- If the dart lands outside the target, player earns no points (0 points).\n",
    "- If the dart lands in the outer circle of the target, player earns 1 point.\n",
    "- If the dart lands in the middle circle of the target, player earns 5 points.\n",
    "- If the dart lands in the inner circle of the target, player earns 10 points.\n",
    "\n",
    "The outer circle has a radius of 10 units (this is equivalent to the total radius for the entire target), the middle circle a radius of 5 units, and the inner circle a radius of 1. Of course, they are all centered at the same point — that is, the circles are concentric defined by the coordinates (0, 0).\n",
    "\n",
    "Given a point in the target (defined by its Cartesian coordinates x and y, where x and y are real), calculate the correct score earned by a dart landing at that point."
   ]
  },
  {
   "cell_type": "code",
   "execution_count": 7,
   "id": "28eed8b4",
   "metadata": {},
   "outputs": [],
   "source": [
    "import math\n",
    "\n",
    "def score(x,y):\n",
    "    distance_from_origin = math.sqrt(x**2 + y**2)\n",
    "    if distance_from_origin <= 1:\n",
    "        score = 10\n",
    "    if (distance_from_origin>1) and (distance_from_origin<=5):\n",
    "        score = 5\n",
    "    if (distance_from_origin>5)and(distance_from_origin<=10):\n",
    "        score = 1\n",
    "    if distance_from_origin >10:\n",
    "        score = 0\n",
    "    return score\n",
    "        "
   ]
  },
  {
   "cell_type": "code",
   "execution_count": 8,
   "id": "5083dcd6",
   "metadata": {},
   "outputs": [
    {
     "data": {
      "text/plain": [
       "5"
      ]
     },
     "execution_count": 8,
     "metadata": {},
     "output_type": "execute_result"
    }
   ],
   "source": [
    "score(2,2)"
   ]
  },
  {
   "cell_type": "code",
   "execution_count": null,
   "id": "c97813ef",
   "metadata": {},
   "outputs": [],
   "source": []
  }
 ],
 "metadata": {
  "kernelspec": {
   "display_name": "Python 3 (ipykernel)",
   "language": "python",
   "name": "python3"
  },
  "language_info": {
   "codemirror_mode": {
    "name": "ipython",
    "version": 3
   },
   "file_extension": ".py",
   "mimetype": "text/x-python",
   "name": "python",
   "nbconvert_exporter": "python",
   "pygments_lexer": "ipython3",
   "version": "3.9.7"
  }
 },
 "nbformat": 4,
 "nbformat_minor": 5
}
