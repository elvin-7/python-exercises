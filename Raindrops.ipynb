{
 "cells": [
  {
   "cell_type": "markdown",
   "id": "c33a39f6",
   "metadata": {},
   "source": [
    "# Introduction\n",
    "Raindrops is a slightly more complex version of the FizzBuzz challenge, a classic interview question.\n",
    "\n",
    "## Instructions\n",
    "Your task is to convert a number into its corresponding raindrop sounds.\n",
    "\n",
    "If a given number:\n",
    "- is divisible by 3, add \"Pling\" to the result.\n",
    "- is divisible by 5, add \"Plang\" to the result.\n",
    "- is divisible by 7, add \"Plong\" to the result.\n",
    "- is not divisible by 3, 5, or 7, the result should be the number as a string.\n",
    "\n",
    "### Examples\n",
    "\n",
    "- 28 is divisible by 7, but not 3 or 5, so the result would be \"Plong\".\n",
    "- 30 is divisible by 3 and 5, but not 7, so the result would be \"PlingPlang\".\n",
    "- 34 is not divisible by 3, 5, or 7, so the result would be \"34\"."
   ]
  },
  {
   "cell_type": "code",
   "execution_count": 68,
   "id": "545b4a20",
   "metadata": {},
   "outputs": [],
   "source": [
    "def convert(number):\n",
    "    \n",
    "    final = []\n",
    "    sounds = {3:'Pling',5:'Plang',7:'Plong'}\n",
    "    \n",
    "    for i in sounds:\n",
    "        if number % i == 0:\n",
    "            final.append(sounds[i])\n",
    "    return ''.join(final) or str(number)"
   ]
  },
  {
   "cell_type": "code",
   "execution_count": 72,
   "id": "55b3886e",
   "metadata": {},
   "outputs": [
    {
     "name": "stdout",
     "output_type": "stream",
     "text": [
      "PlingPlong\n",
      "PlingPlang\n",
      "PlangPlong\n",
      "Plong\n",
      "23\n"
     ]
    }
   ],
   "source": [
    "print(convert(21))\n",
    "print(convert(30))\n",
    "print(convert(35))\n",
    "print(convert(28))\n",
    "print(convert(23))"
   ]
  },
  {
   "cell_type": "markdown",
   "id": "783e9bea",
   "metadata": {},
   "source": [
    "# Other Approaches to this problem"
   ]
  },
  {
   "cell_type": "markdown",
   "id": "dacfc596",
   "metadata": {},
   "source": [
    "## Using if statements:"
   ]
  },
  {
   "cell_type": "code",
   "execution_count": 69,
   "id": "8be9b597",
   "metadata": {},
   "outputs": [],
   "source": [
    "def convert_a(num):\n",
    "    \n",
    "    sounds = ''\n",
    "    \n",
    "    if num % 3 == 0: sounds += 'Pling'\n",
    "    if num % 5 == 0: sounds += 'Plang'\n",
    "    if num % 7 == 0: sounds += 'Plong'\n",
    "        \n",
    "    return sounds or str(num)"
   ]
  },
  {
   "cell_type": "code",
   "execution_count": 71,
   "id": "fd51e95d",
   "metadata": {},
   "outputs": [
    {
     "name": "stdout",
     "output_type": "stream",
     "text": [
      "PlingPlong\n",
      "PlingPlang\n",
      "PlangPlong\n",
      "Plong\n",
      "23\n"
     ]
    }
   ],
   "source": [
    "print(convert_a(21))\n",
    "print(convert_a(30))\n",
    "print(convert_a(35))\n",
    "print(convert_a(28))\n",
    "print(convert_a(23))"
   ]
  },
  {
   "cell_type": "markdown",
   "id": "088a8ffc",
   "metadata": {},
   "source": [
    "## Using a loop and an f-string:"
   ]
  },
  {
   "cell_type": "code",
   "execution_count": 73,
   "id": "f8e44dca",
   "metadata": {},
   "outputs": [],
   "source": [
    "def convert_b(number):\n",
    "    sounds = ''\n",
    "    drops = ('i',3),('a',5),('o',7)\n",
    "    \n",
    "    for vowel, factor in drops:\n",
    "        if number % factor == 0:\n",
    "            sounds += f\"Pl{vowel}ng\"\n",
    "    return sounds or str(number)"
   ]
  },
  {
   "cell_type": "code",
   "execution_count": 74,
   "id": "37be3d6c",
   "metadata": {},
   "outputs": [
    {
     "name": "stdout",
     "output_type": "stream",
     "text": [
      "PlingPlong\n",
      "PlingPlang\n",
      "PlangPlong\n",
      "Plong\n",
      "23\n"
     ]
    }
   ],
   "source": [
    "print(convert_b(21))\n",
    "print(convert_b(30))\n",
    "print(convert_b(35))\n",
    "print(convert_b(28))\n",
    "print(convert_b(23))"
   ]
  },
  {
   "cell_type": "markdown",
   "id": "b3346acf",
   "metadata": {},
   "source": [
    "## Using Sequence(s) with join:"
   ]
  },
  {
   "cell_type": "code",
   "execution_count": 75,
   "id": "4fc1ace1",
   "metadata": {},
   "outputs": [],
   "source": [
    "def convert_c(number):\n",
    "    \n",
    "    vowels = ['i','a','o']\n",
    "    factors = [3,5,7]\n",
    "    sounds = ''.join(f'Pl{vowels[index]}ng' for \n",
    "                    index, factor in \n",
    "                    enumerate(factors) if (number % factor == 0))\n",
    "    \n",
    "    return sounds or str(number)"
   ]
  },
  {
   "cell_type": "code",
   "execution_count": 76,
   "id": "1605c717",
   "metadata": {},
   "outputs": [
    {
     "name": "stdout",
     "output_type": "stream",
     "text": [
      "PlingPlong\n",
      "PlingPlang\n",
      "PlangPlong\n",
      "Plong\n",
      "23\n"
     ]
    }
   ],
   "source": [
    "print(convert_c(21))\n",
    "print(convert_c(30))\n",
    "print(convert_c(35))\n",
    "print(convert_c(28))\n",
    "print(convert_c(23))"
   ]
  },
  {
   "cell_type": "code",
   "execution_count": null,
   "id": "3a9f3ae6",
   "metadata": {},
   "outputs": [],
   "source": []
  }
 ],
 "metadata": {
  "kernelspec": {
   "display_name": "Python 3 (ipykernel)",
   "language": "python",
   "name": "python3"
  },
  "language_info": {
   "codemirror_mode": {
    "name": "ipython",
    "version": 3
   },
   "file_extension": ".py",
   "mimetype": "text/x-python",
   "name": "python",
   "nbconvert_exporter": "python",
   "pygments_lexer": "ipython3",
   "version": "3.9.7"
  }
 },
 "nbformat": 4,
 "nbformat_minor": 5
}
