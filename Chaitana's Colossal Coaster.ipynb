{
 "cells": [
  {
   "cell_type": "markdown",
   "id": "ee4b51cd",
   "metadata": {},
   "source": [
    "# Instructions\n",
    "Chaitana owns a very popular theme park. She only has one ride in the very center of beautifully landscaped grounds: The Biggest Roller Coaster in the World(TM). Although there is only this one attraction, people travel from all over the world and stand in line for hours for the opportunity to ride Chaitana's hypercoaster.\n",
    "\n",
    "There are two queues for this ride, each represented as a list:\n",
    "\n",
    "1. Normal Queue\n",
    "2. Express Queue (also known as the Fast-track) - where people pay extra for priority access.\n",
    "\n",
    "You have been asked to write some code to better manage the guests at the park. You need to implement the following functions as soon as possible before the guests (and your boss, Chaitana!) get cranky. Make sure you read carefully. Some tasks ask that you change or update the existing queue, while others ask you to make a copy of it."
   ]
  },
  {
   "cell_type": "markdown",
   "id": "7d20319e",
   "metadata": {},
   "source": [
    "## Task 1. Add me to the queue\n",
    "\n",
    "Define the add_me_to_the_queue() function that takes 4 parameters express_queue, normal_queue, ticket_type, person_nam> and returns the appropriate queue updated with the person's name.\n",
    "\n",
    "1. ticket_type is an int with 1 == express_queue and 0 == normal_queue.\n",
    "2. person_name is the name (as a str) of the person to be added to the respective queue."
   ]
  },
  {
   "cell_type": "code",
   "execution_count": 20,
   "id": "3b92a2fa",
   "metadata": {},
   "outputs": [],
   "source": [
    "def add_me_to_the_queue(express_queue, normal_queue, ticket_type, person_name):\n",
    "    \"\"\"Add a person to the 'express' or 'normal' queue depending on the ticket number.\n",
    "\n",
    "    :param express_queue: list - names in the Fast-track queue.\n",
    "    :param normal_queue: list - names in the normal queue.\n",
    "    :param ticket_type: int - type of ticket. 1 = express, 0 = normal.\n",
    "    :param person_name: str - name of person to add to a queue.\n",
    "    :return: list - the (updated) queue the name was added to.\n",
    "    \"\"\"\n",
    "    if ticket_type == 1:\n",
    "        express_queue.append(person_name)\n",
    "        return express_queue\n",
    "    elif ticket_type == 0:\n",
    "        normal_queue.append(person_name)\n",
    "        return normal_queue"
   ]
  },
  {
   "cell_type": "code",
   "execution_count": 22,
   "id": "f0c13780",
   "metadata": {},
   "outputs": [
    {
     "data": {
      "text/plain": [
       "['Tony', 'Bruce', 'RichieRich']"
      ]
     },
     "execution_count": 22,
     "metadata": {},
     "output_type": "execute_result"
    }
   ],
   "source": [
    "add_me_to_the_queue(express_queue=[\"Tony\", \"Bruce\"], normal_queue=[\"RobotGuy\", \"WW\"], ticket_type=1, person_name=\"RichieRich\")"
   ]
  },
  {
   "cell_type": "code",
   "execution_count": 23,
   "id": "6e35088d",
   "metadata": {},
   "outputs": [
    {
     "data": {
      "text/plain": [
       "['RobotGuy', 'WW', 'HawkEye']"
      ]
     },
     "execution_count": 23,
     "metadata": {},
     "output_type": "execute_result"
    }
   ],
   "source": [
    "add_me_to_the_queue(express_queue=[\"Tony\", \"Bruce\"], normal_queue=[\"RobotGuy\", \"WW\"], ticket_type=0, person_name=\"HawkEye\")"
   ]
  },
  {
   "cell_type": "markdown",
   "id": "96ab7b6e",
   "metadata": {},
   "source": [
    "## Task 2. Where are my friends?\n",
    "\n",
    "One person arrived late at the park but wants to join the queue where their friends are waiting. But they have no idea where their friends are standing and there isn't any phone reception to call them.\n",
    "\n",
    "Define the find_my_friend() function that takes 2 parameters queue and friend_name and returns the position in the queue of the person's name.\n",
    "\n",
    "1. queue is the list of people standing in the queue.\n",
    "2. friend_name is the name of the friend whose index (place in the queue) you need to find.\n",
    "\n",
    "Remember: Indexing starts at 0 from the left, and -1 from the right."
   ]
  },
  {
   "cell_type": "code",
   "execution_count": 24,
   "id": "c8ec71af",
   "metadata": {},
   "outputs": [],
   "source": [
    "def find_my_friend(queue, friend_name):\n",
    "    \"\"\"Search the queue for a name and return their queue position (index).\n",
    "\n",
    "    :param queue: list - names in the queue.\n",
    "    :param friend_name: str - name of friend to find.\n",
    "    :return: int - index at which the friends name was found.\n",
    "    \"\"\"\n",
    "\n",
    "    return queue.index(friend_name)"
   ]
  },
  {
   "cell_type": "code",
   "execution_count": 25,
   "id": "6358e551",
   "metadata": {},
   "outputs": [
    {
     "data": {
      "text/plain": [
       "1"
      ]
     },
     "execution_count": 25,
     "metadata": {},
     "output_type": "execute_result"
    }
   ],
   "source": [
    "find_my_friend(queue=[\"Natasha\", \"Steve\", \"T'challa\", \"Wanda\", \"Rocket\"], friend_name=\"Steve\")"
   ]
  },
  {
   "cell_type": "markdown",
   "id": "6c1ba8e0",
   "metadata": {},
   "source": [
    "## Task 3. Can I please join them?\n",
    "\n",
    "Now that their friends have been found (in task #2 above), the late arriver would like to join them at their place in the queue. Define the add_me_with_my_friends() function that takes 3 parameters queue, index, and person_name.\n",
    "\n",
    "1. queue is the list of people standing in the queue.\n",
    "2. index is the position at which the new person should be added.\n",
    "3. person_name is the name of the person to add at the index position.\n",
    "\n",
    "Return the queue updated with the late arrivals name."
   ]
  },
  {
   "cell_type": "code",
   "execution_count": 26,
   "id": "fd3e3b22",
   "metadata": {},
   "outputs": [],
   "source": [
    "def add_me_with_my_friends(queue, index, person_name):\n",
    "    \"\"\"Insert the late arrival's name at a specific index of the queue.\n",
    "\n",
    "    :param queue: list - names in the queue.\n",
    "    :param index: int - the index at which to add the new name.\n",
    "    :param person_name: str - the name to add.\n",
    "    :return: list - queue updated with new name.\n",
    "    \"\"\"\n",
    "\n",
    "    queue.insert(index,person_name)\n",
    "    return queue"
   ]
  },
  {
   "cell_type": "code",
   "execution_count": 27,
   "id": "0cecf3b7",
   "metadata": {},
   "outputs": [
    {
     "data": {
      "text/plain": [
       "['Natasha', 'Bucky', 'Steve', \"T'challa\", 'Wanda', 'Rocket']"
      ]
     },
     "execution_count": 27,
     "metadata": {},
     "output_type": "execute_result"
    }
   ],
   "source": [
    "add_me_with_my_friends(queue=[\"Natasha\", \"Steve\", \"T'challa\", \"Wanda\", \"Rocket\"], index=1, person_name=\"Bucky\")"
   ]
  },
  {
   "cell_type": "markdown",
   "id": "92f4b453",
   "metadata": {},
   "source": [
    "## Task 4. Mean person in the queue\n",
    "\n",
    "You just heard from the queue that there is a really mean person shoving, shouting, and making trouble. You need to throw that miscreant out for bad behavior!\n",
    "\n",
    "Define the remove_the_mean_person() function that takes 2 parameters queue and person_name.\n",
    "\n",
    "queue is the list of people standing in the queue.\n",
    "person_name is the name of the person that needs to be kicked out.\n",
    "Return the queue updated without the mean person's name."
   ]
  },
  {
   "cell_type": "code",
   "execution_count": 28,
   "id": "9261154c",
   "metadata": {},
   "outputs": [],
   "source": [
    "def remove_the_mean_person(queue, person_name):\n",
    "    \"\"\"Remove the mean person from the queue by the provided name.\n",
    "\n",
    "    :param queue: list - names in the queue.\n",
    "    :param person_name: str - name of mean person.\n",
    "    :return: list - queue update with the mean persons name removed.\n",
    "    \"\"\"\n",
    "\n",
    "    queue.remove(person_name)\n",
    "    return queue"
   ]
  },
  {
   "cell_type": "code",
   "execution_count": 29,
   "id": "6821671c",
   "metadata": {},
   "outputs": [
    {
     "data": {
      "text/plain": [
       "['Natasha', 'Steve', 'Wanda', 'Rocket']"
      ]
     },
     "execution_count": 29,
     "metadata": {},
     "output_type": "execute_result"
    }
   ],
   "source": [
    "remove_the_mean_person(queue=[\"Natasha\", \"Steve\", \"Eltran\", \"Wanda\", \"Rocket\"], person_name=\"Eltran\")"
   ]
  },
  {
   "cell_type": "markdown",
   "id": "d70a571d",
   "metadata": {},
   "source": [
    "## Task 5. Namefellows\n",
    "\n",
    "You may not have seen two unrelated people who look exactly the same, but you have definitely seen unrelated people with the exact same name (namefellows)! Today, it looks like there are a lot of them in attendance. You want to know how many times a particular name occurs in the queue.\n",
    "\n",
    "Define the how_many_namefellows() function that takes 2 parameters queue and person_name.\n",
    "\n",
    "1. queue is the list of people standing in the queue.\n",
    "2. person_name is the name you think might occur more than once in the queue.\n",
    "\n",
    "Return the number of occurrences of person_name, as an int."
   ]
  },
  {
   "cell_type": "code",
   "execution_count": 31,
   "id": "27a6ed5e",
   "metadata": {},
   "outputs": [],
   "source": [
    "def how_many_namefellows(queue, person_name):\n",
    "    \"\"\"Count how many times the provided name appears in the queue.\n",
    "\n",
    "    :param queue: list - names in the queue.\n",
    "    :param person_name: str - name you wish to count or track.\n",
    "    :return: int - the number of times the name appears in the queue.\n",
    "    \"\"\"\n",
    "\n",
    "    return queue.count(person_name)"
   ]
  },
  {
   "cell_type": "code",
   "execution_count": 32,
   "id": "d6661ff0",
   "metadata": {},
   "outputs": [
    {
     "data": {
      "text/plain": [
       "2"
      ]
     },
     "execution_count": 32,
     "metadata": {},
     "output_type": "execute_result"
    }
   ],
   "source": [
    "how_many_namefellows(queue=[\"Natasha\", \"Steve\", \"Eltran\", \"Natasha\", \"Rocket\"], person_name=\"Natasha\")"
   ]
  },
  {
   "cell_type": "markdown",
   "id": "1a98db74",
   "metadata": {},
   "source": [
    "## Task 6. Remove the last person\n",
    "\n",
    "Sadly, it's overcrowded at the park today and you need to remove the last person in the normal line (you will give them a voucher to come back in the fast-track on another day). You will have to define the function remove_the_last_person() that takes 1 parameter queue, which is the list of people standing in the queue.\n",
    "\n",
    "You should update the list and also return the name of the person who was removed, so you can write them a voucher."
   ]
  },
  {
   "cell_type": "code",
   "execution_count": 33,
   "id": "f22defa2",
   "metadata": {},
   "outputs": [],
   "source": [
    "def remove_the_last_person(queue):\n",
    "    \"\"\"Remove the person in the last index from the queue and return their name.\n",
    "\n",
    "    :param queue: list - names in the queue.\n",
    "    :return: str - name that has been removed from the end of the queue.\n",
    "    \"\"\"\n",
    "\n",
    "    return queue.pop(-1)"
   ]
  },
  {
   "cell_type": "code",
   "execution_count": 34,
   "id": "dceecf90",
   "metadata": {},
   "outputs": [
    {
     "data": {
      "text/plain": [
       "'Rocket'"
      ]
     },
     "execution_count": 34,
     "metadata": {},
     "output_type": "execute_result"
    }
   ],
   "source": [
    "remove_the_last_person(queue=[\"Natasha\", \"Steve\", \"Eltran\", \"Natasha\", \"Rocket\"])"
   ]
  },
  {
   "cell_type": "markdown",
   "id": "cf62b563",
   "metadata": {},
   "source": [
    "## Task 7. Sort the Queue List\n",
    "\n",
    "For administrative purposes, you need to get all the names in a given queue in alphabetical order.\n",
    "\n",
    "Define the sorted_names() function that takes 1 argument, queue, (the list of people standing in the queue), and returns a sorted copy of the list."
   ]
  },
  {
   "cell_type": "code",
   "execution_count": 35,
   "id": "048ef8a7",
   "metadata": {},
   "outputs": [],
   "source": [
    "def sorted_names(queue):\n",
    "    \"\"\"Sort the names in the queue in alphabetical order and return the result.\n",
    "\n",
    "    :param queue: list - names in the queue.\n",
    "    :return: list - copy of the queue in alphabetical order.\n",
    "    \"\"\"\n",
    "\n",
    "    return sorted(queue)"
   ]
  },
  {
   "cell_type": "code",
   "execution_count": 36,
   "id": "beaa91a8",
   "metadata": {},
   "outputs": [
    {
     "data": {
      "text/plain": [
       "['Eltran', 'Natasha', 'Natasha', 'Rocket', 'Steve']"
      ]
     },
     "execution_count": 36,
     "metadata": {},
     "output_type": "execute_result"
    }
   ],
   "source": [
    "sorted_names(queue=[\"Natasha\", \"Steve\", \"Eltran\", \"Natasha\", \"Rocket\"])"
   ]
  },
  {
   "cell_type": "code",
   "execution_count": null,
   "id": "7de14e98",
   "metadata": {},
   "outputs": [],
   "source": []
  }
 ],
 "metadata": {
  "kernelspec": {
   "display_name": "Python 3 (ipykernel)",
   "language": "python",
   "name": "python3"
  },
  "language_info": {
   "codemirror_mode": {
    "name": "ipython",
    "version": 3
   },
   "file_extension": ".py",
   "mimetype": "text/x-python",
   "name": "python",
   "nbconvert_exporter": "python",
   "pygments_lexer": "ipython3",
   "version": "3.9.7"
  }
 },
 "nbformat": 4,
 "nbformat_minor": 5
}
