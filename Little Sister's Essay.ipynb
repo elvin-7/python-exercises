{
 "cells": [
  {
   "cell_type": "markdown",
   "id": "1176dbea",
   "metadata": {},
   "source": [
    "# Instructions\n",
    "In this exercise you are helping your younger sister edit her paper for school. The teacher is looking for correct punctuation, grammar, and excellent word choice.\n",
    "\n",
    "You have four tasks to clean up and modify strings."
   ]
  },
  {
   "cell_type": "markdown",
   "id": "545cd9e4",
   "metadata": {},
   "source": [
    "## Task 1. Capitalize the title of the paper\n",
    "\n",
    "Any good paper needs a properly formatted title. Implement the function capitalize_title(title) which takes a title str as a parameter and capitalizes the first letter of each word. This function should return a str in title case."
   ]
  },
  {
   "cell_type": "code",
   "execution_count": 1,
   "id": "dd4523a6",
   "metadata": {},
   "outputs": [],
   "source": [
    "def capitalize_title(title):\n",
    "    \"\"\"Convert the first letter of each word in the title to uppercase if needed.\n",
    "\n",
    "    :param title: str - title string that needs title casing.\n",
    "    :return: str - title string in title case (first letters capitalized).\n",
    "    \"\"\"\n",
    "\n",
    "    return title.title()"
   ]
  },
  {
   "cell_type": "code",
   "execution_count": 4,
   "id": "cfbb9f31",
   "metadata": {},
   "outputs": [
    {
     "data": {
      "text/plain": [
       "'My Hobbies'"
      ]
     },
     "execution_count": 4,
     "metadata": {},
     "output_type": "execute_result"
    }
   ],
   "source": [
    "capitalize_title('my hobbies')"
   ]
  },
  {
   "cell_type": "markdown",
   "id": "c035bfcc",
   "metadata": {},
   "source": [
    "## Task 2. Check if each sentence ends with a period\n",
    "\n",
    "You want to make sure that the punctuation in the paper is perfect. Implement the function check_sentence_ending() that takes sentence as a parameter. This function should return a bool."
   ]
  },
  {
   "cell_type": "code",
   "execution_count": 5,
   "id": "1f9bc72b",
   "metadata": {},
   "outputs": [],
   "source": [
    "def check_sentence_ending(sentence):\n",
    "    \"\"\"Check the ending of the sentence to verify that a period is present.\n",
    "\n",
    "    :param sentence: str - a sentence to check.\n",
    "    :return: bool - return True if punctuated correctly with period, False otherwise.\n",
    "    \"\"\"\n",
    "\n",
    "    return sentence.endswith('.')"
   ]
  },
  {
   "cell_type": "code",
   "execution_count": 8,
   "id": "038bbd5f",
   "metadata": {},
   "outputs": [
    {
     "data": {
      "text/plain": [
       "True"
      ]
     },
     "execution_count": 8,
     "metadata": {},
     "output_type": "execute_result"
    }
   ],
   "source": [
    "check_sentence_ending(\"I like to hike, bake, and read.\")"
   ]
  },
  {
   "cell_type": "markdown",
   "id": "aea26753",
   "metadata": {},
   "source": [
    "## Task 3. Clean up spacing\n",
    "\n",
    "To make the paper look professional, unnecessary spacing needs to be removed. Implement the function clean_up_spacing() that takes sentence as a parameter. The function should remove extra whitespace at both the beginning and the end of the sentence, returning a new, updated sentence str."
   ]
  },
  {
   "cell_type": "code",
   "execution_count": 9,
   "id": "96e590a8",
   "metadata": {},
   "outputs": [],
   "source": [
    "def clean_up_spacing(sentence):\n",
    "    \"\"\"Verify that there isn't any whitespace at the start and end of the sentence.\n",
    "\n",
    "    :param sentence: str - a sentence to clean of leading and trailing space characters.\n",
    "    :return: str - a sentence that has been cleaned of leading and trailing space characters.\n",
    "    \"\"\"\n",
    "\n",
    "    return sentence.strip()"
   ]
  },
  {
   "cell_type": "code",
   "execution_count": 10,
   "id": "cad195b8",
   "metadata": {},
   "outputs": [
    {
     "data": {
      "text/plain": [
       "'I like to go on hikes with my dog.'"
      ]
     },
     "execution_count": 10,
     "metadata": {},
     "output_type": "execute_result"
    }
   ],
   "source": [
    "clean_up_spacing(\" I like to go on hikes with my dog.  \")"
   ]
  },
  {
   "cell_type": "markdown",
   "id": "1b5f46ba",
   "metadata": {},
   "source": [
    "## Task 4. Replace words with a synonym\n",
    "\n",
    "To make the paper even better, you can replace some of the adjectives with their synonyms. Write the function replace_word_choice() that takes sentence, old_word, and new_word as parameters. This function should replace all instances of the old_word with the new_word, and return a new str with the updated sentence."
   ]
  },
  {
   "cell_type": "code",
   "execution_count": 11,
   "id": "b5ba7568",
   "metadata": {},
   "outputs": [],
   "source": [
    "def replace_word_choice(sentence, old_word, new_word):\n",
    "    \"\"\"Replace a word in the provided sentence with a new one.\n",
    "\n",
    "    :param sentence: str - a sentence to replace words in.\n",
    "    :param old_word: str - word to replace.\n",
    "    :param new_word: str - replacement word.\n",
    "    :return: str - input sentence with new words in place of old words.\n",
    "    \"\"\"\n",
    "\n",
    "    return sentence.replace(old_word,new_word)"
   ]
  },
  {
   "cell_type": "code",
   "execution_count": 12,
   "id": "c4f839f5",
   "metadata": {},
   "outputs": [
    {
     "data": {
      "text/plain": [
       "'I bake amazing cakes.'"
      ]
     },
     "execution_count": 12,
     "metadata": {},
     "output_type": "execute_result"
    }
   ],
   "source": [
    "replace_word_choice(\"I bake good cakes.\", \"good\", \"amazing\")"
   ]
  },
  {
   "cell_type": "code",
   "execution_count": null,
   "id": "70accfec",
   "metadata": {},
   "outputs": [],
   "source": []
  }
 ],
 "metadata": {
  "kernelspec": {
   "display_name": "Python 3 (ipykernel)",
   "language": "python",
   "name": "python3"
  },
  "language_info": {
   "codemirror_mode": {
    "name": "ipython",
    "version": 3
   },
   "file_extension": ".py",
   "mimetype": "text/x-python",
   "name": "python",
   "nbconvert_exporter": "python",
   "pygments_lexer": "ipython3",
   "version": "3.9.7"
  }
 },
 "nbformat": 4,
 "nbformat_minor": 5
}
