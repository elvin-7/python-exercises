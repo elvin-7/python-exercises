{
 "cells": [
  {
   "cell_type": "markdown",
   "id": "c6135edc-aee1-411b-b041-4a6cace37031",
   "metadata": {},
   "source": [
    "# Instructions\n",
    "Given the position of two queens on a chess board, indicate whether or not they are positioned so that they can attack each other.\n",
    "\n",
    "In the game of chess, a queen can attack pieces which are on the same row, column, or diagonal.\n",
    "\n",
    "A chessboard can be represented by an 8 by 8 array.\n",
    "\n",
    "So if you are told the white queen is at c5 (zero-indexed at column 2, row 3) and the black queen at f2 (zero-indexed at column 5, row 6), then you know that the set-up is like so:\n",
    "\n",
    "A chess board with two queens. Arrows emanating from the queen at c5 indicate possible directions of capture along file, rank and diagonal.\n",
    "\n",
    "You are also able to answer whether the queens can attack each other. In this case, that answer would be yes, they can, because both pieces share a diagonal.\n",
    "\n",
    "\n",
    "### Exception messages\n",
    "Sometimes it is necessary to raise an exception. When you do this, you should always include a meaningful error message to indicate what the source of the error is. This makes your code more readable and helps significantly with debugging. For situations where you know that the error source will be a certain type, you can choose to raise one of the built in error types, but should still include a meaningful message.\n",
    "\n",
    "This particular exercise requires that you use the raise statement to \"throw\" ValueErrors if the Queen constructor is passed numbers that are negative, or numbers that are not a valid row or column. The tests will only pass if you both raise the exception and include a message with it. You also should raise a ValueError if both the queens passed to the can_attack() method are on the same location.\n",
    "\n",
    "To raise a ValueError with a message, write the message as an argument to the exception type:\n",
    "```\n",
    "# if the row parameter is negative\n",
    "raise ValueError(\"row not positive\")\n",
    "\n",
    "# if the row parameter is not on the defined board\n",
    "raise ValueError(\"row not on board\")\n",
    "\n",
    "# if the column parameter is negative\n",
    "raise ValueError(\"column not positive\")\n",
    "\n",
    "# if the column parameter is not on the defined board\n",
    "raise ValueError(\"column not on board\")\n",
    "\n",
    "# if both the queens are on the same location\n",
    "raise ValueError(\"Invalid queen position: both queens in the same square\")\n",
    "```"
   ]
  },
  {
   "cell_type": "code",
   "execution_count": 23,
   "id": "48326785-d281-4a8f-92df-aa3de940ca71",
   "metadata": {},
   "outputs": [],
   "source": [
    "class Queen:\n",
    "    def __init__(self, row, column):\n",
    "        self.row = row\n",
    "        self.column = column\n",
    "        if self.row < 0:\n",
    "            raise ValueError(\"row not positive\")\n",
    "        elif self.row not in range(8):\n",
    "            raise ValueError(\"row not on board\")\n",
    "        elif self.column <0:\n",
    "            raise ValueError(\"column not positive\")\n",
    "        elif self.column not in range(8):\n",
    "            raise ValueError(\"column not on board\")\n",
    "            \n",
    "    def can_attack(self, another_queen):\n",
    "        diagonals = []\n",
    "        if another_queen.row == self.row and another_queen.column==self.column:\n",
    "            raise ValueError(\"Invalid queen position: both queens in the same square\")\n",
    "        if self.row == another_queen.row:\n",
    "            return True\n",
    "        if self.column == another_queen.column:\n",
    "            return True\n",
    "        if abs(self.row - another_queen.row) == abs(self.column - another_queen.column):\n",
    "            return True\n",
    "        return False"
   ]
  },
  {
   "cell_type": "code",
   "execution_count": 24,
   "id": "f9a1d09e-7521-4c22-8073-c30bd2d24aaa",
   "metadata": {},
   "outputs": [
    {
     "data": {
      "text/plain": [
       "<__main__.Queen at 0x25e9cddd510>"
      ]
     },
     "execution_count": 24,
     "metadata": {},
     "output_type": "execute_result"
    }
   ],
   "source": [
    "Queen(2, 2)"
   ]
  },
  {
   "cell_type": "code",
   "execution_count": 25,
   "id": "91c795e9-377f-41b0-ba8d-37ee76a6dd88",
   "metadata": {},
   "outputs": [
    {
     "ename": "ValueError",
     "evalue": "row not positive",
     "output_type": "error",
     "traceback": [
      "\u001b[31m---------------------------------------------------------------------------\u001b[39m",
      "\u001b[31mValueError\u001b[39m                                Traceback (most recent call last)",
      "\u001b[36mCell\u001b[39m\u001b[36m \u001b[39m\u001b[32mIn[25]\u001b[39m\u001b[32m, line 1\u001b[39m\n\u001b[32m----> \u001b[39m\u001b[32m1\u001b[39m \u001b[43mQueen\u001b[49m\u001b[43m(\u001b[49m\u001b[43m-\u001b[49m\u001b[32;43m2\u001b[39;49m\u001b[43m,\u001b[49m\u001b[43m \u001b[49m\u001b[32;43m2\u001b[39;49m\u001b[43m)\u001b[49m\n",
      "\u001b[36mCell\u001b[39m\u001b[36m \u001b[39m\u001b[32mIn[23]\u001b[39m\u001b[32m, line 6\u001b[39m, in \u001b[36mQueen.__init__\u001b[39m\u001b[34m(self, row, column)\u001b[39m\n\u001b[32m      4\u001b[39m \u001b[38;5;28mself\u001b[39m.column = column\n\u001b[32m      5\u001b[39m \u001b[38;5;28;01mif\u001b[39;00m \u001b[38;5;28mself\u001b[39m.row < \u001b[32m0\u001b[39m:\n\u001b[32m----> \u001b[39m\u001b[32m6\u001b[39m     \u001b[38;5;28;01mraise\u001b[39;00m \u001b[38;5;167;01mValueError\u001b[39;00m(\u001b[33m\"\u001b[39m\u001b[33mrow not positive\u001b[39m\u001b[33m\"\u001b[39m)\n\u001b[32m      7\u001b[39m \u001b[38;5;28;01melif\u001b[39;00m \u001b[38;5;28mself\u001b[39m.row \u001b[38;5;129;01mnot\u001b[39;00m \u001b[38;5;129;01min\u001b[39;00m \u001b[38;5;28mrange\u001b[39m(\u001b[32m8\u001b[39m):\n\u001b[32m      8\u001b[39m     \u001b[38;5;28;01mraise\u001b[39;00m \u001b[38;5;167;01mValueError\u001b[39;00m(\u001b[33m\"\u001b[39m\u001b[33mrow not on board\u001b[39m\u001b[33m\"\u001b[39m)\n",
      "\u001b[31mValueError\u001b[39m: row not positive"
     ]
    }
   ],
   "source": [
    "Queen(-2, 2)"
   ]
  },
  {
   "cell_type": "code",
   "execution_count": 26,
   "id": "555c5ade-341c-4ee3-85b0-1cbda05a8325",
   "metadata": {},
   "outputs": [
    {
     "ename": "ValueError",
     "evalue": "row not on board",
     "output_type": "error",
     "traceback": [
      "\u001b[31m---------------------------------------------------------------------------\u001b[39m",
      "\u001b[31mValueError\u001b[39m                                Traceback (most recent call last)",
      "\u001b[36mCell\u001b[39m\u001b[36m \u001b[39m\u001b[32mIn[26]\u001b[39m\u001b[32m, line 1\u001b[39m\n\u001b[32m----> \u001b[39m\u001b[32m1\u001b[39m \u001b[43mQueen\u001b[49m\u001b[43m(\u001b[49m\u001b[32;43m8\u001b[39;49m\u001b[43m,\u001b[49m\u001b[43m \u001b[49m\u001b[32;43m4\u001b[39;49m\u001b[43m)\u001b[49m\n",
      "\u001b[36mCell\u001b[39m\u001b[36m \u001b[39m\u001b[32mIn[23]\u001b[39m\u001b[32m, line 8\u001b[39m, in \u001b[36mQueen.__init__\u001b[39m\u001b[34m(self, row, column)\u001b[39m\n\u001b[32m      6\u001b[39m     \u001b[38;5;28;01mraise\u001b[39;00m \u001b[38;5;167;01mValueError\u001b[39;00m(\u001b[33m\"\u001b[39m\u001b[33mrow not positive\u001b[39m\u001b[33m\"\u001b[39m)\n\u001b[32m      7\u001b[39m \u001b[38;5;28;01melif\u001b[39;00m \u001b[38;5;28mself\u001b[39m.row \u001b[38;5;129;01mnot\u001b[39;00m \u001b[38;5;129;01min\u001b[39;00m \u001b[38;5;28mrange\u001b[39m(\u001b[32m8\u001b[39m):\n\u001b[32m----> \u001b[39m\u001b[32m8\u001b[39m     \u001b[38;5;28;01mraise\u001b[39;00m \u001b[38;5;167;01mValueError\u001b[39;00m(\u001b[33m\"\u001b[39m\u001b[33mrow not on board\u001b[39m\u001b[33m\"\u001b[39m)\n\u001b[32m      9\u001b[39m \u001b[38;5;28;01melif\u001b[39;00m \u001b[38;5;28mself\u001b[39m.column <\u001b[32m0\u001b[39m:\n\u001b[32m     10\u001b[39m     \u001b[38;5;28;01mraise\u001b[39;00m \u001b[38;5;167;01mValueError\u001b[39;00m(\u001b[33m\"\u001b[39m\u001b[33mcolumn not positive\u001b[39m\u001b[33m\"\u001b[39m)\n",
      "\u001b[31mValueError\u001b[39m: row not on board"
     ]
    }
   ],
   "source": [
    "Queen(8, 4)"
   ]
  },
  {
   "cell_type": "code",
   "execution_count": 27,
   "id": "8dc0ccca-9a7d-493b-9d10-44b62e335e0e",
   "metadata": {},
   "outputs": [
    {
     "data": {
      "text/plain": [
       "False"
      ]
     },
     "execution_count": 27,
     "metadata": {},
     "output_type": "execute_result"
    }
   ],
   "source": [
    "Queen(2, 4).can_attack(Queen(6, 6))"
   ]
  },
  {
   "cell_type": "code",
   "execution_count": 28,
   "id": "e5ce5d6e-2ebe-457b-873a-9ff4b50ec37a",
   "metadata": {},
   "outputs": [
    {
     "data": {
      "text/plain": [
       "True"
      ]
     },
     "execution_count": 28,
     "metadata": {},
     "output_type": "execute_result"
    }
   ],
   "source": [
    "Queen(2, 4).can_attack(Queen(2, 6))"
   ]
  },
  {
   "cell_type": "code",
   "execution_count": null,
   "id": "451aa4c3-cfad-4575-8ebd-01b71a22df63",
   "metadata": {},
   "outputs": [],
   "source": []
  }
 ],
 "metadata": {
  "kernelspec": {
   "display_name": "'def_kernel'",
   "language": "python",
   "name": "default_projects"
  },
  "language_info": {
   "codemirror_mode": {
    "name": "ipython",
    "version": 3
   },
   "file_extension": ".py",
   "mimetype": "text/x-python",
   "name": "python",
   "nbconvert_exporter": "python",
   "pygments_lexer": "ipython3",
   "version": "3.11.11"
  }
 },
 "nbformat": 4,
 "nbformat_minor": 5
}
