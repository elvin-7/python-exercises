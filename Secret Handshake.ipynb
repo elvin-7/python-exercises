{
 "cells": [
  {
   "cell_type": "markdown",
   "id": "212e4f25",
   "metadata": {},
   "source": [
    "# Introduction\n",
    "You are starting a secret coding club with some friends and friends-of-friends. Not everyone knows each other, so you and your friends have decided to create a secret handshake that you can use to recognize that someone is a member. You don't want anyone who isn't in the know to be able to crack the code.\n",
    "\n",
    "You've designed the code so that one person says a number between 1 and 31, and the other person turns it into a series of actions.\n",
    "\n",
    "## Instructions\n",
    "Your task is to convert a number between 1 and 31 to a sequence of actions in the secret handshake.\n",
    "\n",
    "The sequence of actions is chosen by looking at the rightmost five digits of the number once it's been converted to binary. Start at the right-most digit and move left.\n",
    "\n",
    "The actions for each number place are:\n",
    "\n",
    "- 00001 = wink\n",
    "- 00010 = double blink\n",
    "- 00100 = close your eyes\n",
    "- 01000 = jump\n",
    "- 10000 = Reverse the order of the operations in the secret handshake.\n",
    "\n",
    "Let's use the number 9 as an example:\n",
    "\n",
    "- 9 in binary is 1001.\n",
    "- The digit that is farthest to the right is 1, so the first action is wink.\n",
    "- Going left, the next digit is 0, so there is no double-blink.\n",
    "- Going left again, the next digit is 0, so you leave your eyes open.\n",
    "- Going left again, the next digit is 1, so you jump.\n",
    "\n",
    "That was the last digit, so the final code is:\n",
    "\n",
    "- wink, jump\n",
    "\n",
    "Given the number 26, which is 11010 in binary, we get the following actions:\n",
    "\n",
    "- double blink\n",
    "- jump\n",
    "- reverse actions\n",
    "\n",
    "The secret handshake for 26 is therefore:\n",
    "\n",
    "- jump, double blink\n"
   ]
  },
  {
   "cell_type": "code",
   "execution_count": 30,
   "id": "ac7a8173",
   "metadata": {},
   "outputs": [],
   "source": [
    "def commands(binary_str):\n",
    "    \n",
    "    handshake = []\n",
    "    \n",
    "    actions = ['jump','close your eyes','double blink','wink']\n",
    "    \n",
    "    for i in range(-1,-5,-1):\n",
    "        if binary_str[i] == '1':\n",
    "            handshake.append(actions[i])\n",
    "    if binary_str[0] == '1':\n",
    "        handshake.reverse()\n",
    "    return handshake"
   ]
  },
  {
   "cell_type": "code",
   "execution_count": 31,
   "id": "881cd092",
   "metadata": {},
   "outputs": [
    {
     "data": {
      "text/plain": [
       "['double blink', 'wink']"
      ]
     },
     "execution_count": 31,
     "metadata": {},
     "output_type": "execute_result"
    }
   ],
   "source": [
    "commands('10011')"
   ]
  },
  {
   "cell_type": "code",
   "execution_count": 32,
   "id": "08d6ab7e",
   "metadata": {},
   "outputs": [
    {
     "data": {
      "text/plain": [
       "['wink', 'close your eyes', 'jump']"
      ]
     },
     "execution_count": 32,
     "metadata": {},
     "output_type": "execute_result"
    }
   ],
   "source": [
    "commands('01101')"
   ]
  },
  {
   "cell_type": "markdown",
   "id": "614a917a",
   "metadata": {},
   "source": [
    "## Solution 2"
   ]
  },
  {
   "cell_type": "code",
   "execution_count": 34,
   "id": "b78e3983",
   "metadata": {},
   "outputs": [],
   "source": [
    "def commands2(binary_str):\n",
    "    handshake = []\n",
    "    \n",
    "    actions = ['wink','double blink','close your eyes','jump']\n",
    "    \n",
    "    for i in range(4):\n",
    "        if binary_str[-(i+1)] == '1':\n",
    "            handshake.append(actions[i])\n",
    "    if binary_str[0] == '1':\n",
    "        handshake.reverse()\n",
    "        \n",
    "    return handshake"
   ]
  },
  {
   "cell_type": "code",
   "execution_count": 35,
   "id": "5c395c2b",
   "metadata": {},
   "outputs": [
    {
     "data": {
      "text/plain": [
       "['double blink', 'wink']"
      ]
     },
     "execution_count": 35,
     "metadata": {},
     "output_type": "execute_result"
    }
   ],
   "source": [
    "commands2('10011')"
   ]
  },
  {
   "cell_type": "code",
   "execution_count": 36,
   "id": "4dc88050",
   "metadata": {},
   "outputs": [
    {
     "data": {
      "text/plain": [
       "['wink', 'close your eyes', 'jump']"
      ]
     },
     "execution_count": 36,
     "metadata": {},
     "output_type": "execute_result"
    }
   ],
   "source": [
    "commands2('01101')"
   ]
  },
  {
   "cell_type": "code",
   "execution_count": null,
   "id": "0eb00746",
   "metadata": {},
   "outputs": [],
   "source": []
  }
 ],
 "metadata": {
  "kernelspec": {
   "display_name": "Python 3 (ipykernel)",
   "language": "python",
   "name": "python3"
  },
  "language_info": {
   "codemirror_mode": {
    "name": "ipython",
    "version": 3
   },
   "file_extension": ".py",
   "mimetype": "text/x-python",
   "name": "python",
   "nbconvert_exporter": "python",
   "pygments_lexer": "ipython3",
   "version": "3.9.7"
  }
 },
 "nbformat": 4,
 "nbformat_minor": 5
}
