{
 "cells": [
  {
   "cell_type": "markdown",
   "id": "26c886b5",
   "metadata": {},
   "source": [
    "# Instructions\n",
    "Given a number from 0 to 999,999,999,999, spell out that number in English.\n",
    "\n",
    "## Step 1\n",
    "Handle the basic case of 0 through 99.\n",
    "\n",
    "If the input to the program is 22, then the output should be 'twenty-two'.\n",
    "\n",
    "Your program should complain loudly if given a number outside the blessed range.\n",
    "\n",
    "Some good test cases for this program are:\n",
    "\n",
    "- 0\n",
    "- 14\n",
    "- 50\n",
    "- 98\n",
    "- -1\n",
    "- 100\n",
    "### Extension\n",
    "If you're on a Mac, shell out to Mac OS X's say program to talk out loud. If you're on Linux or Windows, eSpeakNG may be available with the command espeak.\n",
    "\n",
    "## Step 2\n",
    "Implement breaking a number up into chunks of thousands.\n",
    "\n",
    "So 1234567890 should yield a list like 1, 234, 567, and 890, while the far simpler 1000 should yield just 1 and 0.\n",
    "\n",
    "## Step 3\n",
    "Now handle inserting the appropriate scale word between those chunks.\n",
    "\n",
    "So 1234567890 should yield '1 billion 234 million 567 thousand 890'\n",
    "\n",
    "The program must also report any values that are out of range. It's fine to stop at \"trillion\".\n",
    "\n",
    "## Step 4\n",
    "Put it all together to get nothing but plain English.\n",
    "\n",
    "12345 should give twelve thousand three hundred forty-five.\n",
    "\n",
    "The program must also report any values that are out of range.\n",
    "\n",
    "### Exception messages\n",
    "Sometimes it is necessary to raise an exception. When you do this, you should always include a meaningful error message to indicate what the source of the error is. This makes your code more readable and helps significantly with debugging. For situations where you know that the error source will be a certain type, you can choose to raise one of the built in error types, but should still include a meaningful message.\n",
    "\n",
    "This particular exercise requires that you use the raise statement to \"throw\" a ValueError if the number input to say() is out of range. The tests will only pass if you both raise the exception and include a message with it.\n",
    "\n",
    "To raise a ValueError with a message, write the message as an argument to the exception type:\n",
    "```\n",
    "# if the number is negative\n",
    "raise ValueError(\"input out of range\")\n",
    "\n",
    "# if the number is larger than 999,999,999,999\n",
    "raise ValueError(\"input out of range\")\n",
    "```"
   ]
  },
  {
   "cell_type": "code",
   "execution_count": 34,
   "id": "3cb38bf7",
   "metadata": {},
   "outputs": [],
   "source": [
    "def say(number):\n",
    "    \n",
    "    if number < 0 or number > 999999999999:\n",
    "        raise ValueError('input out of range')\n",
    "    units = [\"zero\", \"one\", \"two\", \"three\", \"four\", \"five\", \"six\", \"seven\", \"eight\", \"nine\"]\n",
    "    teens = [\"ten\",\"eleven\",\"twelve\",\"thirteen\",\"fourteen\",\"fifteen\",\"sixteen\",\"seventeen\",\"eighteen\",\"nineteen\"]\n",
    "    tens = [\"twenty\",\"thirty\", \"forty\", \"fifty\", \"sixty\", \"seventy\", \"eighty\", \"ninety\"]\n",
    "\n",
    "    if number <=9:\n",
    "        return units[number]\n",
    "    \n",
    "    elif number >= 10 and number <= 19:\n",
    "        return teens[number-10]\n",
    "    \n",
    "    elif 20 <= number <= 99:\n",
    "        return tens[(number//10)-2] + (\"-\" +units[number % 10] if number % 10 !=0 else \"\")\n",
    "    \n",
    "    elif 100 <= number <= 999:\n",
    "        result = say(number//100) + \" hundred\"\n",
    "        remainder = number % 100\n",
    "        if remainder != 0:\n",
    "            result += \" \"+say(remainder)\n",
    "        return result\n",
    "    \n",
    "    elif 1000 <= number <= 999999:\n",
    "        result = say(number//1000) + \" thousand\"\n",
    "        remainder = number % 1000\n",
    "        if remainder != 0:\n",
    "            result += \" \"+say(remainder)\n",
    "        return result \n",
    "        \n",
    "    elif 1000000 <= number <= 999999999:\n",
    "        result = say(number//1000000) + \" million\"\n",
    "        remainder = number % 1000000\n",
    "        if remainder != 0:\n",
    "            result += \" \"+say(remainder)\n",
    "        return result\n",
    "            \n",
    "    elif 1000000000 <= number <= 999999999999:\n",
    "        result = say(number//1000000000) + \" billion\"\n",
    "        remainder = number % 1000000000\n",
    "        if remainder != 0:\n",
    "            result += \" \"+say(remainder)\n",
    "        return result"
   ]
  },
  {
   "cell_type": "code",
   "execution_count": 40,
   "id": "790ca444",
   "metadata": {},
   "outputs": [
    {
     "data": {
      "text/plain": [
       "'one hundred twenty-one billion two hundred twenty-five million three hundred sixty-seven thousand four hundred sixty-one'"
      ]
     },
     "execution_count": 40,
     "metadata": {},
     "output_type": "execute_result"
    }
   ],
   "source": [
    "say(121225367461)"
   ]
  },
  {
   "cell_type": "code",
   "execution_count": null,
   "id": "9e338f05",
   "metadata": {},
   "outputs": [],
   "source": []
  }
 ],
 "metadata": {
  "kernelspec": {
   "display_name": "Python 3 (ipykernel)",
   "language": "python",
   "name": "python3"
  },
  "language_info": {
   "codemirror_mode": {
    "name": "ipython",
    "version": 3
   },
   "file_extension": ".py",
   "mimetype": "text/x-python",
   "name": "python",
   "nbconvert_exporter": "python",
   "pygments_lexer": "ipython3",
   "version": "3.9.7"
  }
 },
 "nbformat": 4,
 "nbformat_minor": 5
}
