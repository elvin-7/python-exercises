{
 "cells": [
  {
   "cell_type": "markdown",
   "id": "f53669b6",
   "metadata": {},
   "source": [
    "# Instructions\n",
    "\n",
    "Implement run-length encoding and decoding.\n",
    "\n",
    "Run-length encoding (RLE) is a simple form of data compression, where runs (consecutive data elements) are replaced by just one data value and count.\n",
    "\n",
    "For example we can represent the original 53 characters with only 13.\n",
    "```\n",
    "\"WWWWWWWWWWWWBWWWWWWWWWWWWBBBWWWWWWWWWWWWWWWWWWWWWWWWB\"  ->  \"12WB12W3B24WB\"\n",
    "```\n",
    "RLE allows the original data to be perfectly reconstructed from the compressed data, which makes it a lossless data compression.\n",
    "```\n",
    "\"AABCCCDEEEE\"  ->  \"2AB3CD4E\"  ->  \"AABCCCDEEEE\"\n",
    "```\n",
    "For simplicity, you can assume that the unencoded string will only contain the letters A through Z (either lower or upper case) and whitespace. This way data to be encoded will never contain any numbers and numbers inside data to be decoded always represent the count for the following character."
   ]
  },
  {
   "cell_type": "code",
   "execution_count": 38,
   "id": "557fdcc3",
   "metadata": {},
   "outputs": [
    {
     "name": "stdout",
     "output_type": "stream",
     "text": [
      "WWWWWWWWWWWWBWWWWWWWWWWWWBBBWWWWWWWWWWWWWWWWWWWWWWWWB\n",
      "AABCCCDEEEE\n",
      "  hsqq qww  \n",
      "\n",
      "\n",
      "12WB12W3B24WB\n",
      "2AB3CD4E\n",
      "2 hs2q q2w2 \n"
     ]
    }
   ],
   "source": [
    "def decode(string):\n",
    "    output = \"\"\n",
    "    i = 0\n",
    "    \n",
    "    while i<len(string):\n",
    "        count_str = \"\"\n",
    "        while i < len(string) and string[i].isdigit():\n",
    "            count_str += string[i]\n",
    "            i += 1\n",
    "        if not count_str:\n",
    "            count = 1\n",
    "        else:\n",
    "            count = int(count_str)\n",
    "            \n",
    "        if i < len(string):\n",
    "            char = string[i]\n",
    "            output += char * count\n",
    "            i += 1\n",
    "        \n",
    "    return output\n",
    "                \n",
    "print(decode(\"12WB12W3B24WB\"))\n",
    "print(decode(\"2AB3CD4E\"))\n",
    "print(decode(\"2 hs2q q2w2 \"))\n",
    "\n",
    "print()\n",
    "print()\n",
    "\n",
    "\n",
    "def encode(string):\n",
    "    output = ''\n",
    "    count = 1  \n",
    "    \n",
    "    \n",
    "    for i in range(1,len(string)):\n",
    "        if string[i] == string[i-1]: \n",
    "            count += 1\n",
    "        else:\n",
    "            if count != 1:\n",
    "                output += f\"{count}{string[i-1]}\"  \n",
    "                count = 1\n",
    "            else:\n",
    "                output += string[i-1]\n",
    "    if count != 1:\n",
    "        output += f\"{count}{string[-1]}\"\n",
    "    else:\n",
    "        output += string[-1]\n",
    "    \n",
    "    return output\n",
    "\n",
    "print(encode(\"WWWWWWWWWWWWBWWWWWWWWWWWWBBBWWWWWWWWWWWWWWWWWWWWWWWWB\"))\n",
    "print(encode(\"AABCCCDEEEE\"))\n",
    "print(encode(\"  hsqq qww  \"))"
   ]
  },
  {
   "cell_type": "code",
   "execution_count": null,
   "id": "6732c168",
   "metadata": {},
   "outputs": [],
   "source": []
  }
 ],
 "metadata": {
  "kernelspec": {
   "display_name": "Python 3 (ipykernel)",
   "language": "python",
   "name": "python3"
  },
  "language_info": {
   "codemirror_mode": {
    "name": "ipython",
    "version": 3
   },
   "file_extension": ".py",
   "mimetype": "text/x-python",
   "name": "python",
   "nbconvert_exporter": "python",
   "pygments_lexer": "ipython3",
   "version": "3.9.7"
  }
 },
 "nbformat": 4,
 "nbformat_minor": 5
}
