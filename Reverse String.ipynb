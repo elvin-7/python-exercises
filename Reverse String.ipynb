{
 "cells": [
  {
   "cell_type": "code",
   "execution_count": 17,
   "id": "8efd6c83",
   "metadata": {},
   "outputs": [],
   "source": [
    "def reverse(text):\n",
    "    return \"\".join(reversed(text))"
   ]
  },
  {
   "cell_type": "code",
   "execution_count": 20,
   "id": "129dab06",
   "metadata": {},
   "outputs": [
    {
     "data": {
      "text/plain": [
       "'tobor'"
      ]
     },
     "execution_count": 20,
     "metadata": {},
     "output_type": "execute_result"
    }
   ],
   "source": [
    "reverse('robot')"
   ]
  },
  {
   "cell_type": "code",
   "execution_count": 21,
   "id": "00b90a97",
   "metadata": {},
   "outputs": [
    {
     "data": {
      "text/plain": [
       "'nemaR'"
      ]
     },
     "execution_count": 21,
     "metadata": {},
     "output_type": "execute_result"
    }
   ],
   "source": [
    "reverse('Ramen')"
   ]
  },
  {
   "cell_type": "code",
   "execution_count": 22,
   "id": "6308b5be",
   "metadata": {},
   "outputs": [
    {
     "data": {
      "text/plain": [
       "\"!yrgnuh m'I\""
      ]
     },
     "execution_count": 22,
     "metadata": {},
     "output_type": "execute_result"
    }
   ],
   "source": [
    "reverse(\"I'm hungry!\")"
   ]
  },
  {
   "cell_type": "code",
   "execution_count": 23,
   "id": "39a769a4",
   "metadata": {},
   "outputs": [
    {
     "data": {
      "text/plain": [
       "'racecar'"
      ]
     },
     "execution_count": 23,
     "metadata": {},
     "output_type": "execute_result"
    }
   ],
   "source": [
    "reverse('racecar')"
   ]
  },
  {
   "cell_type": "code",
   "execution_count": 24,
   "id": "e8f0efef",
   "metadata": {},
   "outputs": [
    {
     "data": {
      "text/plain": [
       "'reward'"
      ]
     },
     "execution_count": 24,
     "metadata": {},
     "output_type": "execute_result"
    }
   ],
   "source": [
    "reverse('drawer')"
   ]
  },
  {
   "cell_type": "code",
   "execution_count": 36,
   "id": "5188d4e5",
   "metadata": {},
   "outputs": [],
   "source": [
    "def reverse2(text):\n",
    "    return text[::-1]"
   ]
  },
  {
   "cell_type": "code",
   "execution_count": 37,
   "id": "9e3ff823",
   "metadata": {},
   "outputs": [
    {
     "data": {
      "text/plain": [
       "'tobor'"
      ]
     },
     "execution_count": 37,
     "metadata": {},
     "output_type": "execute_result"
    }
   ],
   "source": [
    "reverse2('robot')"
   ]
  },
  {
   "cell_type": "code",
   "execution_count": 38,
   "id": "f1d4b805",
   "metadata": {},
   "outputs": [
    {
     "data": {
      "text/plain": [
       "'racecar'"
      ]
     },
     "execution_count": 38,
     "metadata": {},
     "output_type": "execute_result"
    }
   ],
   "source": [
    "reverse2('racecar')"
   ]
  },
  {
   "cell_type": "code",
   "execution_count": null,
   "id": "92a1e189",
   "metadata": {},
   "outputs": [],
   "source": []
  }
 ],
 "metadata": {
  "kernelspec": {
   "display_name": "Python 3 (ipykernel)",
   "language": "python",
   "name": "python3"
  },
  "language_info": {
   "codemirror_mode": {
    "name": "ipython",
    "version": 3
   },
   "file_extension": ".py",
   "mimetype": "text/x-python",
   "name": "python",
   "nbconvert_exporter": "python",
   "pygments_lexer": "ipython3",
   "version": "3.9.7"
  }
 },
 "nbformat": 4,
 "nbformat_minor": 5
}
