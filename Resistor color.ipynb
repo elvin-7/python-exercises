{
 "cells": [
  {
   "cell_type": "markdown",
   "id": "c841edc1",
   "metadata": {},
   "source": [
    "# Instructions\n",
    "If you want to build something using a Raspberry Pi, you'll probably use resistors. For this exercise, you need to know two things about them:\n",
    "\n",
    "Each resistor has a resistance value.\n",
    "Resistors are small - so small in fact that if you printed the resistance value on them, it would be hard to read.\n",
    "To get around this problem, manufacturers print color-coded bands onto the resistors to denote their resistance values. Each band has a position and a numeric value.\n",
    "\n",
    "The first 2 bands of a resistor have a simple encoding scheme: each color maps to a single number.\n",
    "\n",
    "In this exercise you are going to create a helpful program so that you don't have to remember the values of the bands.\n",
    "\n",
    "These colors are encoded as follows:\n",
    "\n",
    "- black: 0\n",
    "- brown: 1\n",
    "- red: 2\n",
    "- orange: 3\n",
    "- yellow: 4\n",
    "- green: 5\n",
    "- blue: 6\n",
    "- violet: 7\n",
    "- grey: 8\n",
    "- white: 9\n",
    "\n",
    "The goal of this exercise is to create a way:\n",
    "\n",
    "- to look up the numerical value associated with a particular color band\n",
    "- to list the different band colors\n",
    "\n",
    "Mnemonics map the colors to the numbers, that, when stored as an array, happen to map to their index in the array: Better Be Right Or Your Great Big Values Go Wrong."
   ]
  },
  {
   "cell_type": "code",
   "execution_count": 3,
   "id": "d1bffa5b",
   "metadata": {},
   "outputs": [],
   "source": [
    "COLOR_CODES = {'black':0,'brown':1,'red':2,'orange':3,'yellow':4,'green':5,'blue':6,'violet':7,'grey':8,'white':9}\n",
    "\n",
    "\n",
    "def color_code(color):\n",
    "    return COLOR_CODES[color]\n",
    "\n",
    "\n",
    "def colors():\n",
    "    return list(COLOR_CODES.keys())"
   ]
  },
  {
   "cell_type": "code",
   "execution_count": 6,
   "id": "0dc590d3",
   "metadata": {},
   "outputs": [
    {
     "data": {
      "text/plain": [
       "9"
      ]
     },
     "execution_count": 6,
     "metadata": {},
     "output_type": "execute_result"
    }
   ],
   "source": [
    "color_code('white')"
   ]
  },
  {
   "cell_type": "code",
   "execution_count": 7,
   "id": "44953f31",
   "metadata": {},
   "outputs": [
    {
     "data": {
      "text/plain": [
       "['black',\n",
       " 'brown',\n",
       " 'red',\n",
       " 'orange',\n",
       " 'yellow',\n",
       " 'green',\n",
       " 'blue',\n",
       " 'violet',\n",
       " 'grey',\n",
       " 'white']"
      ]
     },
     "execution_count": 7,
     "metadata": {},
     "output_type": "execute_result"
    }
   ],
   "source": [
    "colors()"
   ]
  },
  {
   "cell_type": "code",
   "execution_count": null,
   "id": "bd2d0ad5",
   "metadata": {},
   "outputs": [],
   "source": []
  }
 ],
 "metadata": {
  "kernelspec": {
   "display_name": "Python 3 (ipykernel)",
   "language": "python",
   "name": "python3"
  },
  "language_info": {
   "codemirror_mode": {
    "name": "ipython",
    "version": 3
   },
   "file_extension": ".py",
   "mimetype": "text/x-python",
   "name": "python",
   "nbconvert_exporter": "python",
   "pygments_lexer": "ipython3",
   "version": "3.9.7"
  }
 },
 "nbformat": 4,
 "nbformat_minor": 5
}
