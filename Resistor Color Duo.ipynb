{
 "cells": [
  {
   "cell_type": "markdown",
   "id": "bb53abc8",
   "metadata": {},
   "source": [
    "# Instructions\n",
    "If you want to build something using a Raspberry Pi, you'll probably use resistors. For this exercise, you need to know two things about them:\n",
    "\n",
    "Each resistor has a resistance value.\n",
    "\n",
    "Resistors are small - so small in fact that if you printed the resistance value on them, it would be hard to read.\n",
    "To get around this problem, manufacturers print color-coded bands onto the resistors to denote their resistance values. Each band has a position and a numeric value.\n",
    "\n",
    "The first 2 bands of a resistor have a simple encoding scheme: each color maps to a single number. For example, if they printed a brown band (value 1) followed by a green band (value 5), it would translate to the number 15.\n",
    "\n",
    "In this exercise you are going to create a helpful program so that you don't have to remember the values of the bands. The program will take color names as input and output a two digit number, even if the input is more than two colors!\n",
    "\n",
    "The band colors are encoded as follows:\n",
    "\n",
    "- black: 0\n",
    "- brown: 1\n",
    "- red: 2\n",
    "- orange: 3\n",
    "- yellow: 4\n",
    "- green: 5\n",
    "- blue: 6\n",
    "- violet: 7\n",
    "- grey: 8\n",
    "- white: 9\n",
    "\n",
    "From the example above: brown-green should return 15, and brown-green-violet should return 15 too, ignoring the third color."
   ]
  },
  {
   "cell_type": "code",
   "execution_count": 3,
   "id": "46483c8d",
   "metadata": {},
   "outputs": [],
   "source": [
    "COLOR_CODES = {'black':'0','brown':'1','red':'2','orange':'3','yellow':'4',\n",
    "               'green':'5','blue':'6','violet':'7','grey':'8','white':'9'}\n",
    "\n",
    "def value(colors):\n",
    "    return int(COLOR_CODES[colors[0]]+COLOR_CODES[colors[1]])"
   ]
  },
  {
   "cell_type": "code",
   "execution_count": 7,
   "id": "4939db5e",
   "metadata": {},
   "outputs": [
    {
     "data": {
      "text/plain": [
       "15"
      ]
     },
     "execution_count": 7,
     "metadata": {},
     "output_type": "execute_result"
    }
   ],
   "source": [
    "value(['brown','green','violet'])"
   ]
  },
  {
   "cell_type": "code",
   "execution_count": 8,
   "id": "80400132",
   "metadata": {},
   "outputs": [
    {
     "data": {
      "text/plain": [
       "10"
      ]
     },
     "execution_count": 8,
     "metadata": {},
     "output_type": "execute_result"
    }
   ],
   "source": [
    "value(['brown','black'])"
   ]
  },
  {
   "cell_type": "code",
   "execution_count": 9,
   "id": "54cf91c8",
   "metadata": {},
   "outputs": [
    {
     "data": {
      "text/plain": [
       "1"
      ]
     },
     "execution_count": 9,
     "metadata": {},
     "output_type": "execute_result"
    }
   ],
   "source": [
    "value(['black','brown'])"
   ]
  },
  {
   "cell_type": "code",
   "execution_count": null,
   "id": "40404601",
   "metadata": {},
   "outputs": [],
   "source": []
  }
 ],
 "metadata": {
  "kernelspec": {
   "display_name": "Python 3 (ipykernel)",
   "language": "python",
   "name": "python3"
  },
  "language_info": {
   "codemirror_mode": {
    "name": "ipython",
    "version": 3
   },
   "file_extension": ".py",
   "mimetype": "text/x-python",
   "name": "python",
   "nbconvert_exporter": "python",
   "pygments_lexer": "ipython3",
   "version": "3.9.7"
  }
 },
 "nbformat": 4,
 "nbformat_minor": 5
}
