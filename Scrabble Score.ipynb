{
 "cells": [
  {
   "cell_type": "markdown",
   "id": "768c8cfb",
   "metadata": {},
   "source": [
    "# Introduction\n",
    "Scrabble is a word game where players place letter tiles on a board to form words. Each letter has a value. A word's score is the sum of its letters' values.\n",
    "\n",
    "---\n",
    "\n",
    "# Instructions\n",
    "Your task is to compute a word's Scrabble score by summing the values of its letters.\n",
    "\n",
    "The letters are valued as follows:\n",
    "\n",
    "Letter|\tValue\n",
    ":-------|------\n",
    "A, E, I, O, U, L, N, R, S, T|\t1\n",
    "D, G|\t2\n",
    "B, C, M, P|\t3\n",
    "F, H, V, W, Y|\t4\n",
    "K|\t5\n",
    "J, X|\t8\n",
    "Q, Z|\t10\n",
    "\n",
    "For example, the word \"cabbage\" is worth 14 points:\n",
    "\n",
    "- 3 points for C\n",
    "- 1 point for A\n",
    "- 3 points for B\n",
    "- 3 points for B\n",
    "- 1 point for A\n",
    "- 2 points for G\n",
    "- 1 point for E\n"
   ]
  },
  {
   "cell_type": "code",
   "execution_count": 1,
   "id": "3a243e73",
   "metadata": {},
   "outputs": [],
   "source": [
    "def score(word):\n",
    "    letter_value = {'A':1,'E':1,'I':1,'O':1,'U':1,'L':1,'N':1,'R':1,'S':1,'T':1,\n",
    "                   'D':2,'G':2,'B':3,'C':3,'M':3,'P':3,'F':4,'H':4,'V':4,'W':4,\n",
    "                   'Y':4,'K':5,'J':8,'X':8,'Q':10,'Z':10}\n",
    "    word_score = [letter_value[letter] for letter in word.upper()]\n",
    "    return sum(word_score)\n"
   ]
  },
  {
   "cell_type": "code",
   "execution_count": 2,
   "id": "828ca95d",
   "metadata": {},
   "outputs": [
    {
     "data": {
      "text/plain": [
       "16"
      ]
     },
     "execution_count": 2,
     "metadata": {},
     "output_type": "execute_result"
    }
   ],
   "source": [
    "score('Onomatopoeia')"
   ]
  },
  {
   "cell_type": "code",
   "execution_count": 3,
   "id": "96aa9d1d",
   "metadata": {},
   "outputs": [
    {
     "data": {
      "text/plain": [
       "56"
      ]
     },
     "execution_count": 3,
     "metadata": {},
     "output_type": "execute_result"
    }
   ],
   "source": [
    "score('supercalifragilisticexpialidocious')"
   ]
  },
  {
   "cell_type": "code",
   "execution_count": 4,
   "id": "3ed577fe",
   "metadata": {},
   "outputs": [
    {
     "data": {
      "text/plain": [
       "14"
      ]
     },
     "execution_count": 4,
     "metadata": {},
     "output_type": "execute_result"
    }
   ],
   "source": [
    "score('CaBbage')"
   ]
  },
  {
   "cell_type": "code",
   "execution_count": null,
   "id": "aa362968",
   "metadata": {},
   "outputs": [],
   "source": []
  }
 ],
 "metadata": {
  "kernelspec": {
   "display_name": "Python 3 (ipykernel)",
   "language": "python",
   "name": "python3"
  },
  "language_info": {
   "codemirror_mode": {
    "name": "ipython",
    "version": 3
   },
   "file_extension": ".py",
   "mimetype": "text/x-python",
   "name": "python",
   "nbconvert_exporter": "python",
   "pygments_lexer": "ipython3",
   "version": "3.9.7"
  }
 },
 "nbformat": 4,
 "nbformat_minor": 5
}
