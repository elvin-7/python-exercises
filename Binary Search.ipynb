{
 "cells": [
  {
   "cell_type": "markdown",
   "id": "9f791ee3",
   "metadata": {},
   "source": [
    "# Introduction\n",
    "You have stumbled upon a group of mathematicians who are also singer-songwriters. They have written a song for each of their favorite numbers, and, as you can imagine, they have a lot of favorite numbers (like 0 or 73 or 6174).\n",
    "\n",
    "You are curious to hear the song for your favorite number, but with so many songs to wade through, finding the right song could take a while. Fortunately, they have organized their songs in a playlist sorted by the title — which is simply the number that the song is about.\n",
    "\n",
    "You realize that you can use a binary search algorithm to quickly find a song given the title.\n",
    "\n",
    "## Instructions\n",
    "Your task is to implement a binary search algorithm.\n",
    "\n",
    "A binary search algorithm finds an item in a list by repeatedly splitting it in half, only keeping the half which contains the item we're looking for. It allows us to quickly narrow down the possible locations of our item until we find it, or until we've eliminated all possible locations.\n",
    "\n",
    "Caution\n",
    "Binary search only works when a list has been sorted.\n",
    "\n",
    "The algorithm looks like this:\n",
    "\n",
    "- Find the middle element of a sorted list and compare it with the item we're looking for.\n",
    "- If the middle element is our item, then we're done!\n",
    "- If the middle element is greater than our item, we can eliminate that element and all the elements after it.\n",
    "- If the middle element is less than our item, we can eliminate that element and all the elements before it.\n",
    "- If every element of the list has been eliminated then the item is not in the list.\n",
    "- Otherwise, repeat the process on the part of the list that has not been eliminated.\n",
    "\n",
    "Here's an example:\n",
    "\n",
    "Let's say we're looking for the number 23 in the following sorted list: [4, 8, 12, 16, 23, 28, 32].\n",
    "\n",
    "- We start by comparing 23 with the middle element, 16.\n",
    "- Since 23 is greater than 16, we can eliminate the left half of the list, leaving us with [23, 28, 32].\n",
    "- We then compare 23 with the new middle element, 28.\n",
    "- Since 23 is less than 28, we can eliminate the right half of the list: [23].\n",
    "\n",
    "We've found our item."
   ]
  },
  {
   "cell_type": "code",
   "execution_count": 7,
   "id": "d7d68347",
   "metadata": {},
   "outputs": [],
   "source": [
    "def find(search_list,value):\n",
    "    low = 0\n",
    "    high = len(search_list)-1\n",
    "    \n",
    "    while low <= high:\n",
    "        mid = (high+low)//2\n",
    "        \n",
    "        if search_list[mid] == value:\n",
    "            return mid\n",
    "        \n",
    "        elif search_list[mid] < value:\n",
    "            low = mid + 1\n",
    "            \n",
    "        else:\n",
    "            high = mid -1\n",
    "    \n",
    "    else:\n",
    "        raise ValueError(\"value not in array\")"
   ]
  },
  {
   "cell_type": "code",
   "execution_count": 8,
   "id": "8f943d65",
   "metadata": {},
   "outputs": [
    {
     "data": {
      "text/plain": [
       "4"
      ]
     },
     "execution_count": 8,
     "metadata": {},
     "output_type": "execute_result"
    }
   ],
   "source": [
    "find([4,8,12,16,23,28,32],23)"
   ]
  },
  {
   "cell_type": "code",
   "execution_count": 9,
   "id": "5fd0015b",
   "metadata": {},
   "outputs": [
    {
     "ename": "ValueError",
     "evalue": "value not in array",
     "output_type": "error",
     "traceback": [
      "\u001b[1;31m---------------------------------------------------------------------------\u001b[0m",
      "\u001b[1;31mValueError\u001b[0m                                Traceback (most recent call last)",
      "\u001b[1;32m~\\AppData\\Local\\Temp/ipykernel_13196/3862148503.py\u001b[0m in \u001b[0;36m<module>\u001b[1;34m\u001b[0m\n\u001b[1;32m----> 1\u001b[1;33m \u001b[0mfind\u001b[0m\u001b[1;33m(\u001b[0m\u001b[1;33m[\u001b[0m\u001b[1;36m1\u001b[0m\u001b[1;33m,\u001b[0m\u001b[1;36m2\u001b[0m\u001b[1;33m,\u001b[0m\u001b[1;36m3\u001b[0m\u001b[1;33m,\u001b[0m\u001b[1;36m4\u001b[0m\u001b[1;33m]\u001b[0m\u001b[1;33m,\u001b[0m\u001b[1;36m6\u001b[0m\u001b[1;33m)\u001b[0m\u001b[1;33m\u001b[0m\u001b[1;33m\u001b[0m\u001b[0m\n\u001b[0m",
      "\u001b[1;32m~\\AppData\\Local\\Temp/ipykernel_13196/81574068.py\u001b[0m in \u001b[0;36mfind\u001b[1;34m(search_list, value)\u001b[0m\n\u001b[0;32m     16\u001b[0m \u001b[1;33m\u001b[0m\u001b[0m\n\u001b[0;32m     17\u001b[0m     \u001b[1;32melse\u001b[0m\u001b[1;33m:\u001b[0m\u001b[1;33m\u001b[0m\u001b[1;33m\u001b[0m\u001b[0m\n\u001b[1;32m---> 18\u001b[1;33m         \u001b[1;32mraise\u001b[0m \u001b[0mValueError\u001b[0m\u001b[1;33m(\u001b[0m\u001b[1;34m\"value not in array\"\u001b[0m\u001b[1;33m)\u001b[0m\u001b[1;33m\u001b[0m\u001b[1;33m\u001b[0m\u001b[0m\n\u001b[0m",
      "\u001b[1;31mValueError\u001b[0m: value not in array"
     ]
    }
   ],
   "source": [
    "find([1,2,3,4],6)"
   ]
  },
  {
   "cell_type": "code",
   "execution_count": null,
   "id": "43d355d1",
   "metadata": {},
   "outputs": [],
   "source": []
  }
 ],
 "metadata": {
  "kernelspec": {
   "display_name": "Python 3 (ipykernel)",
   "language": "python",
   "name": "python3"
  },
  "language_info": {
   "codemirror_mode": {
    "name": "ipython",
    "version": 3
   },
   "file_extension": ".py",
   "mimetype": "text/x-python",
   "name": "python",
   "nbconvert_exporter": "python",
   "pygments_lexer": "ipython3",
   "version": "3.9.7"
  }
 },
 "nbformat": 4,
 "nbformat_minor": 5
}
