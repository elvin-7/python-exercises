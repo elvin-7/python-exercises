{
 "cells": [
  {
   "cell_type": "markdown",
   "id": "c508abcf",
   "metadata": {},
   "source": [
    "# Instructions\n",
    "Given a string of digits, output all the contiguous substrings of length n in that string in the order that they appear.\n",
    "\n",
    "For example, the string \"49142\" has the following 3-digit series:\n",
    "\n",
    "- \"491\"\n",
    "- \"914\"\n",
    "- \"142\"\n",
    "\n",
    "And the following 4-digit series:\n",
    "\n",
    "- \"4914\"\n",
    "- \"9142\"\n",
    "\n",
    "And if you ask for a 6-digit series from a 5-digit string, you deserve whatever you get.\n",
    "\n",
    "Note that these series are only required to occupy adjacent positions in the input; the digits need not be numerically consecutive.\n",
    "\n",
    "## Exception messages\n",
    "Sometimes it is necessary to raise an exception. When you do this, you should always include a meaningful error message to indicate what the source of the error is. This makes your code more readable and helps significantly with debugging. For situations where you know that the error source will be a certain type, you can choose to raise one of the built in error types, but should still include a meaningful message.\n",
    "\n",
    "This particular exercise requires that you use the raise statement to \"throw\" a ValueError if the series and/or length parameters input into the slice() function are empty or out of range. The tests will only pass if you both raise the exception and include a message with it.\n",
    "\n",
    "To raise a ValueError with a message, write the message as an argument to the exception type:\n",
    "```\n",
    "# if the slice length is zero.\n",
    "raise ValueError(\"slice length cannot be zero\")\n",
    "\n",
    "# if the slice length is negative.\n",
    "raise ValueError(\"slice length cannot be negative\")\n",
    "\n",
    "# if the series provided is empty.\n",
    "raise ValueError(\"series cannot be empty\")\n",
    "\n",
    "# if the slice length is longer than the series.\n",
    "raise ValueError(\"slice length cannot be greater than series length\")\n",
    "```"
   ]
  },
  {
   "cell_type": "code",
   "execution_count": 7,
   "id": "1c26a543",
   "metadata": {},
   "outputs": [],
   "source": [
    "def slices(series, length):\n",
    "    if length == 0:\n",
    "        raise ValueError(\"slice length cannot be zero\")\n",
    "    if length < 0:\n",
    "        raise ValueError(\"slice length cannot be negative\")\n",
    "    if len(series) == 0:\n",
    "        raise ValueError(\"series cannot be empty\")\n",
    "    if length > len(series):\n",
    "        raise ValueError(\"slice length cannot be greater than series length\")\n",
    "        \n",
    "    output = []\n",
    "    start = 0\n",
    "    for item in series:\n",
    "        if len(series[start:start+length]) != length:\n",
    "            break\n",
    "        output.append(series[start:start+length])\n",
    "        start += 1\n",
    "        \n",
    "    return output"
   ]
  },
  {
   "cell_type": "code",
   "execution_count": 8,
   "id": "6ca70805",
   "metadata": {},
   "outputs": [
    {
     "data": {
      "text/plain": [
       "['123', '234', '345', '456', '567', '678']"
      ]
     },
     "execution_count": 8,
     "metadata": {},
     "output_type": "execute_result"
    }
   ],
   "source": [
    "slices(\"12345678\",3)"
   ]
  },
  {
   "cell_type": "code",
   "execution_count": 9,
   "id": "c4407c13",
   "metadata": {},
   "outputs": [
    {
     "ename": "ValueError",
     "evalue": "slice length cannot be greater than series length",
     "output_type": "error",
     "traceback": [
      "\u001b[1;31m---------------------------------------------------------------------------\u001b[0m",
      "\u001b[1;31mValueError\u001b[0m                                Traceback (most recent call last)",
      "\u001b[1;32m~\\AppData\\Local\\Temp/ipykernel_18408/2931741191.py\u001b[0m in \u001b[0;36m<module>\u001b[1;34m\u001b[0m\n\u001b[1;32m----> 1\u001b[1;33m \u001b[0mslices\u001b[0m\u001b[1;33m(\u001b[0m\u001b[1;34m\"893427\"\u001b[0m\u001b[1;33m,\u001b[0m\u001b[1;36m12\u001b[0m\u001b[1;33m)\u001b[0m\u001b[1;33m\u001b[0m\u001b[1;33m\u001b[0m\u001b[0m\n\u001b[0m",
      "\u001b[1;32m~\\AppData\\Local\\Temp/ipykernel_18408/3657149223.py\u001b[0m in \u001b[0;36mslices\u001b[1;34m(series, length)\u001b[0m\n\u001b[0;32m      7\u001b[0m         \u001b[1;32mraise\u001b[0m \u001b[0mValueError\u001b[0m\u001b[1;33m(\u001b[0m\u001b[1;34m\"series cannot be empty\"\u001b[0m\u001b[1;33m)\u001b[0m\u001b[1;33m\u001b[0m\u001b[1;33m\u001b[0m\u001b[0m\n\u001b[0;32m      8\u001b[0m     \u001b[1;32mif\u001b[0m \u001b[0mlength\u001b[0m \u001b[1;33m>\u001b[0m \u001b[0mlen\u001b[0m\u001b[1;33m(\u001b[0m\u001b[0mseries\u001b[0m\u001b[1;33m)\u001b[0m\u001b[1;33m:\u001b[0m\u001b[1;33m\u001b[0m\u001b[1;33m\u001b[0m\u001b[0m\n\u001b[1;32m----> 9\u001b[1;33m         \u001b[1;32mraise\u001b[0m \u001b[0mValueError\u001b[0m\u001b[1;33m(\u001b[0m\u001b[1;34m\"slice length cannot be greater than series length\"\u001b[0m\u001b[1;33m)\u001b[0m\u001b[1;33m\u001b[0m\u001b[1;33m\u001b[0m\u001b[0m\n\u001b[0m\u001b[0;32m     10\u001b[0m \u001b[1;33m\u001b[0m\u001b[0m\n\u001b[0;32m     11\u001b[0m     \u001b[0moutput\u001b[0m \u001b[1;33m=\u001b[0m \u001b[1;33m[\u001b[0m\u001b[1;33m]\u001b[0m\u001b[1;33m\u001b[0m\u001b[1;33m\u001b[0m\u001b[0m\n",
      "\u001b[1;31mValueError\u001b[0m: slice length cannot be greater than series length"
     ]
    }
   ],
   "source": [
    "slices(\"893427\",12)"
   ]
  },
  {
   "cell_type": "code",
   "execution_count": 10,
   "id": "db2fd537",
   "metadata": {},
   "outputs": [
    {
     "data": {
      "text/plain": [
       "['89', '93', '34', '42', '27']"
      ]
     },
     "execution_count": 10,
     "metadata": {},
     "output_type": "execute_result"
    }
   ],
   "source": [
    "slices(\"893427\",2)"
   ]
  },
  {
   "cell_type": "code",
   "execution_count": null,
   "id": "4aaf75f6",
   "metadata": {},
   "outputs": [],
   "source": []
  }
 ],
 "metadata": {
  "kernelspec": {
   "display_name": "Python 3 (ipykernel)",
   "language": "python",
   "name": "python3"
  },
  "language_info": {
   "codemirror_mode": {
    "name": "ipython",
    "version": 3
   },
   "file_extension": ".py",
   "mimetype": "text/x-python",
   "name": "python",
   "nbconvert_exporter": "python",
   "pygments_lexer": "ipython3",
   "version": "3.9.7"
  }
 },
 "nbformat": 4,
 "nbformat_minor": 5
}
