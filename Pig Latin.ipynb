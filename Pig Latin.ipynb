{
 "cells": [
  {
   "cell_type": "markdown",
   "id": "73311d76",
   "metadata": {},
   "source": [
    "# Introduction\n",
    "Your parents have challenged you and your sibling to a game of two-on-two basketball. Confident they'll win, they let you score the first couple of points, but then start taking over the game. Needing a little boost, you start speaking in Pig Latin, which is a made-up children's language that's difficult for non-children to understand. This will give you the edge to prevail over your parents!\n",
    "\n",
    "## Instructions\n",
    "Your task is to translate text from English to Pig Latin. The translation is defined using four rules, which look at the pattern of vowels and consonants at the beginning of a word. These rules look at each word's use of vowels and consonants:\n",
    "\n",
    "- vowels: the letters a, e, i, o, and u\n",
    "- consonants: the other 21 letters of the English alphabet\n",
    "\n",
    "**Rule 1**\n",
    "\n",
    "If a word begins with a vowel, or starts with \"xr\" or \"yt\", add an \"ay\" sound to the end of the word.\n",
    "\n",
    "For example:\n",
    "\n",
    "- \"apple\" -> \"appleay\" (starts with vowel)\n",
    "- \"xray\" -> \"xrayay\" (starts with \"xr\")\n",
    "- \"yttria\" -> \"yttriaay\" (starts with \"yt\")\n",
    "\n",
    "**Rule 2**\n",
    "\n",
    "If a word begins with one or more consonants, first move those consonants to the end of the word and then add an \"ay\" sound to the end of the word.\n",
    "\n",
    "For example:\n",
    "\n",
    "- \"pig\" -> \"igp\" -> \"igpay\" (starts with single consonant)\n",
    "- \"chair\" -> \"airch\" -> \"airchay\" (starts with multiple consonants)\n",
    "- \"thrush\" -> \"ushthr\" -> \"ushthray\" (starts with multiple consonants)\n",
    "\n",
    "**Rule 3**\n",
    "\n",
    "If a word starts with zero or more consonants followed by \"qu\", first move those consonants (if any) and the \"qu\" part to the end of the word, and then add an \"ay\" sound to the end of the word.\n",
    "\n",
    "For example:\n",
    "\n",
    "- \"quick\" -> \"ickqu\" -> \"ickquay\" (starts with \"qu\", no preceding consonants)\n",
    "- \"square\" -> \"aresqu\" -> \"aresquay\" (starts with one consonant followed by \"qu\")\n",
    "\n",
    "**Rule 4**\n",
    "\n",
    "If a word starts with one or more consonants followed by \"y\", first move the consonants preceding the \"y\"to the end of the word, and then add an \"ay\" sound to the end of the word.\n",
    "\n",
    "Some examples:\n",
    "\n",
    "- \"my\" -> \"ym\" -> \"ymay\" (starts with single consonant followed by \"y\")\n",
    "- \"rhythm\" -> \"ythmrh\" -> \"ythmrhay\" (starts with multiple consonants followed by \"y\")"
   ]
  },
  {
   "cell_type": "code",
   "execution_count": 1,
   "id": "440b303c",
   "metadata": {},
   "outputs": [],
   "source": [
    "def translate(text):\n",
    "    vowels = 'aeiou'\n",
    "        \n",
    "    def rules(word):\n",
    "    \n",
    "        if word[0] in vowels or word[:2] in ('xr','yt'):\n",
    "            return word+'ay'\n",
    "\n",
    "        if 'qu' in word and word[word.index('q')-1] not in vowels:\n",
    "            return word[word.index('q')+2:]+word[:word.index('q')+2]+'ay'\n",
    "\n",
    "        if 'y' in word and all(letter not in vowels for letter in word[:word.index('y')]) and word[0] != 'y':\n",
    "            return word[word.index('y'):] + word[:word.index('y')] + 'ay'\n",
    "\n",
    "        for i, letter in enumerate(word):\n",
    "            if letter in vowels:\n",
    "                return word[i:]+word[:i]+'ay'\n",
    "    \n",
    "    words = text.split()\n",
    "    translated_words = [rules(word) for word in words]\n",
    "    return \" \".join(translated_words)"
   ]
  },
  {
   "cell_type": "code",
   "execution_count": 2,
   "id": "20db71f9",
   "metadata": {},
   "outputs": [
    {
     "data": {
      "text/plain": [
       "'ellowyay'"
      ]
     },
     "execution_count": 2,
     "metadata": {},
     "output_type": "execute_result"
    }
   ],
   "source": [
    "translate('yellow')"
   ]
  },
  {
   "cell_type": "code",
   "execution_count": 3,
   "id": "9fbc4f32",
   "metadata": {},
   "outputs": [
    {
     "data": {
      "text/plain": [
       "'airchay'"
      ]
     },
     "execution_count": 3,
     "metadata": {},
     "output_type": "execute_result"
    }
   ],
   "source": [
    "translate('chair')"
   ]
  },
  {
   "cell_type": "code",
   "execution_count": 4,
   "id": "a55b2ad7",
   "metadata": {},
   "outputs": [
    {
     "data": {
      "text/plain": [
       "'ushthray'"
      ]
     },
     "execution_count": 4,
     "metadata": {},
     "output_type": "execute_result"
    }
   ],
   "source": [
    "translate('thrush')"
   ]
  },
  {
   "cell_type": "code",
   "execution_count": 5,
   "id": "31acf555",
   "metadata": {},
   "outputs": [
    {
     "data": {
      "text/plain": [
       "'aresquay'"
      ]
     },
     "execution_count": 5,
     "metadata": {},
     "output_type": "execute_result"
    }
   ],
   "source": [
    "translate('square')"
   ]
  },
  {
   "cell_type": "code",
   "execution_count": 6,
   "id": "ab130069",
   "metadata": {},
   "outputs": [
    {
     "data": {
      "text/plain": [
       "'ythmrhay'"
      ]
     },
     "execution_count": 6,
     "metadata": {},
     "output_type": "execute_result"
    }
   ],
   "source": [
    "translate('rhythm')"
   ]
  },
  {
   "cell_type": "code",
   "execution_count": 7,
   "id": "86cfc1c0",
   "metadata": {},
   "outputs": [
    {
     "data": {
      "text/plain": [
       "'erapythay'"
      ]
     },
     "execution_count": 7,
     "metadata": {},
     "output_type": "execute_result"
    }
   ],
   "source": [
    "translate('therapy')"
   ]
  },
  {
   "cell_type": "code",
   "execution_count": 8,
   "id": "de1f770e",
   "metadata": {},
   "outputs": [
    {
     "data": {
      "text/plain": [
       "'ickquay astfay unray'"
      ]
     },
     "execution_count": 8,
     "metadata": {},
     "output_type": "execute_result"
    }
   ],
   "source": [
    "translate(\"quick fast run\")"
   ]
  },
  {
   "cell_type": "markdown",
   "id": "ea05c2ea",
   "metadata": {},
   "source": [
    "## Alternative solutions:"
   ]
  },
  {
   "cell_type": "code",
   "execution_count": 9,
   "id": "7fdd56f8",
   "metadata": {},
   "outputs": [],
   "source": [
    "VOWELS = {'a','e','i','o','u'}\n",
    "VOWELS_Y = {'a','e','i','o','u','y'}\n",
    "SPECIALS = {'xr','yt'}\n",
    "\n",
    "def translate_words(text):\n",
    "    piggyfield = []\n",
    "    \n",
    "    for word in text.split():\n",
    "        if word[0] in VOWELS or word[0:2] in SPECIALS:\n",
    "            piggyfield.append(word+'ay')\n",
    "            continue\n",
    "        for pos in range(1,len(word)):\n",
    "            if word[pos] in VOWELS_Y:\n",
    "                pos += 1 if word[pos] == 'u' and word[pos-1] == 'q' else 0\n",
    "                piggyfield.append(word[pos:]+word[:pos]+'ay')\n",
    "                break\n",
    "    return \" \".join(piggyfield)"
   ]
  },
  {
   "cell_type": "code",
   "execution_count": 10,
   "id": "2941ab28",
   "metadata": {},
   "outputs": [
    {
     "data": {
      "text/plain": [
       "'ellowyay'"
      ]
     },
     "execution_count": 10,
     "metadata": {},
     "output_type": "execute_result"
    }
   ],
   "source": [
    "translate_words('yellow')"
   ]
  },
  {
   "cell_type": "code",
   "execution_count": 11,
   "id": "f6edc9ed",
   "metadata": {},
   "outputs": [
    {
     "data": {
      "text/plain": [
       "'aresquay'"
      ]
     },
     "execution_count": 11,
     "metadata": {},
     "output_type": "execute_result"
    }
   ],
   "source": [
    "translate_words('square')"
   ]
  },
  {
   "cell_type": "code",
   "execution_count": 12,
   "id": "f72c4f4c",
   "metadata": {},
   "outputs": [
    {
     "data": {
      "text/plain": [
       "'erapythay'"
      ]
     },
     "execution_count": 12,
     "metadata": {},
     "output_type": "execute_result"
    }
   ],
   "source": [
    "translate_words('therapy')"
   ]
  },
  {
   "cell_type": "code",
   "execution_count": 13,
   "id": "dd6283af",
   "metadata": {},
   "outputs": [
    {
     "data": {
      "text/plain": [
       "'ickquay astfay unray'"
      ]
     },
     "execution_count": 13,
     "metadata": {},
     "output_type": "execute_result"
    }
   ],
   "source": [
    "translate_words('quick fast run')"
   ]
  },
  {
   "cell_type": "code",
   "execution_count": null,
   "id": "34b0397d",
   "metadata": {},
   "outputs": [],
   "source": []
  }
 ],
 "metadata": {
  "kernelspec": {
   "display_name": "Python 3 (ipykernel)",
   "language": "python",
   "name": "python3"
  },
  "language_info": {
   "codemirror_mode": {
    "name": "ipython",
    "version": 3
   },
   "file_extension": ".py",
   "mimetype": "text/x-python",
   "name": "python",
   "nbconvert_exporter": "python",
   "pygments_lexer": "ipython3",
   "version": "3.9.7"
  }
 },
 "nbformat": 4,
 "nbformat_minor": 5
}
