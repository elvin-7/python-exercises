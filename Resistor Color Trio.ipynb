{
 "cells": [
  {
   "cell_type": "markdown",
   "id": "27d391c7",
   "metadata": {},
   "source": [
    "# Instructions\n",
    "If you want to build something using a Raspberry Pi, you'll probably use resistors. For this exercise, you need to know only three things about them:\n",
    "\n",
    "- Each resistor has a resistance value.\n",
    "\n",
    "- Resistors are small - so small in fact that if you printed the resistance value on them, it would be hard to read. To get around this problem, manufacturers print color-coded bands onto the resistors to denote their resistance values.\n",
    "\n",
    "- Each band acts as a digit of a number. For example, if they printed a brown band (value 1) followed by a green band (value 5), it would translate to the number 15. In this exercise, you are going to create a helpful program so that you don't have to remember the values of the bands. The program will take 3 colors as input, and outputs the correct value, in ohms. The color bands are encoded as follows:\n",
    "\n",
    "- black: 0\n",
    "\n",
    "- brown: 1\n",
    "\n",
    "- red: 2\n",
    "\n",
    "- orange: 3\n",
    "\n",
    "- yellow: 4\n",
    "\n",
    "- green: 5\n",
    "\n",
    "- blue: 6\n",
    "\n",
    "- violet: 7\n",
    "\n",
    "- grey: 8\n",
    "\n",
    "- white: 9\n",
    "\n",
    "In Resistor Color Duo you decoded the first two colors. For instance: orange-orange got the main value 33. The third color stands for how many zeros need to be added to the main value. The main value plus the zeros gives us a value in ohms. For the exercise it doesn't matter what ohms really are. For example:\n",
    "\n",
    "- orange-orange-black would be 33 and no zeros, which becomes 33 ohms.\n",
    "- orange-orange-red would be 33 and 2 zeros, which becomes 3300 ohms.\n",
    "- orange-orange-orange would be 33 and 3 zeros, which becomes 33000 ohms.\n",
    "(If Math is your thing, you may want to think of the zeros as exponents of 10. If Math is not your thing, go with the zeros. It really is the same thing, just in plain English instead of Math lingo.)\n",
    "\n",
    "This exercise is about translating the colors into a label:\n",
    "\n",
    "> \"... ohms\"\n",
    "\n",
    "So an input of \"orange\", \"orange\", \"black\" should return:\n",
    "\n",
    "> \"33 ohms\"\n",
    "\n",
    "When we get to larger resistors, a metric prefix is used to indicate a larger magnitude of ohms, such as \"kiloohms\". That is similar to saying \"2 kilometers\" instead of \"2000 meters\", or \"2 kilograms\" for \"2000 grams\".\n",
    "\n",
    "For example, an input of \"orange\", \"orange\", \"orange\" should return:\n",
    "\n",
    "> \"33 kiloohms\""
   ]
  },
  {
   "cell_type": "code",
   "execution_count": 39,
   "id": "8d3c08d7",
   "metadata": {},
   "outputs": [],
   "source": [
    "COLOR_CODES = {'black':'0','brown':'1','red':'2','orange':'3','yellow':'4',\n",
    "               'green':'5','blue':'6','violet':'7','grey':'8','white':'9'}\n",
    "\n",
    "def value(colors):\n",
    "    return int(COLOR_CODES[colors[0]]+COLOR_CODES[colors[1]])\n",
    "\n",
    "def label(colors):\n",
    "    \n",
    "    zeros = '0'*int(COLOR_CODES[colors[2]])\n",
    "    digits = str(value(colors))+zeros\n",
    "    \n",
    "    if digits.count('0') >= 9:\n",
    "        return str(int(int(digits)/1000000000))+' gigaohms'\n",
    "    if digits.count('0') >= 6:\n",
    "        return str(int(int(digits)/1000000))+' megaohms'\n",
    "    if digits.count('0') >= 3:\n",
    "        return str(int(int(digits)/1000))+' kiloohms'\n",
    "    else:\n",
    "        return str(digits)+' ohms'"
   ]
  },
  {
   "cell_type": "code",
   "execution_count": 43,
   "id": "280e74ca",
   "metadata": {},
   "outputs": [
    {
     "data": {
      "text/plain": [
       "'8 ohms'"
      ]
     },
     "execution_count": 43,
     "metadata": {},
     "output_type": "execute_result"
    }
   ],
   "source": [
    "label(['black','grey','black'])"
   ]
  },
  {
   "cell_type": "code",
   "execution_count": 44,
   "id": "2d0d6f78",
   "metadata": {},
   "outputs": [
    {
     "data": {
      "text/plain": [
       "'33 ohms'"
      ]
     },
     "execution_count": 44,
     "metadata": {},
     "output_type": "execute_result"
    }
   ],
   "source": [
    "label([\"orange\", \"orange\", \"black\"])"
   ]
  },
  {
   "cell_type": "code",
   "execution_count": 45,
   "id": "c267fcfb",
   "metadata": {},
   "outputs": [
    {
     "data": {
      "text/plain": [
       "'99 gigaohms'"
      ]
     },
     "execution_count": 45,
     "metadata": {},
     "output_type": "execute_result"
    }
   ],
   "source": [
    "label([\"white\", \"white\", \"white\"])"
   ]
  },
  {
   "cell_type": "code",
   "execution_count": 46,
   "id": "2c3c8376",
   "metadata": {},
   "outputs": [
    {
     "data": {
      "text/plain": [
       "'0 ohms'"
      ]
     },
     "execution_count": 46,
     "metadata": {},
     "output_type": "execute_result"
    }
   ],
   "source": [
    "label([\"black\", \"black\", \"black\"])"
   ]
  },
  {
   "cell_type": "markdown",
   "id": "a61eabaa",
   "metadata": {},
   "source": [
    "## Approach using f-strings"
   ]
  },
  {
   "cell_type": "code",
   "execution_count": 47,
   "id": "6fc4bd17",
   "metadata": {},
   "outputs": [],
   "source": [
    "COLOR_CODES = {'black':'0','brown':'1','red':'2','orange':'3','yellow':'4',\n",
    "               'green':'5','blue':'6','violet':'7','grey':'8','white':'9'}\n",
    "\n",
    "def value2(colors):\n",
    "    return int(COLOR_CODES[colors[0]]+COLOR_CODES[colors[1]])\n",
    "\n",
    "def label2(colors):\n",
    "    \n",
    "    zeros = '0'*int(COLOR_CODES[colors[2]])\n",
    "    digits = str(value2(colors))+zeros\n",
    "    \n",
    "    if digits.count('0') >= 9:\n",
    "        return f\"{int(digits)//1000000000} gigaohms\"\n",
    "    if digits.count('0') >= 6:\n",
    "        return f\"{int(digits)//1000000} megaohms\"\n",
    "    if digits.count('0') >= 3:\n",
    "        return f\"{int(digits)//1000} kiloohms\"\n",
    "    else:\n",
    "        return str(digits)+' ohms'"
   ]
  },
  {
   "cell_type": "code",
   "execution_count": 48,
   "id": "7b2c53f2",
   "metadata": {},
   "outputs": [
    {
     "data": {
      "text/plain": [
       "'8 ohms'"
      ]
     },
     "execution_count": 48,
     "metadata": {},
     "output_type": "execute_result"
    }
   ],
   "source": [
    "label2(['black','grey','black'])"
   ]
  },
  {
   "cell_type": "code",
   "execution_count": 49,
   "id": "5c8373c7",
   "metadata": {},
   "outputs": [
    {
     "data": {
      "text/plain": [
       "'33 ohms'"
      ]
     },
     "execution_count": 49,
     "metadata": {},
     "output_type": "execute_result"
    }
   ],
   "source": [
    "label2([\"orange\", \"orange\", \"black\"])"
   ]
  },
  {
   "cell_type": "code",
   "execution_count": 50,
   "id": "9a62f73a",
   "metadata": {},
   "outputs": [
    {
     "data": {
      "text/plain": [
       "'99 gigaohms'"
      ]
     },
     "execution_count": 50,
     "metadata": {},
     "output_type": "execute_result"
    }
   ],
   "source": [
    "label2([\"white\", \"white\", \"white\"])"
   ]
  },
  {
   "cell_type": "code",
   "execution_count": null,
   "id": "4cb9ba3e",
   "metadata": {},
   "outputs": [],
   "source": []
  }
 ],
 "metadata": {
  "kernelspec": {
   "display_name": "Python 3 (ipykernel)",
   "language": "python",
   "name": "python3"
  },
  "language_info": {
   "codemirror_mode": {
    "name": "ipython",
    "version": 3
   },
   "file_extension": ".py",
   "mimetype": "text/x-python",
   "name": "python",
   "nbconvert_exporter": "python",
   "pygments_lexer": "ipython3",
   "version": "3.9.7"
  }
 },
 "nbformat": 4,
 "nbformat_minor": 5
}
