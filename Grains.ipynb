{
 "cells": [
  {
   "cell_type": "markdown",
   "id": "39b28f63",
   "metadata": {},
   "source": [
    "# Instructions\n",
    "\n",
    "Calculate the number of grains of wheat on a chessboard given that the number on each square doubles.\n",
    "\n",
    "There once was a wise servant who saved the life of a prince. The king promised to pay whatever the servant could dream up. Knowing that the king loved chess, the servant told the king he would like to have grains of wheat. One grain on the first square of a chess board, with the number of grains doubling on each successive square.\n",
    "\n",
    "There are 64 squares on a chessboard (where square 1 has one grain, square 2 has two grains, and so on).\n",
    "\n",
    "Write code that shows:\n",
    "\n",
    "how many grains were on a given square, and\n",
    "the total number of grains on the chessboard\n",
    "Exception messages\n",
    "Sometimes it is necessary to raise an exception. When you do this, you should always include a meaningful error message to indicate what the source of the error is. This makes your code more readable and helps significantly with debugging. For situations where you know that the error source will be a certain type, you can choose to raise one of the built in error types, but should still include a meaningful message.\n",
    "\n",
    "This particular exercise requires that you use the raise statement to \"throw\" a ValueError when the square input is out of range. The tests will only pass if you both raise the exception and include a message with it.\n",
    "\n",
    "To raise a ValueError with a message, write the message as an argument to the exception type:"
   ]
  },
  {
   "cell_type": "code",
   "execution_count": 1,
   "id": "88ee3dee",
   "metadata": {},
   "outputs": [],
   "source": [
    "# when the square value is not in the acceptable range        \n",
    "#raise ValueError(\"square must be between 1 and 64\")"
   ]
  },
  {
   "cell_type": "code",
   "execution_count": 6,
   "id": "be9fd7f7",
   "metadata": {},
   "outputs": [],
   "source": [
    "def square(number):\n",
    "    if number not in range(1,65):\n",
    "        raise ValueError(\"square must be between 1 and 64\")\n",
    "    return 2**(number-1)"
   ]
  },
  {
   "cell_type": "code",
   "execution_count": 10,
   "id": "7adaa6c9",
   "metadata": {},
   "outputs": [
    {
     "data": {
      "text/plain": [
       "9223372036854775808"
      ]
     },
     "execution_count": 10,
     "metadata": {},
     "output_type": "execute_result"
    }
   ],
   "source": [
    "square(64)"
   ]
  },
  {
   "cell_type": "code",
   "execution_count": 4,
   "id": "6a1f7b9b",
   "metadata": {},
   "outputs": [],
   "source": [
    "def total():\n",
    "    return sum(2**(number-1) for number in range(1,65))"
   ]
  },
  {
   "cell_type": "code",
   "execution_count": 5,
   "id": "312c18af",
   "metadata": {},
   "outputs": [
    {
     "data": {
      "text/plain": [
       "18446744073709551615"
      ]
     },
     "execution_count": 5,
     "metadata": {},
     "output_type": "execute_result"
    }
   ],
   "source": [
    "total()"
   ]
  },
  {
   "cell_type": "code",
   "execution_count": 14,
   "id": "6f5840a7",
   "metadata": {},
   "outputs": [
    {
     "data": {
      "text/plain": [
       "18446744073709551615"
      ]
     },
     "execution_count": 14,
     "metadata": {},
     "output_type": "execute_result"
    }
   ],
   "source": [
    "2 ** 64 -1"
   ]
  },
  {
   "cell_type": "code",
   "execution_count": null,
   "id": "39b809a2",
   "metadata": {},
   "outputs": [],
   "source": []
  }
 ],
 "metadata": {
  "kernelspec": {
   "display_name": "Python 3 (ipykernel)",
   "language": "python",
   "name": "python3"
  },
  "language_info": {
   "codemirror_mode": {
    "name": "ipython",
    "version": 3
   },
   "file_extension": ".py",
   "mimetype": "text/x-python",
   "name": "python",
   "nbconvert_exporter": "python",
   "pygments_lexer": "ipython3",
   "version": "3.9.7"
  }
 },
 "nbformat": 4,
 "nbformat_minor": 5
}
