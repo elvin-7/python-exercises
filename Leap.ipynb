{
 "cells": [
  {
   "cell_type": "markdown",
   "id": "12b6656b",
   "metadata": {},
   "source": [
    "# Leap Year"
   ]
  },
  {
   "cell_type": "markdown",
   "id": "cc90127f",
   "metadata": {},
   "source": [
    "## Introduction\n",
    "\n",
    "A leap year (in the Gregorian calendar) occurs:\n",
    "\n",
    "In every year that is evenly divisible by 4.\n",
    "\n",
    "Unless the year is evenly divisible by 100, in which case it's only a leap year if the year is also evenly divisible by 400.\n",
    "\n",
    "Some examples:\n",
    "\n",
    "1997 was not a leap year as it's not divisible by 4.\n",
    "\n",
    "1900 was not a leap year as it's not divisible by 400.\n",
    "\n",
    "2000 was a leap year!"
   ]
  },
  {
   "cell_type": "code",
   "execution_count": 19,
   "id": "e0ffe914",
   "metadata": {},
   "outputs": [],
   "source": [
    "def leap_year(year):\n",
    "    if year%100 != 0:\n",
    "        return year%4==0\n",
    "    elif year%100 == 0:\n",
    "        return year%400==0"
   ]
  },
  {
   "cell_type": "code",
   "execution_count": 20,
   "id": "4c4647ef",
   "metadata": {},
   "outputs": [
    {
     "data": {
      "text/plain": [
       "False"
      ]
     },
     "execution_count": 20,
     "metadata": {},
     "output_type": "execute_result"
    }
   ],
   "source": [
    "leap_year(2100)"
   ]
  },
  {
   "cell_type": "code",
   "execution_count": null,
   "id": "5744f116",
   "metadata": {},
   "outputs": [],
   "source": []
  }
 ],
 "metadata": {
  "kernelspec": {
   "display_name": "Python 3 (ipykernel)",
   "language": "python",
   "name": "python3"
  },
  "language_info": {
   "codemirror_mode": {
    "name": "ipython",
    "version": 3
   },
   "file_extension": ".py",
   "mimetype": "text/x-python",
   "name": "python",
   "nbconvert_exporter": "python",
   "pygments_lexer": "ipython3",
   "version": "3.9.7"
  }
 },
 "nbformat": 4,
 "nbformat_minor": 5
}
