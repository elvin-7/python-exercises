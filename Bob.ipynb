{
 "cells": [
  {
   "cell_type": "markdown",
   "id": "5bbda4f6",
   "metadata": {},
   "source": [
    "# Introduction\n",
    "Bob is a lackadaisical teenager. He likes to think that he's very cool. And he definitely doesn't get excited about things. That wouldn't be cool.\n",
    "\n",
    "When people talk to him, his responses are pretty limited."
   ]
  },
  {
   "cell_type": "markdown",
   "id": "d54958ba",
   "metadata": {},
   "source": [
    "## Instructions\n",
    "\n",
    "Your task is to determine what Bob will reply to someone when they say something to him or ask him a question.\n",
    "\n",
    "Bob only ever answers one of five things:\n",
    "\n",
    "- \"Sure.\" This is his response if you ask him a question, such as \"How are you?\" The convention used for questions is that it ends with a question mark.\n",
    "- \"Whoa, chill out!\" This is his answer if you YELL AT HIM. The convention used for yelling is ALL CAPITAL LETTERS.\n",
    "- \"Calm down, I know what I'm doing!\" This is what he says if you yell a question at him.\n",
    "- \"Fine. Be that way!\" This is how he responds to silence. The convention used for silence is nothing, or various combinations of whitespace characters.\n",
    "- \"Whatever.\" This is what he answers to anything else."
   ]
  },
  {
   "cell_type": "code",
   "execution_count": 44,
   "id": "3b41d9c3",
   "metadata": {},
   "outputs": [],
   "source": [
    "def response(hey_bob):\n",
    "    if hey_bob==\"\" or hey_bob.isspace():\n",
    "        return \"Fine. Be that way!\"\n",
    "    elif hey_bob[-1].strip()=='?' and hey_bob.isupper()is False:\n",
    "        return \"Sure.\"\n",
    "    elif hey_bob[-1]!='?' and hey_bob.isupper():\n",
    "        return \"Whoa, chill out!\"\n",
    "    elif hey_bob[-1]=='?' and hey_bob.isupper():\n",
    "        return \"Calm down, I know what I'm doing!\"\n",
    "    else:\n",
    "        return \"Whatever.\""
   ]
  },
  {
   "cell_type": "code",
   "execution_count": 48,
   "id": "5c8c07b8",
   "metadata": {},
   "outputs": [],
   "source": [
    "def response(hey_bob):\n",
    "    hey_bob = hey_bob.strip()\n",
    "    shout = hey_bob.isupper()\n",
    "    question = hey_bob.endswith('?')\n",
    "    if not hey_bob:\n",
    "        return \"Fine. Be that way!\"\n",
    "    if question and not shout:\n",
    "        return \"Sure.\"\n",
    "    if question and shout:\n",
    "        return \"Calm down, I know what I'm doing!\"\n",
    "    if not question and shout:\n",
    "        return \"Whoa, chill out!\"\n",
    "    else: \n",
    "        return \"Whatever.\""
   ]
  },
  {
   "cell_type": "code",
   "execution_count": 51,
   "id": "4a362360",
   "metadata": {},
   "outputs": [
    {
     "data": {
      "text/plain": [
       "'Sure.'"
      ]
     },
     "execution_count": 51,
     "metadata": {},
     "output_type": "execute_result"
    }
   ],
   "source": [
    "response(\"Where is your mother?\")"
   ]
  },
  {
   "cell_type": "code",
   "execution_count": 52,
   "id": "e89ed9c5",
   "metadata": {},
   "outputs": [
    {
     "data": {
      "text/plain": [
       "\"Calm down, I know what I'm doing!\""
      ]
     },
     "execution_count": 52,
     "metadata": {},
     "output_type": "execute_result"
    }
   ],
   "source": [
    "response(\"HAVE YOU FOUND IT?\")"
   ]
  },
  {
   "cell_type": "code",
   "execution_count": 53,
   "id": "8f204472",
   "metadata": {},
   "outputs": [
    {
     "data": {
      "text/plain": [
       "'Whoa, chill out!'"
      ]
     },
     "execution_count": 53,
     "metadata": {},
     "output_type": "execute_result"
    }
   ],
   "source": [
    "response(\"COME HERE NOW!\")"
   ]
  },
  {
   "cell_type": "code",
   "execution_count": 54,
   "id": "91c31b31",
   "metadata": {},
   "outputs": [
    {
     "data": {
      "text/plain": [
       "'Fine. Be that way!'"
      ]
     },
     "execution_count": 54,
     "metadata": {},
     "output_type": "execute_result"
    }
   ],
   "source": [
    "response(\"\")"
   ]
  },
  {
   "cell_type": "code",
   "execution_count": 56,
   "id": "e78bbbd5",
   "metadata": {},
   "outputs": [
    {
     "data": {
      "text/plain": [
       "'Whatever.'"
      ]
     },
     "execution_count": 56,
     "metadata": {},
     "output_type": "execute_result"
    }
   ],
   "source": [
    "response(\"I bought a ball today.\")"
   ]
  },
  {
   "cell_type": "code",
   "execution_count": null,
   "id": "6ace4bc8",
   "metadata": {},
   "outputs": [],
   "source": []
  }
 ],
 "metadata": {
  "kernelspec": {
   "display_name": "Python 3 (ipykernel)",
   "language": "python",
   "name": "python3"
  },
  "language_info": {
   "codemirror_mode": {
    "name": "ipython",
    "version": 3
   },
   "file_extension": ".py",
   "mimetype": "text/x-python",
   "name": "python",
   "nbconvert_exporter": "python",
   "pygments_lexer": "ipython3",
   "version": "3.9.7"
  }
 },
 "nbformat": 4,
 "nbformat_minor": 5
}
