{
 "cells": [
  {
   "cell_type": "markdown",
   "id": "a5dc6554",
   "metadata": {},
   "source": [
    "# Instructions\n",
    "Create an implementation of the Atbash cipher, an ancient encryption system created in the Middle East.\n",
    "\n",
    "The Atbash cipher is a simple substitution cipher that relies on transposing all the letters in the alphabet such that the resulting alphabet is backwards. The first letter is replaced with the last letter, the second with the second-last, and so on.\n",
    "\n",
    "An Atbash cipher for the Latin alphabet would be as follows:\n",
    "\n",
    "Plain:  abcdefghijklmnopqrstuvwxyz\n",
    "\n",
    "Cipher: zyxwvutsrqponmlkjihgfedcba\n",
    "\n",
    "It is a very weak cipher because it only has one possible key, and it is a simple mono-alphabetic substitution cipher. However, this may not have been an issue in the cipher's time.\n",
    "\n",
    "Ciphertext is written out in groups of fixed length, the traditional group size being 5 letters, leaving numbers unchanged, and punctuation is excluded. This is to make it harder to guess things based on word boundaries. All text will be encoded as lowercase letters.\n",
    "\n",
    "Examples\n",
    "- Encoding ***test*** gives ***gvhg***\n",
    "- Encoding ***x123 yes*** gives ***c123b vh***\n",
    "- Decoding ***gvhg*** gives ***test***\n",
    "- Decoding ***gsvjf rxpyi ldmul cqfnk hlevi gsvoz abwlt*** gives ***thequickbrownfoxjumpsoverthelazydog***"
   ]
  },
  {
   "cell_type": "code",
   "execution_count": 73,
   "id": "c0062427",
   "metadata": {},
   "outputs": [],
   "source": [
    "PLAIN= 'abcdefghijklmnopqrstuvwxyz'\n",
    "CIPHER = PLAIN[::-1]\n",
    "cipher_code = dict(zip(PLAIN,CIPHER))\n",
    "\n",
    "def encode(plain_text):\n",
    "    plain_text = ''.join(plain_text.lower().split())\n",
    "    encoded = ''\n",
    "    \n",
    "    for char in plain_text:\n",
    "        if char not in cipher_code:\n",
    "            encoded += char\n",
    "        else:\n",
    "            encoded += cipher_code[char]\n",
    "    encoded = ''.join(ch for ch in encoded if ch.isalnum())\n",
    "    return ' '.join(encoded[i:i+5] for i in range(0,len(encoded),5))\n",
    "\n",
    "def decode(ciphered_text):\n",
    "\n",
    "    decoded = encode(ciphered_text)\n",
    "    return ''.join(decoded.split())"
   ]
  },
  {
   "cell_type": "code",
   "execution_count": 75,
   "id": "2452f2c8",
   "metadata": {},
   "outputs": [
    {
     "data": {
      "text/plain": [
       "'gsvjf rxpyi ldmul cqfnk hlevi gsvoz abwlt'"
      ]
     },
     "execution_count": 75,
     "metadata": {},
     "output_type": "execute_result"
    }
   ],
   "source": [
    "encode('The, quick, brown, fox jumps over the lazy dog.')"
   ]
  },
  {
   "cell_type": "code",
   "execution_count": 80,
   "id": "98749d4d",
   "metadata": {},
   "outputs": [
    {
     "data": {
      "text/plain": [
       "'thequickbrownfoxjumpsoverthelazydog'"
      ]
     },
     "execution_count": 80,
     "metadata": {},
     "output_type": "execute_result"
    }
   ],
   "source": [
    "decode('gsvjf rxpyi ldmul cqfnk hlevi gsvoz abwlt')"
   ]
  },
  {
   "cell_type": "code",
   "execution_count": 81,
   "id": "64609095",
   "metadata": {},
   "outputs": [
    {
     "data": {
      "text/plain": [
       "'bvh'"
      ]
     },
     "execution_count": 81,
     "metadata": {},
     "output_type": "execute_result"
    }
   ],
   "source": [
    "encode('yes')"
   ]
  },
  {
   "cell_type": "code",
   "execution_count": 82,
   "id": "6657bc0a",
   "metadata": {},
   "outputs": [
    {
     "data": {
      "text/plain": [
       "'ml'"
      ]
     },
     "execution_count": 82,
     "metadata": {},
     "output_type": "execute_result"
    }
   ],
   "source": [
    "encode('no')"
   ]
  },
  {
   "cell_type": "code",
   "execution_count": 83,
   "id": "1a10662f",
   "metadata": {},
   "outputs": [
    {
     "data": {
      "text/plain": [
       "'gvhvg rmt12 3gvhg rmt'"
      ]
     },
     "execution_count": 83,
     "metadata": {},
     "output_type": "execute_result"
    }
   ],
   "source": [
    "encode('Teseting, 1 2 3, testing.')"
   ]
  },
  {
   "cell_type": "code",
   "execution_count": 84,
   "id": "3314bbf2",
   "metadata": {},
   "outputs": [
    {
     "data": {
      "text/plain": [
       "'anobstacleisoftenasteppingstone'"
      ]
     },
     "execution_count": 84,
     "metadata": {},
     "output_type": "execute_result"
    }
   ],
   "source": [
    "decode(\"zmlyhgzxovrhlugvmzhgvkk.rmthglmv,\")"
   ]
  },
  {
   "cell_type": "code",
   "execution_count": null,
   "id": "d79aa178",
   "metadata": {},
   "outputs": [],
   "source": []
  }
 ],
 "metadata": {
  "kernelspec": {
   "display_name": "Python 3 (ipykernel)",
   "language": "python",
   "name": "python3"
  },
  "language_info": {
   "codemirror_mode": {
    "name": "ipython",
    "version": 3
   },
   "file_extension": ".py",
   "mimetype": "text/x-python",
   "name": "python",
   "nbconvert_exporter": "python",
   "pygments_lexer": "ipython3",
   "version": "3.9.7"
  }
 },
 "nbformat": 4,
 "nbformat_minor": 5
}
