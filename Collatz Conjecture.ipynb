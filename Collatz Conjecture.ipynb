{
 "cells": [
  {
   "cell_type": "markdown",
   "id": "389dc7d5",
   "metadata": {},
   "source": [
    "# Introduction\n",
    "\n",
    "One evening, you stumbled upon an old notebook filled with cryptic scribbles, as though someone had been obsessively chasing an idea. On one page, a single question stood out: Can every number find its way to 1? It was tied to something called the Collatz Conjecture, a puzzle that has baffled thinkers for decades.\n",
    "\n",
    "The rules were deceptively simple. Pick any positive integer.\n",
    "\n",
    "If it's even, divide it by 2.\n",
    "\n",
    "If it's odd, multiply it by 3 and add 1.\n",
    "\n",
    "Then, repeat these steps with the result, continuing indefinitely.\n",
    "\n",
    "Curious, you picked number 12 to test and began the journey:\n",
    "\n",
    "12 ➜ 6 ➜ 3 ➜ 10 ➜ 5 ➜ 16 ➜ 8 ➜ 4 ➜ 2 ➜ 1\n",
    "\n",
    "Counting from the second number (6), it took 9 steps to reach 1, and each time the rules repeated, the number kept changing. At first, the sequence seemed unpredictable — jumping up, down, and all over. Yet, the conjecture claims that no matter the starting number, we'll always end at 1.\n",
    "\n",
    "It was fascinating, but also puzzling. Why does this always seem to work? Could there be a number where the process breaks down, looping forever or escaping into infinity? The notebook suggested solving this could reveal something profound — and with it, fame, fortune, and a place in history awaits whoever could unlock its secrets."
   ]
  },
  {
   "cell_type": "markdown",
   "id": "edcce299",
   "metadata": {},
   "source": [
    "# Instructions\n",
    "\n",
    "Given a positive integer, return the number of steps it takes to reach 1 according to the rules of the Collatz Conjecture.\n",
    "\n",
    "## Exception messages\n",
    "\n",
    "Sometimes it is necessary to raise an exception. When you do this, you should always include a meaningful error message to indicate what the source of the error is. This makes your code more readable and helps significantly with debugging. For situations where you know that the error source will be a certain type, you can choose to raise one of the built in error types, but should still include a meaningful message.\n",
    "\n",
    "The Collatz Conjecture is only concerned with strictly positive integers, so this exercise expects you to use the raise statement and \"throw\" a ValueError in your solution if the given value is zero or a negative integer. The tests will only pass if you both raise the exception and include a message with it.\n",
    "\n",
    "To raise a ValueError with a message, write the message as an argument to the exception type:\n",
    "\n",
    "--example when argument is zero or a negative integer\n",
    "\n",
    "raise ValueError(\"Only positive integers are allowed\")"
   ]
  },
  {
   "cell_type": "code",
   "execution_count": 50,
   "id": "4a505df4",
   "metadata": {},
   "outputs": [],
   "source": [
    "def steps(number):\n",
    "    if number < 1:\n",
    "        raise ValueError(\"Only positive integers are allowed\")\n",
    "    no_of_steps = []\n",
    "    while number != 1:\n",
    "        no_of_steps.append(number)\n",
    "        if number % 2 == 0:\n",
    "            number = number // 2\n",
    "        else:\n",
    "            number = number*3+1\n",
    "    return len(no_of_steps)"
   ]
  },
  {
   "cell_type": "code",
   "execution_count": 51,
   "id": "81596cb2",
   "metadata": {},
   "outputs": [
    {
     "data": {
      "text/plain": [
       "4"
      ]
     },
     "execution_count": 51,
     "metadata": {},
     "output_type": "execute_result"
    }
   ],
   "source": [
    "steps(16)"
   ]
  },
  {
   "cell_type": "code",
   "execution_count": null,
   "id": "37fee072",
   "metadata": {},
   "outputs": [],
   "source": []
  }
 ],
 "metadata": {
  "kernelspec": {
   "display_name": "Python 3 (ipykernel)",
   "language": "python",
   "name": "python3"
  },
  "language_info": {
   "codemirror_mode": {
    "name": "ipython",
    "version": 3
   },
   "file_extension": ".py",
   "mimetype": "text/x-python",
   "name": "python",
   "nbconvert_exporter": "python",
   "pygments_lexer": "ipython3",
   "version": "3.9.7"
  }
 },
 "nbformat": 4,
 "nbformat_minor": 5
}
