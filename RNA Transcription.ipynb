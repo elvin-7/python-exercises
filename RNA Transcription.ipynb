{
 "cells": [
  {
   "cell_type": "markdown",
   "id": "dc85f436",
   "metadata": {},
   "source": [
    "# Introduction\n",
    "You work for a bioengineering company that specializes in developing therapeutic solutions.\n",
    "\n",
    "Your team has just been given a new project to develop a targeted therapy for a rare type of cancer.\n",
    "\n",
    "#### Note\n",
    "It's all very complicated, but the basic idea is that sometimes people's bodies produce too much of a given protein. That can cause all sorts of havoc.\n",
    "\n",
    "But if you can create a very specific molecule (called a micro-RNA), it can prevent the protein from being produced.\n",
    "\n",
    "This technique is called RNA Interference.\n",
    "\n",
    "## Instructions\n",
    "Your task is to determine the RNA complement of a given DNA sequence.\n",
    "\n",
    "Both DNA and RNA strands are a sequence of nucleotides.\n",
    "\n",
    "The four nucleotides found in DNA are adenine (A), cytosine (C), guanine (G), and thymine (T).\n",
    "\n",
    "The four nucleotides found in RNA are adenine (A), cytosine (C), guanine (G), and uracil (U).\n",
    "\n",
    "Given a DNA strand, its transcribed RNA strand is formed by replacing each nucleotide with its complement:\n",
    "\n",
    "- G -> C\n",
    "- C -> G\n",
    "- T -> A\n",
    "- A -> U\n",
    "#### Note\n",
    "If you want to look at how the inputs and outputs are structured, take a look at the examples in the test suite."
   ]
  },
  {
   "cell_type": "code",
   "execution_count": 22,
   "id": "41831f5f",
   "metadata": {},
   "outputs": [],
   "source": [
    "def to_rna(dna_strand):\n",
    "    \n",
    "    rna = str.maketrans({'G':'C','C':'G','T':'A','A':'U'})\n",
    "    return dna_strand.translate(rna)"
   ]
  },
  {
   "cell_type": "code",
   "execution_count": 23,
   "id": "0bca05f4",
   "metadata": {},
   "outputs": [
    {
     "data": {
      "text/plain": [
       "'UCUGA'"
      ]
     },
     "execution_count": 23,
     "metadata": {},
     "output_type": "execute_result"
    }
   ],
   "source": [
    "to_rna('AGUCT')"
   ]
  },
  {
   "cell_type": "markdown",
   "id": "b0f3d2f7",
   "metadata": {},
   "source": [
    "## Join approach"
   ]
  },
  {
   "cell_type": "code",
   "execution_count": 24,
   "id": "1549033e",
   "metadata": {},
   "outputs": [],
   "source": [
    "def to_rna2(dna_strand):\n",
    "    rna = {'G':'C','C':'G','T':'A','A':'U'}\n",
    "    \n",
    "    return ''.join(rna[n] for n in dna_strand)"
   ]
  },
  {
   "cell_type": "code",
   "execution_count": 25,
   "id": "1bbf2f47",
   "metadata": {},
   "outputs": [
    {
     "data": {
      "text/plain": [
       "'CGAU'"
      ]
     },
     "execution_count": 25,
     "metadata": {},
     "output_type": "execute_result"
    }
   ],
   "source": [
    "to_rna2('GCTA')"
   ]
  },
  {
   "cell_type": "code",
   "execution_count": null,
   "id": "1e3366f9",
   "metadata": {},
   "outputs": [],
   "source": []
  }
 ],
 "metadata": {
  "kernelspec": {
   "display_name": "Python 3 (ipykernel)",
   "language": "python",
   "name": "python3"
  },
  "language_info": {
   "codemirror_mode": {
    "name": "ipython",
    "version": 3
   },
   "file_extension": ".py",
   "mimetype": "text/x-python",
   "name": "python",
   "nbconvert_exporter": "python",
   "pygments_lexer": "ipython3",
   "version": "3.9.7"
  }
 },
 "nbformat": 4,
 "nbformat_minor": 5
}
