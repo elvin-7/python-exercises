{
 "cells": [
  {
   "cell_type": "markdown",
   "id": "21214de6",
   "metadata": {},
   "source": [
    "# Instructions\n",
    "Translate RNA sequences into proteins.\n",
    "\n",
    "RNA can be broken into three-nucleotide sequences called codons, and then translated to a protein like so:\n",
    "\n",
    "RNA: \"AUGUUUUCU\" => translates to\n",
    "\n",
    "Codons: \"AUG\", \"UUU\", \"UCU\" => which become a protein with the following sequence =>\n",
    "\n",
    "Protein: \"Methionine\", \"Phenylalanine\", \"Serine\"\n",
    "\n",
    "There are 64 codons which in turn correspond to 20 amino acids; however, all of the codon sequences and resulting amino acids are not important in this exercise. If it works for one codon, the program should work for all of them. However, feel free to expand the list in the test suite to include them all.\n",
    "\n",
    "There are also three terminating codons (also known as 'STOP' codons); if any of these codons are encountered (by the ribosome), all translation ends and the protein is terminated.\n",
    "\n",
    "All subsequent codons after are ignored, like this:\n",
    "\n",
    "RNA: \"AUGUUUUCUUAAAUG\" =>\n",
    "\n",
    "Codons: \"AUG\", \"UUU\", \"UCU\", \"UAA\", \"AUG\" =>\n",
    "\n",
    "Protein: \"Methionine\", \"Phenylalanine\", \"Serine\"\n",
    "\n",
    "Note the stop codon \"UAA\" terminates the translation and the final methionine is not translated into the protein sequence.\n",
    "\n",
    "Below are the codons and resulting amino acids needed for the exercise.\n",
    "\n",
    "|Codon|\tAmino Acid|\n",
    "|-----|-----------|\n",
    "|AUG\t|Methionine|\n",
    "|UUU, UUC|Phenylalanine|\n",
    "|UUA, UUG\t|Leucine|\n",
    "|UCU, UCC, UCA, UCG|Serine|\n",
    "|UAU, UAC|Tyrosine|\n",
    "|UGU, UGC\t|Cysteine|\n",
    "|UGG\t|Tryptophan|\n",
    "|UAA, UAG, UGA|STOP|\n"
   ]
  },
  {
   "cell_type": "code",
   "execution_count": 34,
   "id": "7ef8497c",
   "metadata": {},
   "outputs": [],
   "source": [
    "def proteins(strand):\n",
    "    PROTEIN = {\n",
    "        'AUG':'Methionine','UUU':'Phenylalanine','UUC':'Phenylalanine',\n",
    "               'UUA':'Leucine', 'UUG':'Leucine','UCU':'Serine', 'UCC':'Serine',\n",
    "               'UCA':'Serine', 'UCG':'Serine','UAU':'Tyrosine', 'UAC':'Tyrosine',\n",
    "               'UGU':'Cysteine', 'UGC':'Cysteine','UGG':'Tryptophan','UAA':'STOP',\n",
    "               'UAG':'STOP','UGA':'STOP'\n",
    "    }\n",
    "    \n",
    "    amino_acid = [strand[i:i+3]for i in range(0,len(strand),3)]\n",
    "    result = []\n",
    "    \n",
    "    for ch in amino_acid:\n",
    "        if PROTEIN[ch] != 'STOP':\n",
    "            result.append(PROTEIN[ch])\n",
    "        else:\n",
    "            break\n",
    "    return result"
   ]
  },
  {
   "cell_type": "code",
   "execution_count": 35,
   "id": "71f4a772",
   "metadata": {},
   "outputs": [
    {
     "data": {
      "text/plain": [
       "['Methionine', 'Phenylalanine', 'Serine']"
      ]
     },
     "execution_count": 35,
     "metadata": {},
     "output_type": "execute_result"
    }
   ],
   "source": [
    "proteins(\"AUGUUUUCUUAAAUG\")"
   ]
  },
  {
   "cell_type": "code",
   "execution_count": null,
   "id": "f4977f2c",
   "metadata": {},
   "outputs": [],
   "source": []
  }
 ],
 "metadata": {
  "kernelspec": {
   "display_name": "Python 3 (ipykernel)",
   "language": "python",
   "name": "python3"
  },
  "language_info": {
   "codemirror_mode": {
    "name": "ipython",
    "version": 3
   },
   "file_extension": ".py",
   "mimetype": "text/x-python",
   "name": "python",
   "nbconvert_exporter": "python",
   "pygments_lexer": "ipython3",
   "version": "3.9.7"
  }
 },
 "nbformat": 4,
 "nbformat_minor": 5
}
