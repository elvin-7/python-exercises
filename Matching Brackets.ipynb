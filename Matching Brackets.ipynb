{
 "cells": [
  {
   "cell_type": "markdown",
   "id": "67a98b8d",
   "metadata": {},
   "source": [
    "# Introduction\n",
    "You're given the opportunity to write software for the Bracketeer™, an ancient but powerful mainframe. The software that runs on it is written in a proprietary language. Much of its syntax is familiar, but you notice lots of brackets, braces and parentheses. Despite the Bracketeer™ being powerful, it lacks flexibility. If the source code has any unbalanced brackets, braces or parentheses, the Bracketeer™ crashes and must be rebooted. To avoid such a scenario, you start writing code that can verify that brackets, braces, and parentheses are balanced before attempting to run it on the Bracketeer™.\n",
    "\n",
    "## Instructions\n",
    "Given a string containing brackets [], braces {}, parentheses (), or any combination thereof, verify that any and all pairs are matched and nested correctly. Any other characters should be ignored. For example, \"{what is (42)}?\" is balanced and \"[text}\" is not."
   ]
  },
  {
   "cell_type": "code",
   "execution_count": 16,
   "id": "efcba38b",
   "metadata": {},
   "outputs": [],
   "source": [
    "def is_paired(input_string):\n",
    "    pairs = {\n",
    "        '{' : '}',\n",
    "        '(' : ')',\n",
    "        '[' : ']'\n",
    "    }\n",
    "    stack = []\n",
    "    for item in input_string:\n",
    "        if item in pairs.keys():\n",
    "            stack.append(item)\n",
    "        elif item in pairs.values():\n",
    "            if stack and item == pairs[stack[-1]]:\n",
    "                stack.pop()\n",
    "            else:\n",
    "                return False\n",
    "    return len(stack) == 0"
   ]
  },
  {
   "cell_type": "code",
   "execution_count": 17,
   "id": "8c8f8b34",
   "metadata": {},
   "outputs": [
    {
     "data": {
      "text/plain": [
       "True"
      ]
     },
     "execution_count": 17,
     "metadata": {},
     "output_type": "execute_result"
    }
   ],
   "source": [
    "is_paired(\"{ }\")"
   ]
  },
  {
   "cell_type": "code",
   "execution_count": 18,
   "id": "c95fc04c",
   "metadata": {},
   "outputs": [
    {
     "data": {
      "text/plain": [
       "False"
      ]
     },
     "execution_count": 18,
     "metadata": {},
     "output_type": "execute_result"
    }
   ],
   "source": [
    "is_paired('{[sdsaw]]sda{sdw23[232]]345}}')"
   ]
  },
  {
   "cell_type": "code",
   "execution_count": 19,
   "id": "ba59db8e",
   "metadata": {},
   "outputs": [
    {
     "data": {
      "text/plain": [
       "True"
      ]
     },
     "execution_count": 19,
     "metadata": {},
     "output_type": "execute_result"
    }
   ],
   "source": [
    "is_paired('{sdfkfdi[wefdfd(sdafea[sda(234)sd34453]234534)6576]23243}')"
   ]
  },
  {
   "cell_type": "markdown",
   "id": "5da50c01",
   "metadata": {},
   "source": [
    "## Alternate Approaches\n",
    "\n",
    "### Repeated-substitution approach"
   ]
  },
  {
   "cell_type": "code",
   "execution_count": 10,
   "id": "335c2935",
   "metadata": {},
   "outputs": [],
   "source": [
    "def is_paired2(text):\n",
    "    text = ''.join(item for item in text if item in \"()[]{}\")\n",
    "    while \"()\" in text or '[]'in text or'{}'in text:\n",
    "        text = text.replace(\"()\",\"\").replace(\"[]\",\"\").replace(\"{}\",\"\")\n",
    "    return not text"
   ]
  },
  {
   "cell_type": "code",
   "execution_count": 11,
   "id": "f6f7f0d3",
   "metadata": {},
   "outputs": [
    {
     "data": {
      "text/plain": [
       "True"
      ]
     },
     "execution_count": 11,
     "metadata": {},
     "output_type": "execute_result"
    }
   ],
   "source": [
    "is_paired2('{ }')"
   ]
  },
  {
   "cell_type": "code",
   "execution_count": 12,
   "id": "c7f6dc94",
   "metadata": {},
   "outputs": [
    {
     "data": {
      "text/plain": [
       "False"
      ]
     },
     "execution_count": 12,
     "metadata": {},
     "output_type": "execute_result"
    }
   ],
   "source": [
    "is_paired2('{[sdsaw]]sda{sdw23[232]]345}}')"
   ]
  },
  {
   "cell_type": "code",
   "execution_count": 14,
   "id": "6e834b02",
   "metadata": {},
   "outputs": [
    {
     "data": {
      "text/plain": [
       "True"
      ]
     },
     "execution_count": 14,
     "metadata": {},
     "output_type": "execute_result"
    }
   ],
   "source": [
    "is_paired2('{sdfkfdi[wefdfd(sdafea[sda(234)sd34453]234534)6576]23243}')"
   ]
  },
  {
   "cell_type": "code",
   "execution_count": null,
   "id": "6616cd06",
   "metadata": {},
   "outputs": [],
   "source": []
  }
 ],
 "metadata": {
  "kernelspec": {
   "display_name": "Python 3 (ipykernel)",
   "language": "python",
   "name": "python3"
  },
  "language_info": {
   "codemirror_mode": {
    "name": "ipython",
    "version": 3
   },
   "file_extension": ".py",
   "mimetype": "text/x-python",
   "name": "python",
   "nbconvert_exporter": "python",
   "pygments_lexer": "ipython3",
   "version": "3.9.7"
  }
 },
 "nbformat": 4,
 "nbformat_minor": 5
}
