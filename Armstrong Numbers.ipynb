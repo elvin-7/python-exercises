{
 "cells": [
  {
   "cell_type": "markdown",
   "id": "4a6eb737",
   "metadata": {},
   "source": [
    "# Instructions\n",
    "\n",
    "An Armstrong number is a number that is the sum of its own digits each raised to the power of the number of digits.\n",
    "\n",
    "For example:\n",
    "\n",
    "9 is an Armstrong number, because 9 = 9^1 = 9\n",
    "\n",
    "10 is not an Armstrong number, because 10 != 1^2 + 0^2 = 1\n",
    "\n",
    "153 is an Armstrong number, because: 153 = 1^3 + 5^3 + 3^3 = 1 + 125 + 27 = 153\n",
    "\n",
    "154 is not an Armstrong number, because: 154 != 1^3 + 5^3 + 4^3 = 1 + 125 + 64 = 190\n",
    "\n",
    "Write some code to determine whether a number is an Armstrong number."
   ]
  },
  {
   "cell_type": "code",
   "execution_count": 14,
   "id": "b4a232de",
   "metadata": {},
   "outputs": [],
   "source": [
    "def is_armstrong_number(number):\n",
    "    \n",
    "    num_str = str(number) #converts the number to a string\n",
    "    \n",
    "    count = len(num_str) #gives the number of digits\n",
    "    \n",
    "    value = 0\n",
    "    \n",
    "    for num in num_str:\n",
    "        \n",
    "        value += int(num)**count\n",
    "        \n",
    "    return number == value\n",
    "    "
   ]
  },
  {
   "cell_type": "code",
   "execution_count": 20,
   "id": "e681bf10",
   "metadata": {},
   "outputs": [
    {
     "data": {
      "text/plain": [
       "True"
      ]
     },
     "execution_count": 20,
     "metadata": {},
     "output_type": "execute_result"
    }
   ],
   "source": [
    "is_armstrong_number(0)"
   ]
  },
  {
   "cell_type": "code",
   "execution_count": null,
   "id": "30dc0f9c",
   "metadata": {},
   "outputs": [],
   "source": []
  }
 ],
 "metadata": {
  "kernelspec": {
   "display_name": "Python 3 (ipykernel)",
   "language": "python",
   "name": "python3"
  },
  "language_info": {
   "codemirror_mode": {
    "name": "ipython",
    "version": 3
   },
   "file_extension": ".py",
   "mimetype": "text/x-python",
   "name": "python",
   "nbconvert_exporter": "python",
   "pygments_lexer": "ipython3",
   "version": "3.9.7"
  }
 },
 "nbformat": 4,
 "nbformat_minor": 5
}
