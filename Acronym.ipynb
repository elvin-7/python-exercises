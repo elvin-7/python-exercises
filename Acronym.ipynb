{
 "cells": [
  {
   "cell_type": "markdown",
   "id": "c4b7fadc",
   "metadata": {},
   "source": [
    "# Instructions\n",
    "Convert a phrase to its acronym.\n",
    "\n",
    "Techies love their TLA (Three Letter Acronyms)!\n",
    "\n",
    "Help generate some jargon by writing a program that converts a long name like Portable Network Graphics to its acronym (PNG).\n",
    "\n",
    "Punctuation is handled as follows: hyphens are word separators (like whitespace); all other punctuation can be removed from the input.\n",
    "\n",
    "For example:\n",
    "\n",
    "Input\t|Output\n",
    "--------|-----------\n",
    "As Soon As Possible\t|ASAP\n",
    "Liquid-crystal display\t|LCD\n",
    "Thank George It's Friday!\t|TGIF\n"
   ]
  },
  {
   "cell_type": "code",
   "execution_count": 55,
   "id": "81e917fb",
   "metadata": {},
   "outputs": [
    {
     "name": "stdout",
     "output_type": "stream",
     "text": [
      "TRNT\n"
     ]
    }
   ],
   "source": [
    "import re\n",
    "def abbreviate(words):\n",
    "    words = words.replace(\"-\",\" \")\n",
    "    a = re.sub(r'[^a-zA-Z ]', '',words).split()\n",
    "    a = [i[0].upper() for i in a]\n",
    "    return ''.join(a)"
   ]
  },
  {
   "cell_type": "code",
   "execution_count": 49,
   "id": "f56fc12f",
   "metadata": {},
   "outputs": [
    {
     "data": {
      "text/plain": [
       "'LCD'"
      ]
     },
     "execution_count": 49,
     "metadata": {},
     "output_type": "execute_result"
    }
   ],
   "source": [
    "abbreviate(\"Liquid-crystal display\")"
   ]
  },
  {
   "cell_type": "code",
   "execution_count": 50,
   "id": "ea2cdb14",
   "metadata": {},
   "outputs": [
    {
     "data": {
      "text/plain": [
       "'ASAP'"
      ]
     },
     "execution_count": 50,
     "metadata": {},
     "output_type": "execute_result"
    }
   ],
   "source": [
    "abbreviate(\"As Soon As Possible\")"
   ]
  },
  {
   "cell_type": "code",
   "execution_count": 51,
   "id": "f4f89d35",
   "metadata": {},
   "outputs": [
    {
     "data": {
      "text/plain": [
       "'TGIF'"
      ]
     },
     "execution_count": 51,
     "metadata": {},
     "output_type": "execute_result"
    }
   ],
   "source": [
    "abbreviate(\"Thank George It's Friday!\")"
   ]
  },
  {
   "cell_type": "code",
   "execution_count": 56,
   "id": "82eda742",
   "metadata": {},
   "outputs": [
    {
     "data": {
      "text/plain": [
       "'TRNT'"
      ]
     },
     "execution_count": 56,
     "metadata": {},
     "output_type": "execute_result"
    }
   ],
   "source": [
    "abbreviate(\"The Road _Not_ Taken\")"
   ]
  },
  {
   "cell_type": "code",
   "execution_count": 53,
   "id": "2908eed9",
   "metadata": {},
   "outputs": [
    {
     "data": {
      "text/plain": [
       "'TRNT'"
      ]
     },
     "execution_count": 53,
     "metadata": {},
     "output_type": "execute_result"
    }
   ],
   "source": [
    "a = re.sub(r'[^a-zA-Z ]', '',\"The Road _Not_ Taken\").split()\n",
    "a = [i[0] for i in a]\n",
    "''.join(a)"
   ]
  },
  {
   "cell_type": "code",
   "execution_count": 45,
   "id": "f587fbff",
   "metadata": {},
   "outputs": [
    {
     "data": {
      "text/plain": [
       "'The Road _Not_ Taken'"
      ]
     },
     "execution_count": 45,
     "metadata": {},
     "output_type": "execute_result"
    }
   ],
   "source": [
    "\"The Road _Not_ Taken\".replace(\"-\",\" \")"
   ]
  },
  {
   "cell_type": "code",
   "execution_count": null,
   "id": "8df9239c",
   "metadata": {},
   "outputs": [],
   "source": []
  }
 ],
 "metadata": {
  "kernelspec": {
   "display_name": "Python 3 (ipykernel)",
   "language": "python",
   "name": "python3"
  },
  "language_info": {
   "codemirror_mode": {
    "name": "ipython",
    "version": 3
   },
   "file_extension": ".py",
   "mimetype": "text/x-python",
   "name": "python",
   "nbconvert_exporter": "python",
   "pygments_lexer": "ipython3",
   "version": "3.9.7"
  }
 },
 "nbformat": 4,
 "nbformat_minor": 5
}
