{
 "cells": [
  {
   "cell_type": "markdown",
   "id": "a9c365ac",
   "metadata": {},
   "source": [
    "# Instructions\n",
    "\n",
    "In this exercise you are going to implement some rules of Blackjack, such as the way the game is played and scored.\n",
    "\n",
    "Note : In this exercise, A means ace, J means jack, Q means queen, and K means king. Jokers are discarded. A standard French-suited 52-card deck is assumed, but in most versions, several decks are shuffled together for play."
   ]
  },
  {
   "cell_type": "markdown",
   "id": "9cfad4ba",
   "metadata": {},
   "source": [
    "## Task 1. Calculate the value of a card\n",
    "\n",
    "In Blackjack, it is up to each individual player if an ace is worth 1 or 11 points (more on that later). Face cards (J, Q, K) are scored at 10 points and any other card is worth its \"pip\" (numerical) value.\n",
    "\n",
    "Define the value_of_card(<card>) function with parameter card. The function should return the numerical value of the passed-in card string. Since an ace can take on multiple values (1 or 11), this function should fix the value of an ace card at 1 for the time being. Later on, you will implement a function to determine the value of an ace card, given an existing hand."
   ]
  },
  {
   "cell_type": "code",
   "execution_count": 5,
   "id": "dd7e2b51",
   "metadata": {},
   "outputs": [],
   "source": [
    "face_cards = ('K','Q','J')\n",
    "regular_cards = ('2','3','4','5','6','7','8','9','10')\n",
    "ace = 'A'\n",
    "def value_of_cards(card):\n",
    "    if card in face_cards:\n",
    "        return 10\n",
    "    elif card == 'A':\n",
    "        return 1\n",
    "    elif card in regular_cards:\n",
    "        return int(card)"
   ]
  },
  {
   "cell_type": "code",
   "execution_count": 25,
   "id": "7e55d342",
   "metadata": {},
   "outputs": [
    {
     "data": {
      "text/plain": [
       "2"
      ]
     },
     "execution_count": 25,
     "metadata": {},
     "output_type": "execute_result"
    }
   ],
   "source": [
    "value_of_cards('2')"
   ]
  },
  {
   "cell_type": "markdown",
   "id": "bab1b987",
   "metadata": {},
   "source": [
    "## Task 2. Determine which card has a higher value\n",
    "\n",
    "Define the higher_card(card_one, card_two) function having parameters card_one and card_two. For scoring purposes, the value of J, Q or K is 10. The function should return which card has the higher value for scoring. If both cards have an equal value, return both. Returning both cards can be done by using a comma in the return statement:"
   ]
  },
  {
   "cell_type": "code",
   "execution_count": 7,
   "id": "ebaae5e8",
   "metadata": {},
   "outputs": [],
   "source": [
    "def higher_card(card_one, card_two):\n",
    "    if value_of_cards(card_one) > value_of_cards(card_two):\n",
    "        return card_one\n",
    "    elif value_of_cards(card_two) > value_of_cards(card_one):\n",
    "        return card_two\n",
    "    else:\n",
    "        return card_one, card_two"
   ]
  },
  {
   "cell_type": "code",
   "execution_count": 8,
   "id": "773a8cc7",
   "metadata": {},
   "outputs": [
    {
     "data": {
      "text/plain": [
       "'K'"
      ]
     },
     "execution_count": 8,
     "metadata": {},
     "output_type": "execute_result"
    }
   ],
   "source": [
    "higher_card('A','K')"
   ]
  },
  {
   "cell_type": "markdown",
   "id": "16d7d7ca",
   "metadata": {},
   "source": [
    "## Task 3. Calculate the value of an ace\n",
    "\n",
    "As mentioned before, an ace can be worth either 1 or 11 points. Players try to get as close as possible to a score of 21, without going over 21 (going \"bust\").\n",
    "\n",
    "Define the value_of_ace(card_one, card_two) function with parameters card_one and card_two, which are a pair of cards already in the hand before getting an ace card. Your function will have to decide if the upcoming ace will get a value of 1 or a value of 11, and return that value. Remember: the value of the hand with the ace needs to be as high as possible without going over 21.\n",
    "\n",
    "Hint: if we already have an ace in hand, then the value for the upcoming ace would be 1."
   ]
  },
  {
   "cell_type": "code",
   "execution_count": 9,
   "id": "2f35f01b",
   "metadata": {},
   "outputs": [],
   "source": [
    "def value_of_ace(card_one, card_two):\n",
    "    if value_of_cards(card_one) + value_of_cards(card_two) + 11 > 21:\n",
    "        return 1\n",
    "    elif card_one == ace or card_two == ace:\n",
    "        return 1\n",
    "    else:\n",
    "        return 11"
   ]
  },
  {
   "cell_type": "code",
   "execution_count": 10,
   "id": "116a1223",
   "metadata": {},
   "outputs": [
    {
     "data": {
      "text/plain": [
       "11"
      ]
     },
     "execution_count": 10,
     "metadata": {},
     "output_type": "execute_result"
    }
   ],
   "source": [
    "value_of_ace('5','3')"
   ]
  },
  {
   "cell_type": "markdown",
   "id": "edcbfa5b",
   "metadata": {},
   "source": [
    "## Task 4. Determine a \"Natural\" or \"Blackjack\" Hand\n",
    "\n",
    "If a player is dealt an ace (A) and a ten-card (10, K, Q, or J) as their first two cards, then the player has a score of 21. This is known as a blackjack hand.\n",
    "\n",
    "Define the is_blackjack(card_one, card_two) function with parameters card_one and card_two, which are a pair of cards. Determine if the two-card hand is a blackjack, and return the boolean True if it is, False otherwise.\n",
    "\n",
    "Note : The score calculation can be done in many ways. But if possible, we'd like you to check if there is an ace and a ten-card in the hand (or at a certain position), as opposed to summing the hand values."
   ]
  },
  {
   "cell_type": "code",
   "execution_count": 30,
   "id": "e50ddec4",
   "metadata": {},
   "outputs": [],
   "source": [
    "ten_card = ('10','K','Q','J')\n",
    "def is_blackjack(card_one, card_two):\n",
    "    if (card_one in ten_card and card_two is ace) or (card_two in ten_card and card_one is ace):\n",
    "        return 10+11 == 21\n",
    "    else:\n",
    "        return 10+11 != 21"
   ]
  },
  {
   "cell_type": "code",
   "execution_count": 32,
   "id": "adcce2bb",
   "metadata": {
    "scrolled": true
   },
   "outputs": [
    {
     "data": {
      "text/plain": [
       "False"
      ]
     },
     "execution_count": 32,
     "metadata": {},
     "output_type": "execute_result"
    }
   ],
   "source": [
    "is_blackjack('K','Q')"
   ]
  },
  {
   "cell_type": "markdown",
   "id": "ebc35db2",
   "metadata": {},
   "source": [
    "## Task 5. Splitting pairs\n",
    "\n",
    "If the players first two cards are of the same value, such as two sixes, or a Q and K a player may choose to treat them as two separate hands. This is known as \"splitting pairs\".\n",
    "\n",
    "Define the can_split_pairs(card_one, card_two) function with parameters card_one and card_two, which are a pair of cards. Determine if this two-card hand can be split into two pairs. If the hand can be split, return the boolean True otherwise, return False"
   ]
  },
  {
   "cell_type": "code",
   "execution_count": 15,
   "id": "d462187c",
   "metadata": {},
   "outputs": [],
   "source": [
    "def can_split_pairs(card_one,card_two):\n",
    "    return value_of_cards(card_one) == value_of_cards(card_two)"
   ]
  },
  {
   "cell_type": "code",
   "execution_count": 18,
   "id": "b0c8a153",
   "metadata": {},
   "outputs": [
    {
     "data": {
      "text/plain": [
       "False"
      ]
     },
     "execution_count": 18,
     "metadata": {},
     "output_type": "execute_result"
    }
   ],
   "source": [
    "can_split_pairs('K','A')"
   ]
  },
  {
   "cell_type": "markdown",
   "id": "2e1e5a20",
   "metadata": {},
   "source": [
    "## Task 6. Doubling down\n",
    "\n",
    "When the original two cards dealt total 9, 10, or 11 points, a player can place an additional bet equal to their original bet. This is known as \"doubling down\".\n",
    "\n",
    "Define the can_double_down(card_one, card_two) function with parameters card_one and card_two, which are a pair of cards. Determine if the two-card hand can be \"doubled down\", and return the boolean True if it can, False otherwise."
   ]
  },
  {
   "cell_type": "code",
   "execution_count": 20,
   "id": "0dc3d61f",
   "metadata": {},
   "outputs": [],
   "source": [
    "double_down_totals = (9,10,11)\n",
    "\n",
    "def can_double_down(card_one,card_two):\n",
    "    return value_of_cards(card_one)+value_of_cards(card_two) in double_down_totals "
   ]
  },
  {
   "cell_type": "code",
   "execution_count": 24,
   "id": "c0f18250",
   "metadata": {},
   "outputs": [
    {
     "data": {
      "text/plain": [
       "False"
      ]
     },
     "execution_count": 24,
     "metadata": {},
     "output_type": "execute_result"
    }
   ],
   "source": [
    "can_double_down('10','2')"
   ]
  },
  {
   "cell_type": "code",
   "execution_count": null,
   "id": "f9d2adc8",
   "metadata": {},
   "outputs": [],
   "source": []
  }
 ],
 "metadata": {
  "kernelspec": {
   "display_name": "Python 3 (ipykernel)",
   "language": "python",
   "name": "python3"
  },
  "language_info": {
   "codemirror_mode": {
    "name": "ipython",
    "version": 3
   },
   "file_extension": ".py",
   "mimetype": "text/x-python",
   "name": "python",
   "nbconvert_exporter": "python",
   "pygments_lexer": "ipython3",
   "version": "3.9.7"
  }
 },
 "nbformat": 4,
 "nbformat_minor": 5
}
