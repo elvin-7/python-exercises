{
 "cells": [
  {
   "cell_type": "markdown",
   "id": "aa325ba9",
   "metadata": {},
   "source": [
    "# Instructions\n",
    "Find the difference between the square of the sum and the sum of the squares of the first N natural numbers.\n",
    "\n",
    "The square of the sum of the first ten natural numbers is (1 + 2 + ... + 10)² = 55² = 3025.\n",
    "\n",
    "The sum of the squares of the first ten natural numbers is 1² + 2² + ... + 10² = 385.\n",
    "\n",
    "Hence the difference between the square of the sum of the first ten natural numbers and the sum of the squares of the first ten natural numbers is 3025 - 385 = 2640.\n",
    "\n",
    "You are not expected to discover an efficient solution to this yourself from first principles; research is allowed, indeed, encouraged. Finding the best algorithm for the problem is a key skill in software engineering."
   ]
  },
  {
   "cell_type": "code",
   "execution_count": 7,
   "id": "8b01519a",
   "metadata": {},
   "outputs": [],
   "source": [
    "def square_of_sum(number):\n",
    "    num_sum = sum(range(number,0,-1))\n",
    "    return num_sum ** 2\n",
    "\n",
    "def sum_of_squares(number):\n",
    "    sum_squ = [i**2 for i in range(number,0,-1)]\n",
    "    return sum(sum_squ)\n",
    "\n",
    "def difference_of_squares(number):\n",
    "    return square_of_sum(number) - sum_of_squares(number)"
   ]
  },
  {
   "cell_type": "code",
   "execution_count": 8,
   "id": "d6854c10",
   "metadata": {},
   "outputs": [
    {
     "name": "stdout",
     "output_type": "stream",
     "text": [
      "225\n",
      "55\n",
      "170\n"
     ]
    }
   ],
   "source": [
    "print(square_of_sum(5))\n",
    "print(sum_of_squares(5))\n",
    "print(difference_of_squares(5))"
   ]
  },
  {
   "cell_type": "code",
   "execution_count": 9,
   "id": "321393e3",
   "metadata": {},
   "outputs": [
    {
     "name": "stdout",
     "output_type": "stream",
     "text": [
      "25502500\n",
      "338350\n",
      "25164150\n"
     ]
    }
   ],
   "source": [
    "print(square_of_sum(100))\n",
    "print(sum_of_squares(100))\n",
    "print(difference_of_squares(100))"
   ]
  },
  {
   "cell_type": "code",
   "execution_count": 10,
   "id": "bd57b956",
   "metadata": {},
   "outputs": [
    {
     "name": "stdout",
     "output_type": "stream",
     "text": [
      "1\n",
      "1\n",
      "0\n"
     ]
    }
   ],
   "source": [
    "print(square_of_sum(1))\n",
    "print(sum_of_squares(1))\n",
    "print(difference_of_squares(1))"
   ]
  },
  {
   "cell_type": "code",
   "execution_count": null,
   "id": "277e4384",
   "metadata": {},
   "outputs": [],
   "source": []
  }
 ],
 "metadata": {
  "kernelspec": {
   "display_name": "Python 3 (ipykernel)",
   "language": "python",
   "name": "python3"
  },
  "language_info": {
   "codemirror_mode": {
    "name": "ipython",
    "version": 3
   },
   "file_extension": ".py",
   "mimetype": "text/x-python",
   "name": "python",
   "nbconvert_exporter": "python",
   "pygments_lexer": "ipython3",
   "version": "3.9.7"
  }
 },
 "nbformat": 4,
 "nbformat_minor": 5
}
