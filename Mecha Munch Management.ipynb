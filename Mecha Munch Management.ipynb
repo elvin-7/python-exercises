{
 "cells": [
  {
   "cell_type": "markdown",
   "id": "6f064d02",
   "metadata": {},
   "source": [
    "# Instructions\n",
    "\n",
    "Mecha Munch™, a grocery shopping automation company has just hired you to work on their ordering app. Your team is tasked with building an MVP (minimum viable product) that manages all the basic shopping cart activities, allowing users to add, remove, and sort their grocery orders. Thankfully, a different team is handling all the money and check-out functions!"
   ]
  },
  {
   "cell_type": "markdown",
   "id": "969a2749",
   "metadata": {},
   "source": [
    "## Task 1. Add Item(s) to the Users Sopping Cart\n",
    "\n",
    "The MVP should allow the user to add items to their shopping cart. This could be a single item or multiple items at once. Since this is an MVP, item quantity is indicated by repeats. If a user wants to add 2 Oranges, 'Oranges' will appear twice in the input iterable. If the user already has the item in their cart, the cart quantity should be increased by 1. If the item is new to the cart, it should be added with a quantity of 1.\n",
    "\n",
    "Create the function add_item(current_cart, items_to_add) that takes a cart dictionary and any list-like iterable of items to add as arguments. It should return a new/updated shopping cart dictionary for the user."
   ]
  },
  {
   "cell_type": "code",
   "execution_count": 4,
   "id": "cce6f7b1",
   "metadata": {},
   "outputs": [],
   "source": [
    "def add_item(current_cart, items_to_add):\n",
    "    \"\"\"Add items to shopping cart.\n",
    "\n",
    "    :param current_cart: dict - the current shopping cart.\n",
    "    :param items_to_add: iterable - items to add to the cart.\n",
    "    :return: dict - the updated user cart dictionary.\n",
    "    \"\"\"\n",
    "\n",
    "    for item in items_to_add:\n",
    "        current_cart[item]=current_cart.setdefault(item,0)+1\n",
    "    return current_cart"
   ]
  },
  {
   "cell_type": "code",
   "execution_count": 5,
   "id": "862a572c",
   "metadata": {},
   "outputs": [
    {
     "data": {
      "text/plain": [
       "{'Banana': 4, 'Apple': 5, 'Orange': 2}"
      ]
     },
     "execution_count": 5,
     "metadata": {},
     "output_type": "execute_result"
    }
   ],
   "source": [
    "add_item({'Banana': 3, 'Apple': 2, 'Orange': 1},\n",
    "              ('Apple', 'Apple', 'Orange', 'Apple', 'Banana'))"
   ]
  },
  {
   "cell_type": "code",
   "execution_count": 6,
   "id": "c54984c0",
   "metadata": {},
   "outputs": [
    {
     "data": {
      "text/plain": [
       "{'Banana': 5, 'Apple': 2, 'Orange': 2, 'Blueberries': 1}"
      ]
     },
     "execution_count": 6,
     "metadata": {},
     "output_type": "execute_result"
    }
   ],
   "source": [
    "add_item({'Banana': 3, 'Apple': 2, 'Orange': 1},\n",
    "              ['Banana', 'Orange', 'Blueberries', 'Banana'])"
   ]
  },
  {
   "cell_type": "markdown",
   "id": "4c2f179c",
   "metadata": {},
   "source": [
    "## Task 2. Read in Items Listed in the Users Notes App\n",
    "\n",
    "Uh-oh. Looks like the product team is engaging in feature creep. They want to add extra functionality to the MVP. The application now has to create a shopping cart by reading items off a users notes app. Convenient for the users, but slightly more work for the team.\n",
    "\n",
    "Create the function read_notes(notes) that can take any list-like iterable as an argument. The function should parse the items and create a user shopping cart/dictionary. Each item should be added with a quantity of 1. The new user cart should then be returned."
   ]
  },
  {
   "cell_type": "code",
   "execution_count": 7,
   "id": "753076b0",
   "metadata": {},
   "outputs": [],
   "source": [
    "def read_notes(notes):\n",
    "    \"\"\"Create user cart from an iterable notes entry.\n",
    "\n",
    "    :param notes: iterable of items to add to cart.\n",
    "    :return: dict - a user shopping cart dictionary.\n",
    "    \"\"\"\n",
    "    \n",
    "    notecart = {}\n",
    "    return notecart.fromkeys(notes,1)"
   ]
  },
  {
   "cell_type": "code",
   "execution_count": 8,
   "id": "dcf697b3",
   "metadata": {},
   "outputs": [
    {
     "data": {
      "text/plain": [
       "{'Banana': 1, 'Apple': 1, 'Orange': 1}"
      ]
     },
     "execution_count": 8,
     "metadata": {},
     "output_type": "execute_result"
    }
   ],
   "source": [
    "read_notes(('Banana','Apple', 'Orange'))"
   ]
  },
  {
   "cell_type": "code",
   "execution_count": 9,
   "id": "6eb9a8bf",
   "metadata": {},
   "outputs": [
    {
     "data": {
      "text/plain": [
       "{'Blueberries': 1, 'Pear': 1, 'Orange': 1, 'Banana': 1, 'Apple': 1}"
      ]
     },
     "execution_count": 9,
     "metadata": {},
     "output_type": "execute_result"
    }
   ],
   "source": [
    "read_notes(['Blueberries', 'Pear', 'Orange', 'Banana', 'Apple'])"
   ]
  },
  {
   "cell_type": "markdown",
   "id": "c396e56b",
   "metadata": {},
   "source": [
    "## Task 3. Update Recipe \"Ideas\" Section\n",
    "\n",
    "The app has an \"ideas\" section that's filled with finished recipes from various cuisines. The user can select any one of these recipes and have all its ingredients added to their shopping cart automatically. The project manager has asked you create a way to edit these \"ideas\" recipes, since the content team keeps changing around ingredients and quantities.\n",
    "\n",
    "Create the function update_recipes(ideas, recipe_updates) that takes an \"ideas\" dictionary and an iterable of recipe updates as arguments. The function should return the new/updated \"ideas\" dictionary."
   ]
  },
  {
   "cell_type": "code",
   "execution_count": 12,
   "id": "cf06ec8a",
   "metadata": {},
   "outputs": [],
   "source": [
    "def update_recipes(ideas, recipe_updates):\n",
    "    \"\"\"Update the recipe ideas dictionary.\n",
    "\n",
    "    :param ideas: dict - The \"recipe ideas\" dict.\n",
    "    :param recipe_updates: dict - dictionary with updates for the ideas section.\n",
    "    :return: dict - updated \"recipe ideas\" dict.\n",
    "    \"\"\"\n",
    "\n",
    "    ideas.update(recipe_updates)\n",
    "    return ideas"
   ]
  },
  {
   "cell_type": "code",
   "execution_count": 13,
   "id": "a1752190",
   "metadata": {},
   "outputs": [
    {
     "data": {
      "text/plain": [
       "{'Banana Bread': {'Banana': 4,\n",
       "  'Walnuts': 2,\n",
       "  'Flour': 1,\n",
       "  'Butter': 1,\n",
       "  'Milk': 2,\n",
       "  'Eggs': 3},\n",
       " 'Raspberry Pie': {'Raspberry': 1,\n",
       "  'Orange': 1,\n",
       "  'Pie Crust': 1,\n",
       "  'Cream Custard': 1}}"
      ]
     },
     "execution_count": 13,
     "metadata": {},
     "output_type": "execute_result"
    }
   ],
   "source": [
    "update_recipes({'Banana Bread' : {'Banana': 1, 'Apple': 1, 'Walnuts': 1, 'Flour': 1, 'Eggs': 2, 'Butter': 1},\n",
    "                    'Raspberry Pie' : {'Raspberry': 1, 'Orange': 1, 'Pie Crust': 1, 'Cream Custard': 1}},\n",
    "(('Banana Bread', {'Banana': 4,  'Walnuts': 2, 'Flour': 1, 'Butter': 1, 'Milk': 2, 'Eggs': 3}),))"
   ]
  },
  {
   "cell_type": "code",
   "execution_count": 14,
   "id": "f385f047",
   "metadata": {},
   "outputs": [
    {
     "data": {
      "text/plain": [
       "{'Banana Bread': {'Banana': 1,\n",
       "  'Apple': 1,\n",
       "  'Walnuts': 1,\n",
       "  'Flour': 1,\n",
       "  'Eggs': 2,\n",
       "  'Butter': 1},\n",
       " 'Raspberry Pie': {'Raspberry': 3,\n",
       "  'Orange': 1,\n",
       "  'Pie Crust': 1,\n",
       "  'Cream Custard': 1,\n",
       "  'Whipped Cream': 2},\n",
       " 'Pasta Primavera': {'Eggs': 1,\n",
       "  'Mixed Veggies': 2,\n",
       "  'Parmesan': 2,\n",
       "  'Milk': 1,\n",
       "  'Spinach': 1,\n",
       "  'Bread Crumbs': 1},\n",
       " 'Blueberry Crumble': {'Blueberries': 2,\n",
       "  'Whipped Creme': 2,\n",
       "  'Granola Topping': 2,\n",
       "  'Yogurt': 3}}"
      ]
     },
     "execution_count": 14,
     "metadata": {},
     "output_type": "execute_result"
    }
   ],
   "source": [
    "update_recipes({'Banana Bread' : {'Banana': 1, 'Apple': 1, 'Walnuts': 1, 'Flour': 1, 'Eggs': 2, 'Butter': 1},\n",
    "                    'Raspberry Pie' : {'Raspberry': 1, 'Orange': 1, 'Pie Crust': 1, 'Cream Custard': 1},\n",
    "                    'Pasta Primavera': {'Eggs': 1, 'Carrots': 1, 'Spinach': 2, 'Tomatoes': 3, 'Parmesan': 2, 'Milk': 1, 'Onion': 1}},\n",
    "[('Raspberry Pie', {'Raspberry': 3, 'Orange': 1, 'Pie Crust': 1, 'Cream Custard': 1, 'Whipped Cream': 2}),\n",
    "('Pasta Primavera', {'Eggs': 1, 'Mixed Veggies': 2, 'Parmesan': 2, 'Milk': 1, 'Spinach': 1, 'Bread Crumbs': 1}),\n",
    "('Blueberry Crumble', {'Blueberries': 2, 'Whipped Creme': 2, 'Granola Topping': 2, 'Yogurt': 3})])"
   ]
  },
  {
   "cell_type": "markdown",
   "id": "0401fe53",
   "metadata": {},
   "source": [
    "## Task 4. Sort the Items in the User Cart\n",
    "\n",
    "Once a user has started a cart, the app allows them to sort their items alphabetically. This makes things easier to find, and helps when there are data-entry errors like having 'potatoes' and 'Potato' in the database.\n",
    "\n",
    "Create the function sort_entries(cart) that takes a shopping cart/dictionary as an argument and returns a new, alphabetically sorted one."
   ]
  },
  {
   "cell_type": "code",
   "execution_count": 22,
   "id": "51ad7425",
   "metadata": {},
   "outputs": [],
   "source": [
    "def sort_entries(cart):\n",
    "    \"\"\"Sort a users shopping cart in alphabetically order.\n",
    "\n",
    "    :param cart: dict - a users shopping cart dictionary.\n",
    "    :return: dict - users shopping cart sorted in alphabetical order.\n",
    "    \"\"\"\n",
    "\n",
    "    return dict(sorted(cart.items()))"
   ]
  },
  {
   "cell_type": "code",
   "execution_count": 23,
   "id": "97b909a6",
   "metadata": {},
   "outputs": [
    {
     "data": {
      "text/plain": [
       "{'Apple': 2, 'Banana': 3, 'Orange': 1}"
      ]
     },
     "execution_count": 23,
     "metadata": {},
     "output_type": "execute_result"
    }
   ],
   "source": [
    "sort_entries({'Banana': 3, 'Apple': 2, 'Orange': 1})"
   ]
  },
  {
   "cell_type": "markdown",
   "id": "e5cd0fe4",
   "metadata": {},
   "source": [
    "## Task 5. Send User Shopping Cart to Store for Fulfillment\n",
    "\n",
    "The app needs to send a given users cart to the store for fulfillment. However, the shoppers in the store need to know which store aisle the item can be found in and if the item needs refrigeration. So (rather arbitrarily) the \"fulfillment cart\" needs to be sorted in reverse alphabetical order with item quantities combined with location and refrigeration information.\n",
    "\n",
    "Create the function send_to_store(cart, aisle_mapping) that takes a user shopping cart and a dictionary that has store aisle number and a True/False for refrigeration needed for each item. The function should return a combined \"fulfillment cart\" that has (quantity, aisle, and refrigeration) for each item the customer is ordering. Items should appear in reverse alphabetical order."
   ]
  },
  {
   "cell_type": "code",
   "execution_count": 94,
   "id": "d478d8a4",
   "metadata": {},
   "outputs": [],
   "source": [
    "def send_to_store(cart, aisle_mapping):\n",
    "    \"\"\"Combine users order to aisle and refrigeration information.\n",
    "\n",
    "    :param cart: dict - users shopping cart dictionary.\n",
    "    :param aisle_mapping: dict - aisle and refrigeration information dictionary.\n",
    "    :return: dict - fulfillment dictionary ready to send to store.\n",
    "    \"\"\"\n",
    "\n",
    "    fulfillment_cart = {}\n",
    "    for item, quantity in cart.items():\n",
    "        if item in aisle_mapping:\n",
    "            aisle, refrigeration = aisle_mapping[item]\n",
    "            fulfillment_cart[item] = [quantity,aisle,refrigeration]\n",
    "    sorted_cart = dict(sorted(fulfillment_cart.items(),reverse=True))\n",
    "    return sorted_cart"
   ]
  },
  {
   "cell_type": "code",
   "execution_count": 95,
   "id": "6bbdf564",
   "metadata": {},
   "outputs": [
    {
     "data": {
      "text/plain": [
       "{'Orange': [1, 'Aisle 4', False],\n",
       " 'Milk': [2, 'Aisle 2', True],\n",
       " 'Banana': [3, 'Aisle 5', False],\n",
       " 'Apple': [2, 'Aisle 4', False]}"
      ]
     },
     "execution_count": 95,
     "metadata": {},
     "output_type": "execute_result"
    }
   ],
   "source": [
    "send_to_store({'Banana': 3, 'Apple': 2, 'Orange': 1, 'Milk': 2},\n",
    "                  {'Banana': ['Aisle 5', False], 'Apple': ['Aisle 4', False], 'Orange': ['Aisle 4', False], 'Milk': ['Aisle 2', True]})"
   ]
  },
  {
   "cell_type": "markdown",
   "id": "0c6b1e83",
   "metadata": {},
   "source": [
    "## Task 6. Update the Store inventory to Reflect what a User Has Ordered.\n",
    "\n",
    "The app can't just place customer orders endlessly. Eventually, the store is going to run out of various products. So your app MVP needs to update the store inventory every time a user sends their order to the store. Otherwise, customers will order products that aren't actually available.\n",
    "\n",
    "Create the function update_store_inventory(fulfillment_cart, store_inventory) that takes a \"fulfillment cart\" and a store inventory. The function should reduce the store inventory amounts by the number \"ordered\" in the \"fulfillment cart\" and then return the updated store inventory. Where a store item count falls to 0, the count should be replaced by the message 'Out of Stock'."
   ]
  },
  {
   "cell_type": "code",
   "execution_count": 123,
   "id": "373b9933",
   "metadata": {},
   "outputs": [],
   "source": [
    "def update_store_inventory(fulfillment_cart, store_inventory):\n",
    "    \"\"\"Update store inventory levels with user order.\n",
    "\n",
    "    :param fulfillment cart: dict - fulfillment cart to send to store.\n",
    "    :param store_inventory: dict - store available inventory\n",
    "    :return: dict - store_inventory updated.\n",
    "    \"\"\"\n",
    "\n",
    "    for item,quantity in fulfillment_cart.items():\n",
    "        if item in store_inventory:\n",
    "            ordered_quantity = quantity[0]\n",
    "            current_quantity = store_inventory[item][0]\n",
    "            \n",
    "            stock = current_quantity - ordered_quantity\n",
    "            if stock <= 0:\n",
    "                store_inventory[item][0]='Out of Stock'\n",
    "            else:\n",
    "                store_inventory[item][0]=stock\n",
    "    return store_inventory"
   ]
  },
  {
   "cell_type": "code",
   "execution_count": 124,
   "id": "aa36d0ef",
   "metadata": {},
   "outputs": [
    {
     "data": {
      "text/plain": [
       "{'Banana': [12, 'Aisle 5', False],\n",
       " 'Apple': [10, 'Aisle 4', False],\n",
       " 'Orange': ['Out of Stock', 'Aisle 4', False],\n",
       " 'Milk': [2, 'Aisle 2', True]}"
      ]
     },
     "execution_count": 124,
     "metadata": {},
     "output_type": "execute_result"
    }
   ],
   "source": [
    "update_store_inventory({'Orange': [1, 'Aisle 4', False], 'Milk': [2, 'Aisle 2', True], 'Banana': [3, 'Aisle 5', False], 'Apple': [2, 'Aisle 4', False]},\n",
    "{'Banana': [15, 'Aisle 5', False], 'Apple': [12, 'Aisle 4', False], 'Orange': [1, 'Aisle 4', False], 'Milk': [4, 'Aisle 2', True]})"
   ]
  },
  {
   "cell_type": "code",
   "execution_count": null,
   "id": "6cb42c9f",
   "metadata": {},
   "outputs": [],
   "source": []
  }
 ],
 "metadata": {
  "kernelspec": {
   "display_name": "Python 3 (ipykernel)",
   "language": "python",
   "name": "python3"
  },
  "language_info": {
   "codemirror_mode": {
    "name": "ipython",
    "version": 3
   },
   "file_extension": ".py",
   "mimetype": "text/x-python",
   "name": "python",
   "nbconvert_exporter": "python",
   "pygments_lexer": "ipython3",
   "version": "3.9.7"
  }
 },
 "nbformat": 4,
 "nbformat_minor": 5
}
