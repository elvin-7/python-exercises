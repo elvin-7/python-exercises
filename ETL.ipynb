{
 "cells": [
  {
   "cell_type": "markdown",
   "id": "6fc62229",
   "metadata": {},
   "source": [
    "# Introduction\n",
    "You work for a company that makes an online multiplayer game called Lexiconia.\n",
    "\n",
    "To play the game, each player is given 13 letters, which they must rearrange to create words. Different letters have different point values, since it's easier to create words with some letters than others.\n",
    "\n",
    "The game was originally launched in English, but it is very popular, and now the company wants to expand to other languages as well.\n",
    "\n",
    "Different languages need to support different point values for letters. The point values are determined by how often letters are used, compared to other letters in that language.\n",
    "\n",
    "For example, the letter 'C' is quite common in English, and is only worth 3 points. But in Norwegian it's a very rare letter, and is worth 10 points.\n",
    "\n",
    "To make it easier to add new languages, your team needs to change the way letters and their point values are stored in the game.\n",
    "\n",
    "## Instructions\n",
    "Your task is to change the data format of letters and their point values in the game.\n",
    "\n",
    "Currently, letters are stored in groups based on their score, in a one-to-many mapping.\n",
    "\n",
    "- 1 point: \"A\", \"E\", \"I\", \"O\", \"U\", \"L\", \"N\", \"R\", \"S\", \"T\",\n",
    "- 2 points: \"D\", \"G\",\n",
    "- 3 points: \"B\", \"C\", \"M\", \"P\",\n",
    "- 4 points: \"F\", \"H\", \"V\", \"W\", \"Y\",\n",
    "- 5 points: \"K\",\n",
    "- 8 points: \"J\", \"X\",\n",
    "- 10 points: \"Q\", \"Z\",\n",
    "\n",
    "This needs to be changed to store each individual letter with its score in a one-to-one mapping.\n",
    "\n",
    "- \"a\" is worth 1 point.\n",
    "- \"b\" is worth 3 points.\n",
    "- \"c\" is worth 3 points.\n",
    "- \"d\" is worth 2 points.\n",
    "- etc.\n",
    "\n",
    "As part of this change, the team has also decided to change the letters to be lower-case rather than upper-case.\n",
    "\n",
    "- Note\n",
    "\n",
    "If you want to look at how the data was previously structured and how it needs to change, take a look at the examples in the test suite."
   ]
  },
  {
   "cell_type": "code",
   "execution_count": 45,
   "id": "9aac4f1c",
   "metadata": {},
   "outputs": [],
   "source": [
    "def transform(legacy_data):\n",
    "    data_list = []\n",
    "    for k,v in legacy_data.items():\n",
    "        for i in v:\n",
    "            data_list.append([i.lower(),k])\n",
    "    return dict(sorted(data_list))"
   ]
  },
  {
   "cell_type": "code",
   "execution_count": 46,
   "id": "6d885d8a",
   "metadata": {},
   "outputs": [
    {
     "data": {
      "text/plain": [
       "{'a': 1, 'd': 2, 'e': 1, 'g': 2}"
      ]
     },
     "execution_count": 46,
     "metadata": {},
     "output_type": "execute_result"
    }
   ],
   "source": [
    "transform({1: [\"A\", \"E\"], 2: [\"D\", \"G\"]})"
   ]
  },
  {
   "cell_type": "code",
   "execution_count": 47,
   "id": "f2569418",
   "metadata": {},
   "outputs": [],
   "source": [
    "def transform2(legacy_data):\n",
    "    return {letter.lower():point for point, letters in legacy_data.items() for letter in letters}"
   ]
  },
  {
   "cell_type": "code",
   "execution_count": null,
   "id": "fbb637c1",
   "metadata": {},
   "outputs": [],
   "source": []
  }
 ],
 "metadata": {
  "kernelspec": {
   "display_name": "Python 3 (ipykernel)",
   "language": "python",
   "name": "python3"
  },
  "language_info": {
   "codemirror_mode": {
    "name": "ipython",
    "version": 3
   },
   "file_extension": ".py",
   "mimetype": "text/x-python",
   "name": "python",
   "nbconvert_exporter": "python",
   "pygments_lexer": "ipython3",
   "version": "3.9.7"
  }
 },
 "nbformat": 4,
 "nbformat_minor": 5
}
