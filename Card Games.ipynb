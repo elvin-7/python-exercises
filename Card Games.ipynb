{
 "cells": [
  {
   "cell_type": "markdown",
   "id": "3e5fcafe",
   "metadata": {},
   "source": [
    "# Instructions\n",
    "\n",
    "Elyse is really looking forward to playing some poker (and other card games) during her upcoming trip to Vegas. Being a big fan of \"self-tracking\" she wants to put together some small functions that will help her with tracking tasks and has asked for your help thinking them through."
   ]
  },
  {
   "cell_type": "markdown",
   "id": "c0458fd8",
   "metadata": {},
   "source": [
    "## Task 1. Tracking Poker Rounds\n",
    "\n",
    "Elyse is especially fond of poker, and wants to track how many rounds she plays - and which rounds those are. Every round has its own number, and every table shows the round number currently being played. Elyse chooses a table and sits down to play her first round. She plans on playing three rounds.\n",
    "\n",
    "Implement a function get_rounds(round_number) that takes the current round number and returns a single list with that round and the next two that are coming up:"
   ]
  },
  {
   "cell_type": "code",
   "execution_count": 23,
   "id": "2b8a7f6b",
   "metadata": {},
   "outputs": [],
   "source": [
    "def get_rounds(number):\n",
    "    \"\"\"Create a list containing the current and next two round numbers.\n",
    "\n",
    "    :param number: int - current round number.\n",
    "    :return: list - current round and the two that follow.\n",
    "    \"\"\"\n",
    "    return list((number,number+1,number+2))\n",
    "    \n",
    "        "
   ]
  },
  {
   "cell_type": "code",
   "execution_count": 26,
   "id": "15a0e416",
   "metadata": {},
   "outputs": [
    {
     "data": {
      "text/plain": [
       "[2, 3, 4]"
      ]
     },
     "execution_count": 26,
     "metadata": {},
     "output_type": "execute_result"
    }
   ],
   "source": [
    "get_rounds(2)"
   ]
  },
  {
   "cell_type": "markdown",
   "id": "498b43dc",
   "metadata": {},
   "source": [
    "## Task 2. Keeping all Rounds in the Same Place\n",
    "\n",
    "Elyse played a few rounds at the first table, then took a break and played some more rounds at a second table ... but ended up with a different list for each table! She wants to put the two lists together, so she can track all of the poker rounds in the same place.\n",
    "\n",
    "Implement a function concatenate_rounds(rounds_1, rounds_2) that takes two lists and returns a single list consisting of all the rounds in the first list, followed by all the rounds in the second list:"
   ]
  },
  {
   "cell_type": "code",
   "execution_count": 27,
   "id": "f7cc7877",
   "metadata": {},
   "outputs": [],
   "source": [
    "def concatenate_rounds(rounds_1, rounds_2):\n",
    "    \"\"\"Concatenate two lists of round numbers.\n",
    "\n",
    "    :param rounds_1: list - first rounds played.\n",
    "    :param rounds_2: list - second set of rounds played.\n",
    "    :return: list - all rounds played.\n",
    "    \"\"\"\n",
    "\n",
    "    return rounds_1 + rounds_2"
   ]
  },
  {
   "cell_type": "code",
   "execution_count": 29,
   "id": "da3229c5",
   "metadata": {},
   "outputs": [
    {
     "data": {
      "text/plain": [
       "[27, 28, 29, 35, 36]"
      ]
     },
     "execution_count": 29,
     "metadata": {},
     "output_type": "execute_result"
    }
   ],
   "source": [
    "concatenate_rounds([27, 28, 29], [35, 36])"
   ]
  },
  {
   "cell_type": "markdown",
   "id": "f74f02a0",
   "metadata": {},
   "source": [
    "## Task 3. Finding Prior Rounds\n",
    "\n",
    "Talking about some of the prior Poker rounds, another player remarks how similarly two of them played out. Elyse is not sure if she played those rounds or not.\n",
    "\n",
    "Implement a function list_contains_round(rounds, round_number) that takes two arguments, a list of rounds played and a round number. The function will return True if the round is in the list of rounds played, False if not:"
   ]
  },
  {
   "cell_type": "code",
   "execution_count": 39,
   "id": "2ddafcf4",
   "metadata": {},
   "outputs": [],
   "source": [
    "def list_contains_round(rounds, number):\n",
    "    \"\"\"Check if the list of rounds contains the specified number.\n",
    "\n",
    "    :param rounds: list - rounds played.\n",
    "    :param number: int - round number.\n",
    "    :return: bool - was the round played?\n",
    "    \"\"\"\n",
    "\n",
    "    return number in rounds"
   ]
  },
  {
   "cell_type": "code",
   "execution_count": 40,
   "id": "60539f2c",
   "metadata": {},
   "outputs": [
    {
     "data": {
      "text/plain": [
       "True"
      ]
     },
     "execution_count": 40,
     "metadata": {},
     "output_type": "execute_result"
    }
   ],
   "source": [
    "list_contains_round([27, 28, 29, 35, 36], 29)"
   ]
  },
  {
   "cell_type": "code",
   "execution_count": 41,
   "id": "a3b2b735",
   "metadata": {},
   "outputs": [
    {
     "data": {
      "text/plain": [
       "False"
      ]
     },
     "execution_count": 41,
     "metadata": {},
     "output_type": "execute_result"
    }
   ],
   "source": [
    "list_contains_round([27, 28, 29, 35, 36], 30)"
   ]
  },
  {
   "cell_type": "markdown",
   "id": "71d83f2c",
   "metadata": {},
   "source": [
    "## Task 4. Averaging Card Values\n",
    "\n",
    "Elyse wants to try out a new game called Black Joe. It's similar to Black Jack - where your goal is to have the cards in your hand add up to a target value - but in Black Joe the goal is to get the average of the card values to be 7. The average can be found by summing up all the card values and then dividing that sum by the number of cards in the hand.\n",
    "\n",
    "Implement a function card_average(hand) that will return the average value of a hand of Black Joe."
   ]
  },
  {
   "cell_type": "code",
   "execution_count": 46,
   "id": "354dc87d",
   "metadata": {},
   "outputs": [],
   "source": [
    "def card_average(hand):\n",
    "    \"\"\"Calculate and returns the average card value from the list.\n",
    "\n",
    "    :param hand: list - cards in hand.\n",
    "    :return: float - average value of the cards in the hand.\n",
    "    \"\"\"\n",
    "\n",
    "    return sum(hand)/len(hand)"
   ]
  },
  {
   "cell_type": "code",
   "execution_count": 47,
   "id": "468d1987",
   "metadata": {},
   "outputs": [
    {
     "data": {
      "text/plain": [
       "6.0"
      ]
     },
     "execution_count": 47,
     "metadata": {},
     "output_type": "execute_result"
    }
   ],
   "source": [
    "card_average([5, 6, 7])"
   ]
  },
  {
   "cell_type": "markdown",
   "id": "86b6e143",
   "metadata": {},
   "source": [
    "## Task 5. Alternate Averages\n",
    "\n",
    "In Black Joe, speed is important. Elyse is going to try and find a faster way of finding the average.\n",
    "\n",
    "She has thought of two ways of getting an average-like number:\n",
    "\n",
    "- Take the average of the first and last number in the hand.\n",
    "\n",
    "- Using the median (middle card) of the hand.\n",
    "\n",
    "Implement the function approx_average_is_average(hand), given hand, a list containing the values of the cards in your hand.\n",
    "\n",
    "Return True if either one or both of the, above named, strategies result in a number equal to the actual average.\n",
    "\n",
    "Note: The length of all hands are odd, to make finding a median easier."
   ]
  },
  {
   "cell_type": "code",
   "execution_count": 112,
   "id": "be675a86",
   "metadata": {},
   "outputs": [],
   "source": [
    "def approx_average_is_average(hand):\n",
    "    \"\"\"Return if the (average of first and last card values) OR ('middle' card) == calculated average.\n",
    "\n",
    "    :param hand: list - cards in hand.\n",
    "    :return: bool - does one of the approximate averages equal the `true average`?\n",
    "    \"\"\"\n",
    "\n",
    "    mean = sum(hand)/len(hand)\n",
    "    avg1 = (hand[0]+hand[-1])/2\n",
    "    avg2 = sorted(hand)[round((len(hand)+1)/2)-1]\n",
    "    return mean in (avg1,avg2)"
   ]
  },
  {
   "cell_type": "code",
   "execution_count": 113,
   "id": "7c377efa",
   "metadata": {},
   "outputs": [
    {
     "data": {
      "text/plain": [
       "True"
      ]
     },
     "execution_count": 113,
     "metadata": {},
     "output_type": "execute_result"
    }
   ],
   "source": [
    "approx_average_is_average([1, 2, 3])"
   ]
  },
  {
   "cell_type": "code",
   "execution_count": 114,
   "id": "8339e29c",
   "metadata": {},
   "outputs": [
    {
     "data": {
      "text/plain": [
       "True"
      ]
     },
     "execution_count": 114,
     "metadata": {},
     "output_type": "execute_result"
    }
   ],
   "source": [
    "approx_average_is_average([2, 3, 4, 8, 8])"
   ]
  },
  {
   "cell_type": "code",
   "execution_count": 115,
   "id": "6c979e39",
   "metadata": {},
   "outputs": [
    {
     "data": {
      "text/plain": [
       "False"
      ]
     },
     "execution_count": 115,
     "metadata": {},
     "output_type": "execute_result"
    }
   ],
   "source": [
    "approx_average_is_average([1, 2, 3, 5, 9])"
   ]
  },
  {
   "cell_type": "markdown",
   "id": "ab1c4465",
   "metadata": {},
   "source": [
    "## Task 6. More Averaging Techniques\n",
    "\n",
    "Intrigued by the results of her averaging experiment, Elyse is wondering if taking the average of the cards at the even positions versus the average of the cards at the odd positions would give the same results. Time for another test function!\n",
    "\n",
    "Implement a function average_even_is_average_odd(hand) that returns a Boolean indicating if the average of the cards at even indexes is the same as the average of the cards at odd indexes."
   ]
  },
  {
   "cell_type": "code",
   "execution_count": 103,
   "id": "d0e30d09",
   "metadata": {},
   "outputs": [],
   "source": [
    "def average_even_is_average_odd(hand):\n",
    "    \"\"\"Return if the (average of even indexed card values) == (average of odd indexed card values).\n",
    "\n",
    "    :param hand: list - cards in hand.\n",
    "    :return: bool - are even and odd averages equal?\n",
    "    \"\"\"\n",
    "\n",
    "    even_avg = sum(hand[::2])/len(hand[::2])\n",
    "    odd_avg = sum(hand[1::2])/len(hand[1::2])\n",
    "    return even_avg == odd_avg"
   ]
  },
  {
   "cell_type": "code",
   "execution_count": 104,
   "id": "94012eac",
   "metadata": {},
   "outputs": [
    {
     "data": {
      "text/plain": [
       "True"
      ]
     },
     "execution_count": 104,
     "metadata": {},
     "output_type": "execute_result"
    }
   ],
   "source": [
    "average_even_is_average_odd([1, 2, 3])"
   ]
  },
  {
   "cell_type": "code",
   "execution_count": 105,
   "id": "f35b5df7",
   "metadata": {},
   "outputs": [
    {
     "data": {
      "text/plain": [
       "False"
      ]
     },
     "execution_count": 105,
     "metadata": {},
     "output_type": "execute_result"
    }
   ],
   "source": [
    "average_even_is_average_odd([1, 2, 3, 4])"
   ]
  },
  {
   "cell_type": "markdown",
   "id": "000544fc",
   "metadata": {},
   "source": [
    "## Task 7. Bonus Round Rules\n",
    "\n",
    "Every 11th hand in Black Joe is a bonus hand with a bonus rule: if the last card you draw is a Jack, you double its value.\n",
    "\n",
    "Implement a function maybe_double_last(hand) that takes a hand and checks if the last card is a Jack (11). If the last card is a Jack (11), double its value before returning the hand."
   ]
  },
  {
   "cell_type": "code",
   "execution_count": 109,
   "id": "bac561bf",
   "metadata": {},
   "outputs": [],
   "source": [
    "def maybe_double_last(hand):\n",
    "    \"\"\"Multiply a Jack card value in the last index position by 2.\n",
    "\n",
    "    :param hand: list - cards in hand.\n",
    "    :return: list - hand with Jacks (if present) value doubled.\n",
    "    \"\"\"\n",
    "\n",
    "    if hand[-1] == 11:\n",
    "        return hand[:-1] + list((hand[-1]*2,))\n",
    "    return hand"
   ]
  },
  {
   "cell_type": "code",
   "execution_count": 110,
   "id": "7547bf2b",
   "metadata": {},
   "outputs": [
    {
     "data": {
      "text/plain": [
       "[5, 9, 22]"
      ]
     },
     "execution_count": 110,
     "metadata": {},
     "output_type": "execute_result"
    }
   ],
   "source": [
    "hand = [5, 9, 11]\n",
    "maybe_double_last(hand)"
   ]
  },
  {
   "cell_type": "code",
   "execution_count": 111,
   "id": "304b8cca",
   "metadata": {},
   "outputs": [
    {
     "data": {
      "text/plain": [
       "[5, 9, 10]"
      ]
     },
     "execution_count": 111,
     "metadata": {},
     "output_type": "execute_result"
    }
   ],
   "source": [
    "hand = [5, 9, 10]\n",
    "maybe_double_last(hand)"
   ]
  },
  {
   "cell_type": "code",
   "execution_count": null,
   "id": "d849b2ba",
   "metadata": {},
   "outputs": [],
   "source": []
  },
  {
   "cell_type": "code",
   "execution_count": null,
   "id": "ad47aec2",
   "metadata": {},
   "outputs": [],
   "source": []
  }
 ],
 "metadata": {
  "kernelspec": {
   "display_name": "Python 3 (ipykernel)",
   "language": "python",
   "name": "python3"
  },
  "language_info": {
   "codemirror_mode": {
    "name": "ipython",
    "version": 3
   },
   "file_extension": ".py",
   "mimetype": "text/x-python",
   "name": "python",
   "nbconvert_exporter": "python",
   "pygments_lexer": "ipython3",
   "version": "3.9.7"
  }
 },
 "nbformat": 4,
 "nbformat_minor": 5
}
