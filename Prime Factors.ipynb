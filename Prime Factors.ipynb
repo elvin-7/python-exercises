{
 "cells": [
  {
   "cell_type": "markdown",
   "id": "882af054",
   "metadata": {},
   "source": [
    "# Instructions\n",
    "Compute the prime factors of a given natural number.\n",
    "\n",
    "A prime number is only evenly divisible by itself and 1.\n",
    "\n",
    "Note that 1 is not a prime number.\n",
    "\n",
    "## Example\n",
    "What are the prime factors of 60?\n",
    "\n",
    "Our first divisor is 2. 2 goes into 60, leaving 30.\n",
    "- 2 goes into 30, leaving 15.\n",
    " - 2 doesn't go cleanly into 15. So let's move on to our next divisor, 3.\n",
    "- 3 goes cleanly into 15, leaving 5.\n",
    " - 3 does not go cleanly into 5. The next possible factor is 4.\n",
    " - 4 does not go cleanly into 5. The next possible factor is 5.\n",
    "- 5 does go cleanly into 5.\n",
    "- We're left only with 1, so now, we're done.\n",
    "\n",
    "Our successful divisors in that computation represent the list of prime factors of 60: 2, 2, 3, and 5.\n",
    "\n",
    "You can check this yourself:\n",
    "\n",
    "~~~\n",
    "2 * 2 * 3 * 5\n",
    "= 4 * 15\n",
    "= 60\n",
    "~~~\n",
    "Success!"
   ]
  },
  {
   "cell_type": "code",
   "execution_count": 54,
   "id": "7865a349",
   "metadata": {},
   "outputs": [],
   "source": [
    "import math\n",
    "def factors(value):\n",
    "    pf = []\n",
    "    i = 2\n",
    "    \n",
    "    while value>1:\n",
    "        if value%i ==0:\n",
    "            pf.append(i)\n",
    "            value = value//i\n",
    "        else:\n",
    "            i +=1\n",
    "            if i*i > value:\n",
    "                if value>1:\n",
    "                    pf.append(value)\n",
    "                break\n",
    "    return pf"
   ]
  },
  {
   "cell_type": "code",
   "execution_count": 55,
   "id": "44452f9a",
   "metadata": {},
   "outputs": [
    {
     "data": {
      "text/plain": [
       "[11, 9539, 894119]"
      ]
     },
     "execution_count": 55,
     "metadata": {},
     "output_type": "execute_result"
    }
   ],
   "source": [
    "factors(93819012551)"
   ]
  },
  {
   "cell_type": "code",
   "execution_count": null,
   "id": "9c75bbcc",
   "metadata": {},
   "outputs": [],
   "source": []
  }
 ],
 "metadata": {
  "kernelspec": {
   "display_name": "Python 3 (ipykernel)",
   "language": "python",
   "name": "python3"
  },
  "language_info": {
   "codemirror_mode": {
    "name": "ipython",
    "version": 3
   },
   "file_extension": ".py",
   "mimetype": "text/x-python",
   "name": "python",
   "nbconvert_exporter": "python",
   "pygments_lexer": "ipython3",
   "version": "3.9.7"
  }
 },
 "nbformat": 4,
 "nbformat_minor": 5
}
