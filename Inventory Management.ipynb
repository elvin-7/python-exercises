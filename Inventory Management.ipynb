{
 "cells": [
  {
   "cell_type": "markdown",
   "id": "0beb577b",
   "metadata": {},
   "source": [
    "# Instructions\n",
    "In this exercise, you will be managing an inventory system.\n",
    "\n",
    "The inventory should be organized by the item name and it should keep track of the number of items available.\n",
    "\n",
    "You will have to handle adding items to an inventory. Each time an item appears in a given list, the item's quantity should be increased by 1 in the inventory. You will also have to handle deleting items from an inventory by decreasing quantities by 1 when requested.\n",
    "\n",
    "Finally, you will need to implement a function that will return all the key-value pairs in a given inventory as a list of tuples."
   ]
  },
  {
   "cell_type": "markdown",
   "id": "b212a4e0",
   "metadata": {},
   "source": [
    "## Task 1. Create an inventory based on a list\n",
    "\n",
    "Implement the create_inventory(input list) function that creates an \"inventory\" from an input list of items. It should return a dict containing each item name paired with their respective quantity."
   ]
  },
  {
   "cell_type": "code",
   "execution_count": 28,
   "id": "f3ffe533",
   "metadata": {},
   "outputs": [],
   "source": [
    "def create_inventory(items):\n",
    "    \"\"\"Create a dict that tracks the amount (count) of each element on the `items` list.\n",
    "\n",
    "    :param items: list - list of items to create an inventory from.\n",
    "    :return: dict - the inventory dictionary.\n",
    "    \"\"\"\n",
    "\n",
    "    inv_count = []\n",
    "    for item in set(items):\n",
    "        inv_count.append((item,items.count(item)))\n",
    "\n",
    "    return dict(inv_count)"
   ]
  },
  {
   "cell_type": "code",
   "execution_count": 29,
   "id": "c7ce081c",
   "metadata": {},
   "outputs": [
    {
     "data": {
      "text/plain": [
       "{'diamond': 3, 'wood': 2, 'coal': 1}"
      ]
     },
     "execution_count": 29,
     "metadata": {},
     "output_type": "execute_result"
    }
   ],
   "source": [
    "create_inventory([\"coal\", \"wood\", \"wood\", \"diamond\", \"diamond\", \"diamond\"])"
   ]
  },
  {
   "cell_type": "markdown",
   "id": "12cbcd73",
   "metadata": {},
   "source": [
    "## Task 2. Add items from a list to an existing dictionary\n",
    "\n",
    "Implement the add_items(inventory dict, item list) function that adds a list of items to the passed-in inventory:"
   ]
  },
  {
   "cell_type": "code",
   "execution_count": 129,
   "id": "a5052a5b",
   "metadata": {},
   "outputs": [],
   "source": [
    "def add_items(inventory, items):\n",
    "    \"\"\"Add or increment items in inventory using elements from the items `list`.\n",
    "\n",
    "    :param inventory: dict - dictionary of existing inventory.\n",
    "    :param items: list - list of items to update the inventory with.\n",
    "    :return: dict - the inventory updated with the new items.\n",
    "    \"\"\"\n",
    "\n",
    "    \n",
    "    for item in items:\n",
    "        inventory[item] = inventory.get(item,0)+1\n",
    "    return inventory"
   ]
  },
  {
   "cell_type": "code",
   "execution_count": 130,
   "id": "80ab8c41",
   "metadata": {},
   "outputs": [
    {
     "data": {
      "text/plain": [
       "{'coal': 2, 'wood': 2, 'iron': 1}"
      ]
     },
     "execution_count": 130,
     "metadata": {},
     "output_type": "execute_result"
    }
   ],
   "source": [
    "add_items({\"coal\":1}, [\"wood\", \"iron\", \"coal\", \"wood\"])"
   ]
  },
  {
   "cell_type": "markdown",
   "id": "c47f5379",
   "metadata": {},
   "source": [
    "## Task 3. Decrement items from the inventory\n",
    "\n",
    "Implement the decrement_items(inventory dict, items list) function that takes a list of items. Your function should remove 1 from an item count for each time that item appears on the list:"
   ]
  },
  {
   "cell_type": "code",
   "execution_count": 132,
   "id": "b6e95c4d",
   "metadata": {},
   "outputs": [],
   "source": [
    "def decrement_items(inventory, items):\n",
    "    \"\"\"Decrement items in inventory using elements from the `items` list.\n",
    "\n",
    "    :param inventory: dict - inventory dictionary.\n",
    "    :param items: list - list of items to decrement from the inventory.\n",
    "    :return: dict - updated inventory with items decremented.\n",
    "    \"\"\"\n",
    "\n",
    "    for item in items:\n",
    "        if item in inventory and inventory[item]>0:\n",
    "            inventory[item] -= 1\n",
    "    return inventory"
   ]
  },
  {
   "cell_type": "code",
   "execution_count": 133,
   "id": "ba0a968a",
   "metadata": {},
   "outputs": [
    {
     "data": {
      "text/plain": [
       "{'coal': 0, 'wood': 0, 'diamond': 1}"
      ]
     },
     "execution_count": 133,
     "metadata": {},
     "output_type": "execute_result"
    }
   ],
   "source": [
    "decrement_items({\"coal\":2, \"wood\":1, \"diamond\":2}, [\"coal\", \"coal\", \"wood\", \"wood\", \"diamond\"])"
   ]
  },
  {
   "cell_type": "code",
   "execution_count": 135,
   "id": "33bbfc1b",
   "metadata": {},
   "outputs": [
    {
     "data": {
      "text/plain": [
       "{'coal': 2, 'diamond': 0, 'iron': 3}"
      ]
     },
     "execution_count": 135,
     "metadata": {},
     "output_type": "execute_result"
    }
   ],
   "source": [
    "decrement_items({\"coal\":3, \"diamond\":1, \"iron\":5}, [\"diamond\", \"coal\", \"iron\", \"iron\"])"
   ]
  },
  {
   "cell_type": "markdown",
   "id": "29fa1127",
   "metadata": {},
   "source": [
    "## Task 4. Remove an entry entirely from the inventory\n",
    "\n",
    "Implement the remove_item(inventory dict, item) function that removes an item and its count entirely from an inventory:"
   ]
  },
  {
   "cell_type": "code",
   "execution_count": 100,
   "id": "66b86ca2",
   "metadata": {},
   "outputs": [],
   "source": [
    "def remove_item(inventory, item):\n",
    "    \"\"\"Remove item from inventory if it matches `item` string.\n",
    "\n",
    "    :param inventory: dict - inventory dictionary.\n",
    "    :param item: str - item to remove from the inventory.\n",
    "    :return: dict - updated inventory with item removed. Current inventory if item does not match.\n",
    "    \"\"\"\n",
    "\n",
    "    inventory.pop(item,'unknown')\n",
    "    return inventory"
   ]
  },
  {
   "cell_type": "code",
   "execution_count": 101,
   "id": "6fa064a4",
   "metadata": {},
   "outputs": [
    {
     "data": {
      "text/plain": [
       "{'coal': 2, 'wood': 1, 'diamond': 2}"
      ]
     },
     "execution_count": 101,
     "metadata": {},
     "output_type": "execute_result"
    }
   ],
   "source": [
    "remove_item({\"coal\":2, \"wood\":1, \"diamond\":2}, \"gold\")"
   ]
  },
  {
   "cell_type": "markdown",
   "id": "e07e66d3",
   "metadata": {},
   "source": [
    "## Task 5. Return the entire content of the inventory\n",
    "\n",
    "Implement the list_inventory(inventory dict) function that takes an inventory and returns a list of (item, quantity) tuples. The list should only include the available items (with a quantity greater than zero):"
   ]
  },
  {
   "cell_type": "code",
   "execution_count": 102,
   "id": "0d7ed3bd",
   "metadata": {},
   "outputs": [],
   "source": [
    "def list_inventory(inventory):\n",
    "    \"\"\"Create a list containing only available (item_name, item_count > 0) pairs in inventory.\n",
    "\n",
    "    :param inventory: dict - an inventory dictionary.\n",
    "    :return: list of tuples - list of key, value pairs from the inventory dictionary.\n",
    "    \"\"\"\n",
    "\n",
    "    updated_inv = []\n",
    "    for key in inventory:\n",
    "        if inventory[key] > 0:\n",
    "            updated_inv.append((key,inventory[key]))\n",
    "    return updated_inv"
   ]
  },
  {
   "cell_type": "code",
   "execution_count": 103,
   "id": "22721eab",
   "metadata": {},
   "outputs": [
    {
     "data": {
      "text/plain": [
       "[('coal', 7), ('wood', 11), ('diamond', 2), ('iron', 7)]"
      ]
     },
     "execution_count": 103,
     "metadata": {},
     "output_type": "execute_result"
    }
   ],
   "source": [
    "list_inventory({\"coal\":7, \"wood\":11, \"diamond\":2, \"iron\":7, \"silver\":0})"
   ]
  },
  {
   "cell_type": "code",
   "execution_count": null,
   "id": "2459b304",
   "metadata": {},
   "outputs": [],
   "source": []
  }
 ],
 "metadata": {
  "kernelspec": {
   "display_name": "Python 3 (ipykernel)",
   "language": "python",
   "name": "python3"
  },
  "language_info": {
   "codemirror_mode": {
    "name": "ipython",
    "version": 3
   },
   "file_extension": ".py",
   "mimetype": "text/x-python",
   "name": "python",
   "nbconvert_exporter": "python",
   "pygments_lexer": "ipython3",
   "version": "3.9.7"
  }
 },
 "nbformat": 4,
 "nbformat_minor": 5
}
