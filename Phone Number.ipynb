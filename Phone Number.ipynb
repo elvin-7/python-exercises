{
 "cells": [
  {
   "cell_type": "markdown",
   "id": "f9057d4a-de25-4d39-af66-f1adc835b968",
   "metadata": {},
   "source": [
    "# Introduction\n",
    "You've joined LinkLine, a leading communications company working to ensure reliable connections for everyone. The team faces a big challenge: users submit phone numbers in all sorts of formats — dashes, spaces, dots, parentheses, and even prefixes. Some numbers are valid, while others are impossible to use.\n",
    "\n",
    "Your mission is to turn this chaos into order. You'll clean up valid numbers, formatting them appropriately for use in the system. At the same time, you'll identify and filter out any invalid entries.\n",
    "\n",
    "The success of LinkLine's operations depends on your ability to separate the useful from the unusable. Are you ready to take on the challenge and keep the connections running smoothly?\n",
    "\n",
    "## Instructions\n",
    "Clean up user-entered phone numbers so that they can be sent SMS messages.\n",
    "\n",
    "The North American Numbering Plan (NANP) is a telephone numbering system used by many countries in North America like the United States, Canada or Bermuda. All NANP-countries share the same international country code: 1.\n",
    "\n",
    "NANP numbers are ten-digit numbers consisting of a three-digit Numbering Plan Area code, commonly known as area code, followed by a seven-digit local number. The first three digits of the local number represent the exchange code, followed by the unique four-digit number which is the subscriber number.\n",
    "\n",
    "The format is usually represented as\n",
    "```\n",
    "NXX NXX-XXXX\n",
    "```\n",
    "where N is any digit from 2 through 9 and X is any digit from 0 through 9.\n",
    "\n",
    "Sometimes they also have the country code (represented as 1 or +1) prefixed.\n",
    "\n",
    "Your task is to clean up differently formatted telephone numbers by removing punctuation and the country code if present.\n",
    "\n",
    "For example, the inputs\n",
    "\n",
    "- +1 (613)-995-0253\n",
    "- 613-995-0253\n",
    "- 1 613 995 0253\n",
    "- 613.995.0253\n",
    "\n",
    "should all produce the output\n",
    "\n",
    "6139950253\n",
    "\n",
    "Note: As this exercise only deals with telephone numbers used in NANP-countries, only 1 is considered a valid country code.\n",
    "\n",
    "Exception messages\n",
    "Sometimes it is necessary to raise an exception. When you do this, you should always include a meaningful error message to indicate what the source of the error is. This makes your code more readable and helps significantly with debugging. For situations where you know that the error source will be a certain type, you can choose to raise one of the built in error types, but should still include a meaningful message.\n",
    "\n",
    "This particular exercise requires that you use the raise statement to \"throw\" multiple ValueErrors if the PhoneNumber() class constructor is passed a number that is not a valid phone number. This includes errors for when area code or exchange codes are invalid, when the number has too many (or too few) digits, and for when punctuation or letters are given as input. The tests will only pass if you both raise the exception and include a message with it.\n",
    "\n",
    "To raise a ValueError with a message, write the message as an argument to the exception type:\n",
    "```\n",
    "# if a phone number has less than 10 digits.\n",
    "raise ValueError(\"must not be fewer than 10 digits\")\n",
    "\n",
    "# if a phone number has more than 11 digits.\n",
    "raise ValueError(\"must not be greater than 11 digits\")\n",
    "\n",
    "# if a phone number has 11 digits, but starts with a number other than 1.\n",
    "raise ValueError(\"11 digits must start with 1\")\n",
    "\n",
    "# if a phone number has an exchange code that starts with 0.\n",
    "raise ValueError(\"exchange code cannot start with zero\")\n",
    "\n",
    "# if a phone number has an exchange code that starts with 1.\n",
    "raise ValueError(\"exchange code cannot start with one\")\n",
    "\n",
    "# if a phone number has an area code that starts with 0.\n",
    "raise ValueError(\"area code cannot start with zero\")\n",
    "\n",
    "# if a phone number has an area code that starts with 1.\n",
    "raise ValueError(\"area code cannot start with one\")\n",
    "\n",
    "# if a phone number has punctuation in place of some digits.\n",
    "raise ValueError(\"punctuations not permitted\")\n",
    "\n",
    "# if a phone number has letters in place of some digits.\n",
    "raise ValueError(\"letters not permitted\")\n",
    "```"
   ]
  },
  {
   "cell_type": "code",
   "execution_count": 65,
   "id": "aed957f1-7958-41c8-95d3-3104f3da91d5",
   "metadata": {},
   "outputs": [],
   "source": [
    "class PhoneNumber:\n",
    "    def __init__(self, number):\n",
    "        self.number = self.ph_number(number)\n",
    "        self.area_code = self.number[:3]\n",
    "        self.pretty = self.pretty()\n",
    "\n",
    "    def ph_number(self,number):\n",
    "        replacements = {\"+\" : '',\n",
    "                        '(' : '',\n",
    "                        ')' : '',\n",
    "                        '-' : '',\n",
    "                        '.' : '',\n",
    "                        ' ' : ''\n",
    "                       }\n",
    "        for old,new in replacements.items():\n",
    "            number = number.replace(old,new)\n",
    "\n",
    "        if len(number)<10:\n",
    "            raise ValueError(\"must not be fewer than 10 digits\")\n",
    "        if len(number)>11:\n",
    "            raise ValueError(\"must not be greater than 11 digits\")\n",
    "        if len(number)==11 and number[0]!='1':\n",
    "            raise ValueError(\"11 digits must start with 1\")\n",
    "        if (len(number)==11 and number[4]=='0') or (len(number)==10 and number[3]=='0'):\n",
    "            raise ValueError(\"exchange code cannot start with zero\")\n",
    "        if (len(number)==11 and number[4]=='1') or (len(number)==10 and number[3]=='1'):\n",
    "            raise ValueError(\"exchange code cannot start with one\")\n",
    "        if (len(number)==11 and number[1]=='0') or (len(number)==10 and number[0]=='0'):\n",
    "            raise ValueError(\"area code cannot start with zero\")\n",
    "        if (len(number)==11 and number[1]=='1') or (len(number)==10 and number[0]=='1'):\n",
    "            raise ValueError(\"area code cannot start with one\")\n",
    "        for i in number:\n",
    "            if not i.isalnum():\n",
    "                raise ValueError(\"punctuations not permitted\")\n",
    "        for i in number:\n",
    "            if i.isalpha():\n",
    "                raise ValueError(\"letters not permitted\")\n",
    "\n",
    "        if len(number)==11:\n",
    "            return number[1:]\n",
    "        else:\n",
    "            return number\n",
    "\n",
    "    def pretty(self):\n",
    "         return f\"({self.number[:3]})-{self.number[3:6]}-{self.number[6:]}\"\n"
   ]
  },
  {
   "cell_type": "code",
   "execution_count": 66,
   "id": "a28a38ef-8df8-48a6-a0f2-c4f2e386eb62",
   "metadata": {},
   "outputs": [
    {
     "data": {
      "text/plain": [
       "'2234567890'"
      ]
     },
     "execution_count": 66,
     "metadata": {},
     "output_type": "execute_result"
    }
   ],
   "source": [
    "PhoneNumber(\"(223) 456-7890\").number"
   ]
  },
  {
   "cell_type": "code",
   "execution_count": 67,
   "id": "79f0d2f3-18da-43d1-84d7-351105ff7508",
   "metadata": {},
   "outputs": [
    {
     "ename": "ValueError",
     "evalue": "must not be fewer than 10 digits",
     "output_type": "error",
     "traceback": [
      "\u001b[31m---------------------------------------------------------------------------\u001b[39m",
      "\u001b[31mValueError\u001b[39m                                Traceback (most recent call last)",
      "\u001b[36mCell\u001b[39m\u001b[36m \u001b[39m\u001b[32mIn[67]\u001b[39m\u001b[32m, line 1\u001b[39m\n\u001b[32m----> \u001b[39m\u001b[32m1\u001b[39m \u001b[43mPhoneNumber\u001b[49m\u001b[43m(\u001b[49m\u001b[33;43m\"\u001b[39;49m\u001b[33;43m123456789\u001b[39;49m\u001b[33;43m\"\u001b[39;49m\u001b[43m)\u001b[49m\n",
      "\u001b[36mCell\u001b[39m\u001b[36m \u001b[39m\u001b[32mIn[65]\u001b[39m\u001b[32m, line 3\u001b[39m, in \u001b[36mPhoneNumber.__init__\u001b[39m\u001b[34m(self, number)\u001b[39m\n\u001b[32m      2\u001b[39m \u001b[38;5;28;01mdef\u001b[39;00m\u001b[38;5;250m \u001b[39m\u001b[34m__init__\u001b[39m(\u001b[38;5;28mself\u001b[39m, number):\n\u001b[32m----> \u001b[39m\u001b[32m3\u001b[39m     \u001b[38;5;28mself\u001b[39m.number = \u001b[38;5;28;43mself\u001b[39;49m\u001b[43m.\u001b[49m\u001b[43mph_number\u001b[49m\u001b[43m(\u001b[49m\u001b[43mnumber\u001b[49m\u001b[43m)\u001b[49m\n\u001b[32m      4\u001b[39m     \u001b[38;5;28mself\u001b[39m.area_code = \u001b[38;5;28mself\u001b[39m.number[:\u001b[32m3\u001b[39m]\n\u001b[32m      5\u001b[39m     \u001b[38;5;28mself\u001b[39m.pretty = \u001b[38;5;28mself\u001b[39m.pretty()\n",
      "\u001b[36mCell\u001b[39m\u001b[36m \u001b[39m\u001b[32mIn[65]\u001b[39m\u001b[32m, line 19\u001b[39m, in \u001b[36mPhoneNumber.ph_number\u001b[39m\u001b[34m(self, number)\u001b[39m\n\u001b[32m     16\u001b[39m     number = number.replace(old,new)\n\u001b[32m     18\u001b[39m \u001b[38;5;28;01mif\u001b[39;00m \u001b[38;5;28mlen\u001b[39m(number)<\u001b[32m10\u001b[39m:\n\u001b[32m---> \u001b[39m\u001b[32m19\u001b[39m     \u001b[38;5;28;01mraise\u001b[39;00m \u001b[38;5;167;01mValueError\u001b[39;00m(\u001b[33m\"\u001b[39m\u001b[33mmust not be fewer than 10 digits\u001b[39m\u001b[33m\"\u001b[39m)\n\u001b[32m     20\u001b[39m \u001b[38;5;28;01mif\u001b[39;00m \u001b[38;5;28mlen\u001b[39m(number)>\u001b[32m11\u001b[39m:\n\u001b[32m     21\u001b[39m     \u001b[38;5;28;01mraise\u001b[39;00m \u001b[38;5;167;01mValueError\u001b[39;00m(\u001b[33m\"\u001b[39m\u001b[33mmust not be greater than 11 digits\u001b[39m\u001b[33m\"\u001b[39m)\n",
      "\u001b[31mValueError\u001b[39m: must not be fewer than 10 digits"
     ]
    }
   ],
   "source": [
    "PhoneNumber(\"123456789\")"
   ]
  },
  {
   "cell_type": "code",
   "execution_count": 68,
   "id": "dcef7343-4814-42c6-8600-ce83e5adfb01",
   "metadata": {},
   "outputs": [
    {
     "data": {
      "text/plain": [
       "'2234567890'"
      ]
     },
     "execution_count": 68,
     "metadata": {},
     "output_type": "execute_result"
    }
   ],
   "source": [
    "PhoneNumber(\"12234567890\").number"
   ]
  },
  {
   "cell_type": "code",
   "execution_count": 69,
   "id": "4c7b278d-2707-496e-81da-9adaf811252d",
   "metadata": {},
   "outputs": [
    {
     "ename": "ValueError",
     "evalue": "letters not permitted",
     "output_type": "error",
     "traceback": [
      "\u001b[31m---------------------------------------------------------------------------\u001b[39m",
      "\u001b[31mValueError\u001b[39m                                Traceback (most recent call last)",
      "\u001b[36mCell\u001b[39m\u001b[36m \u001b[39m\u001b[32mIn[69]\u001b[39m\u001b[32m, line 1\u001b[39m\n\u001b[32m----> \u001b[39m\u001b[32m1\u001b[39m \u001b[43mPhoneNumber\u001b[49m\u001b[43m(\u001b[49m\u001b[33;43m\"\u001b[39;49m\u001b[33;43m523-abc-7890\u001b[39;49m\u001b[33;43m\"\u001b[39;49m\u001b[43m)\u001b[49m\n",
      "\u001b[36mCell\u001b[39m\u001b[36m \u001b[39m\u001b[32mIn[65]\u001b[39m\u001b[32m, line 3\u001b[39m, in \u001b[36mPhoneNumber.__init__\u001b[39m\u001b[34m(self, number)\u001b[39m\n\u001b[32m      2\u001b[39m \u001b[38;5;28;01mdef\u001b[39;00m\u001b[38;5;250m \u001b[39m\u001b[34m__init__\u001b[39m(\u001b[38;5;28mself\u001b[39m, number):\n\u001b[32m----> \u001b[39m\u001b[32m3\u001b[39m     \u001b[38;5;28mself\u001b[39m.number = \u001b[38;5;28;43mself\u001b[39;49m\u001b[43m.\u001b[49m\u001b[43mph_number\u001b[49m\u001b[43m(\u001b[49m\u001b[43mnumber\u001b[49m\u001b[43m)\u001b[49m\n\u001b[32m      4\u001b[39m     \u001b[38;5;28mself\u001b[39m.area_code = \u001b[38;5;28mself\u001b[39m.number[:\u001b[32m3\u001b[39m]\n\u001b[32m      5\u001b[39m     \u001b[38;5;28mself\u001b[39m.pretty = \u001b[38;5;28mself\u001b[39m.pretty()\n",
      "\u001b[36mCell\u001b[39m\u001b[36m \u001b[39m\u001b[32mIn[65]\u001b[39m\u001b[32m, line 37\u001b[39m, in \u001b[36mPhoneNumber.ph_number\u001b[39m\u001b[34m(self, number)\u001b[39m\n\u001b[32m     35\u001b[39m \u001b[38;5;28;01mfor\u001b[39;00m i \u001b[38;5;129;01min\u001b[39;00m number:\n\u001b[32m     36\u001b[39m     \u001b[38;5;28;01mif\u001b[39;00m i.isalpha():\n\u001b[32m---> \u001b[39m\u001b[32m37\u001b[39m         \u001b[38;5;28;01mraise\u001b[39;00m \u001b[38;5;167;01mValueError\u001b[39;00m(\u001b[33m\"\u001b[39m\u001b[33mletters not permitted\u001b[39m\u001b[33m\"\u001b[39m)\n\u001b[32m     39\u001b[39m \u001b[38;5;28;01mif\u001b[39;00m \u001b[38;5;28mlen\u001b[39m(number)==\u001b[32m11\u001b[39m:\n\u001b[32m     40\u001b[39m     \u001b[38;5;28;01mreturn\u001b[39;00m number[\u001b[32m1\u001b[39m:]\n",
      "\u001b[31mValueError\u001b[39m: letters not permitted"
     ]
    }
   ],
   "source": [
    "PhoneNumber(\"523-abc-7890\")"
   ]
  },
  {
   "cell_type": "code",
   "execution_count": 70,
   "id": "b50f2ad1-a537-4bd2-94d9-b29e8ab4af9a",
   "metadata": {},
   "outputs": [
    {
     "ename": "ValueError",
     "evalue": "area code cannot start with zero",
     "output_type": "error",
     "traceback": [
      "\u001b[31m---------------------------------------------------------------------------\u001b[39m",
      "\u001b[31mValueError\u001b[39m                                Traceback (most recent call last)",
      "\u001b[36mCell\u001b[39m\u001b[36m \u001b[39m\u001b[32mIn[70]\u001b[39m\u001b[32m, line 1\u001b[39m\n\u001b[32m----> \u001b[39m\u001b[32m1\u001b[39m \u001b[43mPhoneNumber\u001b[49m\u001b[43m(\u001b[49m\u001b[33;43m\"\u001b[39;49m\u001b[33;43m(023) 456-7890\u001b[39;49m\u001b[33;43m\"\u001b[39;49m\u001b[43m)\u001b[49m\n",
      "\u001b[36mCell\u001b[39m\u001b[36m \u001b[39m\u001b[32mIn[65]\u001b[39m\u001b[32m, line 3\u001b[39m, in \u001b[36mPhoneNumber.__init__\u001b[39m\u001b[34m(self, number)\u001b[39m\n\u001b[32m      2\u001b[39m \u001b[38;5;28;01mdef\u001b[39;00m\u001b[38;5;250m \u001b[39m\u001b[34m__init__\u001b[39m(\u001b[38;5;28mself\u001b[39m, number):\n\u001b[32m----> \u001b[39m\u001b[32m3\u001b[39m     \u001b[38;5;28mself\u001b[39m.number = \u001b[38;5;28;43mself\u001b[39;49m\u001b[43m.\u001b[49m\u001b[43mph_number\u001b[49m\u001b[43m(\u001b[49m\u001b[43mnumber\u001b[49m\u001b[43m)\u001b[49m\n\u001b[32m      4\u001b[39m     \u001b[38;5;28mself\u001b[39m.area_code = \u001b[38;5;28mself\u001b[39m.number[:\u001b[32m3\u001b[39m]\n\u001b[32m      5\u001b[39m     \u001b[38;5;28mself\u001b[39m.pretty = \u001b[38;5;28mself\u001b[39m.pretty()\n",
      "\u001b[36mCell\u001b[39m\u001b[36m \u001b[39m\u001b[32mIn[65]\u001b[39m\u001b[32m, line 29\u001b[39m, in \u001b[36mPhoneNumber.ph_number\u001b[39m\u001b[34m(self, number)\u001b[39m\n\u001b[32m     27\u001b[39m     \u001b[38;5;28;01mraise\u001b[39;00m \u001b[38;5;167;01mValueError\u001b[39;00m(\u001b[33m\"\u001b[39m\u001b[33mexchange code cannot start with one\u001b[39m\u001b[33m\"\u001b[39m)\n\u001b[32m     28\u001b[39m \u001b[38;5;28;01mif\u001b[39;00m (\u001b[38;5;28mlen\u001b[39m(number)==\u001b[32m11\u001b[39m \u001b[38;5;129;01mand\u001b[39;00m number[\u001b[32m1\u001b[39m]==\u001b[33m'\u001b[39m\u001b[33m0\u001b[39m\u001b[33m'\u001b[39m) \u001b[38;5;129;01mor\u001b[39;00m (\u001b[38;5;28mlen\u001b[39m(number)==\u001b[32m10\u001b[39m \u001b[38;5;129;01mand\u001b[39;00m number[\u001b[32m0\u001b[39m]==\u001b[33m'\u001b[39m\u001b[33m0\u001b[39m\u001b[33m'\u001b[39m):\n\u001b[32m---> \u001b[39m\u001b[32m29\u001b[39m     \u001b[38;5;28;01mraise\u001b[39;00m \u001b[38;5;167;01mValueError\u001b[39;00m(\u001b[33m\"\u001b[39m\u001b[33marea code cannot start with zero\u001b[39m\u001b[33m\"\u001b[39m)\n\u001b[32m     30\u001b[39m \u001b[38;5;28;01mif\u001b[39;00m (\u001b[38;5;28mlen\u001b[39m(number)==\u001b[32m11\u001b[39m \u001b[38;5;129;01mand\u001b[39;00m number[\u001b[32m1\u001b[39m]==\u001b[33m'\u001b[39m\u001b[33m1\u001b[39m\u001b[33m'\u001b[39m) \u001b[38;5;129;01mor\u001b[39;00m (\u001b[38;5;28mlen\u001b[39m(number)==\u001b[32m10\u001b[39m \u001b[38;5;129;01mand\u001b[39;00m number[\u001b[32m0\u001b[39m]==\u001b[33m'\u001b[39m\u001b[33m1\u001b[39m\u001b[33m'\u001b[39m):\n\u001b[32m     31\u001b[39m     \u001b[38;5;28;01mraise\u001b[39;00m \u001b[38;5;167;01mValueError\u001b[39;00m(\u001b[33m\"\u001b[39m\u001b[33marea code cannot start with one\u001b[39m\u001b[33m\"\u001b[39m)\n",
      "\u001b[31mValueError\u001b[39m: area code cannot start with zero"
     ]
    }
   ],
   "source": [
    "PhoneNumber(\"(023) 456-7890\")"
   ]
  },
  {
   "cell_type": "code",
   "execution_count": null,
   "id": "bf5489d6-d884-48f6-b9d6-81b163f4a59b",
   "metadata": {},
   "outputs": [],
   "source": []
  },
  {
   "cell_type": "code",
   "execution_count": null,
   "id": "408bbd39-fdcb-4176-a97e-f651939711c8",
   "metadata": {},
   "outputs": [],
   "source": []
  }
 ],
 "metadata": {
  "kernelspec": {
   "display_name": "'def_kernel'",
   "language": "python",
   "name": "default_projects"
  },
  "language_info": {
   "codemirror_mode": {
    "name": "ipython",
    "version": 3
   },
   "file_extension": ".py",
   "mimetype": "text/x-python",
   "name": "python",
   "nbconvert_exporter": "python",
   "pygments_lexer": "ipython3",
   "version": "3.11.11"
  }
 },
 "nbformat": 4,
 "nbformat_minor": 5
}
