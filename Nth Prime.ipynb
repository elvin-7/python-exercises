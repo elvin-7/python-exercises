{
 "cells": [
  {
   "cell_type": "markdown",
   "id": "27c6885b",
   "metadata": {},
   "source": [
    "# Instructions\n",
    "Given a number n, determine what the nth prime is.\n",
    "\n",
    "By listing the first six prime numbers: 2, 3, 5, 7, 11, and 13, we can see that the 6th prime is 13.\n",
    "\n",
    "If your language provides methods in the standard library to deal with prime numbers, pretend they don't exist and implement them yourself.\n",
    "\n",
    "## Exception messages\n",
    "Sometimes it is necessary to raise an exception. When you do this, you should always include a meaningful error message to indicate what the source of the error is. This makes your code more readable and helps significantly with debugging. For situations where you know that the error source will be a certain type, you can choose to raise one of the built in error types, but should still include a meaningful message.\n",
    "\n",
    "This particular exercise requires that you use the raise statement to \"throw\" a ValueError when the prime() function receives malformed input. Since this exercise deals only with positive numbers, any number < 1 is malformed. The tests will only pass if you both raise the exception and include a message with it.\n",
    "\n",
    "To raise a ValueError with a message, write the message as an argument to the exception type:\n",
    "```\n",
    "# when the prime function receives malformed input\n",
    "raise ValueError('there is no zeroth prime')\n",
    "```"
   ]
  },
  {
   "cell_type": "code",
   "execution_count": 8,
   "id": "d8a2df30",
   "metadata": {},
   "outputs": [],
   "source": [
    "def is_prime(num):\n",
    "    if num <= 1:\n",
    "        return False\n",
    "    for i in range(2,int(num**0.5)+1):\n",
    "        if num % i == 0:\n",
    "            return False\n",
    "    return True\n",
    "\n",
    "\n",
    "def prime(number):\n",
    "    if number == 0:\n",
    "        raise ValueError(\"there is no zeroth prime\")\n",
    "    count = 0\n",
    "    num = 2\n",
    "    while count < number:\n",
    "        if is_prime(num):\n",
    "            count += 1\n",
    "        if count == number:\n",
    "            return num\n",
    "        num += 1"
   ]
  },
  {
   "cell_type": "code",
   "execution_count": 10,
   "id": "d7d0ea7b",
   "metadata": {},
   "outputs": [
    {
     "data": {
      "text/plain": [
       "61"
      ]
     },
     "execution_count": 10,
     "metadata": {},
     "output_type": "execute_result"
    }
   ],
   "source": [
    "prime(18)"
   ]
  },
  {
   "cell_type": "code",
   "execution_count": 11,
   "id": "c3a3ad22",
   "metadata": {},
   "outputs": [
    {
     "data": {
      "text/plain": [
       "3"
      ]
     },
     "execution_count": 11,
     "metadata": {},
     "output_type": "execute_result"
    }
   ],
   "source": [
    "prime(2)"
   ]
  },
  {
   "cell_type": "code",
   "execution_count": 12,
   "id": "ea6e6747",
   "metadata": {},
   "outputs": [
    {
     "data": {
      "text/plain": [
       "11"
      ]
     },
     "execution_count": 12,
     "metadata": {},
     "output_type": "execute_result"
    }
   ],
   "source": [
    "prime(5)"
   ]
  },
  {
   "cell_type": "code",
   "execution_count": null,
   "id": "7a99d6b1",
   "metadata": {},
   "outputs": [],
   "source": []
  }
 ],
 "metadata": {
  "kernelspec": {
   "display_name": "Python 3 (ipykernel)",
   "language": "python",
   "name": "python3"
  },
  "language_info": {
   "codemirror_mode": {
    "name": "ipython",
    "version": 3
   },
   "file_extension": ".py",
   "mimetype": "text/x-python",
   "name": "python",
   "nbconvert_exporter": "python",
   "pygments_lexer": "ipython3",
   "version": "3.9.7"
  }
 },
 "nbformat": 4,
 "nbformat_minor": 5
}
