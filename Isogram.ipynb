{
 "cells": [
  {
   "cell_type": "markdown",
   "id": "d5d10ce2",
   "metadata": {},
   "source": [
    "# Instructions\n",
    "Determine if a word or phrase is an isogram.\n",
    "\n",
    "An isogram (also known as a \"non-pattern word\") is a word or phrase without a repeating letter, however spaces and hyphens are allowed to appear multiple times.\n",
    "\n",
    "Examples of isograms:\n",
    "\n",
    "- lumberjacks\n",
    "- background\n",
    "- downstream\n",
    "- six-year-old\n",
    "\n",
    "The word isograms, however, is not an isogram, because the s repeats."
   ]
  },
  {
   "cell_type": "code",
   "execution_count": 41,
   "id": "55be970b",
   "metadata": {},
   "outputs": [],
   "source": [
    "from string import ascii_lowercase \n",
    "\n",
    "def is_isogram(string):\n",
    "    string = string.lower()\n",
    "    num = []\n",
    "    if string == '':\n",
    "        return True\n",
    "    for letter in string:\n",
    "        if letter in ascii_lowercase:\n",
    "            num.append(string.count(letter))\n",
    "    return max(num)==1"
   ]
  },
  {
   "cell_type": "code",
   "execution_count": 39,
   "id": "9c42600b",
   "metadata": {},
   "outputs": [
    {
     "data": {
      "text/plain": [
       "True"
      ]
     },
     "execution_count": 39,
     "metadata": {},
     "output_type": "execute_result"
    }
   ],
   "source": [
    "is_isogram('lumberjacks')"
   ]
  },
  {
   "cell_type": "code",
   "execution_count": 37,
   "id": "a80d91e5",
   "metadata": {},
   "outputs": [
    {
     "data": {
      "text/plain": [
       "False"
      ]
     },
     "execution_count": 37,
     "metadata": {},
     "output_type": "execute_result"
    }
   ],
   "source": [
    "is_isogram('Shoemaker')"
   ]
  },
  {
   "cell_type": "code",
   "execution_count": 33,
   "id": "df37948a",
   "metadata": {},
   "outputs": [
    {
     "data": {
      "text/plain": [
       "True"
      ]
     },
     "execution_count": 33,
     "metadata": {},
     "output_type": "execute_result"
    }
   ],
   "source": [
    "is_isogram('background')"
   ]
  },
  {
   "cell_type": "code",
   "execution_count": 34,
   "id": "13d5415c",
   "metadata": {},
   "outputs": [
    {
     "data": {
      "text/plain": [
       "True"
      ]
     },
     "execution_count": 34,
     "metadata": {},
     "output_type": "execute_result"
    }
   ],
   "source": [
    "is_isogram('downstream')"
   ]
  },
  {
   "cell_type": "code",
   "execution_count": 35,
   "id": "d8e5c3ab",
   "metadata": {},
   "outputs": [
    {
     "data": {
      "text/plain": [
       "True"
      ]
     },
     "execution_count": 35,
     "metadata": {},
     "output_type": "execute_result"
    }
   ],
   "source": [
    "is_isogram('six-year-old')"
   ]
  },
  {
   "cell_type": "code",
   "execution_count": 42,
   "id": "f83abe48",
   "metadata": {},
   "outputs": [
    {
     "data": {
      "text/plain": [
       "True"
      ]
     },
     "execution_count": 42,
     "metadata": {},
     "output_type": "execute_result"
    }
   ],
   "source": [
    "is_isogram('')"
   ]
  },
  {
   "cell_type": "code",
   "execution_count": null,
   "id": "94818e69",
   "metadata": {},
   "outputs": [],
   "source": []
  }
 ],
 "metadata": {
  "kernelspec": {
   "display_name": "Python 3 (ipykernel)",
   "language": "python",
   "name": "python3"
  },
  "language_info": {
   "codemirror_mode": {
    "name": "ipython",
    "version": 3
   },
   "file_extension": ".py",
   "mimetype": "text/x-python",
   "name": "python",
   "nbconvert_exporter": "python",
   "pygments_lexer": "ipython3",
   "version": "3.9.7"
  }
 },
 "nbformat": 4,
 "nbformat_minor": 5
}
