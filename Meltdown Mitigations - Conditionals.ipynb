{
 "cells": [
  {
   "cell_type": "markdown",
   "id": "b0c6f37e",
   "metadata": {},
   "source": [
    "# Meltdown Mitigation"
   ]
  },
  {
   "cell_type": "markdown",
   "id": "17ba4064",
   "metadata": {},
   "source": [
    "## 1. Check for criticality\n",
    "\n",
    "The first thing a control system has to do is check if the reactor is balanced in criticality. A reactor is said to be critical if it satisfies the following conditions:\n",
    "\n",
    "The temperature is less than 800 K.\n",
    "\n",
    "The number of neutrons emitted per second is greater than 500.\n",
    "\n",
    "The product of temperature and neutrons emitted per second is less than 500000.\n",
    "\n",
    "Implement the function is_criticality_balanced() that takes temperature measured in kelvin and neutrons_emitted as parameters, and returns True if the criticality conditions are met, False if not."
   ]
  },
  {
   "cell_type": "code",
   "execution_count": 27,
   "id": "fce058ca",
   "metadata": {},
   "outputs": [],
   "source": [
    "def is_criticality_balanced(temperature, neutrons_emitted):\n",
    "    \"\"\"Verify criticality is balanced.\n",
    "\n",
    "    :param temperature: int or float - temperature value in kelvin.\n",
    "    :param neutrons_emitted: int or float - number of neutrons emitted per second.\n",
    "    :return: bool - is criticality balanced?\n",
    "\n",
    "    A reactor is said to be critical if it satisfies the following conditions:\n",
    "    - The temperature is less than 800 K.\n",
    "    - The number of neutrons emitted per second is greater than 500.\n",
    "    - The product of temperature and neutrons emitted per second is less than 500000.\n",
    "    \"\"\"\n",
    "    \n",
    "    return temperature < 800 and neutrons_emitted > 500 and temperature*neutrons_emitted < 500000"
   ]
  },
  {
   "cell_type": "markdown",
   "id": "1a6b3bf3",
   "metadata": {},
   "source": [
    "## 2. Determine the power output range\n",
    "\n",
    "Once the reactor has started producing power its efficiency needs to be determined. Efficiency can be grouped into 4 bands:\n",
    "\n",
    "green -> efficiency of 80% or more,\n",
    "orange -> efficiency of less than 80% but at least 60%,\n",
    "red -> efficiency below 60%, but still 30% or more,\n",
    "black -> less than 30% efficient.\n",
    "The percentage value can be calculated as (generated_power/theoretical_max_power)*100 where generated_power = voltage * current. Note that the percentage value is usually not an integer number, so make sure to consider the proper use of the < and <= comparisons.\n",
    "\n",
    "Implement the function reactor_efficiency(<voltage>, <current>, <theoretical_max_power>), with three parameters: voltage, current, and theoretical_max_power. This function should return the efficiency band of the reactor : 'green', 'orange', 'red', or 'black'."
   ]
  },
  {
   "cell_type": "code",
   "execution_count": 10,
   "id": "d835507d",
   "metadata": {},
   "outputs": [],
   "source": [
    "\n",
    "def reactor_efficiency(voltage, current, theoretical_max_power):\n",
    "    \"\"\"Assess reactor efficiency zone.\n",
    "\n",
    "    :param voltage: int or float - voltage value.\n",
    "    :param current: int or float - current value.\n",
    "    :param theoretical_max_power: int or float - power that corresponds to a 100% efficiency.\n",
    "    :return: str - one of ('green', 'orange', 'red', or 'black').\n",
    "\n",
    "    Efficiency can be grouped into 4 bands:\n",
    "\n",
    "    1. green -> efficiency of 80% or more,\n",
    "    2. orange -> efficiency of less than 80% but at least 60%,\n",
    "    3. red -> efficiency below 60%, but still 30% or more,\n",
    "    4. black ->  less than 30% efficient.\n",
    "\n",
    "    The percentage value is calculated as\n",
    "    (generated power/ theoretical max power)*100\n",
    "    where generated power = voltage * current\n",
    "    \"\"\"\n",
    "    generated_power = voltage * current\n",
    "    value = (generated_power/theoretical_max_power)*100\n",
    "    if value >= 80:\n",
    "        say = 'green'\n",
    "    elif value >= 60 and value <80:\n",
    "        say = 'orange'\n",
    "    elif value >=30 and value < 60:\n",
    "        say ='red'\n",
    "    else:\n",
    "        say ='black'\n",
    "    return say"
   ]
  },
  {
   "cell_type": "markdown",
   "id": "d48c9332",
   "metadata": {},
   "source": [
    "## 3. Fail Safe Mechanism\n",
    "\n",
    "Your final task involves creating a fail-safe mechanism to avoid overload and meltdown. This mechanism will determine if the reactor is below, at, or above the ideal criticality threshold. Criticality can then be increased, decreased, or stopped by inserting (or removing) control rods into the reactor.\n",
    "\n",
    "Implement the function called fail_safe(), which takes 3 parameters: temperature measured in kelvin, neutrons_produced_per_second, and threshold, and outputs a status code for the reactor.\n",
    "\n",
    "If temperature * neutrons_produced_per_second < 90% of threshold, output a status code of 'LOW' indicating that control rods must be removed to produce power.\n",
    "\n",
    "If the value temperature * neutrons_produced_per_second is within 10% of the threshold (so either 0-10% less than the threshold, at the threshold, or 0-10% greater than the threshold), the reactor is in criticality and the status code of 'NORMAL' should be output, indicating that the reactor is in optimum condition and control rods are in an ideal position.\n",
    "\n",
    "If temperature * neutrons_produced_per_second is not in the above-stated ranges, the reactor is going into meltdown and a status code of 'DANGER' must be passed to immediately shut down the reactor."
   ]
  },
  {
   "cell_type": "code",
   "execution_count": 40,
   "id": "2c733804",
   "metadata": {},
   "outputs": [],
   "source": [
    "def fail_safe(temperature, neutrons_produced_per_second, threshold):\n",
    "    \"\"\"Assess and return status code for the reactor.\n",
    "\n",
    "    :param temperature: int or float - value of the temperature in kelvin.\n",
    "    :param neutrons_produced_per_second: int or float - neutron flux.\n",
    "    :param threshold: int or float - threshold for category.\n",
    "    :return: str - one of ('LOW', 'NORMAL', 'DANGER').\n",
    "\n",
    "    1. 'LOW' -> `temperature * neutrons per second` < 90% of `threshold`\n",
    "    2. 'NORMAL' -> `temperature * neutrons per second` +/- 10% of `threshold`\n",
    "    3. 'DANGER' -> `temperature * neutrons per second` is not in the above-stated ranges\n",
    "    \"\"\"\n",
    "\n",
    "    if temperature * neutrons_produced_per_second < threshold * 0.9:\n",
    "        then = 'LOW'\n",
    "    elif (temperature * neutrons_produced_per_second >= threshold - (0.1* threshold) and \n",
    "    temperature * neutrons_produced_per_second <= threshold + (0.1 * threshold)) or temperature * neutrons_produced_per_second == threshold:\n",
    "        then = 'NORMAL'\n",
    "    else:\n",
    "        then = 'DANGER'\n",
    "    return then\n"
   ]
  },
  {
   "cell_type": "code",
   "execution_count": null,
   "id": "673f3965",
   "metadata": {},
   "outputs": [],
   "source": []
  }
 ],
 "metadata": {
  "kernelspec": {
   "display_name": "Python 3 (ipykernel)",
   "language": "python",
   "name": "python3"
  },
  "language_info": {
   "codemirror_mode": {
    "name": "ipython",
    "version": 3
   },
   "file_extension": ".py",
   "mimetype": "text/x-python",
   "name": "python",
   "nbconvert_exporter": "python",
   "pygments_lexer": "ipython3",
   "version": "3.9.7"
  }
 },
 "nbformat": 4,
 "nbformat_minor": 5
}
